{
  "nbformat": 4,
  "nbformat_minor": 0,
  "metadata": {
    "colab": {
      "provenance": [],
      "authorship_tag": "ABX9TyPjH+qm3wZdOe/0eaW2wofJ",
      "include_colab_link": true
    },
    "kernelspec": {
      "name": "python3",
      "display_name": "Python 3"
    },
    "language_info": {
      "name": "python"
    }
  },
  "cells": [
    {
      "cell_type": "markdown",
      "metadata": {
        "id": "view-in-github",
        "colab_type": "text"
      },
      "source": [
        "<a href=\"https://colab.research.google.com/github/nuyhc/RhythmStudy/blob/main/3.%20DLforAudioWithPython/DLAP_1_%EB%B0%95%EC%A7%80%ED%98%84.ipynb\" target=\"_parent\"><img src=\"https://colab.research.google.com/assets/colab-badge.svg\" alt=\"Open In Colab\"/></a>"
      ]
    },
    {
      "cell_type": "markdown",
      "source": [
        "# AI, Machine learning and deep learning"
      ],
      "metadata": {
        "id": "dhTgEDWbksBy"
      }
    },
    {
      "cell_type": "markdown",
      "source": [
        "## Traditional ML vs DL\n",
        "* Feature engineering vs end-to-end\n",
        "* (Relatively) small dataset vs large dataset\n",
        "* Less computation intensive vs very resource intensive\n",
        "* Ideal for \"simple\" problems vs ideal for \"complex\" problems"
      ],
      "metadata": {
        "id": "MsHH6b2Yk7LK"
      }
    },
    {
      "cell_type": "markdown",
      "source": [
        "## DL applications in audio\n",
        "* Speech recognition\n",
        "* Voice-based emotion classification\n",
        "* Noise recognition\n",
        "* Musical genre, instrument, mood classification\n",
        "* Music tagging\n",
        "* Music generation\n",
        "* ..."
      ],
      "metadata": {
        "id": "YFkqLSYvliwx"
      }
    },
    {
      "cell_type": "markdown",
      "source": [
        "# Implementing an artificial neuron from scratch"
      ],
      "metadata": {
        "id": "0cgpFxxumEny"
      }
    },
    {
      "cell_type": "markdown",
      "source": [
        "## The artificial neuron\n",
        "$h=\\sum_ix_iw_i=x_1w_1+x_2w_2+x_3w_3$  \n",
        "$y=f(f)=f(x_1w_1+x_2w_2+x_3w_3)$"
      ],
      "metadata": {
        "id": "WTmK46YYmsES"
      }
    },
    {
      "cell_type": "markdown",
      "source": [
        "## The activation function: Sigmoid\n",
        "$y=\\frac{1}{1+e^{-x}}$"
      ],
      "metadata": {
        "id": "mZXAU09hnKdB"
      }
    },
    {
      "cell_type": "code",
      "source": [
        "import numpy as np\n",
        "import matplotlib.pyplot as plt\n",
        "\n",
        "def sigmoid(arr, scale=1):\n",
        "    arr = np.asarray(arr)\n",
        "    result = 1/(1 + np.exp(-arr*scale))\n",
        "    return result\n",
        "\n",
        "x = np.linspace(-6, 6)\n",
        "y = sigmoid(x)\n",
        "\n",
        "fig, ax = plt.subplots()\n",
        "ax.grid(True)\n",
        "ax.plot(x, y)\n",
        "\n",
        "ax.set_title('Sigmoid function')\n",
        "\n",
        "fig.tight_layout()\n",
        "plt.show()"
      ],
      "metadata": {
        "colab": {
          "base_uri": "https://localhost:8080/",
          "height": 487
        },
        "id": "g_tX_AsjoLhK",
        "outputId": "1b2fa5db-f17d-44a8-c214-ef5984a5326b"
      },
      "execution_count": 21,
      "outputs": [
        {
          "output_type": "display_data",
          "data": {
            "text/plain": [
              "<Figure size 640x480 with 1 Axes>"
            ],
            "image/png": "[encoded data removed]"
          },
          "metadata": {}
        }
      ]
    },
    {
      "cell_type": "markdown",
      "source": [
        "## The artificial neuron with sigmoid activation function\n",
        "$h=\\sum_ix_iw_i=x_1w_1+x_2w_2+x_3w_3$  \n",
        "$y=f(f)=f(x_1w_1+x_2w_2+x_3w_3)$  \n",
        "$y=\\frac{1}{1+e^{-(x_1w_1+x_2w_2+x_3w_3)}}$"
      ],
      "metadata": {
        "id": "Qdenxjo9nbAr"
      }
    },
    {
      "cell_type": "code",
      "source": [
        "import math\n",
        "\n",
        "def sigmoid(x):\n",
        "    \"\"\"Sigmoid activation function\n",
        "    Args:\n",
        "        x (float): Value to be processed\n",
        "    Returns:\n",
        "        y (float): Output\n",
        "    \"\"\"\n",
        "    y = 1.0 / (1 + math.exp(-x))\n",
        "    return y\n",
        "\n",
        "\n",
        "def activate(inputs, weights):\n",
        "    \"\"\"Computes activation of neuron based on input signals and connection\n",
        "    weights. Output = f(x_1*w_1 + x_2*w_2 + ... + x_k*w_k), where 'f' is the\n",
        "    sigmoid function.\n",
        "    Args:\n",
        "        inputs (list): Input signals\n",
        "        weights (list): Connection weights\n",
        "    Returns:\n",
        "        output (float): Output value\n",
        "    \"\"\"\n",
        "\n",
        "    h = 0\n",
        "\n",
        "    # compute the sum of the product of the input signals and the weights\n",
        "    # here we're using pythons \"zip\" function to iterate two lists together\n",
        "    for x, w in zip(inputs, weights):\n",
        "        h += x*w\n",
        "\n",
        "    # process sum through sigmoid activation function\n",
        "    return sigmoid(h)\n",
        "\n",
        "\n",
        "if __name__ == \"__main__\":\n",
        "    inputs = [0.5, 0.3, 0.2]\n",
        "    weights = [0.4, 0.7, 0.2]\n",
        "    output = activate(inputs, weights)\n",
        "    print(output)"
      ],
      "metadata": {
        "colab": {
          "base_uri": "https://localhost:8080/"
        },
        "id": "GT65aK5yk67D",
        "outputId": "f38cab9a-0317-48a7-dc7d-47495b37db95"
      },
      "execution_count": 1,
      "outputs": [
        {
          "output_type": "stream",
          "name": "stdout",
          "text": [
            "0.610639233949222\n"
          ]
        }
      ]
    }
  ]
}