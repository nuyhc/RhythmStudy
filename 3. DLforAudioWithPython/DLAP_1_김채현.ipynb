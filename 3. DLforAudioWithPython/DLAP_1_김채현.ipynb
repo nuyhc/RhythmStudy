{
 "cells": [
  {
   "attachments": {},
   "cell_type": "markdown",
   "metadata": {},
   "source": [
    "# DeepLearning for Audio With Python 1"
   ]
  },
  {
   "attachments": {},
   "cell_type": "markdown",
   "metadata": {},
   "source": [
    "## 1. Course Overview\n",
    "### Technologies\n",
    "- Python and TF are industry standards\n",
    "- TF uses Keras as a simple interface\n",
    "- TF is open source"
   ]
  },
  {
   "attachments": {},
   "cell_type": "markdown",
   "metadata": {},
   "source": [
    "## 2. AI, machine learning and deep learning\n",
    "- AI > ML > DL\n",
    "\n",
    "### Machine Learning (ML)\n",
    "- Computer performs a task without using explict instructions\n",
    "- Computer learns from data\n",
    "\n",
    "### ML paradigms\n",
    "- Supervised learning\n",
    "- Unsupervised learning\n",
    "- Reinforement learning\n",
    "\n",
    "### ML algorithms\n",
    "- Logistic reg\n",
    "- Linear reg\n",
    "- RF\n",
    "- KNN\n",
    "- ...\n",
    "\n",
    "### Deep learning\n",
    "- ML subset\n",
    "- (Deep) neural networks\n",
    "- 1 \\> hidden layers\n",
    "\n",
    "### Traditional ML vs DL\n",
    "- Feature engineering vs end-to-end\n",
    "- (Relatively) small dataset vs large dataset\n",
    "- Less computation intensive vs very resource intensive\n",
    "- ideal for \"simple\" problems vs ideal for \"complex\" problems"
   ]
  },
  {
   "attachments": {},
   "cell_type": "markdown",
   "metadata": {},
   "source": [
    "## 3. Implementing an artificial neuron from scratch\n"
   ]
  },
  {
   "cell_type": "code",
   "execution_count": 1,
   "metadata": {},
   "outputs": [
    {
     "name": "stdout",
     "output_type": "stream",
     "text": [
      "0.610639233949222\n"
     ]
    }
   ],
   "source": [
    "import math\n",
    "\n",
    "def sigmoid(x):\n",
    "    y = 1.0 / (1 + math.exp(-x))\n",
    "    return y\n",
    "\n",
    "def activate(inputs, weights):\n",
    "    # perform net input\n",
    "    h = 0\n",
    "    for x, w in zip(inputs, weights):\n",
    "        h += x*w\n",
    "    # perform activation\n",
    "    return sigmoid(h)\n",
    "\n",
    "inputs = [.5, .3, .2]\n",
    "weights = [.4, .7, .2]\n",
    "\n",
    "output = activate(inputs, weights)\n",
    "print(output)"
   ]
  },
  {
   "attachments": {},
   "cell_type": "markdown",
   "metadata": {},
   "source": [
    "### Takeaway points\n",
    "- Artificial neurons are loosely inspired to biological neurons\n",
    "- Artificial neurons are computational units\n",
    "- They transform inputs into outputs using an activation function"
   ]
  },
  {
   "attachments": {},
   "cell_type": "markdown",
   "metadata": {},
   "source": [
    "## 4. Vector and matrix operations\n",
    "### Scalar operations\n",
    "- Involve a vector and a number\n",
    "- Addition / subtraction / multiplication / division\n",
    "\n",
    "### Vector addition/subtraction\n",
    "- Two vectors must have same dimension\n",
    "- Element-wise operation\n",
    "\n",
    "$$\n",
    "a+b = \\\n",
    "\\begin{equation}\n",
    "   \\begin{bmatrix} \n",
    "   a_{1} \\\\\n",
    "   a_{2} \\\\\n",
    "   a_{3} \\\\\n",
    "   \\end{bmatrix} \n",
    "\\end{equation} + \\\n",
    "\\begin{equation}\n",
    "   \\begin{bmatrix} \n",
    "   b_{1} \\\\\n",
    "   b_{2} \\\\\n",
    "   b_{3} \\\\\n",
    "   \\end{bmatrix} \n",
    "\\end{equation} = \\\n",
    "\\begin{equation}\n",
    "   \\begin{bmatrix} \n",
    "   a_{1} + b_{1}\\\\\n",
    "   a_{2} + b_{2}\\\\\n",
    "   a_{3} + b_{3}\\\\\n",
    "   \\end{bmatrix} \n",
    "\\end{equation} \\\n",
    "$$\n",
    "\n",
    "### Dot product\n",
    "- Two vectors involved\n",
    "- Result is a scalar\n",
    "\n",
    "$$\n",
    "a \\cdot b = \\\n",
    "\\begin{equation}\n",
    "   \\begin{bmatrix} \n",
    "   a_{1} \\\\\n",
    "   a_{2} \\\\\n",
    "   a_{3} \\\\\n",
    "   \\end{bmatrix} \n",
    "\\end{equation} \\cdot \\\n",
    "\\begin{equation}\n",
    "   \\begin{bmatrix} \n",
    "   b_{1} \\\\\n",
    "   b_{2} \\\\\n",
    "   b_{3} \\\\\n",
    "   \\end{bmatrix} \n",
    "\\end{equation} = a_1 b_1 + a_2 b_2 + a_3 b_3\n",
    "$$\n",
    "\n",
    "### Matrices\n",
    "- Rectangular grid of numbers (like a spreadsheet)\n",
    "\n",
    "$$\n",
    "A_{i,j} = \\\n",
    "\\begin{equation}\n",
    "   \\begin{bmatrix}\n",
    "   a_{11} & a_{12} \\\\\n",
    "   a_{21} & a_{22} \\\\\n",
    "   a_{31} & a_{32} \\\\\n",
    "   \\end{bmatrix}\n",
    "\\end{equation}\n",
    "$$\n",
    "\n",
    "### Row and column vectors\n",
    "- Row vector = (1, n) matrix\n",
    "- Column vector = (n, 1) matrix\n",
    "\n",
    "### Matrix transposition\n",
    "- Switch rows and columns\n",
    "\n",
    "### Scalar operations\n",
    "- Addition / subtraction / multiplication / division of vector with a number\n",
    "\n",
    "### Matrix addition/subtraction\n",
    "- Matrices must have same dimension\n",
    "- Element-wise operation\n",
    "\n",
    "### Matrix multiplication\n",
    "- \\# of columns of the 1st matrix must be equal # of rows of the 2nd\n",
    "- Product of an (n, m) matrix and an (n, k) matrix is an (m, k) matrix"
   ]
  }
 ],
 "metadata": {
  "kernelspec": {
   "display_name": "NN",
   "language": "python",
   "name": "python3"
  },
  "language_info": {
   "codemirror_mode": {
    "name": "ipython",
    "version": 3
   },
   "file_extension": ".py",
   "mimetype": "text/x-python",
   "name": "python",
   "nbconvert_exporter": "python",
   "pygments_lexer": "ipython3",
   "version": "3.9.15"
  },
  "orig_nbformat": 4
 },
 "nbformat": 4,
 "nbformat_minor": 2
}
