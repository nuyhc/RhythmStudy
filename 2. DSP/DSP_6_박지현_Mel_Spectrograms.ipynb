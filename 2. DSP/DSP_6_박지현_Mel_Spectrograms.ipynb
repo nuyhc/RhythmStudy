{
  "nbformat": 4,
  "nbformat_minor": 0,
  "metadata": {
    "colab": {
      "provenance": [],
      "authorship_tag": "ABX9TyM93fNMefJTnJ/QA73yDeSh",
      "include_colab_link": true
    },
    "kernelspec": {
      "name": "python3",
      "display_name": "Python 3"
    },
    "language_info": {
      "name": "python"
    }
  },
  "cells": [
    {
      "cell_type": "markdown",
      "metadata": {
        "id": "view-in-github",
        "colab_type": "text"
      },
      "source": [
        "<a href=\"https://colab.research.google.com/github/nuyhc/RhythmStudy/blob/main/2.%20DSP/DSP_6_%EB%B0%95%EC%A7%80%ED%98%84_Mel_Spectrograms.ipynb\" target=\"_parent\"><img src=\"https://colab.research.google.com/assets/colab-badge.svg\" alt=\"Open In Colab\"/></a>"
      ]
    },
    {
      "cell_type": "markdown",
      "source": [
        "# ****Mel Spectrograms****\n",
        "\n",
        "## Ideal audio feature\n",
        "\n",
        "Time-frequency representation\n",
        "\n",
        "Perceptually-relevant amplitude representation\n",
        "\n",
        "Perceptually-relevant frequency representation\n",
        "\n",
        "—> **Mel spectrograms**\n",
        "\n",
        "## Convert frequencies to Mel scale\n",
        "\n",
        "1. Choose number of mel bands\n",
        "2. Construct mel filter banks\n",
        "3. Apply mel filter banks to spectrogram\n",
        "\n",
        "mel band란, 주파수 영역을 작은 단위로 나누어 스펙트럼을 분석하는 방법 중 하나입니다. 이는 사람의 청각 특성을 모델링하여 인간이 인지하는 주파수 대역에 더 높은 분해능을 제공합니다. 멜 스케일에서 멜밴드는 일정한 간격으로 높은 주파수에서 낮은 주파수로 배치되며, 작은 주파수 대역에서는 멜밴드의 개수가 적고, 높은 주파수 대역에서는 멜밴드의 개수가 많아집니다. 멜밴드를 적용하면 주파수 축에서의 상호작용을 반영하여, 특정 주파수 대역에서의 에너지를 더 잘 파악할 수 있게 됩니다.\n",
        "\n",
        "## Mel filter banks\n",
        "\n",
        "1. Convert lowest / highest frequency to Mel\n",
        "2. Create # bands equally spaced points\n",
        "3. Convert points back to Hertz\n",
        "4. Round to nearest frequency bin\n",
        "5. Create triangular filters\n",
        "\n",
        "## Applying mel filter banks to spectrogram\n",
        "\n",
        "M = (# bands, framesize / 2 + 1)\n",
        "\n",
        "Y = (framesize / 2 + 1, # frames)\n",
        "\n",
        "## Mel spectrogram applications\n",
        "\n",
        "- Audio classification\n",
        "- Automatic mood recognition\n",
        "- Music genre classification\n",
        "- Music instrument classification"
      ],
      "metadata": {
        "id": "xK2qzQcNCa4Y"
      }
    },
    {
      "cell_type": "code",
      "execution_count": 1,
      "metadata": {
        "id": "-jkMaEupgFWJ"
      },
      "outputs": [],
      "source": [
        "import matplotlib.pyplot as plt\n",
        "import numpy as np\n",
        "import librosa\n",
        "import librosa.display\n",
        "import IPython.display as ipd"
      ]
    },
    {
      "cell_type": "markdown",
      "source": [
        "# Loading audio files"
      ],
      "metadata": {
        "id": "syhG03Eggp7k"
      }
    },
    {
      "cell_type": "code",
      "source": [
        "scale_file = \"scale.wav\""
      ],
      "metadata": {
        "id": "XwlIf7KYgc2Y"
      },
      "execution_count": 4,
      "outputs": []
    },
    {
      "cell_type": "code",
      "source": [
        "# ipd.Audio(scale_file)"
      ],
      "metadata": {
        "id": "H2cN_Qfagu4x"
      },
      "execution_count": 5,
      "outputs": []
    },
    {
      "cell_type": "code",
      "source": [
        "# load audio files with librosa\n",
        "scale, sr = librosa.load(scale_file)"
      ],
      "metadata": {
        "id": "F3HoFcjGgx6A"
      },
      "execution_count": 6,
      "outputs": []
    },
    {
      "cell_type": "markdown",
      "source": [
        "# Mel filter banks"
      ],
      "metadata": {
        "id": "5md3SbrRg9JO"
      }
    },
    {
      "cell_type": "code",
      "source": [
        "filter_banks = librosa.filters.mel(n_fft=2048, sr=22050, n_mels=10)"
      ],
      "metadata": {
        "id": "OS3KZWdYg3yH"
      },
      "execution_count": 7,
      "outputs": []
    },
    {
      "cell_type": "code",
      "source": [
        "filter_banks.shape"
      ],
      "metadata": {
        "colab": {
          "base_uri": "https://localhost:8080/"
        },
        "id": "DNoVVgD6g_YB",
        "outputId": "3b7dccde-d7ba-46c1-c49d-19c6c2979f12"
      },
      "execution_count": 8,
      "outputs": [
        {
          "output_type": "execute_result",
          "data": {
            "text/plain": [
              "(10, 1025)"
            ]
          },
          "metadata": {},
          "execution_count": 8
        }
      ]
    },
    {
      "cell_type": "code",
      "source": [
        "plt.figure(figsize=(25, 10))\n",
        "librosa.display.specshow(filter_banks, \n",
        "                         sr=sr, \n",
        "                         x_axis=\"linear\")\n",
        "plt.colorbar(format=\"%+2.f\")\n",
        "plt.show()"
      ],
      "metadata": {
        "colab": {
          "base_uri": "https://localhost:8080/",
          "height": 345
        },
        "id": "RjZlVJjbhBcX",
        "outputId": "46219427-eeeb-465d-e950-cbf5579c58ce"
      },
      "execution_count": 9,
      "outputs": [
        {
          "output_type": "display_data",
          "data": {
            "text/plain": [
              "<Figure size 1800x720 with 2 Axes>"
            ],
            "image/png": "[encoded data removed]"
          },
          "metadata": {
            "needs_background": "light"
          }
        }
      ]
    },
    {
      "cell_type": "markdown",
      "source": [
        "# Extracting Mel Spectrogram"
      ],
      "metadata": {
        "id": "6FMuQcYahQf4"
      }
    },
    {
      "cell_type": "code",
      "source": [
        "mel_spectrogram = librosa.feature.melspectrogram(scale, sr=sr, n_fft=2048, hop_length=512, n_mels=10)"
      ],
      "metadata": {
        "id": "MOMJKtg-hNBN"
      },
      "execution_count": null,
      "outputs": []
    },
    {
      "cell_type": "code",
      "source": [
        "mel_spectrogram.shape"
      ],
      "metadata": {
        "id": "tN5uMVioCEnh"
      },
      "execution_count": null,
      "outputs": []
    },
    {
      "cell_type": "code",
      "source": [
        "log_mel_spectrogram = librosa.power_to_db(mel_spectrogram)"
      ],
      "metadata": {
        "id": "ZDssxtrcCGIc"
      },
      "execution_count": null,
      "outputs": []
    },
    {
      "cell_type": "code",
      "source": [
        "log_mel_spectrogram.shape"
      ],
      "metadata": {
        "id": "7MDWa69LCIFM"
      },
      "execution_count": null,
      "outputs": []
    },
    {
      "cell_type": "code",
      "source": [
        "plt.figure(figsize=(25, 10))\n",
        "librosa.display.specshow(log_mel_spectrogram, \n",
        "                         x_axis=\"time\",\n",
        "                         y_axis=\"mel\", \n",
        "                         sr=sr)\n",
        "plt.colorbar(format=\"%+2.f\")\n",
        "plt.show()"
      ],
      "metadata": {
        "id": "0MFbvZlmCJmp"
      },
      "execution_count": null,
      "outputs": []
    }
  ]
}