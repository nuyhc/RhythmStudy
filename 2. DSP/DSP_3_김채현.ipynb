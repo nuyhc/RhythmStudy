{
 "cells": [
  {
   "attachments": {},
   "cell_type": "markdown",
   "metadata": {},
   "source": [
    "# [DSP] Section 3\n",
    "[[REF | AudioSignalProcessingForML]](https://github.com/musikalkemist/AudioSignalProcessingForML)\n",
    "## 7. Time-domain audio features\n",
    "### Time-domain features\n",
    "- Amplitude envelope (AE)\n",
    "- Root-Mean-Square energy (RMS)\n",
    "- Zero-crossing rate (ZCR)\n",
    "- ...\n",
    "\n",
    "#### Amplitude Envelope\n",
    "- Max amplitude value of all smaples in a frame\n",
    "- $AE_t = \\begin{align} (t+1)(K-1) \\\\ max \\\\ k=tK \\end{align} \\ s(k)$\n",
    "- Gives rough idea of loudness\n",
    "- Sensitive to outliers\n",
    "- Onset detcetion, music genre classification\n",
    "\n",
    "#### Root-mean-square energy\n",
    "- RMS of all samples in a frame\n",
    "  - $RMS_t = \\sqrt {1 \\over K} \\sum^{(t+1)(K-1)}_{K=tK} \\ s(k)^2$\n",
    "- Indicator of loudness\n",
    "- Less sensitive to outliers than AE\n",
    "- Audio segmentation, music genre classification\n",
    "\n",
    "#### Zero crossing rate\n",
    "- Number of times a signal crosses the horizontal axis\n",
    "  - $ZCR_t = {1 \\over 2} \\sum^{(t+1)(K-1)}_{k=tK} | sgn(s(k)) - sgn(s(k+1)) |$\n",
    "  - $sgn(s(k))$: Sign function\n",
    "    - $s(k)>0 \\rightarrow +1$\n",
    "    - $s(k)<0 \\rightarrow -1$\n",
    "    - $s(k)=0 \\rightarrow 0$\n",
    "\n",
    "#### Zero crossing rate applications\n",
    "- Recognition of percussive vs pitched sounds\n",
    "- Monophonic pitch estimation\n",
    "- Voice/unvoiced decision for speech signals"
   ]
  },
  {
   "attachments": {},
   "cell_type": "markdown",
   "metadata": {},
   "source": [
    "## 8. Implemneting the amplitude envelope"
   ]
  },
  {
   "attachments": {},
   "cell_type": "markdown",
   "metadata": {},
   "source": [
    "### Amplitude envelope"
   ]
  },
  {
   "cell_type": "code",
   "execution_count": 1,
   "metadata": {},
   "outputs": [],
   "source": [
    "import os\n",
    "import librosa\n",
    "import librosa.display"
   ]
  },
  {
   "cell_type": "code",
   "execution_count": 5,
   "metadata": {},
   "outputs": [],
   "source": [
    "# load audio files\n",
    "audio_files = \"./raw/8_audio\"\n",
    "debussy_file = os.path.join(audio_files, \"debussy.wav\")\n",
    "redhot_file = os.path.join(audio_files, \"redhot.wav\")\n",
    "duke_file = os.path.join(audio_files, \"duke.wav\")"
   ]
  },
  {
   "cell_type": "code",
   "execution_count": 6,
   "metadata": {},
   "outputs": [
    {
     "data": {
      "text/plain": [
       "'./raw/8_audio\\\\redhot.wav'"
      ]
     },
     "execution_count": 6,
     "metadata": {},
     "output_type": "execute_result"
    }
   ],
   "source": [
    "redhot_file"
   ]
  },
  {
   "attachments": {},
   "cell_type": "markdown",
   "metadata": {},
   "source": [
    "## 9. RMS energy and zero-crossing rate"
   ]
  }
 ],
 "metadata": {
  "kernelspec": {
   "display_name": "NN",
   "language": "python",
   "name": "python3"
  },
  "language_info": {
   "codemirror_mode": {
    "name": "ipython",
    "version": 3
   },
   "file_extension": ".py",
   "mimetype": "text/x-python",
   "name": "python",
   "nbconvert_exporter": "python",
   "pygments_lexer": "ipython3",
   "version": "3.9.15"
  },
  "orig_nbformat": 4,
  "vscode": {
   "interpreter": {
    "hash": "6170c7e636c2dbd0f88cb8f557866518ac6c7d83ee4f2709c7df3161954bfcc9"
   }
  }
 },
 "nbformat": 4,
 "nbformat_minor": 2
}
