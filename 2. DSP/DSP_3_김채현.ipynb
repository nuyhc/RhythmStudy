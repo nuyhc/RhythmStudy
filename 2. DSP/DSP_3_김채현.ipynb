{
 "cells": [
  {
   "attachments": {},
   "cell_type": "markdown",
   "metadata": {},
   "source": [
    "# [DSP] Section 3\n",
    "[[REF | AudioSignalProcessingForML]](https://github.com/musikalkemist/AudioSignalProcessingForML)\n",
    "## 7. Time-domain audio features\n",
    "### Time-domain features\n",
    "- Amplitude envelope (AE)\n",
    "- Root-Mean-Square energy (RMS)\n",
    "- Zero-crossing rate (ZCR)\n",
    "- ...\n",
    "\n",
    "#### Amplitude Envelope\n",
    "- Max amplitude value of all smaples in a frame\n",
    "- $AE_t = \\begin{align} (t+1)(K-1) \\\\ max \\\\ k=tK \\end{align} \\ s(k)$\n",
    "- Gives rough idea of loudness\n",
    "- Sensitive to outliers\n",
    "- Onset detcetion, music genre classification\n",
    "\n",
    "#### Root-mean-square energy\n",
    "- RMS of all samples in a frame\n",
    "  - $RMS_t = \\sqrt {1 \\over K} \\sum^{(t+1)(K-1)}_{K=tK} \\ s(k)^2$\n",
    "- Indicator of loudness\n",
    "- Less sensitive to outliers than AE\n",
    "- Audio segmentation, music genre classification\n",
    "\n",
    "#### Zero crossing rate\n",
    "- Number of times a signal crosses the horizontal axis\n",
    "  - $ZCR_t = {1 \\over 2} \\sum^{(t+1)(K-1)}_{k=tK} | sgn(s(k)) - sgn(s(k+1)) |$\n",
    "  - $sgn(s(k))$: Sign function\n",
    "    - $s(k)>0 \\rightarrow +1$\n",
    "    - $s(k)<0 \\rightarrow -1$\n",
    "    - $s(k)=0 \\rightarrow 0$\n",
    "\n",
    "#### Zero crossing rate applications\n",
    "- Recognition of percussive vs pitched sounds\n",
    "- Monophonic pitch estimation\n",
    "- "
   ]
  },
  {
   "attachments": {},
   "cell_type": "markdown",
   "metadata": {},
   "source": [
    "## 8. Implemneting the amplitude envelope\n",
    "\n",
    "## 9. RMS energy and zero-crossing rate"
   ]
  }
 ],
 "metadata": {
  "language_info": {
   "name": "python"
  },
  "orig_nbformat": 4
 },
 "nbformat": 4,
 "nbformat_minor": 2
}
