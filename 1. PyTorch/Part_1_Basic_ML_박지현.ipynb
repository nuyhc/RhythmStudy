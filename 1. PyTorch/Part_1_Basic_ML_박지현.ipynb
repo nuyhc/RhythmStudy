{
  "nbformat": 4,
  "nbformat_minor": 0,
  "metadata": {
    "colab": {
      "provenance": [],
      "toc_visible": true,
      "authorship_tag": "ABX9TyNtq16bKfRYsdF+uZma/rfA",
      "include_colab_link": true
    },
    "kernelspec": {
      "name": "python3",
      "display_name": "Python 3"
    },
    "language_info": {
      "name": "python"
    }
  },
  "cells": [
    {
      "cell_type": "markdown",
      "metadata": {
        "id": "view-in-github",
        "colab_type": "text"
      },
      "source": [
        "<a href=\"https://colab.research.google.com/github/nuyhc/RhythmStudy/blob/main/1.%20PyTorch/Part_1_Basic_ML_%EB%B0%95%EC%A7%80%ED%98%84.ipynb\" target=\"_parent\"><img src=\"https://colab.research.google.com/assets/colab-badge.svg\" alt=\"Open In Colab\"/></a>"
      ]
    },
    {
      "cell_type": "markdown",
      "source": [
        "# Lab-01-1 Tensor Manipulation 1"
      ],
      "metadata": {
        "id": "O4yl_a9vcN1s"
      }
    },
    {
      "cell_type": "markdown",
      "source": [
        "## 학습목표\n",
        "텐서 조작(Tensor Manipulation)에 대해 알아본다."
      ],
      "metadata": {
        "id": "jpGpF2v_eUwy"
      }
    },
    {
      "cell_type": "markdown",
      "source": [
        "## 핵심키워드\n",
        "텐서(Tensor)\n",
        "넘파이(NumPy)\n",
        "텐서 조작(Tensor Manipulation)\n",
        "브로드캐스팅(Broadcasting)"
      ],
      "metadata": {
        "id": "ZT7Uj-B8eXcf"
      }
    },
    {
      "cell_type": "markdown",
      "source": [
        "## Import"
      ],
      "metadata": {
        "id": "eX-hRRcydvxt"
      }
    },
    {
      "cell_type": "code",
      "execution_count": 1,
      "metadata": {
        "id": "jE5xCSjOcGqW"
      },
      "outputs": [],
      "source": [
        "import numpy as np\n",
        "import torch"
      ]
    },
    {
      "cell_type": "markdown",
      "source": [
        "## Numpy Review"
      ],
      "metadata": {
        "id": "MJ1Ajz9ZlLQC"
      }
    },
    {
      "cell_type": "markdown",
      "source": [
        "### 1D Arrary with NumPy"
      ],
      "metadata": {
        "id": "VK9O5WwQeRqx"
      }
    },
    {
      "cell_type": "code",
      "source": [
        "t = np.array([0., 1., 2., 3., 4., 5., 6.])\n",
        "print(t)"
      ],
      "metadata": {
        "colab": {
          "base_uri": "https://localhost:8080/"
        },
        "id": "JaoHXxP8d0pT",
        "outputId": "01f6731f-4c2e-4b56-808f-0d6c70d96aa0"
      },
      "execution_count": 2,
      "outputs": [
        {
          "output_type": "stream",
          "name": "stdout",
          "text": [
            "[0. 1. 2. 3. 4. 5. 6.]\n"
          ]
        }
      ]
    },
    {
      "cell_type": "code",
      "source": [
        "print('Rank  of t: ', t.ndim)\n",
        "print('Shape of t: ', t.shape)"
      ],
      "metadata": {
        "colab": {
          "base_uri": "https://localhost:8080/"
        },
        "id": "p4uU44jbenme",
        "outputId": "45efef73-4a9b-480a-ecee-2ede8135898b"
      },
      "execution_count": 3,
      "outputs": [
        {
          "output_type": "stream",
          "name": "stdout",
          "text": [
            "Rank  of t:  1\n",
            "Shape of t:  (7,)\n"
          ]
        }
      ]
    },
    {
      "cell_type": "code",
      "source": [
        "print('t[0] t[1] t[-1] = ', t[0], t[1], t[-1])  # Element\n",
        "print('t[2:5] t[4:-1]  = ', t[2:5], t[4:-1])    # Slicing\n",
        "print('t[:2] t[3:]     = ', t[:2], t[3:])       # Slicing"
      ],
      "metadata": {
        "colab": {
          "base_uri": "https://localhost:8080/"
        },
        "id": "duAXJhicewng",
        "outputId": "6429b0b7-a709-4e84-880c-9af853c708e7"
      },
      "execution_count": 4,
      "outputs": [
        {
          "output_type": "stream",
          "name": "stdout",
          "text": [
            "t[0] t[1] t[-1] =  0.0 1.0 6.0\n",
            "t[2:5] t[4:-1]  =  [2. 3. 4.] [4. 5.]\n",
            "t[:2] t[3:]     =  [0. 1.] [3. 4. 5. 6.]\n"
          ]
        }
      ]
    },
    {
      "cell_type": "markdown",
      "source": [
        "### 2D Arrary with NumPy"
      ],
      "metadata": {
        "id": "XC-FiNbNi6cI"
      }
    },
    {
      "cell_type": "code",
      "source": [
        "t = np.array([[1., 2., 3.], [4., 5., 6.], [7., 8., 9.], [10., 11., 12.]])\n",
        "print(t)"
      ],
      "metadata": {
        "colab": {
          "base_uri": "https://localhost:8080/"
        },
        "id": "rx7HuNJ1i8yh",
        "outputId": "41518165-724c-4cf0-87fc-c4ecf577466e"
      },
      "execution_count": 5,
      "outputs": [
        {
          "output_type": "stream",
          "name": "stdout",
          "text": [
            "[[ 1.  2.  3.]\n",
            " [ 4.  5.  6.]\n",
            " [ 7.  8.  9.]\n",
            " [10. 11. 12.]]\n"
          ]
        }
      ]
    },
    {
      "cell_type": "code",
      "source": [
        "print('Rank  of t: ', t.ndim)\n",
        "print('Shape of t: ', t.shape)"
      ],
      "metadata": {
        "colab": {
          "base_uri": "https://localhost:8080/"
        },
        "id": "GAVkm6AdjJ1n",
        "outputId": "c68510cb-0d77-4dbd-edc4-6fed2b0c2242"
      },
      "execution_count": 6,
      "outputs": [
        {
          "output_type": "stream",
          "name": "stdout",
          "text": [
            "Rank  of t:  2\n",
            "Shape of t:  (4, 3)\n"
          ]
        }
      ]
    },
    {
      "cell_type": "markdown",
      "source": [
        "## PyTorch Review"
      ],
      "metadata": {
        "id": "sCjbKUuFlPI2"
      }
    },
    {
      "cell_type": "markdown",
      "source": [
        "### 1D Arrary with PyTorch"
      ],
      "metadata": {
        "id": "90GtChMVi6P9"
      }
    },
    {
      "cell_type": "code",
      "source": [
        "t = torch.FloatTensor([0., 1., 2., 3., 4., 5., 6.])\n",
        "print(t)"
      ],
      "metadata": {
        "colab": {
          "base_uri": "https://localhost:8080/"
        },
        "id": "lBx_YEvhjpFc",
        "outputId": "bda7374c-40c4-41ae-c1d8-e6a1e5a51d5f"
      },
      "execution_count": 7,
      "outputs": [
        {
          "output_type": "stream",
          "name": "stdout",
          "text": [
            "tensor([0., 1., 2., 3., 4., 5., 6.])\n"
          ]
        }
      ]
    },
    {
      "cell_type": "code",
      "source": [
        "print(t.dim())  # rank\n",
        "print(t.shape)  # shape\n",
        "print(t.size()) # shape\n",
        "print(t[0], t[1], t[-1])  # Element\n",
        "print(t[2:5], t[4:-1])    # Slicing\n",
        "print(t[:2], t[3:])       # Slicing"
      ],
      "metadata": {
        "colab": {
          "base_uri": "https://localhost:8080/"
        },
        "id": "-YAIpT4fjvoJ",
        "outputId": "bcc6cb3f-8460-4bf2-b23c-bc1726ec8428"
      },
      "execution_count": 8,
      "outputs": [
        {
          "output_type": "stream",
          "name": "stdout",
          "text": [
            "1\n",
            "torch.Size([7])\n",
            "torch.Size([7])\n",
            "tensor(0.) tensor(1.) tensor(6.)\n",
            "tensor([2., 3., 4.]) tensor([4., 5.])\n",
            "tensor([0., 1.]) tensor([3., 4., 5., 6.])\n"
          ]
        }
      ]
    },
    {
      "cell_type": "markdown",
      "source": [
        "### 2D Arrary with PyTorch"
      ],
      "metadata": {
        "id": "MKcIDg-Ukl6S"
      }
    },
    {
      "cell_type": "code",
      "source": [
        "t = torch.FloatTensor([[1., 2., 3.],\n",
        "                       [4., 5., 6.],\n",
        "                       [7., 8., 9.],\n",
        "                       [10., 11., 12.]\n",
        "                       ])\n",
        "print(t)"
      ],
      "metadata": {
        "colab": {
          "base_uri": "https://localhost:8080/"
        },
        "id": "CobJBI-xkMpl",
        "outputId": "0a1177e3-172a-41a2-d64d-c183d714d139"
      },
      "execution_count": 9,
      "outputs": [
        {
          "output_type": "stream",
          "name": "stdout",
          "text": [
            "tensor([[ 1.,  2.,  3.],\n",
            "        [ 4.,  5.,  6.],\n",
            "        [ 7.,  8.,  9.],\n",
            "        [10., 11., 12.]])\n"
          ]
        }
      ]
    },
    {
      "cell_type": "code",
      "source": [
        "print(t.dim())  # rank\n",
        "print(t.shape)  # shape\n",
        "print(t[:, 1])\n",
        "print(t[:, 1].size())\n",
        "print(t[:, :-1])"
      ],
      "metadata": {
        "colab": {
          "base_uri": "https://localhost:8080/"
        },
        "id": "3dv-AH3Ekzjt",
        "outputId": "61b53881-38b3-49d7-d139-00b8ac2135cf"
      },
      "execution_count": 10,
      "outputs": [
        {
          "output_type": "stream",
          "name": "stdout",
          "text": [
            "2\n",
            "torch.Size([4, 3])\n",
            "tensor([ 2.,  5.,  8., 11.])\n",
            "torch.Size([4])\n",
            "tensor([[ 1.,  2.],\n",
            "        [ 4.,  5.],\n",
            "        [ 7.,  8.],\n",
            "        [10., 11.]])\n"
          ]
        }
      ]
    },
    {
      "cell_type": "markdown",
      "source": [
        "### Broadcasing"
      ],
      "metadata": {
        "id": "XlwWg8GZlCOu"
      }
    },
    {
      "cell_type": "markdown",
      "source": [
        "$|m_1| = (1, 2)$  \n",
        "$|m_2| = |m_1|$"
      ],
      "metadata": {
        "id": "Y0WtE-PWlxA9"
      }
    },
    {
      "cell_type": "code",
      "source": [
        "# Same shape\n",
        "m1 = torch.FloatTensor([[3, 3]])\n",
        "m2 = torch.FloatTensor([[2, 2]])\n",
        "print(m1 + m2)"
      ],
      "metadata": {
        "colab": {
          "base_uri": "https://localhost:8080/"
        },
        "id": "3eCfbOO6k-AF",
        "outputId": "557b8927-3f0c-4a07-8d83-0399651fd6d7"
      },
      "execution_count": 11,
      "outputs": [
        {
          "output_type": "stream",
          "name": "stdout",
          "text": [
            "tensor([[5., 5.]])\n"
          ]
        }
      ]
    },
    {
      "cell_type": "markdown",
      "source": [
        "$|m_1| = (1, 2)$  \n",
        "$|m_2| = (1, ) \\to (1, 2)$"
      ],
      "metadata": {
        "id": "TX9NncMxnNoC"
      }
    },
    {
      "cell_type": "code",
      "source": [
        "# Vector + scalar\n",
        "m1 = torch.FloatTensor([[1, 2]])\n",
        "m2 = torch.FloatTensor([3])  # 3 -> [[3, 3]]\n",
        "print(m1 + m2)  # [[1, 2]] + [[3, 3]]"
      ],
      "metadata": {
        "colab": {
          "base_uri": "https://localhost:8080/"
        },
        "id": "GlA20xngnksD",
        "outputId": "a4a492a1-ac1c-4a16-ff1f-295af9877206"
      },
      "execution_count": 12,
      "outputs": [
        {
          "output_type": "stream",
          "name": "stdout",
          "text": [
            "tensor([[4., 5.]])\n"
          ]
        }
      ]
    },
    {
      "cell_type": "markdown",
      "source": [
        "$|m_1| = (1, 2)\\to (2, 2)$  \n",
        "$|m_2| = (2, 1)\\to (2, 2)$  \n",
        "$|m_1| + |m_2| = \\begin{bmatrix}1&2\\\\1&2\\\\  \\end{bmatrix} + \\begin{bmatrix}3&3\\\\4&4\\\\  \\end{bmatrix}$"
      ],
      "metadata": {
        "id": "evbKFn3So8VE"
      }
    },
    {
      "cell_type": "code",
      "source": [
        "# 2 x 1 Vector + 1 x 2 Vector\n",
        "m1 = torch.FloatTensor([[1, 2]])\n",
        "m2 = torch.FloatTensor([[3], [4]])\n",
        "print(m1 + m2)"
      ],
      "metadata": {
        "colab": {
          "base_uri": "https://localhost:8080/"
        },
        "id": "ziB55BQVnzRI",
        "outputId": "624b75a0-cb4c-4f6b-e53c-b40bafb038fa"
      },
      "execution_count": 13,
      "outputs": [
        {
          "output_type": "stream",
          "name": "stdout",
          "text": [
            "tensor([[4., 5.],\n",
            "        [5., 6.]])\n"
          ]
        }
      ]
    },
    {
      "cell_type": "markdown",
      "source": [
        "## Multiplication vs Matrix Multiplication"
      ],
      "metadata": {
        "id": "P-N7IfmvqOV3"
      }
    },
    {
      "cell_type": "code",
      "source": [
        "print()\n",
        "print('-------------')\n",
        "print('Mul vs Matmul')\n",
        "print('-------------')\n",
        "m1 = torch.FloatTensor([[1, 2], [3, 4]])\n",
        "m2 = torch.FloatTensor([[1], [2]])\n",
        "print('Shape of Matrix 1: ', m1.shape)  # 2 x 2\n",
        "print('Shape of Matrix 2: ', m2.shape)  # 2 x 1\n",
        "print(m1.matmul(m2))\n",
        "print()\n",
        "m1 = torch.FloatTensor([[1, 2], [3, 4]])\n",
        "m2 = torch.FloatTensor([[1], [2]])\n",
        "print('Shape of Matrix 1: ', m1.shape)  # 2 x 2\n",
        "print('Shape of Matrix 2: ', m2.shape)  # 2 x 1 => 2 x 2\n",
        "print(m1 * m2)  # 2 x 2\n",
        "print(m1.mul(m2))"
      ],
      "metadata": {
        "colab": {
          "base_uri": "https://localhost:8080/"
        },
        "id": "WV1d62DUporh",
        "outputId": "a4900829-ae4a-447f-f9ea-3a216544c2c0"
      },
      "execution_count": 14,
      "outputs": [
        {
          "output_type": "stream",
          "name": "stdout",
          "text": [
            "\n",
            "-------------\n",
            "Mul vs Matmul\n",
            "-------------\n",
            "Shape of Matrix 1:  torch.Size([2, 2])\n",
            "Shape of Matrix 2:  torch.Size([2, 1])\n",
            "tensor([[ 5.],\n",
            "        [11.]])\n",
            "\n",
            "Shape of Matrix 1:  torch.Size([2, 2])\n",
            "Shape of Matrix 2:  torch.Size([2, 1])\n",
            "tensor([[1., 2.],\n",
            "        [6., 8.]])\n",
            "tensor([[1., 2.],\n",
            "        [6., 8.]])\n"
          ]
        }
      ]
    },
    {
      "cell_type": "markdown",
      "source": [
        "## Mean"
      ],
      "metadata": {
        "id": "H7fuuhD0rwsA"
      }
    },
    {
      "cell_type": "code",
      "source": [
        "t = torch.FloatTensor([1, 2])\n",
        "print(t.mean())"
      ],
      "metadata": {
        "colab": {
          "base_uri": "https://localhost:8080/"
        },
        "id": "p5iiwCahrELe",
        "outputId": "6c3d32a8-f0b6-4bb5-c645-a6ba6b57e19c"
      },
      "execution_count": 15,
      "outputs": [
        {
          "output_type": "stream",
          "name": "stdout",
          "text": [
            "tensor(1.5000)\n"
          ]
        }
      ]
    },
    {
      "cell_type": "code",
      "source": [
        "# Can't use mean() on integers\n",
        "t = torch.LongTensor([1, 2])\n",
        "try:\n",
        "    print(t.mean())\n",
        "except Exception as exc:\n",
        "    print(exc)"
      ],
      "metadata": {
        "colab": {
          "base_uri": "https://localhost:8080/"
        },
        "id": "N_wIVWMor3I8",
        "outputId": "40d440ce-36d8-4167-d5c7-8d8f0ec4e5bd"
      },
      "execution_count": 16,
      "outputs": [
        {
          "output_type": "stream",
          "name": "stdout",
          "text": [
            "mean(): could not infer output dtype. Input dtype must be either a floating point or complex dtype. Got: Long\n"
          ]
        }
      ]
    },
    {
      "cell_type": "markdown",
      "source": [
        "You can also use `t.mean` for higher rank tensors to get mean of all elements, or mean by particular dimension."
      ],
      "metadata": {
        "id": "_do0j5e0sLVE"
      }
    },
    {
      "cell_type": "code",
      "source": [
        "t = torch.FloatTensor([[1, 2], [3, 4]])\n",
        "print(t)"
      ],
      "metadata": {
        "colab": {
          "base_uri": "https://localhost:8080/"
        },
        "id": "Joy3nImYsFzN",
        "outputId": "68dc213c-beae-4567-df63-634fe1dc9268"
      },
      "execution_count": 17,
      "outputs": [
        {
          "output_type": "stream",
          "name": "stdout",
          "text": [
            "tensor([[1., 2.],\n",
            "        [3., 4.]])\n"
          ]
        }
      ]
    },
    {
      "cell_type": "markdown",
      "source": [
        "```python\n",
        "print(t.mean(dim=0))\n",
        "```\n",
        "$\\begin{bmatrix}1&2\\\\3&4 \\end{bmatrix} = \\begin{bmatrix}?&? \\end{bmatrix} \\to \\begin{bmatrix}2&3 \\end{bmatrix}$   \n",
        "\n",
        "```python\n",
        "print(t.mean(dim=1))\n",
        "```\n",
        "$\\begin{bmatrix}1&2\\\\3&4 \\end{bmatrix} = \\begin{bmatrix}?\\\\? \\end{bmatrix} \\to \\begin{bmatrix}1.5\\\\1.5 \\end{bmatrix}$ "
      ],
      "metadata": {
        "id": "oHwqDg4ssk8c"
      }
    },
    {
      "cell_type": "code",
      "source": [
        "print(t.mean())\n",
        "print(t.mean(dim=0))\n",
        "print(t.mean(dim=1))\n",
        "print(t.mean(dim=-1))"
      ],
      "metadata": {
        "colab": {
          "base_uri": "https://localhost:8080/"
        },
        "id": "tf6hwsQyscNy",
        "outputId": "c41cfb5b-6a7d-43c8-d72d-a9399dca5515"
      },
      "execution_count": 18,
      "outputs": [
        {
          "output_type": "stream",
          "name": "stdout",
          "text": [
            "tensor(2.5000)\n",
            "tensor([2., 3.])\n",
            "tensor([1.5000, 3.5000])\n",
            "tensor([1.5000, 3.5000])\n"
          ]
        }
      ]
    },
    {
      "cell_type": "markdown",
      "source": [
        "## Sum"
      ],
      "metadata": {
        "id": "FdwQSC8vtpFm"
      }
    },
    {
      "cell_type": "code",
      "source": [
        "t = torch.FloatTensor([[1, 2], [3, 4]])\n",
        "print(t)"
      ],
      "metadata": {
        "colab": {
          "base_uri": "https://localhost:8080/"
        },
        "id": "9ijcu5K8sicI",
        "outputId": "70756217-d279-4a8f-d9ef-83b8d922aae2"
      },
      "execution_count": 19,
      "outputs": [
        {
          "output_type": "stream",
          "name": "stdout",
          "text": [
            "tensor([[1., 2.],\n",
            "        [3., 4.]])\n"
          ]
        }
      ]
    },
    {
      "cell_type": "code",
      "source": [
        "print(t.sum())\n",
        "print(t.sum(dim=0))\n",
        "print(t.sum(dim=1))\n",
        "print(t.sum(dim=-1))"
      ],
      "metadata": {
        "colab": {
          "base_uri": "https://localhost:8080/"
        },
        "id": "2VRGb1URtteE",
        "outputId": "74a37742-b8bd-4a01-cf6a-0a7d166c9614"
      },
      "execution_count": 20,
      "outputs": [
        {
          "output_type": "stream",
          "name": "stdout",
          "text": [
            "tensor(10.)\n",
            "tensor([4., 6.])\n",
            "tensor([3., 7.])\n",
            "tensor([3., 7.])\n"
          ]
        }
      ]
    },
    {
      "cell_type": "markdown",
      "source": [
        "## Max and Argmax"
      ],
      "metadata": {
        "id": "XgFHua--vzaC"
      }
    },
    {
      "cell_type": "code",
      "source": [
        "t = torch.FloatTensor([[1, 2], [3, 4]])\n",
        "print(t)"
      ],
      "metadata": {
        "colab": {
          "base_uri": "https://localhost:8080/"
        },
        "id": "TD4Lq6kmvPoD",
        "outputId": "ca9bf625-cd63-4483-b3a4-f1b363d3ac8a"
      },
      "execution_count": 21,
      "outputs": [
        {
          "output_type": "stream",
          "name": "stdout",
          "text": [
            "tensor([[1., 2.],\n",
            "        [3., 4.]])\n"
          ]
        }
      ]
    },
    {
      "cell_type": "markdown",
      "source": [
        "The `max` operator returns one value if it is called without an argument."
      ],
      "metadata": {
        "id": "K-qu_SlNv48t"
      }
    },
    {
      "cell_type": "code",
      "source": [
        "print(t.max())  # Returns one value: max"
      ],
      "metadata": {
        "colab": {
          "base_uri": "https://localhost:8080/"
        },
        "id": "9N3-AjP7v4Pt",
        "outputId": "4ff3cdef-a39e-408e-c5d7-94882ce8f65a"
      },
      "execution_count": 22,
      "outputs": [
        {
          "output_type": "stream",
          "name": "stdout",
          "text": [
            "tensor(4.)\n"
          ]
        }
      ]
    },
    {
      "cell_type": "markdown",
      "source": [
        "The `max` operator return 2 values when called with dimension specified. The first value is the maximum value, and the second value is the argmax: the index of the element with maximum value."
      ],
      "metadata": {
        "id": "nubzR9ejxov9"
      }
    },
    {
      "cell_type": "code",
      "source": [
        "print(t.max(dim=0))  # Returns two values: max and argmax\n",
        "print('Max: ', t.max(dim=0)[0])\n",
        "print('Argmax: ', t.max(dim=0)[1])"
      ],
      "metadata": {
        "colab": {
          "base_uri": "https://localhost:8080/"
        },
        "id": "lfRSzXbix3t6",
        "outputId": "1c2d610a-f0d6-43d2-f1dc-3818950cc417"
      },
      "execution_count": 23,
      "outputs": [
        {
          "output_type": "stream",
          "name": "stdout",
          "text": [
            "torch.return_types.max(\n",
            "values=tensor([3., 4.]),\n",
            "indices=tensor([1, 1]))\n",
            "Max:  tensor([3., 4.])\n",
            "Argmax:  tensor([1, 1])\n"
          ]
        }
      ]
    },
    {
      "cell_type": "code",
      "source": [
        "print(t.max(dim=1))\n",
        "print(t.max(dim=-1))"
      ],
      "metadata": {
        "colab": {
          "base_uri": "https://localhost:8080/"
        },
        "id": "Yg9ye98uxn1E",
        "outputId": "b2ec4d24-5298-43b0-ac60-48d9e5aa603f"
      },
      "execution_count": 24,
      "outputs": [
        {
          "output_type": "stream",
          "name": "stdout",
          "text": [
            "torch.return_types.max(\n",
            "values=tensor([2., 4.]),\n",
            "indices=tensor([1, 1]))\n",
            "torch.return_types.max(\n",
            "values=tensor([2., 4.]),\n",
            "indices=tensor([1, 1]))\n"
          ]
        }
      ]
    },
    {
      "cell_type": "markdown",
      "source": [
        "# Lab-01-2 Tensor Manipulation 2"
      ],
      "metadata": {
        "id": "08cHRsiuyuun"
      }
    },
    {
      "cell_type": "markdown",
      "source": [
        "## 학습목표\n",
        "\n",
        "지난 시간에 이어서 텐서 조작(Tensor Manipulation)에 대해 계속 알아본다."
      ],
      "metadata": {
        "id": "xiZ3wJdzy0Dk"
      }
    },
    {
      "cell_type": "markdown",
      "source": [
        "## 핵심키워드\n",
        "\n",
        "텐서(Tensor)  \n",
        "넘파이(NumPy)  \n",
        "텐서 조작(Tensor Manipulation)  \n",
        "View, Squeeze, Unsqueeze, Type Casting, Concatenate, Stacking, In-place Operation"
      ],
      "metadata": {
        "id": "WLJTdWELy38-"
      }
    },
    {
      "cell_type": "markdown",
      "source": [
        "## View (Reshape)"
      ],
      "metadata": {
        "id": "OyDX4u0lzA8f"
      }
    },
    {
      "cell_type": "markdown",
      "source": [
        "$|ft| = (2, 2, 3) \\to (2x2, 3) \\to (2x2, 1, 3)$"
      ],
      "metadata": {
        "id": "BMMW0JL201gI"
      }
    },
    {
      "cell_type": "code",
      "source": [
        "t = np.array([[[0, 1, 2],\n",
        "               [3, 4, 5]],\n",
        "              \n",
        "              [[6, 7, 8],\n",
        "               [9, 10, 11]]])\n",
        "ft = torch.FloatTensor(t)\n",
        "print(ft.shape)"
      ],
      "metadata": {
        "colab": {
          "base_uri": "https://localhost:8080/"
        },
        "id": "RPT7by7By3P6",
        "outputId": "5a5eec00-cf65-4202-8473-a51fb0cef79f"
      },
      "execution_count": 25,
      "outputs": [
        {
          "output_type": "stream",
          "name": "stdout",
          "text": [
            "torch.Size([2, 2, 3])\n"
          ]
        }
      ]
    },
    {
      "cell_type": "code",
      "source": [
        "print(ft.view([-1, 3]))\n",
        "print(ft.view([-1, 3]).shape)"
      ],
      "metadata": {
        "colab": {
          "base_uri": "https://localhost:8080/"
        },
        "id": "JMo65Hy9y2yw",
        "outputId": "3da23afc-98da-4ec8-cf62-cd6b638dc842"
      },
      "execution_count": 26,
      "outputs": [
        {
          "output_type": "stream",
          "name": "stdout",
          "text": [
            "tensor([[ 0.,  1.,  2.],\n",
            "        [ 3.,  4.,  5.],\n",
            "        [ 6.,  7.,  8.],\n",
            "        [ 9., 10., 11.]])\n",
            "torch.Size([4, 3])\n"
          ]
        }
      ]
    },
    {
      "cell_type": "code",
      "source": [
        "print(ft.view([-1, 1, 3]))\n",
        "print(ft.view([-1, 1, 3]).shape)"
      ],
      "metadata": {
        "colab": {
          "base_uri": "https://localhost:8080/"
        },
        "id": "9qCXRzAdyRJe",
        "outputId": "2298bbb8-6a52-4f81-a80b-2888aa92d208"
      },
      "execution_count": 27,
      "outputs": [
        {
          "output_type": "stream",
          "name": "stdout",
          "text": [
            "tensor([[[ 0.,  1.,  2.]],\n",
            "\n",
            "        [[ 3.,  4.,  5.]],\n",
            "\n",
            "        [[ 6.,  7.,  8.]],\n",
            "\n",
            "        [[ 9., 10., 11.]]])\n",
            "torch.Size([4, 1, 3])\n"
          ]
        }
      ]
    },
    {
      "cell_type": "markdown",
      "source": [
        "## Squeeze"
      ],
      "metadata": {
        "id": "f2U-kzvP1Pn7"
      }
    },
    {
      "cell_type": "markdown",
      "source": [
        "$|ft| = (3, 1) \\to (3, )$"
      ],
      "metadata": {
        "id": "ibgJnNeT1pch"
      }
    },
    {
      "cell_type": "code",
      "source": [
        "ft = torch.FloatTensor([[0], [1], [2]])\n",
        "print(ft)\n",
        "print(ft.shape)"
      ],
      "metadata": {
        "colab": {
          "base_uri": "https://localhost:8080/"
        },
        "id": "B9c7_xzb00ON",
        "outputId": "94ee59aa-8007-4a6f-dc1f-fc7c6ebe6bdc"
      },
      "execution_count": 28,
      "outputs": [
        {
          "output_type": "stream",
          "name": "stdout",
          "text": [
            "tensor([[0.],\n",
            "        [1.],\n",
            "        [2.]])\n",
            "torch.Size([3, 1])\n"
          ]
        }
      ]
    },
    {
      "cell_type": "code",
      "source": [
        "print(ft.squeeze())  # ft.squeeze(dim=1)\n",
        "print(ft.squeeze().shape)"
      ],
      "metadata": {
        "colab": {
          "base_uri": "https://localhost:8080/"
        },
        "id": "HFtAmCZJ1aE5",
        "outputId": "9754aac9-7419-4633-8bb4-7f54944810e5"
      },
      "execution_count": 29,
      "outputs": [
        {
          "output_type": "stream",
          "name": "stdout",
          "text": [
            "tensor([0., 1., 2.])\n",
            "torch.Size([3])\n"
          ]
        }
      ]
    },
    {
      "cell_type": "markdown",
      "source": [
        "## Unsqueeze"
      ],
      "metadata": {
        "id": "uukfdbro10YQ"
      }
    },
    {
      "cell_type": "code",
      "source": [
        "ft = torch.Tensor([0, 1, 2])\n",
        "print(ft.shape)"
      ],
      "metadata": {
        "colab": {
          "base_uri": "https://localhost:8080/"
        },
        "id": "79DnOL3Y17BW",
        "outputId": "271c68c6-6884-4872-dc0c-68051bea6b28"
      },
      "execution_count": 30,
      "outputs": [
        {
          "output_type": "stream",
          "name": "stdout",
          "text": [
            "torch.Size([3])\n"
          ]
        }
      ]
    },
    {
      "cell_type": "code",
      "source": [
        "print(ft.unsqueeze(0))  # 원하는 dimension에 차원을 넣어라\n",
        "print(ft.unsqueeze(0).shape)"
      ],
      "metadata": {
        "colab": {
          "base_uri": "https://localhost:8080/"
        },
        "id": "DBIy3s5I2QQs",
        "outputId": "7b274e68-0d98-4320-b79c-529069755961"
      },
      "execution_count": 31,
      "outputs": [
        {
          "output_type": "stream",
          "name": "stdout",
          "text": [
            "tensor([[0., 1., 2.]])\n",
            "torch.Size([1, 3])\n"
          ]
        }
      ]
    },
    {
      "cell_type": "code",
      "source": [
        "print(ft.view(1, -1))\n",
        "print(ft.view(1, -1).shape)"
      ],
      "metadata": {
        "colab": {
          "base_uri": "https://localhost:8080/"
        },
        "id": "GEe_c3ML2VGZ",
        "outputId": "26a2429c-f1e7-47c9-b023-16cc161b9110"
      },
      "execution_count": 32,
      "outputs": [
        {
          "output_type": "stream",
          "name": "stdout",
          "text": [
            "tensor([[0., 1., 2.]])\n",
            "torch.Size([1, 3])\n"
          ]
        }
      ]
    },
    {
      "cell_type": "code",
      "source": [
        "print(ft.unsqueeze(1))  # 원하는 dimension에 차원을 넣어라\n",
        "print(ft.unsqueeze(1).shape)"
      ],
      "metadata": {
        "colab": {
          "base_uri": "https://localhost:8080/"
        },
        "id": "Uj4HcHUv24Bj",
        "outputId": "7d035d18-8af1-41b9-f739-3beb3270516a"
      },
      "execution_count": 33,
      "outputs": [
        {
          "output_type": "stream",
          "name": "stdout",
          "text": [
            "tensor([[0.],\n",
            "        [1.],\n",
            "        [2.]])\n",
            "torch.Size([3, 1])\n"
          ]
        }
      ]
    },
    {
      "cell_type": "code",
      "source": [
        "print(ft.unsqueeze(-1))\n",
        "print(ft.unsqueeze(-1).shape)"
      ],
      "metadata": {
        "colab": {
          "base_uri": "https://localhost:8080/"
        },
        "id": "kVpUGs6a251h",
        "outputId": "2b52d4de-3f23-41d5-e749-c8cd2ed53e1f"
      },
      "execution_count": 34,
      "outputs": [
        {
          "output_type": "stream",
          "name": "stdout",
          "text": [
            "tensor([[0.],\n",
            "        [1.],\n",
            "        [2.]])\n",
            "torch.Size([3, 1])\n"
          ]
        }
      ]
    },
    {
      "cell_type": "markdown",
      "source": [
        "## Type Casting"
      ],
      "metadata": {
        "id": "w47sApPJ3mZF"
      }
    },
    {
      "cell_type": "code",
      "source": [
        "lt = torch.LongTensor([1, 2, 3, 4])\n",
        "print(lt)"
      ],
      "metadata": {
        "colab": {
          "base_uri": "https://localhost:8080/"
        },
        "id": "hHRkvCYp3Ana",
        "outputId": "a8b8e150-b812-49ea-9ffd-143349e63dd7"
      },
      "execution_count": 35,
      "outputs": [
        {
          "output_type": "stream",
          "name": "stdout",
          "text": [
            "tensor([1, 2, 3, 4])\n"
          ]
        }
      ]
    },
    {
      "cell_type": "code",
      "source": [
        "print(lt.float())"
      ],
      "metadata": {
        "colab": {
          "base_uri": "https://localhost:8080/"
        },
        "id": "YnHH1Op53tX9",
        "outputId": "84461de4-d1a5-4d98-aba1-f73dc4c111da"
      },
      "execution_count": 36,
      "outputs": [
        {
          "output_type": "stream",
          "name": "stdout",
          "text": [
            "tensor([1., 2., 3., 4.])\n"
          ]
        }
      ]
    },
    {
      "cell_type": "code",
      "source": [
        "bt = torch.ByteTensor([True, False, False, True])  # 마스킹 기법으로 활용할 수 있음\n",
        "print(bt)"
      ],
      "metadata": {
        "colab": {
          "base_uri": "https://localhost:8080/"
        },
        "id": "LNMsZ5uz3vr_",
        "outputId": "755434b1-4903-4712-81bb-cd9bb6f3b867"
      },
      "execution_count": 37,
      "outputs": [
        {
          "output_type": "stream",
          "name": "stdout",
          "text": [
            "tensor([1, 0, 0, 1], dtype=torch.uint8)\n"
          ]
        }
      ]
    },
    {
      "cell_type": "code",
      "source": [
        "print(bt.long())\n",
        "print(bt.float())"
      ],
      "metadata": {
        "colab": {
          "base_uri": "https://localhost:8080/"
        },
        "id": "Cee5CR-838YQ",
        "outputId": "9deac609-c18e-49bf-ce5e-81b9832bc762"
      },
      "execution_count": 38,
      "outputs": [
        {
          "output_type": "stream",
          "name": "stdout",
          "text": [
            "tensor([1, 0, 0, 1])\n",
            "tensor([1., 0., 0., 1.])\n"
          ]
        }
      ]
    },
    {
      "cell_type": "markdown",
      "source": [
        "## Concatenate"
      ],
      "metadata": {
        "id": "WmqjgZGL4IuI"
      }
    },
    {
      "cell_type": "markdown",
      "source": [
        "$|x| = |y| = (2, 2)$"
      ],
      "metadata": {
        "id": "wLPpjLyw4sFM"
      }
    },
    {
      "cell_type": "code",
      "source": [
        "x = torch.FloatTensor([[1, 2], [3, 4]])\n",
        "y = torch.FloatTensor([[5, 6], [7, 8]])"
      ],
      "metadata": {
        "id": "J4cJMfkt3_NC"
      },
      "execution_count": 39,
      "outputs": []
    },
    {
      "cell_type": "code",
      "source": [
        "print(torch.cat([x, y], dim=0))\n",
        "print(torch.cat([x, y], dim=1))"
      ],
      "metadata": {
        "colab": {
          "base_uri": "https://localhost:8080/"
        },
        "id": "PQK8KDJN4lxg",
        "outputId": "65916412-7b7f-4029-fb2a-ac2766365869"
      },
      "execution_count": 40,
      "outputs": [
        {
          "output_type": "stream",
          "name": "stdout",
          "text": [
            "tensor([[1., 2.],\n",
            "        [3., 4.],\n",
            "        [5., 6.],\n",
            "        [7., 8.]])\n",
            "tensor([[1., 2., 5., 6.],\n",
            "        [3., 4., 7., 8.]])\n"
          ]
        }
      ]
    },
    {
      "cell_type": "markdown",
      "source": [
        "## Stacking"
      ],
      "metadata": {
        "id": "U6-cXEg348D9"
      }
    },
    {
      "cell_type": "code",
      "source": [
        "x = torch.FloatTensor([1, 4])\n",
        "y = torch.FloatTensor([2, 5])\n",
        "z = torch.FloatTensor([3, 6])"
      ],
      "metadata": {
        "id": "tQtY69Yx4qH-"
      },
      "execution_count": 41,
      "outputs": []
    },
    {
      "cell_type": "code",
      "source": [
        "print(torch.stack([x, y, z]))\n",
        "print(torch.stack([x, y, z], dim=1))"
      ],
      "metadata": {
        "colab": {
          "base_uri": "https://localhost:8080/"
        },
        "id": "WdRvxHOi5GI9",
        "outputId": "598318e8-b113-4df3-c86d-748019436baa"
      },
      "execution_count": 42,
      "outputs": [
        {
          "output_type": "stream",
          "name": "stdout",
          "text": [
            "tensor([[1., 4.],\n",
            "        [2., 5.],\n",
            "        [3., 6.]])\n",
            "tensor([[1., 2., 3.],\n",
            "        [4., 5., 6.]])\n"
          ]
        }
      ]
    },
    {
      "cell_type": "code",
      "source": [
        "print(torch.cat([x.unsqueeze(0), y.unsqueeze(0), z.unsqueeze(0)], dim=0))"
      ],
      "metadata": {
        "colab": {
          "base_uri": "https://localhost:8080/"
        },
        "id": "l7ix4jIk5ROQ",
        "outputId": "fa73b0f3-6fd5-46a5-d2f7-4786260f83b8"
      },
      "execution_count": 43,
      "outputs": [
        {
          "output_type": "stream",
          "name": "stdout",
          "text": [
            "tensor([[1., 4.],\n",
            "        [2., 5.],\n",
            "        [3., 6.]])\n"
          ]
        }
      ]
    },
    {
      "cell_type": "markdown",
      "source": [
        "## Ones and Zeros"
      ],
      "metadata": {
        "id": "3BVpEWQG5drl"
      }
    },
    {
      "cell_type": "code",
      "source": [
        "x = torch.FloatTensor([[0, 1, 2], [3, 4, 5]])\n",
        "print(x)"
      ],
      "metadata": {
        "colab": {
          "base_uri": "https://localhost:8080/"
        },
        "id": "LaQ2NBHZ5bSx",
        "outputId": "c4cefbd5-98a1-484f-bca8-e303ff7b40f4"
      },
      "execution_count": 44,
      "outputs": [
        {
          "output_type": "stream",
          "name": "stdout",
          "text": [
            "tensor([[0., 1., 2.],\n",
            "        [3., 4., 5.]])\n"
          ]
        }
      ]
    },
    {
      "cell_type": "code",
      "source": [
        "print(torch.ones_like(x))\n",
        "print(torch.zeros_like(x))  # device"
      ],
      "metadata": {
        "colab": {
          "base_uri": "https://localhost:8080/"
        },
        "id": "oLjRP2aJ5mlG",
        "outputId": "a9b931fe-d408-4226-9641-3aa98b33db99"
      },
      "execution_count": 45,
      "outputs": [
        {
          "output_type": "stream",
          "name": "stdout",
          "text": [
            "tensor([[1., 1., 1.],\n",
            "        [1., 1., 1.]])\n",
            "tensor([[0., 0., 0.],\n",
            "        [0., 0., 0.]])\n"
          ]
        }
      ]
    },
    {
      "cell_type": "markdown",
      "source": [
        "## In-place Operation"
      ],
      "metadata": {
        "id": "EEVeKL4O55w3"
      }
    },
    {
      "cell_type": "code",
      "source": [
        "x = torch.FloatTensor([[1, 2], [3, 4]])"
      ],
      "metadata": {
        "id": "GWGDXT1z5qMH"
      },
      "execution_count": 46,
      "outputs": []
    },
    {
      "cell_type": "code",
      "source": [
        "print(x.mul(2.))\n",
        "print(x)\n",
        "print(x.mul_(2.))\n",
        "print(x)"
      ],
      "metadata": {
        "colab": {
          "base_uri": "https://localhost:8080/"
        },
        "id": "gBjclEmd6EO2",
        "outputId": "af13c186-45ce-44f6-f368-930cbe2adcdc"
      },
      "execution_count": 47,
      "outputs": [
        {
          "output_type": "stream",
          "name": "stdout",
          "text": [
            "tensor([[2., 4.],\n",
            "        [6., 8.]])\n",
            "tensor([[1., 2.],\n",
            "        [3., 4.]])\n",
            "tensor([[2., 4.],\n",
            "        [6., 8.]])\n",
            "tensor([[2., 4.],\n",
            "        [6., 8.]])\n"
          ]
        }
      ]
    },
    {
      "cell_type": "markdown",
      "source": [
        "# Lab-02 Linear regression"
      ],
      "metadata": {
        "id": "2y5sFpIgMmc1"
      }
    },
    {
      "cell_type": "markdown",
      "source": [
        "## 학습목표\n",
        "\n",
        "선형회귀(Linear Regression)에 대해 알아본다."
      ],
      "metadata": {
        "id": "Ll3pR2TvM7N2"
      }
    },
    {
      "cell_type": "markdown",
      "source": [
        "## 핵심키워드\n",
        "\n",
        "선형회귀(Linear Regression)  \n",
        "평균 제곱 오차(Mean Squared Error)  \n",
        "경사하강법(Gradient descent)  "
      ],
      "metadata": {
        "id": "S3aZAv3nM_0x"
      }
    },
    {
      "cell_type": "markdown",
      "source": [
        "## Data definition\n",
        "* 데이터는 torch.tensor\n",
        "* 입력 따로, 출력 따로\n",
        "    * 입력: x_train\n",
        "    * 출력: y_train\n",
        "    * 입출력은 x, y 로 구분"
      ],
      "metadata": {
        "id": "kIhUETJQN-P-"
      }
    },
    {
      "cell_type": "code",
      "source": [
        "x_train = torch.FloatTensor([[1], [2], [3]])\n",
        "y_train = torch.FloatTensor([[2], [4], [6]])"
      ],
      "metadata": {
        "id": "jR740HNUMpUw"
      },
      "execution_count": 48,
      "outputs": []
    },
    {
      "cell_type": "markdown",
      "source": [
        "## Hypothesis\n",
        "$y = Wx + b$\n",
        "* Weight 와 Bias 0으로 초기화\n",
        "    * 항상 출력 0을 예측\n",
        "* requires_grad=True\n",
        "    * 학습할 것이라고 명시"
      ],
      "metadata": {
        "id": "374OFCfrNvng"
      }
    },
    {
      "cell_type": "code",
      "source": [
        "W = torch.zeros(1, requires_grad=True)\n",
        "b = torch.zeros(1, requires_grad=True)\n",
        "hypothesis = x_train * W + b"
      ],
      "metadata": {
        "id": "Njt0l2qGQH38"
      },
      "execution_count": 49,
      "outputs": []
    },
    {
      "cell_type": "markdown",
      "source": [
        "## Compute loss"
      ],
      "metadata": {
        "id": "rm4cUXi0Os0c"
      }
    },
    {
      "cell_type": "markdown",
      "source": [
        "### Mean Squared Error (MSE)\n",
        "$cost(W,b) = \\frac{1}{m}\\sum_{i=1}^m(H(x^{(i)})-y^{(i)})^2$\n",
        "* torch.mean 으로 평균 계산\n",
        "* 한 줄인데 읽기 편한 코드"
      ],
      "metadata": {
        "id": "4H0Kw7L2O16v"
      }
    },
    {
      "cell_type": "code",
      "source": [
        "cost = torch.mean((hypothesis - y_train) ** 2)"
      ],
      "metadata": {
        "id": "TQCPk4BPN5JY"
      },
      "execution_count": 50,
      "outputs": []
    },
    {
      "cell_type": "markdown",
      "source": [
        "## Gradient descent\n",
        "* torch.optim 라이브러리 사용\n",
        "    * [W, b] 는 학습할 tensor들\n",
        "    * lr=0.01 은 learning rate\n",
        "\n",
        "* 항상 붙어다니는 3줄\n",
        "    * zero_grad() 로 gradient 초기화\n",
        "    * backward() 로 gradient 계산\n",
        "    * step() 으로 개선"
      ],
      "metadata": {
        "id": "7X6vWFnAQrdF"
      }
    },
    {
      "cell_type": "code",
      "source": [
        "import torch.optim as optim\n",
        "\n",
        "optimizer = optim.SGD([W, b], lr=0.01)\n",
        "\n",
        "optimizer.zero_grad()\n",
        "cost.backward()\n",
        "optimizer.step()"
      ],
      "metadata": {
        "id": "I2jX8ct_Qp9o"
      },
      "execution_count": 51,
      "outputs": []
    },
    {
      "cell_type": "markdown",
      "source": [
        "## Full traning code"
      ],
      "metadata": {
        "id": "c3WtSrpRSWMN"
      }
    },
    {
      "cell_type": "code",
      "source": [
        "x_train = torch.FloatTensor([[1], [2], [3]])\n",
        "y_train = torch.FloatTensor([[2], [4], [6]])\n",
        "\n",
        "W = torch.zeros(1, requires_grad=True)\n",
        "b = torch.zeros(1, requires_grad=True)\n",
        "\n",
        "optimizer = optim.SGD([W, b], lr=0.01)\n",
        "\n",
        "nb_epochs = 1000\n",
        "for epoch in range(1, nb_epochs + 1):\n",
        "    hypothesis = x_train * W * b\n",
        "    cost = torch.mean((hypothesis - y_train) ** 2)\n",
        "\n",
        "    optimizer.zero_grad()\n",
        "    cost.backward()\n",
        "    optimizer.step()"
      ],
      "metadata": {
        "id": "lnWQSy1oRlph"
      },
      "execution_count": 52,
      "outputs": []
    },
    {
      "cell_type": "markdown",
      "source": [
        "# Lab-03 Deeper Look at GD"
      ],
      "metadata": {
        "id": "xx_5OQ1YTcCb"
      }
    },
    {
      "cell_type": "markdown",
      "source": [
        "## 학습목표\n",
        "\n",
        "경사하강법(Gradient descent)에 대해 더 자세히 알아본다."
      ],
      "metadata": {
        "id": "0T6BlhS3TfNu"
      }
    },
    {
      "cell_type": "markdown",
      "source": [
        "## 핵심키워드\n",
        "\n",
        "가설 함수(Hypothesis Function)  \n",
        "평균 제곱 오차(Mean Squared Error)  \n",
        "경사하강법(Gradient descent)"
      ],
      "metadata": {
        "id": "miryzgqLTpD5"
      }
    },
    {
      "cell_type": "markdown",
      "source": [
        "## Simpler Hypothesis Function\n",
        "$H(x) = Wx$\n",
        "* W는 하나의 matrix이고 이것이 x라는 imput 벡터에 곱해진 후 b라는 Bias 벡터에 더해져서 예측값 H(x)를 계산합니다."
      ],
      "metadata": {
        "id": "FCBwnNnPVeOz"
      }
    },
    {
      "cell_type": "code",
      "source": [
        "W = torch.zeros(1, requires_grad=True)\n",
        "# b = torch.zeros(1, requires_grad=True)\n",
        "hypothesis = x_train * W"
      ],
      "metadata": {
        "id": "6-NQ-NbrTGCa"
      },
      "execution_count": 53,
      "outputs": []
    },
    {
      "cell_type": "code",
      "source": [
        "x_train = torch.FloatTensor([[1], [2], [3]])\n",
        "y_train = torch.FloatTensor([[1], [2], [3]])"
      ],
      "metadata": {
        "id": "sFGa4lw_WO5r"
      },
      "execution_count": 54,
      "outputs": []
    },
    {
      "cell_type": "markdown",
      "source": [
        "## What is the best model?\n",
        "* $H(x) = x$ 가 정확한 모델\n",
        "* $W = 1$ 이 가장 좋은 숫자"
      ],
      "metadata": {
        "id": "78-JowluW2m_"
      }
    },
    {
      "cell_type": "code",
      "source": [
        "import matplotlib.pyplot as plt\n",
        "\n",
        "plt.plot(x_train, y_train)\n",
        "plt.show()"
      ],
      "metadata": {
        "colab": {
          "base_uri": "https://localhost:8080/",
          "height": 265
        },
        "id": "fW8CwXe0WgS1",
        "outputId": "c027dd04-9c56-4986-cc88-a833b0a8ed8d"
      },
      "execution_count": 55,
      "outputs": [
        {
          "output_type": "display_data",
          "data": {
            "text/plain": [
              "<Figure size 432x288 with 1 Axes>"
            ],
            "image/png": "[encoded data removed]"
          },
          "metadata": {
            "needs_background": "light"
          }
        }
      ]
    },
    {
      "cell_type": "markdown",
      "source": [
        "## Cost function: Intuition\n",
        "* $W = 1$ 일 때 $cost = 0$\n",
        "* 1에서 멀어질수록 높아진다.\n"
      ],
      "metadata": {
        "id": "x6_Uwlr8YCzJ"
      }
    },
    {
      "cell_type": "code",
      "source": [
        "x = torch.linspace(-5, 5, 1000)\n",
        "y = x * x\n",
        "\n",
        "plt.plot(x+1, y)\n",
        "plt.show()"
      ],
      "metadata": {
        "colab": {
          "base_uri": "https://localhost:8080/",
          "height": 265
        },
        "id": "rXhlbV4PYpPs",
        "outputId": "e10193b1-5ced-4142-d3f8-7e556c5bfdbf"
      },
      "execution_count": 56,
      "outputs": [
        {
          "output_type": "display_data",
          "data": {
            "text/plain": [
              "<Figure size 432x288 with 1 Axes>"
            ],
            "image/png": "[encoded data removed]"
          },
          "metadata": {
            "needs_background": "light"
          }
        }
      ]
    },
    {
      "cell_type": "markdown",
      "source": [
        "### Mean Squared Error (MSE)\n",
        "$cost(W,b) = \\frac{1}{m}\\sum_{i=1}^m(H(x^{(i)})-y^{(i)})^2$"
      ],
      "metadata": {
        "id": "IqECXgQaIVg0"
      }
    },
    {
      "cell_type": "code",
      "source": [
        "cost = torch.mean((hypothesis - y_train) ** 2)"
      ],
      "metadata": {
        "id": "mNKMY4lvHRRu"
      },
      "execution_count": 57,
      "outputs": []
    },
    {
      "cell_type": "markdown",
      "source": [
        "## Gradient Descent: Intuition\n",
        "우리가 원하는 것은 cost function을 최소화하는 일이다.  \n",
        "cost function을 최소화하려면\n",
        "* 기울기가 음수일 때는 W가 더 커져야 하고, 기울기가 양수일 때는 W가 더 작아져야 함\n",
        "* 기울기가 가파를수록 cost가 큰 것이니 W를 크게 바꾸고, 평평할수록 cost가 0에 가까운 것이니 W를 조금 바꿔야 함 \n",
        "$$\\frac {\\partial cost}{∂ W} = \\nabla W$$\n",
        "* 곡선을 내려가자\n",
        "* 기울기가 클수록 더 멀리\n",
        "* **\"Gradient\"**를 계산하자"
      ],
      "metadata": {
        "id": "_a7fGlj9IpEB"
      }
    },
    {
      "cell_type": "markdown",
      "source": [
        "### Gradient Descent: The Math\n",
        "Gradient를 이용해서 Cost를 줄인다는 뜻  \n",
        "$cost(W,b) = \\frac{1}{m}\\sum_{i=1}^m(H(x^{(i)})-y^{(i)})^2$  \n",
        "$\\nabla W = \\frac {\\partial cost}{\\partial W} = \\frac {2}{m} \\sum^m_{i=1}(Wx^{(i)}-y^{(i)})x^{(i)}$ \n",
        "$$W:= W - \\alpha \\nabla W$$\n",
        "* *$\\alpha$: Learing rate*\n",
        "* *$W$: Gradient*"
      ],
      "metadata": {
        "id": "StG4enC3Z7Q7"
      }
    },
    {
      "cell_type": "markdown",
      "source": [
        "### Gradient Descent: Code\n",
        "$\\nabla W = \\frac {\\partial cost}{\\partial W} = \\frac {2}{m} \\sum^m_{i=1}(Wx^{(i)}-y^{(i)})x^{(i)}$   \n",
        "$W:= W - \\alpha \\nabla W$"
      ],
      "metadata": {
        "id": "Yyvjv7iCb4Gw"
      }
    },
    {
      "cell_type": "code",
      "source": [
        "gradient = 2 * torch.mean((W * x_train - y_train) * x_train)\n",
        "lr = 0.1\n",
        "W = W - lr * gradient\n",
        "W"
      ],
      "metadata": {
        "colab": {
          "base_uri": "https://localhost:8080/"
        },
        "id": "dLCEnBg1b-rd",
        "outputId": "4dd5dcf8-db68-4855-df11-11c2862f17df"
      },
      "execution_count": 63,
      "outputs": [
        {
          "output_type": "execute_result",
          "data": {
            "text/plain": [
              "tensor([0.9956], grad_fn=<SubBackward0>)"
            ]
          },
          "metadata": {},
          "execution_count": 63
        }
      ]
    },
    {
      "cell_type": "markdown",
      "source": [
        "### Gradient Descent with torch.optim\n",
        "* torch.optim 으로도 gradient descent를 할 수 있음\n",
        "    * 시작할 때 optimizer 정의\n",
        "    * optimizer.zero_grad()로 gradient를 0으로 초기화\n",
        "    * cost.backward()로 gradient 계산\n",
        "    * optimizer.step()으로 gradient descent"
      ],
      "metadata": {
        "id": "GngoeZnmjPIW"
      }
    },
    {
      "cell_type": "code",
      "source": [
        "# optimizer 설정\n",
        "optimizer = optim.SGD([W], lr=0.15)  # W에 gradient를 저장\n",
        "\n",
        "# cost로 H(x) 개선\n",
        "optimizer.zero_grad()  # 학습 가능한 모든 gradient 초기화\n",
        "cost.backward()  # cost function을 미분해서 각 변수들의 gradient로 채움\n",
        "optimizer.step()  # 저장된 gradient 값으로 gradient descent를 시행"
      ],
      "metadata": {
        "id": "0NOJmrFljq1j"
      },
      "execution_count": null,
      "outputs": []
    },
    {
      "cell_type": "markdown",
      "source": [
        "## Full Code with torch.optim\n",
        "* 학습하면서 점점:\n",
        "    * 1에 수렴하는 W\n",
        "    * 줄어드는 cost"
      ],
      "metadata": {
        "id": "EBY_QM_Xkv7p"
      }
    },
    {
      "cell_type": "code",
      "source": [
        "# 데이터\n",
        "x_train = torch.FloatTensor([[1], [2], [3]])\n",
        "y_train = torch.FloatTensor([[1], [2], [3]])\n",
        "# 모델 초기화\n",
        "W = torch.zeros(1, requires_grad=True)\n",
        "# optimizer 설정\n",
        "optimizer = optim.SGD([W], lr=0.15)\n",
        "\n",
        "nb_epochs = 10\n",
        "for epoch in range(nb_epochs + 1):\n",
        "\n",
        "    # H(x) 계산\n",
        "    hypothesis = x_train * W\n",
        "\n",
        "    # cost 계산\n",
        "    cost = torch.mean((hypothesis - y_train) ** 2)\n",
        "\n",
        "    print('Epoch {:4d}/{} W: {:.3f}, Cost: {:.6f}'.format(\n",
        "        epoch, nb_epochs, W.item(), cost.item()\n",
        "    ))\n",
        "\n",
        "    # cost로 H(x) 개선\n",
        "    optimizer.zero_grad()\n",
        "    cost.backward()\n",
        "    optimizer.step()"
      ],
      "metadata": {
        "colab": {
          "base_uri": "https://localhost:8080/"
        },
        "id": "lL1MP2wKku6j",
        "outputId": "1681d226-8303-43e2-ea53-9a57d93513a7"
      },
      "execution_count": 79,
      "outputs": [
        {
          "output_type": "stream",
          "name": "stdout",
          "text": [
            "Epoch    0/10 W: 0.000, Cost: 4.666667\n",
            "Epoch    1/10 W: 1.400, Cost: 0.746667\n",
            "Epoch    2/10 W: 0.840, Cost: 0.119467\n",
            "Epoch    3/10 W: 1.064, Cost: 0.019115\n",
            "Epoch    4/10 W: 0.974, Cost: 0.003058\n",
            "Epoch    5/10 W: 1.010, Cost: 0.000489\n",
            "Epoch    6/10 W: 0.996, Cost: 0.000078\n",
            "Epoch    7/10 W: 1.002, Cost: 0.000013\n",
            "Epoch    8/10 W: 0.999, Cost: 0.000002\n",
            "Epoch    9/10 W: 1.000, Cost: 0.000000\n",
            "Epoch   10/10 W: 1.000, Cost: 0.000000\n"
          ]
        }
      ]
    },
    {
      "cell_type": "markdown",
      "source": [
        "## Full Code\n",
        "* Epoch: 데이터로 학습한 횟수\n",
        "* 학습하면서 점점:\n",
        "    * 1에 수렴하는 W\n",
        "    * 줄어드는 cost"
      ],
      "metadata": {
        "id": "o3q9OqqKcziw"
      }
    },
    {
      "cell_type": "code",
      "source": [
        "# 데이터\n",
        "x_train = torch.FloatTensor([[1], [2], [3]])\n",
        "y_train = torch.FloatTensor([[1], [2], [3]])\n",
        "# 모델 초기화\n",
        "W = torch.zeros(1)\n",
        "# Learning rate 설정\n",
        "lr = 0.1\n",
        "\n",
        "nb_epochs = 10\n",
        "for epoch in range(nb_epochs + 1):\n",
        "    \n",
        "    # H(x) 계산\n",
        "    hypothesis = x_train * W\n",
        "\n",
        "    # cost gradient 계산\n",
        "    cost = torch.mean((hypothesis - y_train) ** 2)\n",
        "    gradient = torch.sum((W * x_train - y_train) * x_train)\n",
        "\n",
        "    print('Epoch {:4d}/{} W: {:.3f}, Cost: {:.6f}'.format(\n",
        "        epoch, nb_epochs, W.item(), cost.item()\n",
        "    ))\n",
        "    \n",
        "    # cost gradient로 H(x) 개선\n",
        "    W -= lr * gradient"
      ],
      "metadata": {
        "id": "3ZwP9WO6Ij3J",
        "colab": {
          "base_uri": "https://localhost:8080/"
        },
        "outputId": "83a3e145-fa67-43dd-dea3-73b9c8120a4b"
      },
      "execution_count": 76,
      "outputs": [
        {
          "output_type": "stream",
          "name": "stdout",
          "text": [
            "Epoch    0/10 W: 0.000, Cost: 4.666667\n",
            "Epoch    1/10 W: 1.400, Cost: 0.746666\n",
            "Epoch    2/10 W: 0.840, Cost: 0.119467\n",
            "Epoch    3/10 W: 1.064, Cost: 0.019115\n",
            "Epoch    4/10 W: 0.974, Cost: 0.003058\n",
            "Epoch    5/10 W: 1.010, Cost: 0.000489\n",
            "Epoch    6/10 W: 0.996, Cost: 0.000078\n",
            "Epoch    7/10 W: 1.002, Cost: 0.000013\n",
            "Epoch    8/10 W: 0.999, Cost: 0.000002\n",
            "Epoch    9/10 W: 1.000, Cost: 0.000000\n",
            "Epoch   10/10 W: 1.000, Cost: 0.000000\n"
          ]
        }
      ]
    },
    {
      "cell_type": "code",
      "source": [],
      "metadata": {
        "id": "wsyX3LsLfKIO"
      },
      "execution_count": null,
      "outputs": []
    }
  ]
}