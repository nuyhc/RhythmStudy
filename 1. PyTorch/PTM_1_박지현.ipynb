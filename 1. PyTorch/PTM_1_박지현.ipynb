{
  "nbformat": 4,
  "nbformat_minor": 0,
  "metadata": {
    "colab": {
      "provenance": [],
      "toc_visible": true,
      "authorship_tag": "ABX9TyOQ7wP+B0/8LAW1cCZIq8Um",
      "include_colab_link": true
    },
    "kernelspec": {
      "name": "python3",
      "display_name": "Python 3"
    },
    "language_info": {
      "name": "python"
    },
    "accelerator": "GPU",
    "gpuClass": "standard",
    "widgets": {
      "application/vnd.jupyter.widget-state+json": {
        "978307be5b1c4f01b36e6df037e2bac9": {
          "model_module": "@jupyter-widgets/controls",
          "model_name": "HBoxModel",
          "model_module_version": "1.5.0",
          "state": {
            "_dom_classes": [],
            "_model_module": "@jupyter-widgets/controls",
            "_model_module_version": "1.5.0",
            "_model_name": "HBoxModel",
            "_view_count": null,
            "_view_module": "@jupyter-widgets/controls",
            "_view_module_version": "1.5.0",
            "_view_name": "HBoxView",
            "box_style": "",
            "children": [
              "IPY_MODEL_0b84cdbb33f8451d8e9c0318739c6681",
              "IPY_MODEL_1ad652d8316c4018a4d8cc7e60b1d030",
              "IPY_MODEL_b83f093cd28946a7b70cb9c76c60bf40"
            ],
            "layout": "IPY_MODEL_cf38149d2ee243c784b6b46701444ef2"
          }
        },
        "0b84cdbb33f8451d8e9c0318739c6681": {
          "model_module": "@jupyter-widgets/controls",
          "model_name": "HTMLModel",
          "model_module_version": "1.5.0",
          "state": {
            "_dom_classes": [],
            "_model_module": "@jupyter-widgets/controls",
            "_model_module_version": "1.5.0",
            "_model_name": "HTMLModel",
            "_view_count": null,
            "_view_module": "@jupyter-widgets/controls",
            "_view_module_version": "1.5.0",
            "_view_name": "HTMLView",
            "description": "",
            "description_tooltip": null,
            "layout": "IPY_MODEL_88e3b606e8c54163840b716ba3edcfc8",
            "placeholder": "​",
            "style": "IPY_MODEL_7c7ab1d9ae5d4c45b93019e948765999",
            "value": "100%"
          }
        },
        "1ad652d8316c4018a4d8cc7e60b1d030": {
          "model_module": "@jupyter-widgets/controls",
          "model_name": "FloatProgressModel",
          "model_module_version": "1.5.0",
          "state": {
            "_dom_classes": [],
            "_model_module": "@jupyter-widgets/controls",
            "_model_module_version": "1.5.0",
            "_model_name": "FloatProgressModel",
            "_view_count": null,
            "_view_module": "@jupyter-widgets/controls",
            "_view_module_version": "1.5.0",
            "_view_name": "ProgressView",
            "bar_style": "success",
            "description": "",
            "description_tooltip": null,
            "layout": "IPY_MODEL_51a19cee10be46b998e80084430c7fa6",
            "max": 178793939,
            "min": 0,
            "orientation": "horizontal",
            "style": "IPY_MODEL_3da21fa5206647efbe110a7bb9996437",
            "value": 178793939
          }
        },
        "b83f093cd28946a7b70cb9c76c60bf40": {
          "model_module": "@jupyter-widgets/controls",
          "model_name": "HTMLModel",
          "model_module_version": "1.5.0",
          "state": {
            "_dom_classes": [],
            "_model_module": "@jupyter-widgets/controls",
            "_model_module_version": "1.5.0",
            "_model_name": "HTMLModel",
            "_view_count": null,
            "_view_module": "@jupyter-widgets/controls",
            "_view_module_version": "1.5.0",
            "_view_name": "HTMLView",
            "description": "",
            "description_tooltip": null,
            "layout": "IPY_MODEL_18b7c77772bd4280911441b2063e34b9",
            "placeholder": "​",
            "style": "IPY_MODEL_c9ac0c4b231f474d9a9d9d2e35397155",
            "value": " 171M/171M [00:00&lt;00:00, 248MB/s]"
          }
        },
        "cf38149d2ee243c784b6b46701444ef2": {
          "model_module": "@jupyter-widgets/base",
          "model_name": "LayoutModel",
          "model_module_version": "1.2.0",
          "state": {
            "_model_module": "@jupyter-widgets/base",
            "_model_module_version": "1.2.0",
            "_model_name": "LayoutModel",
            "_view_count": null,
            "_view_module": "@jupyter-widgets/base",
            "_view_module_version": "1.2.0",
            "_view_name": "LayoutView",
            "align_content": null,
            "align_items": null,
            "align_self": null,
            "border": null,
            "bottom": null,
            "display": null,
            "flex": null,
            "flex_flow": null,
            "grid_area": null,
            "grid_auto_columns": null,
            "grid_auto_flow": null,
            "grid_auto_rows": null,
            "grid_column": null,
            "grid_gap": null,
            "grid_row": null,
            "grid_template_areas": null,
            "grid_template_columns": null,
            "grid_template_rows": null,
            "height": null,
            "justify_content": null,
            "justify_items": null,
            "left": null,
            "margin": null,
            "max_height": null,
            "max_width": null,
            "min_height": null,
            "min_width": null,
            "object_fit": null,
            "object_position": null,
            "order": null,
            "overflow": null,
            "overflow_x": null,
            "overflow_y": null,
            "padding": null,
            "right": null,
            "top": null,
            "visibility": null,
            "width": null
          }
        },
        "88e3b606e8c54163840b716ba3edcfc8": {
          "model_module": "@jupyter-widgets/base",
          "model_name": "LayoutModel",
          "model_module_version": "1.2.0",
          "state": {
            "_model_module": "@jupyter-widgets/base",
            "_model_module_version": "1.2.0",
            "_model_name": "LayoutModel",
            "_view_count": null,
            "_view_module": "@jupyter-widgets/base",
            "_view_module_version": "1.2.0",
            "_view_name": "LayoutView",
            "align_content": null,
            "align_items": null,
            "align_self": null,
            "border": null,
            "bottom": null,
            "display": null,
            "flex": null,
            "flex_flow": null,
            "grid_area": null,
            "grid_auto_columns": null,
            "grid_auto_flow": null,
            "grid_auto_rows": null,
            "grid_column": null,
            "grid_gap": null,
            "grid_row": null,
            "grid_template_areas": null,
            "grid_template_columns": null,
            "grid_template_rows": null,
            "height": null,
            "justify_content": null,
            "justify_items": null,
            "left": null,
            "margin": null,
            "max_height": null,
            "max_width": null,
            "min_height": null,
            "min_width": null,
            "object_fit": null,
            "object_position": null,
            "order": null,
            "overflow": null,
            "overflow_x": null,
            "overflow_y": null,
            "padding": null,
            "right": null,
            "top": null,
            "visibility": null,
            "width": null
          }
        },
        "7c7ab1d9ae5d4c45b93019e948765999": {
          "model_module": "@jupyter-widgets/controls",
          "model_name": "DescriptionStyleModel",
          "model_module_version": "1.5.0",
          "state": {
            "_model_module": "@jupyter-widgets/controls",
            "_model_module_version": "1.5.0",
            "_model_name": "DescriptionStyleModel",
            "_view_count": null,
            "_view_module": "@jupyter-widgets/base",
            "_view_module_version": "1.2.0",
            "_view_name": "StyleView",
            "description_width": ""
          }
        },
        "51a19cee10be46b998e80084430c7fa6": {
          "model_module": "@jupyter-widgets/base",
          "model_name": "LayoutModel",
          "model_module_version": "1.2.0",
          "state": {
            "_model_module": "@jupyter-widgets/base",
            "_model_module_version": "1.2.0",
            "_model_name": "LayoutModel",
            "_view_count": null,
            "_view_module": "@jupyter-widgets/base",
            "_view_module_version": "1.2.0",
            "_view_name": "LayoutView",
            "align_content": null,
            "align_items": null,
            "align_self": null,
            "border": null,
            "bottom": null,
            "display": null,
            "flex": null,
            "flex_flow": null,
            "grid_area": null,
            "grid_auto_columns": null,
            "grid_auto_flow": null,
            "grid_auto_rows": null,
            "grid_column": null,
            "grid_gap": null,
            "grid_row": null,
            "grid_template_areas": null,
            "grid_template_columns": null,
            "grid_template_rows": null,
            "height": null,
            "justify_content": null,
            "justify_items": null,
            "left": null,
            "margin": null,
            "max_height": null,
            "max_width": null,
            "min_height": null,
            "min_width": null,
            "object_fit": null,
            "object_position": null,
            "order": null,
            "overflow": null,
            "overflow_x": null,
            "overflow_y": null,
            "padding": null,
            "right": null,
            "top": null,
            "visibility": null,
            "width": null
          }
        },
        "3da21fa5206647efbe110a7bb9996437": {
          "model_module": "@jupyter-widgets/controls",
          "model_name": "ProgressStyleModel",
          "model_module_version": "1.5.0",
          "state": {
            "_model_module": "@jupyter-widgets/controls",
            "_model_module_version": "1.5.0",
            "_model_name": "ProgressStyleModel",
            "_view_count": null,
            "_view_module": "@jupyter-widgets/base",
            "_view_module_version": "1.2.0",
            "_view_name": "StyleView",
            "bar_color": null,
            "description_width": ""
          }
        },
        "18b7c77772bd4280911441b2063e34b9": {
          "model_module": "@jupyter-widgets/base",
          "model_name": "LayoutModel",
          "model_module_version": "1.2.0",
          "state": {
            "_model_module": "@jupyter-widgets/base",
            "_model_module_version": "1.2.0",
            "_model_name": "LayoutModel",
            "_view_count": null,
            "_view_module": "@jupyter-widgets/base",
            "_view_module_version": "1.2.0",
            "_view_name": "LayoutView",
            "align_content": null,
            "align_items": null,
            "align_self": null,
            "border": null,
            "bottom": null,
            "display": null,
            "flex": null,
            "flex_flow": null,
            "grid_area": null,
            "grid_auto_columns": null,
            "grid_auto_flow": null,
            "grid_auto_rows": null,
            "grid_column": null,
            "grid_gap": null,
            "grid_row": null,
            "grid_template_areas": null,
            "grid_template_columns": null,
            "grid_template_rows": null,
            "height": null,
            "justify_content": null,
            "justify_items": null,
            "left": null,
            "margin": null,
            "max_height": null,
            "max_width": null,
            "min_height": null,
            "min_width": null,
            "object_fit": null,
            "object_position": null,
            "order": null,
            "overflow": null,
            "overflow_x": null,
            "overflow_y": null,
            "padding": null,
            "right": null,
            "top": null,
            "visibility": null,
            "width": null
          }
        },
        "c9ac0c4b231f474d9a9d9d2e35397155": {
          "model_module": "@jupyter-widgets/controls",
          "model_name": "DescriptionStyleModel",
          "model_module_version": "1.5.0",
          "state": {
            "_model_module": "@jupyter-widgets/controls",
            "_model_module_version": "1.5.0",
            "_model_name": "DescriptionStyleModel",
            "_view_count": null,
            "_view_module": "@jupyter-widgets/base",
            "_view_module_version": "1.2.0",
            "_view_name": "StyleView",
            "description_width": ""
          }
        },
        "648563990b304ac48431e362e73d183c": {
          "model_module": "@jupyter-widgets/controls",
          "model_name": "HBoxModel",
          "model_module_version": "1.5.0",
          "state": {
            "_dom_classes": [],
            "_model_module": "@jupyter-widgets/controls",
            "_model_module_version": "1.5.0",
            "_model_name": "HBoxModel",
            "_view_count": null,
            "_view_module": "@jupyter-widgets/controls",
            "_view_module_version": "1.5.0",
            "_view_name": "HBoxView",
            "box_style": "",
            "children": [
              "IPY_MODEL_071a45d3eac64d7096a9ec417113e6a7",
              "IPY_MODEL_9d864d3b22694d3abef19affc0ef6d72",
              "IPY_MODEL_edded86b9e2a4d74b7971af6ad140c58"
            ],
            "layout": "IPY_MODEL_fd00b3381db44434a981de1416130678"
          }
        },
        "071a45d3eac64d7096a9ec417113e6a7": {
          "model_module": "@jupyter-widgets/controls",
          "model_name": "HTMLModel",
          "model_module_version": "1.5.0",
          "state": {
            "_dom_classes": [],
            "_model_module": "@jupyter-widgets/controls",
            "_model_module_version": "1.5.0",
            "_model_name": "HTMLModel",
            "_view_count": null,
            "_view_module": "@jupyter-widgets/controls",
            "_view_module_version": "1.5.0",
            "_view_name": "HTMLView",
            "description": "",
            "description_tooltip": null,
            "layout": "IPY_MODEL_379dc4e55f1049bca23d54db8b25ab73",
            "placeholder": "​",
            "style": "IPY_MODEL_7a99244ed88d4600927a57a1b1059bc1",
            "value": "100%"
          }
        },
        "9d864d3b22694d3abef19affc0ef6d72": {
          "model_module": "@jupyter-widgets/controls",
          "model_name": "FloatProgressModel",
          "model_module_version": "1.5.0",
          "state": {
            "_dom_classes": [],
            "_model_module": "@jupyter-widgets/controls",
            "_model_module_version": "1.5.0",
            "_model_name": "FloatProgressModel",
            "_view_count": null,
            "_view_module": "@jupyter-widgets/controls",
            "_view_module_version": "1.5.0",
            "_view_name": "ProgressView",
            "bar_style": "success",
            "description": "",
            "description_tooltip": null,
            "layout": "IPY_MODEL_f7da659d29914b05b6abf26f36b89463",
            "max": 46830571,
            "min": 0,
            "orientation": "horizontal",
            "style": "IPY_MODEL_3ec1d76dd0ef4faaac92908906f3ccf6",
            "value": 46830571
          }
        },
        "edded86b9e2a4d74b7971af6ad140c58": {
          "model_module": "@jupyter-widgets/controls",
          "model_name": "HTMLModel",
          "model_module_version": "1.5.0",
          "state": {
            "_dom_classes": [],
            "_model_module": "@jupyter-widgets/controls",
            "_model_module_version": "1.5.0",
            "_model_name": "HTMLModel",
            "_view_count": null,
            "_view_module": "@jupyter-widgets/controls",
            "_view_module_version": "1.5.0",
            "_view_name": "HTMLView",
            "description": "",
            "description_tooltip": null,
            "layout": "IPY_MODEL_20a00e714dc0425b9c353b4cbe48fb20",
            "placeholder": "​",
            "style": "IPY_MODEL_f7113105f576409181ca1d69bc71ae1a",
            "value": " 44.7M/44.7M [00:01&lt;00:00, 57.4MB/s]"
          }
        },
        "fd00b3381db44434a981de1416130678": {
          "model_module": "@jupyter-widgets/base",
          "model_name": "LayoutModel",
          "model_module_version": "1.2.0",
          "state": {
            "_model_module": "@jupyter-widgets/base",
            "_model_module_version": "1.2.0",
            "_model_name": "LayoutModel",
            "_view_count": null,
            "_view_module": "@jupyter-widgets/base",
            "_view_module_version": "1.2.0",
            "_view_name": "LayoutView",
            "align_content": null,
            "align_items": null,
            "align_self": null,
            "border": null,
            "bottom": null,
            "display": null,
            "flex": null,
            "flex_flow": null,
            "grid_area": null,
            "grid_auto_columns": null,
            "grid_auto_flow": null,
            "grid_auto_rows": null,
            "grid_column": null,
            "grid_gap": null,
            "grid_row": null,
            "grid_template_areas": null,
            "grid_template_columns": null,
            "grid_template_rows": null,
            "height": null,
            "justify_content": null,
            "justify_items": null,
            "left": null,
            "margin": null,
            "max_height": null,
            "max_width": null,
            "min_height": null,
            "min_width": null,
            "object_fit": null,
            "object_position": null,
            "order": null,
            "overflow": null,
            "overflow_x": null,
            "overflow_y": null,
            "padding": null,
            "right": null,
            "top": null,
            "visibility": null,
            "width": null
          }
        },
        "379dc4e55f1049bca23d54db8b25ab73": {
          "model_module": "@jupyter-widgets/base",
          "model_name": "LayoutModel",
          "model_module_version": "1.2.0",
          "state": {
            "_model_module": "@jupyter-widgets/base",
            "_model_module_version": "1.2.0",
            "_model_name": "LayoutModel",
            "_view_count": null,
            "_view_module": "@jupyter-widgets/base",
            "_view_module_version": "1.2.0",
            "_view_name": "LayoutView",
            "align_content": null,
            "align_items": null,
            "align_self": null,
            "border": null,
            "bottom": null,
            "display": null,
            "flex": null,
            "flex_flow": null,
            "grid_area": null,
            "grid_auto_columns": null,
            "grid_auto_flow": null,
            "grid_auto_rows": null,
            "grid_column": null,
            "grid_gap": null,
            "grid_row": null,
            "grid_template_areas": null,
            "grid_template_columns": null,
            "grid_template_rows": null,
            "height": null,
            "justify_content": null,
            "justify_items": null,
            "left": null,
            "margin": null,
            "max_height": null,
            "max_width": null,
            "min_height": null,
            "min_width": null,
            "object_fit": null,
            "object_position": null,
            "order": null,
            "overflow": null,
            "overflow_x": null,
            "overflow_y": null,
            "padding": null,
            "right": null,
            "top": null,
            "visibility": null,
            "width": null
          }
        },
        "7a99244ed88d4600927a57a1b1059bc1": {
          "model_module": "@jupyter-widgets/controls",
          "model_name": "DescriptionStyleModel",
          "model_module_version": "1.5.0",
          "state": {
            "_model_module": "@jupyter-widgets/controls",
            "_model_module_version": "1.5.0",
            "_model_name": "DescriptionStyleModel",
            "_view_count": null,
            "_view_module": "@jupyter-widgets/base",
            "_view_module_version": "1.2.0",
            "_view_name": "StyleView",
            "description_width": ""
          }
        },
        "f7da659d29914b05b6abf26f36b89463": {
          "model_module": "@jupyter-widgets/base",
          "model_name": "LayoutModel",
          "model_module_version": "1.2.0",
          "state": {
            "_model_module": "@jupyter-widgets/base",
            "_model_module_version": "1.2.0",
            "_model_name": "LayoutModel",
            "_view_count": null,
            "_view_module": "@jupyter-widgets/base",
            "_view_module_version": "1.2.0",
            "_view_name": "LayoutView",
            "align_content": null,
            "align_items": null,
            "align_self": null,
            "border": null,
            "bottom": null,
            "display": null,
            "flex": null,
            "flex_flow": null,
            "grid_area": null,
            "grid_auto_columns": null,
            "grid_auto_flow": null,
            "grid_auto_rows": null,
            "grid_column": null,
            "grid_gap": null,
            "grid_row": null,
            "grid_template_areas": null,
            "grid_template_columns": null,
            "grid_template_rows": null,
            "height": null,
            "justify_content": null,
            "justify_items": null,
            "left": null,
            "margin": null,
            "max_height": null,
            "max_width": null,
            "min_height": null,
            "min_width": null,
            "object_fit": null,
            "object_position": null,
            "order": null,
            "overflow": null,
            "overflow_x": null,
            "overflow_y": null,
            "padding": null,
            "right": null,
            "top": null,
            "visibility": null,
            "width": null
          }
        },
        "3ec1d76dd0ef4faaac92908906f3ccf6": {
          "model_module": "@jupyter-widgets/controls",
          "model_name": "ProgressStyleModel",
          "model_module_version": "1.5.0",
          "state": {
            "_model_module": "@jupyter-widgets/controls",
            "_model_module_version": "1.5.0",
            "_model_name": "ProgressStyleModel",
            "_view_count": null,
            "_view_module": "@jupyter-widgets/base",
            "_view_module_version": "1.2.0",
            "_view_name": "StyleView",
            "bar_color": null,
            "description_width": ""
          }
        },
        "20a00e714dc0425b9c353b4cbe48fb20": {
          "model_module": "@jupyter-widgets/base",
          "model_name": "LayoutModel",
          "model_module_version": "1.2.0",
          "state": {
            "_model_module": "@jupyter-widgets/base",
            "_model_module_version": "1.2.0",
            "_model_name": "LayoutModel",
            "_view_count": null,
            "_view_module": "@jupyter-widgets/base",
            "_view_module_version": "1.2.0",
            "_view_name": "LayoutView",
            "align_content": null,
            "align_items": null,
            "align_self": null,
            "border": null,
            "bottom": null,
            "display": null,
            "flex": null,
            "flex_flow": null,
            "grid_area": null,
            "grid_auto_columns": null,
            "grid_auto_flow": null,
            "grid_auto_rows": null,
            "grid_column": null,
            "grid_gap": null,
            "grid_row": null,
            "grid_template_areas": null,
            "grid_template_columns": null,
            "grid_template_rows": null,
            "height": null,
            "justify_content": null,
            "justify_items": null,
            "left": null,
            "margin": null,
            "max_height": null,
            "max_width": null,
            "min_height": null,
            "min_width": null,
            "object_fit": null,
            "object_position": null,
            "order": null,
            "overflow": null,
            "overflow_x": null,
            "overflow_y": null,
            "padding": null,
            "right": null,
            "top": null,
            "visibility": null,
            "width": null
          }
        },
        "f7113105f576409181ca1d69bc71ae1a": {
          "model_module": "@jupyter-widgets/controls",
          "model_name": "DescriptionStyleModel",
          "model_module_version": "1.5.0",
          "state": {
            "_model_module": "@jupyter-widgets/controls",
            "_model_module_version": "1.5.0",
            "_model_name": "DescriptionStyleModel",
            "_view_count": null,
            "_view_module": "@jupyter-widgets/base",
            "_view_module_version": "1.2.0",
            "_view_name": "StyleView",
            "description_width": ""
          }
        }
      }
    }
  },
  "cells": [
    {
      "cell_type": "markdown",
      "metadata": {
        "id": "view-in-github",
        "colab_type": "text"
      },
      "source": [
        "<a href=\"https://colab.research.google.com/github/nuyhc/RhythmStudy/blob/main/1.%20PyTorch/PTM_1_%EB%B0%95%EC%A7%80%ED%98%84.ipynb\" target=\"_parent\"><img src=\"https://colab.research.google.com/assets/colab-badge.svg\" alt=\"Open In Colab\"/></a>"
      ]
    },
    {
      "cell_type": "code",
      "source": [
        "!git clone https://github.com/deep-learning-with-pytorch/dlwpt-code"
      ],
      "metadata": {
        "colab": {
          "base_uri": "https://localhost:8080/"
        },
        "id": "Hn1ee0HFZxbM",
        "outputId": "169b60cf-78e1-4c0e-e9b0-28a05d66e3ed"
      },
      "execution_count": 3,
      "outputs": [
        {
          "output_type": "stream",
          "name": "stdout",
          "text": [
            "Cloning into 'dlwpt-code'...\n",
            "remote: Enumerating objects: 703, done.\u001b[K\n",
            "remote: Total 703 (delta 0), reused 0 (delta 0), pack-reused 703\u001b[K\n",
            "Receiving objects: 100% (703/703), 176.00 MiB | 31.04 MiB/s, done.\n",
            "Resolving deltas: 100% (309/309), done.\n",
            "Checking out files: 100% (228/228), done.\n"
          ]
        }
      ]
    },
    {
      "cell_type": "markdown",
      "source": [
        "# [PTM] 1장. 딥러닝과 파이토치 라이브러리 소개"
      ],
      "metadata": {
        "id": "4VtQHIvVPj8W"
      }
    },
    {
      "cell_type": "markdown",
      "source": [
        "1. 파이썬을 실행해 프롬프트를 띄어보자  \n",
        "    a. 어떤 버전을 사용 중인가?  \n",
        "    b. import torch가 되는가? 어떤 버전의 파이토치를 설치했는가?  \n",
        "    c. torch.cuda.is_available() 실행 결과는? 사용하는 하드웨어에 맞는 내용이 출력되는가?  \n",
        "\n",
        "2. 주피터 노트북 서버를 띄어보자  \n",
        "    a. 주피터가 사용하는 파이썬 버전은 무엇인가?  \n",
        "    b. 주피터가 사용하는 torch 라이브러리 경로와 터미널을 띄워 import한 경로가 같은가?  "
      ],
      "metadata": {
        "id": "8-jULAaKPpXz"
      }
    },
    {
      "cell_type": "code",
      "source": [
        "# 1. 파이썬을 실행해 프롬프트를 띄어보자\n",
        "# a. 어떤 버전을 사용 중인가?\n",
        "\n",
        "!python3 --version"
      ],
      "metadata": {
        "colab": {
          "base_uri": "https://localhost:8080/"
        },
        "id": "2UwQeuZpPmH-",
        "outputId": "4b9dc3c8-8abf-42c7-9879-345cb76f792a"
      },
      "execution_count": null,
      "outputs": [
        {
          "output_type": "stream",
          "name": "stdout",
          "text": [
            "Python 3.8.15\n"
          ]
        }
      ]
    },
    {
      "cell_type": "code",
      "source": [
        "# b. import torch가 되는가? 어떤 버전의 파이토치를 설치했는가?\n",
        "\n",
        "import torch\n",
        "\n",
        "print(torch.__version__)"
      ],
      "metadata": {
        "colab": {
          "base_uri": "https://localhost:8080/"
        },
        "id": "NKfyK0rEQqoV",
        "outputId": "0b1d0c80-9134-4047-9870-69ceb0471502"
      },
      "execution_count": null,
      "outputs": [
        {
          "output_type": "stream",
          "name": "stdout",
          "text": [
            "1.12.1+cu113\n"
          ]
        }
      ]
    },
    {
      "cell_type": "code",
      "source": [
        "# c. torch.cuda.is_available() 실행 결과는? 사용하는 하드웨어에 맞는 내용이 출력되는가?\n",
        "# torch.cuda.is_available()\n",
        "\n",
        "torch.device(\"cuda\") if torch.cuda.is_available() else torch.device(\"cpu\")"
      ],
      "metadata": {
        "colab": {
          "base_uri": "https://localhost:8080/"
        },
        "id": "qiaQgSZ-R7Z8",
        "outputId": "af55b275-1ab7-48e8-e577-956568ef7493"
      },
      "execution_count": null,
      "outputs": [
        {
          "output_type": "execute_result",
          "data": {
            "text/plain": [
              "device(type='cuda')"
            ]
          },
          "metadata": {},
          "execution_count": 4
        }
      ]
    },
    {
      "cell_type": "code",
      "source": [
        "# 2. 주피터 노트북 서버를 띄어보자\n",
        "# a. 주피터가 사용하는 파이썬 버전은 무엇인가?\n",
        "\n",
        "!jupyter --version"
      ],
      "metadata": {
        "colab": {
          "base_uri": "https://localhost:8080/"
        },
        "id": "SsTQOJWPSY5C",
        "outputId": "157ca442-7927-4f64-ad33-42b6cd4753c4"
      },
      "execution_count": null,
      "outputs": [
        {
          "output_type": "stream",
          "name": "stdout",
          "text": [
            "Selected Jupyter core packages...\n",
            "IPython          : 7.9.0\n",
            "ipykernel        : 5.3.4\n",
            "ipywidgets       : 7.7.1\n",
            "jupyter_client   : 6.1.12\n",
            "jupyter_core     : 4.11.2\n",
            "jupyter_server   : not installed\n",
            "jupyterlab       : not installed\n",
            "nbclient         : not installed\n",
            "nbconvert        : 5.6.1\n",
            "nbformat         : 5.7.0\n",
            "notebook         : 5.7.16\n",
            "qtconsole        : not installed\n",
            "traitlets        : 5.1.1\n"
          ]
        }
      ]
    },
    {
      "cell_type": "code",
      "source": [
        "# b. 주피터가 사용하는 torch 라이브러리 경로와 터미널을 띄워 import한 경로가 같은가?\n"
      ],
      "metadata": {
        "id": "f3YCZg_-WTF5"
      },
      "execution_count": null,
      "outputs": []
    },
    {
      "cell_type": "markdown",
      "source": [
        "#[PTM] 2장. 사전 훈련된 신경망"
      ],
      "metadata": {
        "id": "7yqO1OKSWoTB"
      }
    },
    {
      "cell_type": "markdown",
      "source": [
        "1. 말-얼룩말 모델에 골든 리트리버 이미지를 넣어보자.  \n",
        "    a. 이미지를 어떻게 준비해야 할까?  \n",
        "    b. 출력 결과는 어떤가?  \n",
        "\n",
        "2. hubconf.py 파일이 있는 깃헙 프로젝트 저장소를 찾아라.  \n",
        "    a. 얼마나 많은 저장소가 나오는가?  \n",
        "    b. hubconf.py가 있는 재미있는 프로젝트를 찾아보라. 문서에서 프로젝트 목표를 이해할 수 있는가?  \n",
        "    c. 프로젝트를 북마크해두고 이 책을 다 읽은 후 다시 방문해보라. 세부 구현을 이해할 수 있는가?\n"
      ],
      "metadata": {
        "id": "3nU5D9HHm_Hj"
      }
    },
    {
      "cell_type": "code",
      "source": [
        "# 1. 말-얼룩말 모델에 골든 리트리버 이미지를 넣어보자.\n",
        "# a. 이미지를 어떻게 준비해야 할까?\n",
        "from PIL import Image\n",
        "import torch\n",
        "import torch.nn as nn\n",
        "from torchvision import transforms\n",
        "from torchvision import models\n",
        "\n",
        "class ResNetBlock(nn.Module): # <1>\n",
        "\n",
        "    def __init__(self, dim):\n",
        "        super(ResNetBlock, self).__init__()\n",
        "        self.conv_block = self.build_conv_block(dim)\n",
        "\n",
        "    def build_conv_block(self, dim):\n",
        "        conv_block = []\n",
        "\n",
        "        conv_block += [nn.ReflectionPad2d(1)]\n",
        "\n",
        "        conv_block += [nn.Conv2d(dim, dim, kernel_size=3, padding=0, bias=True),\n",
        "                       nn.InstanceNorm2d(dim),\n",
        "                       nn.ReLU(True)]\n",
        "\n",
        "        conv_block += [nn.ReflectionPad2d(1)]\n",
        "\n",
        "        conv_block += [nn.Conv2d(dim, dim, kernel_size=3, padding=0, bias=True),\n",
        "                       nn.InstanceNorm2d(dim)]\n",
        "\n",
        "        return nn.Sequential(*conv_block)\n",
        "\n",
        "    def forward(self, x):\n",
        "        out = x + self.conv_block(x) # <2>\n",
        "        return out\n",
        "\n",
        "\n",
        "class ResNetGenerator(nn.Module):\n",
        "\n",
        "    def __init__(self, input_nc=3, output_nc=3, ngf=64, n_blocks=9): # <3> \n",
        "\n",
        "        assert(n_blocks >= 0)\n",
        "        super(ResNetGenerator, self).__init__()\n",
        "\n",
        "        self.input_nc = input_nc\n",
        "        self.output_nc = output_nc\n",
        "        self.ngf = ngf\n",
        "\n",
        "        model = [nn.ReflectionPad2d(3),\n",
        "                 nn.Conv2d(input_nc, ngf, kernel_size=7, padding=0, bias=True),\n",
        "                 nn.InstanceNorm2d(ngf),\n",
        "                 nn.ReLU(True)]\n",
        "\n",
        "        n_downsampling = 2\n",
        "        for i in range(n_downsampling):\n",
        "            mult = 2**i\n",
        "            model += [nn.Conv2d(ngf * mult, ngf * mult * 2, kernel_size=3,\n",
        "                                stride=2, padding=1, bias=True),\n",
        "                      nn.InstanceNorm2d(ngf * mult * 2),\n",
        "                      nn.ReLU(True)]\n",
        "\n",
        "        mult = 2**n_downsampling\n",
        "        for i in range(n_blocks):\n",
        "            model += [ResNetBlock(ngf * mult)]\n",
        "\n",
        "        for i in range(n_downsampling):\n",
        "            mult = 2**(n_downsampling - i)\n",
        "            model += [nn.ConvTranspose2d(ngf * mult, int(ngf * mult / 2),\n",
        "                                         kernel_size=3, stride=2,\n",
        "                                         padding=1, output_padding=1,\n",
        "                                         bias=True),\n",
        "                      nn.InstanceNorm2d(int(ngf * mult / 2)),\n",
        "                      nn.ReLU(True)]\n",
        "\n",
        "        model += [nn.ReflectionPad2d(3)]\n",
        "        model += [nn.Conv2d(ngf, output_nc, kernel_size=7, padding=0)]\n",
        "        model += [nn.Tanh()]\n",
        "\n",
        "        self.model = nn.Sequential(*model)\n",
        "\n",
        "    def forward(self, input): # <3>\n",
        "        return self.model(input)\n",
        "\n",
        "netG = ResNetGenerator()\n",
        "\n",
        "model_path = '/content/dlwpt-code/data/p1ch2/horse2zebra_0.4.0.pth'\n",
        "model_data = torch.load(model_path)\n",
        "netG.load_state_dict(model_data)\n",
        "\n",
        "netG.eval()\n",
        "\n",
        "preprocess = transforms.Compose([transforms.Resize(256),\n",
        "                                 transforms.ToTensor()])\n",
        "\n",
        "img = Image.open('/content/dlwpt-code/data/p1ch2/bobby.jpg')\n",
        "\n",
        "img_t = preprocess(img)\n",
        "batch_t = torch.unsqueeze(img_t, 0)\n",
        "\n",
        "batch_out = netG(batch_t)\n",
        "batch_out\n",
        "\n",
        "out_t = (batch_out.data.squeeze() + 1.0) / 2.0\n",
        "out_img = transforms.ToPILImage()(out_t)\n",
        "# out_img.save('../data/p1ch2/zebra.jpg')\n",
        "\n",
        "\n",
        "# b. 출력 결과는 어떤가?\n",
        "out_img"
      ],
      "metadata": {
        "colab": {
          "base_uri": "https://localhost:8080/",
          "height": 273
        },
        "id": "ED400lKym-Pj",
        "outputId": "0d1ebea4-3f52-4737-9163-c284f5b75feb"
      },
      "execution_count": 14,
      "outputs": [
        {
          "output_type": "execute_result",
          "data": {
            "text/plain": [
              "<PIL.Image.Image image mode=RGB size=456x256 at 0x7F6EB108BAF0>"
            ],
            "image/png": "[encoded data removed]"
          },
          "metadata": {},
          "execution_count": 14
        }
      ]
    },
    {
      "cell_type": "code",
      "source": [
        "# 사전 훈련된 모델 불러오기\n",
        "\n",
        "from torchvision import models\n",
        "\n",
        "dir(models)"
      ],
      "metadata": {
        "id": "VBdyNE6QWtvM"
      },
      "execution_count": null,
      "outputs": []
    },
    {
      "cell_type": "code",
      "source": [
        "alexnet = models.AlexNet()\n",
        "alexnet"
      ],
      "metadata": {
        "colab": {
          "base_uri": "https://localhost:8080/"
        },
        "id": "rR7ZU_HsW8iL",
        "outputId": "06d15dd3-d19f-4b28-f89c-d79f3655229e"
      },
      "execution_count": null,
      "outputs": [
        {
          "output_type": "execute_result",
          "data": {
            "text/plain": [
              "AlexNet(\n",
              "  (features): Sequential(\n",
              "    (0): Conv2d(3, 64, kernel_size=(11, 11), stride=(4, 4), padding=(2, 2))\n",
              "    (1): ReLU(inplace=True)\n",
              "    (2): MaxPool2d(kernel_size=3, stride=2, padding=0, dilation=1, ceil_mode=False)\n",
              "    (3): Conv2d(64, 192, kernel_size=(5, 5), stride=(1, 1), padding=(2, 2))\n",
              "    (4): ReLU(inplace=True)\n",
              "    (5): MaxPool2d(kernel_size=3, stride=2, padding=0, dilation=1, ceil_mode=False)\n",
              "    (6): Conv2d(192, 384, kernel_size=(3, 3), stride=(1, 1), padding=(1, 1))\n",
              "    (7): ReLU(inplace=True)\n",
              "    (8): Conv2d(384, 256, kernel_size=(3, 3), stride=(1, 1), padding=(1, 1))\n",
              "    (9): ReLU(inplace=True)\n",
              "    (10): Conv2d(256, 256, kernel_size=(3, 3), stride=(1, 1), padding=(1, 1))\n",
              "    (11): ReLU(inplace=True)\n",
              "    (12): MaxPool2d(kernel_size=3, stride=2, padding=0, dilation=1, ceil_mode=False)\n",
              "  )\n",
              "  (avgpool): AdaptiveAvgPool2d(output_size=(6, 6))\n",
              "  (classifier): Sequential(\n",
              "    (0): Dropout(p=0.5, inplace=False)\n",
              "    (1): Linear(in_features=9216, out_features=4096, bias=True)\n",
              "    (2): ReLU(inplace=True)\n",
              "    (3): Dropout(p=0.5, inplace=False)\n",
              "    (4): Linear(in_features=4096, out_features=4096, bias=True)\n",
              "    (5): ReLU(inplace=True)\n",
              "    (6): Linear(in_features=4096, out_features=1000, bias=True)\n",
              "  )\n",
              ")"
            ]
          },
          "metadata": {},
          "execution_count": 7
        }
      ]
    },
    {
      "cell_type": "code",
      "source": [
        "resnet = models.resnet101(pretrained=True)\n",
        "resnet"
      ],
      "metadata": {
        "colab": {
          "base_uri": "https://localhost:8080/",
          "height": 1000,
          "referenced_widgets": [
            "978307be5b1c4f01b36e6df037e2bac9",
            "0b84cdbb33f8451d8e9c0318739c6681",
            "1ad652d8316c4018a4d8cc7e60b1d030",
            "b83f093cd28946a7b70cb9c76c60bf40",
            "cf38149d2ee243c784b6b46701444ef2",
            "88e3b606e8c54163840b716ba3edcfc8",
            "7c7ab1d9ae5d4c45b93019e948765999",
            "51a19cee10be46b998e80084430c7fa6",
            "3da21fa5206647efbe110a7bb9996437",
            "18b7c77772bd4280911441b2063e34b9",
            "c9ac0c4b231f474d9a9d9d2e35397155"
          ]
        },
        "id": "QTgKX_ewbPFp",
        "outputId": "3f54f627-bfca-48d6-fb41-05dbbaed8916"
      },
      "execution_count": null,
      "outputs": [
        {
          "output_type": "stream",
          "name": "stderr",
          "text": [
            "/usr/local/lib/python3.8/dist-packages/torchvision/models/_utils.py:208: UserWarning: The parameter 'pretrained' is deprecated since 0.13 and may be removed in the future, please use 'weights' instead.\n",
            "  warnings.warn(\n",
            "/usr/local/lib/python3.8/dist-packages/torchvision/models/_utils.py:223: UserWarning: Arguments other than a weight enum or `None` for 'weights' are deprecated since 0.13 and may be removed in the future. The current behavior is equivalent to passing `weights=ResNet101_Weights.IMAGENET1K_V1`. You can also use `weights=ResNet101_Weights.DEFAULT` to get the most up-to-date weights.\n",
            "  warnings.warn(msg)\n",
            "Downloading: \"https://download.pytorch.org/models/resnet101-63fe2227.pth\" to /root/.cache/torch/hub/checkpoints/resnet101-63fe2227.pth\n"
          ]
        },
        {
          "output_type": "display_data",
          "data": {
            "text/plain": [
              "  0%|          | 0.00/171M [00:00<?, ?B/s]"
            ],
            "application/vnd.jupyter.widget-view+json": {
              "version_major": 2,
              "version_minor": 0,
              "model_id": "978307be5b1c4f01b36e6df037e2bac9"
            }
          },
          "metadata": {}
        },
        {
          "output_type": "execute_result",
          "data": {
            "text/plain": [
              "ResNet(\n",
              "  (conv1): Conv2d(3, 64, kernel_size=(7, 7), stride=(2, 2), padding=(3, 3), bias=False)\n",
              "  (bn1): BatchNorm2d(64, eps=1e-05, momentum=0.1, affine=True, track_running_stats=True)\n",
              "  (relu): ReLU(inplace=True)\n",
              "  (maxpool): MaxPool2d(kernel_size=3, stride=2, padding=1, dilation=1, ceil_mode=False)\n",
              "  (layer1): Sequential(\n",
              "    (0): Bottleneck(\n",
              "      (conv1): Conv2d(64, 64, kernel_size=(1, 1), stride=(1, 1), bias=False)\n",
              "      (bn1): BatchNorm2d(64, eps=1e-05, momentum=0.1, affine=True, track_running_stats=True)\n",
              "      (conv2): Conv2d(64, 64, kernel_size=(3, 3), stride=(1, 1), padding=(1, 1), bias=False)\n",
              "      (bn2): BatchNorm2d(64, eps=1e-05, momentum=0.1, affine=True, track_running_stats=True)\n",
              "      (conv3): Conv2d(64, 256, kernel_size=(1, 1), stride=(1, 1), bias=False)\n",
              "      (bn3): BatchNorm2d(256, eps=1e-05, momentum=0.1, affine=True, track_running_stats=True)\n",
              "      (relu): ReLU(inplace=True)\n",
              "      (downsample): Sequential(\n",
              "        (0): Conv2d(64, 256, kernel_size=(1, 1), stride=(1, 1), bias=False)\n",
              "        (1): BatchNorm2d(256, eps=1e-05, momentum=0.1, affine=True, track_running_stats=True)\n",
              "      )\n",
              "    )\n",
              "    (1): Bottleneck(\n",
              "      (conv1): Conv2d(256, 64, kernel_size=(1, 1), stride=(1, 1), bias=False)\n",
              "      (bn1): BatchNorm2d(64, eps=1e-05, momentum=0.1, affine=True, track_running_stats=True)\n",
              "      (conv2): Conv2d(64, 64, kernel_size=(3, 3), stride=(1, 1), padding=(1, 1), bias=False)\n",
              "      (bn2): BatchNorm2d(64, eps=1e-05, momentum=0.1, affine=True, track_running_stats=True)\n",
              "      (conv3): Conv2d(64, 256, kernel_size=(1, 1), stride=(1, 1), bias=False)\n",
              "      (bn3): BatchNorm2d(256, eps=1e-05, momentum=0.1, affine=True, track_running_stats=True)\n",
              "      (relu): ReLU(inplace=True)\n",
              "    )\n",
              "    (2): Bottleneck(\n",
              "      (conv1): Conv2d(256, 64, kernel_size=(1, 1), stride=(1, 1), bias=False)\n",
              "      (bn1): BatchNorm2d(64, eps=1e-05, momentum=0.1, affine=True, track_running_stats=True)\n",
              "      (conv2): Conv2d(64, 64, kernel_size=(3, 3), stride=(1, 1), padding=(1, 1), bias=False)\n",
              "      (bn2): BatchNorm2d(64, eps=1e-05, momentum=0.1, affine=True, track_running_stats=True)\n",
              "      (conv3): Conv2d(64, 256, kernel_size=(1, 1), stride=(1, 1), bias=False)\n",
              "      (bn3): BatchNorm2d(256, eps=1e-05, momentum=0.1, affine=True, track_running_stats=True)\n",
              "      (relu): ReLU(inplace=True)\n",
              "    )\n",
              "  )\n",
              "  (layer2): Sequential(\n",
              "    (0): Bottleneck(\n",
              "      (conv1): Conv2d(256, 128, kernel_size=(1, 1), stride=(1, 1), bias=False)\n",
              "      (bn1): BatchNorm2d(128, eps=1e-05, momentum=0.1, affine=True, track_running_stats=True)\n",
              "      (conv2): Conv2d(128, 128, kernel_size=(3, 3), stride=(2, 2), padding=(1, 1), bias=False)\n",
              "      (bn2): BatchNorm2d(128, eps=1e-05, momentum=0.1, affine=True, track_running_stats=True)\n",
              "      (conv3): Conv2d(128, 512, kernel_size=(1, 1), stride=(1, 1), bias=False)\n",
              "      (bn3): BatchNorm2d(512, eps=1e-05, momentum=0.1, affine=True, track_running_stats=True)\n",
              "      (relu): ReLU(inplace=True)\n",
              "      (downsample): Sequential(\n",
              "        (0): Conv2d(256, 512, kernel_size=(1, 1), stride=(2, 2), bias=False)\n",
              "        (1): BatchNorm2d(512, eps=1e-05, momentum=0.1, affine=True, track_running_stats=True)\n",
              "      )\n",
              "    )\n",
              "    (1): Bottleneck(\n",
              "      (conv1): Conv2d(512, 128, kernel_size=(1, 1), stride=(1, 1), bias=False)\n",
              "      (bn1): BatchNorm2d(128, eps=1e-05, momentum=0.1, affine=True, track_running_stats=True)\n",
              "      (conv2): Conv2d(128, 128, kernel_size=(3, 3), stride=(1, 1), padding=(1, 1), bias=False)\n",
              "      (bn2): BatchNorm2d(128, eps=1e-05, momentum=0.1, affine=True, track_running_stats=True)\n",
              "      (conv3): Conv2d(128, 512, kernel_size=(1, 1), stride=(1, 1), bias=False)\n",
              "      (bn3): BatchNorm2d(512, eps=1e-05, momentum=0.1, affine=True, track_running_stats=True)\n",
              "      (relu): ReLU(inplace=True)\n",
              "    )\n",
              "    (2): Bottleneck(\n",
              "      (conv1): Conv2d(512, 128, kernel_size=(1, 1), stride=(1, 1), bias=False)\n",
              "      (bn1): BatchNorm2d(128, eps=1e-05, momentum=0.1, affine=True, track_running_stats=True)\n",
              "      (conv2): Conv2d(128, 128, kernel_size=(3, 3), stride=(1, 1), padding=(1, 1), bias=False)\n",
              "      (bn2): BatchNorm2d(128, eps=1e-05, momentum=0.1, affine=True, track_running_stats=True)\n",
              "      (conv3): Conv2d(128, 512, kernel_size=(1, 1), stride=(1, 1), bias=False)\n",
              "      (bn3): BatchNorm2d(512, eps=1e-05, momentum=0.1, affine=True, track_running_stats=True)\n",
              "      (relu): ReLU(inplace=True)\n",
              "    )\n",
              "    (3): Bottleneck(\n",
              "      (conv1): Conv2d(512, 128, kernel_size=(1, 1), stride=(1, 1), bias=False)\n",
              "      (bn1): BatchNorm2d(128, eps=1e-05, momentum=0.1, affine=True, track_running_stats=True)\n",
              "      (conv2): Conv2d(128, 128, kernel_size=(3, 3), stride=(1, 1), padding=(1, 1), bias=False)\n",
              "      (bn2): BatchNorm2d(128, eps=1e-05, momentum=0.1, affine=True, track_running_stats=True)\n",
              "      (conv3): Conv2d(128, 512, kernel_size=(1, 1), stride=(1, 1), bias=False)\n",
              "      (bn3): BatchNorm2d(512, eps=1e-05, momentum=0.1, affine=True, track_running_stats=True)\n",
              "      (relu): ReLU(inplace=True)\n",
              "    )\n",
              "  )\n",
              "  (layer3): Sequential(\n",
              "    (0): Bottleneck(\n",
              "      (conv1): Conv2d(512, 256, kernel_size=(1, 1), stride=(1, 1), bias=False)\n",
              "      (bn1): BatchNorm2d(256, eps=1e-05, momentum=0.1, affine=True, track_running_stats=True)\n",
              "      (conv2): Conv2d(256, 256, kernel_size=(3, 3), stride=(2, 2), padding=(1, 1), bias=False)\n",
              "      (bn2): BatchNorm2d(256, eps=1e-05, momentum=0.1, affine=True, track_running_stats=True)\n",
              "      (conv3): Conv2d(256, 1024, kernel_size=(1, 1), stride=(1, 1), bias=False)\n",
              "      (bn3): BatchNorm2d(1024, eps=1e-05, momentum=0.1, affine=True, track_running_stats=True)\n",
              "      (relu): ReLU(inplace=True)\n",
              "      (downsample): Sequential(\n",
              "        (0): Conv2d(512, 1024, kernel_size=(1, 1), stride=(2, 2), bias=False)\n",
              "        (1): BatchNorm2d(1024, eps=1e-05, momentum=0.1, affine=True, track_running_stats=True)\n",
              "      )\n",
              "    )\n",
              "    (1): Bottleneck(\n",
              "      (conv1): Conv2d(1024, 256, kernel_size=(1, 1), stride=(1, 1), bias=False)\n",
              "      (bn1): BatchNorm2d(256, eps=1e-05, momentum=0.1, affine=True, track_running_stats=True)\n",
              "      (conv2): Conv2d(256, 256, kernel_size=(3, 3), stride=(1, 1), padding=(1, 1), bias=False)\n",
              "      (bn2): BatchNorm2d(256, eps=1e-05, momentum=0.1, affine=True, track_running_stats=True)\n",
              "      (conv3): Conv2d(256, 1024, kernel_size=(1, 1), stride=(1, 1), bias=False)\n",
              "      (bn3): BatchNorm2d(1024, eps=1e-05, momentum=0.1, affine=True, track_running_stats=True)\n",
              "      (relu): ReLU(inplace=True)\n",
              "    )\n",
              "    (2): Bottleneck(\n",
              "      (conv1): Conv2d(1024, 256, kernel_size=(1, 1), stride=(1, 1), bias=False)\n",
              "      (bn1): BatchNorm2d(256, eps=1e-05, momentum=0.1, affine=True, track_running_stats=True)\n",
              "      (conv2): Conv2d(256, 256, kernel_size=(3, 3), stride=(1, 1), padding=(1, 1), bias=False)\n",
              "      (bn2): BatchNorm2d(256, eps=1e-05, momentum=0.1, affine=True, track_running_stats=True)\n",
              "      (conv3): Conv2d(256, 1024, kernel_size=(1, 1), stride=(1, 1), bias=False)\n",
              "      (bn3): BatchNorm2d(1024, eps=1e-05, momentum=0.1, affine=True, track_running_stats=True)\n",
              "      (relu): ReLU(inplace=True)\n",
              "    )\n",
              "    (3): Bottleneck(\n",
              "      (conv1): Conv2d(1024, 256, kernel_size=(1, 1), stride=(1, 1), bias=False)\n",
              "      (bn1): BatchNorm2d(256, eps=1e-05, momentum=0.1, affine=True, track_running_stats=True)\n",
              "      (conv2): Conv2d(256, 256, kernel_size=(3, 3), stride=(1, 1), padding=(1, 1), bias=False)\n",
              "      (bn2): BatchNorm2d(256, eps=1e-05, momentum=0.1, affine=True, track_running_stats=True)\n",
              "      (conv3): Conv2d(256, 1024, kernel_size=(1, 1), stride=(1, 1), bias=False)\n",
              "      (bn3): BatchNorm2d(1024, eps=1e-05, momentum=0.1, affine=True, track_running_stats=True)\n",
              "      (relu): ReLU(inplace=True)\n",
              "    )\n",
              "    (4): Bottleneck(\n",
              "      (conv1): Conv2d(1024, 256, kernel_size=(1, 1), stride=(1, 1), bias=False)\n",
              "      (bn1): BatchNorm2d(256, eps=1e-05, momentum=0.1, affine=True, track_running_stats=True)\n",
              "      (conv2): Conv2d(256, 256, kernel_size=(3, 3), stride=(1, 1), padding=(1, 1), bias=False)\n",
              "      (bn2): BatchNorm2d(256, eps=1e-05, momentum=0.1, affine=True, track_running_stats=True)\n",
              "      (conv3): Conv2d(256, 1024, kernel_size=(1, 1), stride=(1, 1), bias=False)\n",
              "      (bn3): BatchNorm2d(1024, eps=1e-05, momentum=0.1, affine=True, track_running_stats=True)\n",
              "      (relu): ReLU(inplace=True)\n",
              "    )\n",
              "    (5): Bottleneck(\n",
              "      (conv1): Conv2d(1024, 256, kernel_size=(1, 1), stride=(1, 1), bias=False)\n",
              "      (bn1): BatchNorm2d(256, eps=1e-05, momentum=0.1, affine=True, track_running_stats=True)\n",
              "      (conv2): Conv2d(256, 256, kernel_size=(3, 3), stride=(1, 1), padding=(1, 1), bias=False)\n",
              "      (bn2): BatchNorm2d(256, eps=1e-05, momentum=0.1, affine=True, track_running_stats=True)\n",
              "      (conv3): Conv2d(256, 1024, kernel_size=(1, 1), stride=(1, 1), bias=False)\n",
              "      (bn3): BatchNorm2d(1024, eps=1e-05, momentum=0.1, affine=True, track_running_stats=True)\n",
              "      (relu): ReLU(inplace=True)\n",
              "    )\n",
              "    (6): Bottleneck(\n",
              "      (conv1): Conv2d(1024, 256, kernel_size=(1, 1), stride=(1, 1), bias=False)\n",
              "      (bn1): BatchNorm2d(256, eps=1e-05, momentum=0.1, affine=True, track_running_stats=True)\n",
              "      (conv2): Conv2d(256, 256, kernel_size=(3, 3), stride=(1, 1), padding=(1, 1), bias=False)\n",
              "      (bn2): BatchNorm2d(256, eps=1e-05, momentum=0.1, affine=True, track_running_stats=True)\n",
              "      (conv3): Conv2d(256, 1024, kernel_size=(1, 1), stride=(1, 1), bias=False)\n",
              "      (bn3): BatchNorm2d(1024, eps=1e-05, momentum=0.1, affine=True, track_running_stats=True)\n",
              "      (relu): ReLU(inplace=True)\n",
              "    )\n",
              "    (7): Bottleneck(\n",
              "      (conv1): Conv2d(1024, 256, kernel_size=(1, 1), stride=(1, 1), bias=False)\n",
              "      (bn1): BatchNorm2d(256, eps=1e-05, momentum=0.1, affine=True, track_running_stats=True)\n",
              "      (conv2): Conv2d(256, 256, kernel_size=(3, 3), stride=(1, 1), padding=(1, 1), bias=False)\n",
              "      (bn2): BatchNorm2d(256, eps=1e-05, momentum=0.1, affine=True, track_running_stats=True)\n",
              "      (conv3): Conv2d(256, 1024, kernel_size=(1, 1), stride=(1, 1), bias=False)\n",
              "      (bn3): BatchNorm2d(1024, eps=1e-05, momentum=0.1, affine=True, track_running_stats=True)\n",
              "      (relu): ReLU(inplace=True)\n",
              "    )\n",
              "    (8): Bottleneck(\n",
              "      (conv1): Conv2d(1024, 256, kernel_size=(1, 1), stride=(1, 1), bias=False)\n",
              "      (bn1): BatchNorm2d(256, eps=1e-05, momentum=0.1, affine=True, track_running_stats=True)\n",
              "      (conv2): Conv2d(256, 256, kernel_size=(3, 3), stride=(1, 1), padding=(1, 1), bias=False)\n",
              "      (bn2): BatchNorm2d(256, eps=1e-05, momentum=0.1, affine=True, track_running_stats=True)\n",
              "      (conv3): Conv2d(256, 1024, kernel_size=(1, 1), stride=(1, 1), bias=False)\n",
              "      (bn3): BatchNorm2d(1024, eps=1e-05, momentum=0.1, affine=True, track_running_stats=True)\n",
              "      (relu): ReLU(inplace=True)\n",
              "    )\n",
              "    (9): Bottleneck(\n",
              "      (conv1): Conv2d(1024, 256, kernel_size=(1, 1), stride=(1, 1), bias=False)\n",
              "      (bn1): BatchNorm2d(256, eps=1e-05, momentum=0.1, affine=True, track_running_stats=True)\n",
              "      (conv2): Conv2d(256, 256, kernel_size=(3, 3), stride=(1, 1), padding=(1, 1), bias=False)\n",
              "      (bn2): BatchNorm2d(256, eps=1e-05, momentum=0.1, affine=True, track_running_stats=True)\n",
              "      (conv3): Conv2d(256, 1024, kernel_size=(1, 1), stride=(1, 1), bias=False)\n",
              "      (bn3): BatchNorm2d(1024, eps=1e-05, momentum=0.1, affine=True, track_running_stats=True)\n",
              "      (relu): ReLU(inplace=True)\n",
              "    )\n",
              "    (10): Bottleneck(\n",
              "      (conv1): Conv2d(1024, 256, kernel_size=(1, 1), stride=(1, 1), bias=False)\n",
              "      (bn1): BatchNorm2d(256, eps=1e-05, momentum=0.1, affine=True, track_running_stats=True)\n",
              "      (conv2): Conv2d(256, 256, kernel_size=(3, 3), stride=(1, 1), padding=(1, 1), bias=False)\n",
              "      (bn2): BatchNorm2d(256, eps=1e-05, momentum=0.1, affine=True, track_running_stats=True)\n",
              "      (conv3): Conv2d(256, 1024, kernel_size=(1, 1), stride=(1, 1), bias=False)\n",
              "      (bn3): BatchNorm2d(1024, eps=1e-05, momentum=0.1, affine=True, track_running_stats=True)\n",
              "      (relu): ReLU(inplace=True)\n",
              "    )\n",
              "    (11): Bottleneck(\n",
              "      (conv1): Conv2d(1024, 256, kernel_size=(1, 1), stride=(1, 1), bias=False)\n",
              "      (bn1): BatchNorm2d(256, eps=1e-05, momentum=0.1, affine=True, track_running_stats=True)\n",
              "      (conv2): Conv2d(256, 256, kernel_size=(3, 3), stride=(1, 1), padding=(1, 1), bias=False)\n",
              "      (bn2): BatchNorm2d(256, eps=1e-05, momentum=0.1, affine=True, track_running_stats=True)\n",
              "      (conv3): Conv2d(256, 1024, kernel_size=(1, 1), stride=(1, 1), bias=False)\n",
              "      (bn3): BatchNorm2d(1024, eps=1e-05, momentum=0.1, affine=True, track_running_stats=True)\n",
              "      (relu): ReLU(inplace=True)\n",
              "    )\n",
              "    (12): Bottleneck(\n",
              "      (conv1): Conv2d(1024, 256, kernel_size=(1, 1), stride=(1, 1), bias=False)\n",
              "      (bn1): BatchNorm2d(256, eps=1e-05, momentum=0.1, affine=True, track_running_stats=True)\n",
              "      (conv2): Conv2d(256, 256, kernel_size=(3, 3), stride=(1, 1), padding=(1, 1), bias=False)\n",
              "      (bn2): BatchNorm2d(256, eps=1e-05, momentum=0.1, affine=True, track_running_stats=True)\n",
              "      (conv3): Conv2d(256, 1024, kernel_size=(1, 1), stride=(1, 1), bias=False)\n",
              "      (bn3): BatchNorm2d(1024, eps=1e-05, momentum=0.1, affine=True, track_running_stats=True)\n",
              "      (relu): ReLU(inplace=True)\n",
              "    )\n",
              "    (13): Bottleneck(\n",
              "      (conv1): Conv2d(1024, 256, kernel_size=(1, 1), stride=(1, 1), bias=False)\n",
              "      (bn1): BatchNorm2d(256, eps=1e-05, momentum=0.1, affine=True, track_running_stats=True)\n",
              "      (conv2): Conv2d(256, 256, kernel_size=(3, 3), stride=(1, 1), padding=(1, 1), bias=False)\n",
              "      (bn2): BatchNorm2d(256, eps=1e-05, momentum=0.1, affine=True, track_running_stats=True)\n",
              "      (conv3): Conv2d(256, 1024, kernel_size=(1, 1), stride=(1, 1), bias=False)\n",
              "      (bn3): BatchNorm2d(1024, eps=1e-05, momentum=0.1, affine=True, track_running_stats=True)\n",
              "      (relu): ReLU(inplace=True)\n",
              "    )\n",
              "    (14): Bottleneck(\n",
              "      (conv1): Conv2d(1024, 256, kernel_size=(1, 1), stride=(1, 1), bias=False)\n",
              "      (bn1): BatchNorm2d(256, eps=1e-05, momentum=0.1, affine=True, track_running_stats=True)\n",
              "      (conv2): Conv2d(256, 256, kernel_size=(3, 3), stride=(1, 1), padding=(1, 1), bias=False)\n",
              "      (bn2): BatchNorm2d(256, eps=1e-05, momentum=0.1, affine=True, track_running_stats=True)\n",
              "      (conv3): Conv2d(256, 1024, kernel_size=(1, 1), stride=(1, 1), bias=False)\n",
              "      (bn3): BatchNorm2d(1024, eps=1e-05, momentum=0.1, affine=True, track_running_stats=True)\n",
              "      (relu): ReLU(inplace=True)\n",
              "    )\n",
              "    (15): Bottleneck(\n",
              "      (conv1): Conv2d(1024, 256, kernel_size=(1, 1), stride=(1, 1), bias=False)\n",
              "      (bn1): BatchNorm2d(256, eps=1e-05, momentum=0.1, affine=True, track_running_stats=True)\n",
              "      (conv2): Conv2d(256, 256, kernel_size=(3, 3), stride=(1, 1), padding=(1, 1), bias=False)\n",
              "      (bn2): BatchNorm2d(256, eps=1e-05, momentum=0.1, affine=True, track_running_stats=True)\n",
              "      (conv3): Conv2d(256, 1024, kernel_size=(1, 1), stride=(1, 1), bias=False)\n",
              "      (bn3): BatchNorm2d(1024, eps=1e-05, momentum=0.1, affine=True, track_running_stats=True)\n",
              "      (relu): ReLU(inplace=True)\n",
              "    )\n",
              "    (16): Bottleneck(\n",
              "      (conv1): Conv2d(1024, 256, kernel_size=(1, 1), stride=(1, 1), bias=False)\n",
              "      (bn1): BatchNorm2d(256, eps=1e-05, momentum=0.1, affine=True, track_running_stats=True)\n",
              "      (conv2): Conv2d(256, 256, kernel_size=(3, 3), stride=(1, 1), padding=(1, 1), bias=False)\n",
              "      (bn2): BatchNorm2d(256, eps=1e-05, momentum=0.1, affine=True, track_running_stats=True)\n",
              "      (conv3): Conv2d(256, 1024, kernel_size=(1, 1), stride=(1, 1), bias=False)\n",
              "      (bn3): BatchNorm2d(1024, eps=1e-05, momentum=0.1, affine=True, track_running_stats=True)\n",
              "      (relu): ReLU(inplace=True)\n",
              "    )\n",
              "    (17): Bottleneck(\n",
              "      (conv1): Conv2d(1024, 256, kernel_size=(1, 1), stride=(1, 1), bias=False)\n",
              "      (bn1): BatchNorm2d(256, eps=1e-05, momentum=0.1, affine=True, track_running_stats=True)\n",
              "      (conv2): Conv2d(256, 256, kernel_size=(3, 3), stride=(1, 1), padding=(1, 1), bias=False)\n",
              "      (bn2): BatchNorm2d(256, eps=1e-05, momentum=0.1, affine=True, track_running_stats=True)\n",
              "      (conv3): Conv2d(256, 1024, kernel_size=(1, 1), stride=(1, 1), bias=False)\n",
              "      (bn3): BatchNorm2d(1024, eps=1e-05, momentum=0.1, affine=True, track_running_stats=True)\n",
              "      (relu): ReLU(inplace=True)\n",
              "    )\n",
              "    (18): Bottleneck(\n",
              "      (conv1): Conv2d(1024, 256, kernel_size=(1, 1), stride=(1, 1), bias=False)\n",
              "      (bn1): BatchNorm2d(256, eps=1e-05, momentum=0.1, affine=True, track_running_stats=True)\n",
              "      (conv2): Conv2d(256, 256, kernel_size=(3, 3), stride=(1, 1), padding=(1, 1), bias=False)\n",
              "      (bn2): BatchNorm2d(256, eps=1e-05, momentum=0.1, affine=True, track_running_stats=True)\n",
              "      (conv3): Conv2d(256, 1024, kernel_size=(1, 1), stride=(1, 1), bias=False)\n",
              "      (bn3): BatchNorm2d(1024, eps=1e-05, momentum=0.1, affine=True, track_running_stats=True)\n",
              "      (relu): ReLU(inplace=True)\n",
              "    )\n",
              "    (19): Bottleneck(\n",
              "      (conv1): Conv2d(1024, 256, kernel_size=(1, 1), stride=(1, 1), bias=False)\n",
              "      (bn1): BatchNorm2d(256, eps=1e-05, momentum=0.1, affine=True, track_running_stats=True)\n",
              "      (conv2): Conv2d(256, 256, kernel_size=(3, 3), stride=(1, 1), padding=(1, 1), bias=False)\n",
              "      (bn2): BatchNorm2d(256, eps=1e-05, momentum=0.1, affine=True, track_running_stats=True)\n",
              "      (conv3): Conv2d(256, 1024, kernel_size=(1, 1), stride=(1, 1), bias=False)\n",
              "      (bn3): BatchNorm2d(1024, eps=1e-05, momentum=0.1, affine=True, track_running_stats=True)\n",
              "      (relu): ReLU(inplace=True)\n",
              "    )\n",
              "    (20): Bottleneck(\n",
              "      (conv1): Conv2d(1024, 256, kernel_size=(1, 1), stride=(1, 1), bias=False)\n",
              "      (bn1): BatchNorm2d(256, eps=1e-05, momentum=0.1, affine=True, track_running_stats=True)\n",
              "      (conv2): Conv2d(256, 256, kernel_size=(3, 3), stride=(1, 1), padding=(1, 1), bias=False)\n",
              "      (bn2): BatchNorm2d(256, eps=1e-05, momentum=0.1, affine=True, track_running_stats=True)\n",
              "      (conv3): Conv2d(256, 1024, kernel_size=(1, 1), stride=(1, 1), bias=False)\n",
              "      (bn3): BatchNorm2d(1024, eps=1e-05, momentum=0.1, affine=True, track_running_stats=True)\n",
              "      (relu): ReLU(inplace=True)\n",
              "    )\n",
              "    (21): Bottleneck(\n",
              "      (conv1): Conv2d(1024, 256, kernel_size=(1, 1), stride=(1, 1), bias=False)\n",
              "      (bn1): BatchNorm2d(256, eps=1e-05, momentum=0.1, affine=True, track_running_stats=True)\n",
              "      (conv2): Conv2d(256, 256, kernel_size=(3, 3), stride=(1, 1), padding=(1, 1), bias=False)\n",
              "      (bn2): BatchNorm2d(256, eps=1e-05, momentum=0.1, affine=True, track_running_stats=True)\n",
              "      (conv3): Conv2d(256, 1024, kernel_size=(1, 1), stride=(1, 1), bias=False)\n",
              "      (bn3): BatchNorm2d(1024, eps=1e-05, momentum=0.1, affine=True, track_running_stats=True)\n",
              "      (relu): ReLU(inplace=True)\n",
              "    )\n",
              "    (22): Bottleneck(\n",
              "      (conv1): Conv2d(1024, 256, kernel_size=(1, 1), stride=(1, 1), bias=False)\n",
              "      (bn1): BatchNorm2d(256, eps=1e-05, momentum=0.1, affine=True, track_running_stats=True)\n",
              "      (conv2): Conv2d(256, 256, kernel_size=(3, 3), stride=(1, 1), padding=(1, 1), bias=False)\n",
              "      (bn2): BatchNorm2d(256, eps=1e-05, momentum=0.1, affine=True, track_running_stats=True)\n",
              "      (conv3): Conv2d(256, 1024, kernel_size=(1, 1), stride=(1, 1), bias=False)\n",
              "      (bn3): BatchNorm2d(1024, eps=1e-05, momentum=0.1, affine=True, track_running_stats=True)\n",
              "      (relu): ReLU(inplace=True)\n",
              "    )\n",
              "  )\n",
              "  (layer4): Sequential(\n",
              "    (0): Bottleneck(\n",
              "      (conv1): Conv2d(1024, 512, kernel_size=(1, 1), stride=(1, 1), bias=False)\n",
              "      (bn1): BatchNorm2d(512, eps=1e-05, momentum=0.1, affine=True, track_running_stats=True)\n",
              "      (conv2): Conv2d(512, 512, kernel_size=(3, 3), stride=(2, 2), padding=(1, 1), bias=False)\n",
              "      (bn2): BatchNorm2d(512, eps=1e-05, momentum=0.1, affine=True, track_running_stats=True)\n",
              "      (conv3): Conv2d(512, 2048, kernel_size=(1, 1), stride=(1, 1), bias=False)\n",
              "      (bn3): BatchNorm2d(2048, eps=1e-05, momentum=0.1, affine=True, track_running_stats=True)\n",
              "      (relu): ReLU(inplace=True)\n",
              "      (downsample): Sequential(\n",
              "        (0): Conv2d(1024, 2048, kernel_size=(1, 1), stride=(2, 2), bias=False)\n",
              "        (1): BatchNorm2d(2048, eps=1e-05, momentum=0.1, affine=True, track_running_stats=True)\n",
              "      )\n",
              "    )\n",
              "    (1): Bottleneck(\n",
              "      (conv1): Conv2d(2048, 512, kernel_size=(1, 1), stride=(1, 1), bias=False)\n",
              "      (bn1): BatchNorm2d(512, eps=1e-05, momentum=0.1, affine=True, track_running_stats=True)\n",
              "      (conv2): Conv2d(512, 512, kernel_size=(3, 3), stride=(1, 1), padding=(1, 1), bias=False)\n",
              "      (bn2): BatchNorm2d(512, eps=1e-05, momentum=0.1, affine=True, track_running_stats=True)\n",
              "      (conv3): Conv2d(512, 2048, kernel_size=(1, 1), stride=(1, 1), bias=False)\n",
              "      (bn3): BatchNorm2d(2048, eps=1e-05, momentum=0.1, affine=True, track_running_stats=True)\n",
              "      (relu): ReLU(inplace=True)\n",
              "    )\n",
              "    (2): Bottleneck(\n",
              "      (conv1): Conv2d(2048, 512, kernel_size=(1, 1), stride=(1, 1), bias=False)\n",
              "      (bn1): BatchNorm2d(512, eps=1e-05, momentum=0.1, affine=True, track_running_stats=True)\n",
              "      (conv2): Conv2d(512, 512, kernel_size=(3, 3), stride=(1, 1), padding=(1, 1), bias=False)\n",
              "      (bn2): BatchNorm2d(512, eps=1e-05, momentum=0.1, affine=True, track_running_stats=True)\n",
              "      (conv3): Conv2d(512, 2048, kernel_size=(1, 1), stride=(1, 1), bias=False)\n",
              "      (bn3): BatchNorm2d(2048, eps=1e-05, momentum=0.1, affine=True, track_running_stats=True)\n",
              "      (relu): ReLU(inplace=True)\n",
              "    )\n",
              "  )\n",
              "  (avgpool): AdaptiveAvgPool2d(output_size=(1, 1))\n",
              "  (fc): Linear(in_features=2048, out_features=1000, bias=True)\n",
              ")"
            ]
          },
          "metadata": {},
          "execution_count": 8
        }
      ]
    },
    {
      "cell_type": "code",
      "source": [
        "# 기본적인 전처리 함수로 빠르게 파이프라인을 만들 수 있는 transfroms\n",
        "\n",
        "from torchvision import transforms\n",
        "preprocess = transforms.Compose([\n",
        "    transforms.Resize(256),\n",
        "    transforms.CenterCrop(224),\n",
        "    transforms.ToTensor(),\n",
        "    transforms.Normalize(\n",
        "        mean=[0.485, 0.456, 0.406],\n",
        "        std=[0.229, 0.224, 0.225]\n",
        "    )])"
      ],
      "metadata": {
        "id": "RfAgJeBHjnAX"
      },
      "execution_count": null,
      "outputs": []
    },
    {
      "cell_type": "code",
      "source": [
        "from PIL import Image\n",
        "\n",
        "img = Image.open('/content/dlwpt-code/data/p1ch2/bobby.jpg')\n",
        "img.show()"
      ],
      "metadata": {
        "id": "2QiNUczASU5G"
      },
      "execution_count": null,
      "outputs": []
    },
    {
      "cell_type": "code",
      "source": [
        "# 만들어놓은 전처리 파이프라인으로 이미지 통과\n",
        "\n",
        "img_t = preprocess(img)\n",
        "img.show()"
      ],
      "metadata": {
        "id": "tfD8aUVdTwQo"
      },
      "execution_count": null,
      "outputs": []
    },
    {
      "cell_type": "code",
      "source": [
        "import torch\n",
        "\n",
        "batch_t = torch.unsqueeze(img_t, 0)\n",
        "resnet.eval()  # 훈련된 모델에 새로운 데이터를 넣어 결과를 보는 과정 (추론 inferenct)\n",
        "\n",
        "out = resnet(batch_t)\n",
        "out"
      ],
      "metadata": {
        "colab": {
          "base_uri": "https://localhost:8080/"
        },
        "id": "0-OMKaY4UOVL",
        "outputId": "6ba651e9-a030-4e80-c9bf-a4d3ea5002da"
      },
      "execution_count": null,
      "outputs": [
        {
          "output_type": "execute_result",
          "data": {
            "text/plain": [
              "tensor([[-3.4803e+00, -1.6618e+00, -2.4515e+00, -3.2662e+00, -3.2466e+00,\n",
              "         -1.3611e+00, -2.0465e+00, -2.5112e+00, -1.3043e+00, -2.8900e+00,\n",
              "         -1.6862e+00, -1.3055e+00, -2.6129e+00, -2.9645e+00, -2.4300e+00,\n",
              "         -2.8143e+00, -3.3019e+00, -7.9404e-01, -6.5183e-01, -1.2308e+00,\n",
              "         -3.0193e+00, -3.9457e+00, -2.2675e+00, -1.0811e+00, -1.0232e+00,\n",
              "         -1.0442e+00, -3.0918e+00, -2.4613e+00, -2.1964e+00, -3.2354e+00,\n",
              "         -3.3013e+00, -1.8553e+00, -2.0921e+00, -2.1327e+00, -1.9102e+00,\n",
              "         -3.2403e+00, -1.1396e+00, -1.0925e+00, -1.2186e+00, -9.3332e-01,\n",
              "         -4.5093e-01, -1.5489e+00,  1.4161e+00,  1.0871e-01, -1.8442e+00,\n",
              "         -1.4806e+00,  9.6227e-01, -9.9456e-01, -3.0060e+00, -2.7384e+00,\n",
              "         -2.5798e+00, -2.0666e+00, -1.8022e+00, -1.9328e+00, -1.7726e+00,\n",
              "         -1.3041e+00, -4.5848e-01, -2.0537e+00, -3.2804e+00, -5.0451e-01,\n",
              "         -3.8174e-01, -1.1147e+00, -7.3998e-01, -1.4299e+00, -1.4883e+00,\n",
              "         -2.1073e+00, -1.7373e+00, -4.0412e-01, -1.9374e+00, -1.4862e+00,\n",
              "         -1.2102e+00, -1.3223e+00, -1.0832e+00,  7.9207e-02, -4.1344e-01,\n",
              "         -2.7477e-01, -8.5398e-01,  6.0364e-01, -8.9197e-01,  1.4761e+00,\n",
              "         -2.6427e+00, -3.6478e+00, -2.7066e-01, -1.2360e-01, -2.2445e+00,\n",
              "         -2.3425e+00, -1.4430e+00,  2.5264e-01, -1.0588e+00, -2.8812e+00,\n",
              "         -2.5145e+00, -2.2579e+00,  4.1647e-01, -1.3463e+00, -1.6449e-02,\n",
              "         -2.8798e+00, -5.5658e-01, -1.3859e+00, -2.9352e+00, -1.8880e+00,\n",
              "         -4.2244e+00, -2.9742e+00, -2.0298e+00, -2.3869e+00, -2.7324e+00,\n",
              "         -3.9905e+00, -3.6113e+00, -5.4423e-01, -1.0291e+00, -1.8998e+00,\n",
              "         -3.5611e+00, -1.5031e+00,  1.0660e+00, -7.1587e-01, -7.2612e-01,\n",
              "         -2.2173e+00, -2.2616e+00, -5.9990e-01, -1.4349e+00, -2.5965e+00,\n",
              "         -3.9844e+00, -9.4164e-01, -5.3676e-01, -8.4138e-01, -1.1660e+00,\n",
              "         -7.3556e-01, -1.1300e+00, -2.1074e+00, -4.0037e+00, -3.7229e-01,\n",
              "         -2.7179e+00, -2.9849e+00, -1.9127e+00, -1.8412e+00, -1.3001e+00,\n",
              "         -2.2268e+00, -2.0247e+00, -3.1761e+00, -3.2964e+00, -2.7923e+00,\n",
              "         -4.3191e-01, -3.7750e+00, -2.4832e+00, -2.6228e+00, -2.7499e+00,\n",
              "         -2.6306e+00, -3.2714e+00, -4.3249e+00, -4.2451e+00, -3.6207e+00,\n",
              "         -1.1967e+00,  2.3839e+00,  1.8833e+00,  2.2390e+00,  4.9467e+00,\n",
              "          9.9434e-01,  2.9570e+00,  8.5852e-01,  2.2356e+00,  6.1872e+00,\n",
              "          4.2074e+00,  4.6280e+00,  7.5066e+00,  4.3456e+00,  4.8873e+00,\n",
              "          5.8086e+00,  4.0282e+00,  3.5778e+00,  9.5398e+00,  1.0959e+00,\n",
              "          3.3065e+00,  1.9473e+00, -4.7347e-01,  1.4388e+00,  1.8860e+00,\n",
              "          5.5149e+00,  5.6885e+00,  2.1434e+00,  2.5016e+00,  6.2614e-01,\n",
              "          1.9095e+00,  1.4927e+00,  3.4522e+00,  4.0987e-01,  4.2790e+00,\n",
              "          4.3379e+00,  1.2945e+00,  1.6308e+00,  1.1426e+00,  2.1246e+00,\n",
              "          8.6190e-01,  3.0266e+00,  3.5030e+00,  2.7914e+00,  1.8812e+00,\n",
              "          1.3916e-01,  2.0182e+00,  2.6938e+00,  1.0643e+00,  1.9063e+00,\n",
              "          3.5028e+00,  2.2950e+00,  2.5388e+00,  1.3140e+00,  3.5698e+00,\n",
              "          7.7051e+00,  4.3443e+00,  1.5674e+01,  1.2140e+01,  5.2050e+00,\n",
              "          1.9331e+00,  5.4996e+00,  6.1745e+00,  7.5155e+00,  5.8567e+00,\n",
              "          6.9794e+00,  5.6891e+00,  2.6934e+00,  5.3248e+00,  9.8436e+00,\n",
              "          6.4168e+00,  2.4431e+00,  5.6031e+00,  3.4884e+00,  2.0732e+00,\n",
              "          1.3375e+00,  2.5550e+00,  5.7791e+00,  7.5825e-01,  1.0360e+00,\n",
              "          4.8250e+00,  5.9932e+00,  3.9907e+00, -1.7508e+00,  3.6606e+00,\n",
              "          2.8820e+00,  2.8978e+00,  1.3059e+00,  4.2622e+00,  4.0880e+00,\n",
              "          3.4181e+00,  2.3945e+00,  3.1604e-01,  8.7091e-01,  5.0895e+00,\n",
              "         -7.0908e-01,  1.9885e+00,  2.8699e+00,  2.5281e+00,  1.9253e+00,\n",
              "          6.5843e-01,  3.4956e+00, -5.6701e-01,  1.9219e+00,  5.0423e-01,\n",
              "          2.3949e+00,  3.4628e+00,  5.1851e+00,  1.8182e+00,  3.9127e+00,\n",
              "          4.3620e+00,  3.3723e-01, -4.6588e-01,  5.6958e+00,  3.7192e+00,\n",
              "          2.4205e+00,  3.6402e+00,  3.3705e+00, -9.3733e-01, -2.0590e-01,\n",
              "          1.3018e-01,  1.1554e+00, -4.0951e-02,  4.5523e+00, -1.8349e+00,\n",
              "         -2.6543e+00, -1.6859e+00, -6.3751e-01, -1.5596e+00, -2.1529e+00,\n",
              "         -1.0245e+00,  1.5312e+00,  7.6857e-01, -1.8030e+00,  6.9033e-01,\n",
              "          9.1473e-01, -2.0907e+00, -2.1250e+00, -1.5808e+00, -4.7830e+00,\n",
              "         -1.0396e+00, -9.7836e-01, -2.0528e+00,  1.9793e+00, -6.0107e-01,\n",
              "         -2.4964e+00, -1.4914e+00, -3.2041e+00, -1.9067e+00, -5.9215e-01,\n",
              "         -1.0509e+00,  1.3131e+00, -1.5027e+00, -2.0352e+00,  1.3009e+00,\n",
              "          3.9806e-01, -3.5442e-01,  7.1537e-01, -3.0086e-01, -7.6254e-01,\n",
              "         -5.4504e-01,  1.0533e+00,  1.1973e-01,  7.1265e-02,  1.3234e+00,\n",
              "         -2.0051e+00, -1.7127e+00,  1.1415e+00, -4.3746e-01,  2.9573e-01,\n",
              "         -1.4572e+00, -2.6234e+00, -2.5400e+00, -2.4128e-01, -2.3629e+00,\n",
              "         -1.5560e+00, -2.5256e+00, -8.0395e-01,  1.5960e-01, -2.8029e+00,\n",
              "         -1.8937e+00, -9.4297e-01, -3.8987e-01, -4.6732e-01, -7.8799e-01,\n",
              "         -2.5103e+00, -1.8726e+00, -2.1138e+00, -5.5075e-01,  1.8876e-01,\n",
              "         -2.0678e+00, -1.7942e+00, -2.4776e+00, -3.8874e+00, -4.4214e+00,\n",
              "         -2.1606e+00, -1.9960e+00, -3.7195e+00, -1.8627e+00, -3.3882e+00,\n",
              "         -2.0034e+00, -2.2823e+00, -8.3603e-01, -5.1364e-01, -2.9197e+00,\n",
              "         -1.6728e+00, -2.5686e-01, -2.7734e+00, -1.7911e+00,  1.1283e-01,\n",
              "         -2.1215e+00, -1.5402e+00, -1.2457e+00, -9.6399e-01, -2.4953e+00,\n",
              "         -1.3973e+00, -3.8589e+00, -4.3189e+00, -1.5287e+00, -1.9420e+00,\n",
              "         -3.0008e+00, -2.9597e+00, -4.8460e+00, -2.4737e+00, -1.4287e+00,\n",
              "         -2.9093e+00, -1.2882e+00, -6.0873e-01, -2.8312e+00, -1.8754e+00,\n",
              "         -2.3758e+00, -3.4176e+00, -2.5520e+00, -3.8709e+00, -4.4702e+00,\n",
              "         -3.5587e+00, -9.4389e-01, -2.3503e+00, -2.0270e+00, -1.8470e+00,\n",
              "         -3.2897e+00, -3.4712e+00, -2.8471e+00, -1.9893e+00, -3.7441e+00,\n",
              "         -1.1865e+00, -2.8282e+00,  2.2839e-01, -1.3325e-01, -3.1261e-01,\n",
              "          1.4785e-01,  1.7180e+00,  1.8871e+00, -3.1302e+00, -3.7345e+00,\n",
              "         -2.6754e+00, -6.7742e-01, -8.4727e-01, -1.3179e+00,  4.7847e-01,\n",
              "         -2.2918e+00,  4.7733e+00,  1.5100e+00, -1.5956e+00,  3.3496e+00,\n",
              "          3.0611e+00,  1.5253e+00,  6.8673e-01,  1.2918e+00,  1.6387e+00,\n",
              "          1.0631e-01,  1.3420e+00,  5.2414e-02,  1.0270e+00, -4.6863e-01,\n",
              "         -1.3585e+00,  5.7504e-01,  2.8775e-01,  2.8255e+00,  2.1875e+00,\n",
              "          1.8301e+00,  1.3566e+00,  1.0992e+00,  2.3172e+00,  6.4046e+00,\n",
              "          1.8630e+00,  6.0024e-01, -1.4953e+00, -1.9144e+00, -2.6436e+00,\n",
              "          1.5186e+00, -4.8838e-01, -1.0530e-01,  1.9803e+00, -1.7358e+00,\n",
              "          3.7236e-01,  1.6658e+00,  7.8257e-01,  2.1721e+00, -1.4210e+00,\n",
              "         -2.4550e+00,  4.6637e-01,  3.3418e+00, -2.8537e-01,  1.1941e-01,\n",
              "          1.1450e+00, -1.3834e+00,  1.5737e+00, -2.1716e+00, -4.2427e-01,\n",
              "         -1.4805e+00, -2.1745e+00,  2.7962e+00,  2.4990e+00,  1.9237e-01,\n",
              "          4.7498e-01, -1.9682e+00, -1.6105e+00, -7.3869e-01, -1.1794e+00,\n",
              "         -2.9532e-01, -1.4142e+00,  2.2398e+00, -4.3380e-01, -8.6286e-01,\n",
              "          4.0300e-01, -1.4318e+00, -3.1364e-01,  3.4846e+00,  4.3202e-01,\n",
              "          4.5058e-01, -1.1090e+00,  2.2513e-01, -2.6651e+00, -2.8278e+00,\n",
              "         -6.5790e-01, -3.0889e-01,  8.2096e-01,  1.8005e-01, -4.2284e-01,\n",
              "         -5.8541e-01, -2.7820e-01,  1.6590e+00,  8.7698e-02, -4.6728e-01,\n",
              "          1.1241e+00,  2.2742e+00, -1.0448e+00,  9.4819e-01,  9.9525e-01,\n",
              "         -2.5969e+00, -5.5236e-01,  2.1583e+00, -9.2215e-01,  4.7108e-02,\n",
              "         -3.8016e-01,  1.5210e+00, -1.0433e+00,  1.9041e+00,  1.4741e+00,\n",
              "         -4.3896e+00, -1.6206e-01, -1.5698e-01, -7.3738e-01,  1.8179e+00,\n",
              "          3.3264e+00,  7.3696e-01, -7.6419e-01,  1.5898e+00,  1.9445e+00,\n",
              "          1.2725e+00, -1.5624e+00,  2.2197e+00,  9.9570e-01, -6.3256e-01,\n",
              "         -1.4160e+00,  1.6144e+00,  4.5531e-02,  9.0731e-01,  9.5069e-01,\n",
              "          5.3562e-01,  4.4124e-01,  1.0358e+00,  6.5593e-01,  3.3626e+00,\n",
              "         -1.0299e+00, -2.8939e+00, -7.0227e-01, -8.1103e-01,  7.0547e+00,\n",
              "         -3.3097e+00,  1.3230e+00,  1.6968e+00,  3.7732e+00, -1.1723e+00,\n",
              "          5.7985e-01, -1.8231e+00, -1.3483e+00,  4.1487e-01,  2.6429e+00,\n",
              "          1.4418e+00,  7.9635e-01,  4.8719e+00,  1.5457e+00, -3.5932e+00,\n",
              "         -2.2285e+00, -1.3850e+00, -8.9728e-01,  2.1657e+00,  2.0583e+00,\n",
              "         -8.9567e-01, -1.7835e+00, -1.4516e+00,  1.0497e+00, -7.6032e-01,\n",
              "         -1.4353e+00,  4.7010e-01,  8.7255e-01,  6.7030e-01, -1.1902e+00,\n",
              "         -1.4175e+00, -8.4839e-01,  1.1901e+00, -1.8283e+00,  2.4775e+00,\n",
              "          3.4005e-01, -1.7652e+00, -9.1973e-01,  2.9893e+00,  2.2373e+00,\n",
              "         -8.1442e-01, -1.9843e+00,  9.2510e-01, -2.1452e+00,  1.8891e-02,\n",
              "          2.5441e-01, -1.1333e-01, -6.2533e-01,  8.0225e-01,  4.0010e+00,\n",
              "         -1.1935e+00,  2.6455e+00, -1.7860e+00,  7.5865e-01,  5.1593e-01,\n",
              "          2.4376e-03, -7.6760e-01,  4.8149e-01,  1.3055e+00,  8.0364e-01,\n",
              "         -6.1874e-01,  4.6970e-02,  2.6322e-01, -2.1400e+00, -1.3908e+00,\n",
              "         -4.0182e-02, -4.2920e-01,  4.6767e-01,  1.3024e+00,  7.5817e-01,\n",
              "          9.9857e-02, -1.0072e-01, -8.5241e-01,  8.6249e-01,  6.9517e-01,\n",
              "          2.1217e+00,  7.1266e-01, -1.9782e-01,  2.3986e+00,  1.8734e+00,\n",
              "          1.0993e+00,  1.0336e+00,  1.4353e+00, -4.9213e-02, -1.3295e-01,\n",
              "         -1.7147e+00, -1.2590e+00, -1.3166e+00, -3.4476e+00,  5.9193e-01,\n",
              "          1.0995e+00,  1.0987e-02, -3.7005e-01, -4.5369e-01, -4.2330e-01,\n",
              "         -1.5137e+00,  2.7933e-01, -2.0776e-01,  3.2132e+00,  1.8063e+00,\n",
              "         -1.5186e+00,  2.8835e+00, -7.4290e-01,  3.2128e-02, -7.0117e-02,\n",
              "         -1.0103e+00,  1.1795e+00,  5.9283e-01,  1.2191e-01, -3.4571e+00,\n",
              "          1.3048e+00,  3.9847e-01, -1.2731e+00, -1.2927e+00, -1.6408e+00,\n",
              "          1.9229e+00,  4.1588e-02, -9.8906e-01,  6.7141e-01,  2.8807e+00,\n",
              "          1.6977e+00,  2.2305e-01, -8.1440e-01, -2.0507e+00,  1.7015e+00,\n",
              "         -2.0312e-01,  7.4630e-01,  1.5227e+00, -1.4377e+00, -1.1784e+00,\n",
              "          5.1375e-01, -6.4234e-01,  3.8708e-02,  2.6664e+00, -1.6256e+00,\n",
              "         -3.3457e+00,  2.1520e+00,  8.6618e-01,  1.3850e+00, -3.4029e-01,\n",
              "          1.8385e-01,  1.4680e+00, -1.0961e+00,  1.8217e+00, -1.2748e+00,\n",
              "         -2.1175e+00, -8.4857e-01, -5.3657e-01, -1.2562e+00,  1.1329e+00,\n",
              "         -1.4191e+00, -7.6893e-01, -3.4133e-01,  2.1594e+00, -2.1836e-01,\n",
              "         -1.8166e+00,  9.8038e-02,  1.7366e+00,  1.6465e-01,  7.7769e-01,\n",
              "          4.7226e+00, -7.3754e-01, -1.6683e+00, -8.1360e-01, -1.4618e+00,\n",
              "          3.4068e+00,  5.3348e-01, -3.1106e-01, -5.0764e-01,  3.0037e-01,\n",
              "          1.8626e+00, -1.1852e+00, -2.0411e+00, -9.6967e-02, -7.1424e-01,\n",
              "         -2.5433e+00, -3.4144e-02,  7.6702e-01, -1.7948e+00,  2.9510e-01,\n",
              "         -1.0903e+00,  1.5320e+00,  2.8823e+00,  5.1182e-01, -7.6857e-01,\n",
              "         -9.0145e-01, -1.7196e+00, -1.0044e+00,  9.1568e-01, -9.2978e-02,\n",
              "         -2.3068e+00,  2.2911e+00,  9.5719e-01,  1.9917e+00, -1.6980e+00,\n",
              "          2.6118e+00,  3.7953e+00,  7.1091e-01, -2.2801e-03, -1.0275e+00,\n",
              "          2.1824e+00,  1.4127e+00,  4.7933e-01, -1.3249e+00, -9.0533e-01,\n",
              "          5.8118e-01, -6.0400e-01,  5.1155e-01,  1.1511e+00,  9.5682e-01,\n",
              "          2.7826e+00, -3.0976e+00,  3.5563e+00, -1.6181e-01, -4.6198e-02,\n",
              "         -2.0769e+00, -1.4204e+00,  2.9824e+00, -4.8723e-01,  2.1408e-01,\n",
              "         -1.3643e-01,  2.2942e+00,  3.4084e-01,  9.9796e-01, -1.1452e+00,\n",
              "          3.3055e+00, -1.8049e+00,  3.2445e+00, -1.6493e-01,  1.3805e+00,\n",
              "          6.5878e-01,  4.6122e-01, -7.8641e-01,  3.8983e-01,  1.9974e+00,\n",
              "          4.0911e-01,  2.4162e+00, -1.9111e+00,  8.1044e-02,  2.2694e+00,\n",
              "         -1.6680e+00, -7.0304e-01,  1.4299e+00,  1.4233e-02,  7.9249e-01,\n",
              "          2.9637e+00, -9.4825e-01, -1.3366e+00,  2.6750e-01,  2.3589e+00,\n",
              "          1.8983e+00,  1.8345e+00,  8.5127e-01,  4.2841e+00,  4.8082e-01,\n",
              "         -1.4365e+00, -4.8286e-01,  3.0412e+00, -8.2025e-01,  3.3065e+00,\n",
              "         -6.5939e-01, -2.6282e+00, -3.1888e+00, -2.9725e+00,  1.2156e+00,\n",
              "          5.6016e+00,  3.0274e-01, -3.1681e+00,  2.5582e+00, -3.3199e-01,\n",
              "          1.4820e-01,  2.3601e+00, -1.4552e+00,  3.3269e+00, -3.3744e+00,\n",
              "         -6.4104e-01,  1.1680e+00, -2.6107e+00,  1.6885e+00, -1.5028e+00,\n",
              "         -2.6845e+00, -3.6659e+00, -1.7394e+00,  1.1231e+00,  2.0104e+00,\n",
              "         -1.4943e-01,  1.3057e+00,  1.2092e+00,  2.6647e+00, -1.7969e+00,\n",
              "         -1.8525e+00,  1.5488e+00, -2.0861e+00, -2.3154e+00,  9.9215e-01,\n",
              "         -3.7871e+00, -1.1176e+00,  9.0636e-01, -3.2947e-01, -3.4544e+00,\n",
              "          2.0940e+00,  5.4372e-01,  6.0876e-01, -1.3066e-01,  7.9443e-01,\n",
              "          7.9938e-01,  1.0587e+00, -1.8372e+00,  2.8466e-01, -1.1158e+00,\n",
              "          8.0787e-01,  1.0870e+00,  8.9547e+00, -8.9419e-01, -9.3960e-01,\n",
              "          1.0807e+00, -4.1462e-01, -1.7524e+00,  9.1855e-02,  1.8185e-01,\n",
              "         -1.3849e+00,  8.8831e-01, -4.1253e-01, -7.7844e-01, -3.1265e+00,\n",
              "         -3.8734e-01,  1.8115e-01, -2.2122e+00,  2.8848e+00,  4.5000e-01,\n",
              "          1.4854e+00, -3.4138e+00,  1.4939e+00, -2.5266e+00, -2.9228e+00,\n",
              "         -7.6507e-01,  2.8269e+00, -1.1918e+00, -6.2602e-01,  3.6187e+00,\n",
              "          1.1527e+00,  1.1860e+00,  3.4149e+00,  9.2982e-01, -1.1376e+00,\n",
              "          1.0391e+00,  1.8575e-01, -7.4427e-01, -2.9312e+00, -1.6815e-01,\n",
              "          1.5624e+00, -4.5063e-01,  1.5997e+00,  1.0128e+00, -1.3146e+00,\n",
              "         -1.8426e+00, -4.7445e-01,  5.8991e-01,  2.3850e+00,  5.2548e-01,\n",
              "         -1.3760e+00, -2.3240e+00, -7.6861e-01,  1.2772e+00,  2.9579e+00,\n",
              "         -2.7968e-01, -5.9378e-01, -2.4310e-02, -7.2352e-01, -5.9500e-02,\n",
              "          2.7550e+00,  2.9499e-01, -1.1396e+00, -1.4785e+00, -4.3375e+00,\n",
              "         -3.2104e-01, -3.2125e-01, -2.0806e+00,  3.7004e-01, -1.4368e+00,\n",
              "         -6.1700e-01, -2.0341e+00, -8.6155e-01, -4.0387e-01, -3.2359e-01,\n",
              "         -1.8287e+00, -1.7554e+00, -6.5640e-01,  6.7694e-01,  3.7156e+00,\n",
              "          2.1207e+00,  4.0970e+00,  1.7257e+00,  8.5265e-01,  1.2722e+00,\n",
              "          1.0563e+00,  1.3809e+00,  1.2871e+00, -7.5314e-01,  2.2593e+00,\n",
              "          1.1952e-01, -7.3866e-01,  1.0060e+00,  8.5880e-01, -6.6744e-01,\n",
              "         -3.2016e-01, -1.5605e+00,  2.0461e+00,  2.4740e+00,  2.2464e-01,\n",
              "          7.4987e-01,  3.8843e-02, -1.7622e+00,  1.9534e+00,  4.5175e-01,\n",
              "          1.2086e+00,  7.3219e-01, -1.0001e+00,  1.2820e-01, -3.7380e-01,\n",
              "          9.6212e-02,  3.2060e+00,  6.5023e-01, -1.1252e-01,  8.9641e-01,\n",
              "         -5.2855e-02, -1.1585e+00,  1.4922e-01,  3.7309e-01,  8.7084e-01,\n",
              "         -1.9354e+00,  1.0733e-01, -1.5175e+00, -1.8582e+00, -3.8437e+00,\n",
              "          1.8629e-01, -2.9438e+00,  5.4171e-01, -7.8057e-01, -2.6016e+00,\n",
              "         -4.4594e+00,  5.5604e-01, -1.3140e+00, -3.8408e+00, -7.5988e-01,\n",
              "         -5.7457e-01, -2.5448e+00,  2.3831e+00,  6.1368e-01,  4.8295e-01,\n",
              "          2.8674e+00, -3.7442e+00,  1.5085e+00, -3.2500e+00, -2.4894e+00,\n",
              "         -3.3541e-01,  1.2856e-01, -1.1355e+00,  3.3969e+00,  4.4584e+00]],\n",
              "       grad_fn=<AddmmBackward0>)"
            ]
          },
          "metadata": {},
          "execution_count": 49
        }
      ]
    },
    {
      "cell_type": "code",
      "source": [
        "with open('/content/dlwpt-code/data/p1ch2/imagenet_classes.txt') as f:\n",
        "    labels = [line.strip() for line in f.readlines()]\n",
        "\n",
        "labels"
      ],
      "metadata": {
        "colab": {
          "base_uri": "https://localhost:8080/"
        },
        "id": "sJahkDbjWUIj",
        "outputId": "1d9f9ecd-137f-49b2-8dd4-73a285433fa9"
      },
      "execution_count": null,
      "outputs": [
        {
          "output_type": "execute_result",
          "data": {
            "text/plain": [
              "['tench, Tinca tinca',\n",
              " 'goldfish, Carassius auratus',\n",
              " 'great white shark, white shark, man-eater, man-eating shark, Carcharodon carcharias',\n",
              " 'tiger shark, Galeocerdo cuvieri',\n",
              " 'hammerhead, hammerhead shark',\n",
              " 'electric ray, crampfish, numbfish, torpedo',\n",
              " 'stingray',\n",
              " 'cock',\n",
              " 'hen',\n",
              " 'ostrich, Struthio camelus',\n",
              " 'brambling, Fringilla montifringilla',\n",
              " 'goldfinch, Carduelis carduelis',\n",
              " 'house finch, linnet, Carpodacus mexicanus',\n",
              " 'junco, snowbird',\n",
              " 'indigo bunting, indigo finch, indigo bird, Passerina cyanea',\n",
              " 'robin, American robin, Turdus migratorius',\n",
              " 'bulbul',\n",
              " 'jay',\n",
              " 'magpie',\n",
              " 'chickadee',\n",
              " 'water ouzel, dipper',\n",
              " 'kite',\n",
              " 'bald eagle, American eagle, Haliaeetus leucocephalus',\n",
              " 'vulture',\n",
              " 'great grey owl, great gray owl, Strix nebulosa',\n",
              " 'European fire salamander, Salamandra salamandra',\n",
              " 'common newt, Triturus vulgaris',\n",
              " 'eft',\n",
              " 'spotted salamander, Ambystoma maculatum',\n",
              " 'axolotl, mud puppy, Ambystoma mexicanum',\n",
              " 'bullfrog, Rana catesbeiana',\n",
              " 'tree frog, tree-frog',\n",
              " 'tailed frog, bell toad, ribbed toad, tailed toad, Ascaphus trui',\n",
              " 'loggerhead, loggerhead turtle, Caretta caretta',\n",
              " 'leatherback turtle, leatherback, leathery turtle, Dermochelys coriacea',\n",
              " 'mud turtle',\n",
              " 'terrapin',\n",
              " 'box turtle, box tortoise',\n",
              " 'banded gecko',\n",
              " 'common iguana, iguana, Iguana iguana',\n",
              " 'American chameleon, anole, Anolis carolinensis',\n",
              " 'whiptail, whiptail lizard',\n",
              " 'agama',\n",
              " 'frilled lizard, Chlamydosaurus kingi',\n",
              " 'alligator lizard',\n",
              " 'Gila monster, Heloderma suspectum',\n",
              " 'green lizard, Lacerta viridis',\n",
              " 'African chameleon, Chamaeleo chamaeleon',\n",
              " 'Komodo dragon, Komodo lizard, dragon lizard, giant lizard, Varanus komodoensis',\n",
              " 'African crocodile, Nile crocodile, Crocodylus niloticus',\n",
              " 'American alligator, Alligator mississipiensis',\n",
              " 'triceratops',\n",
              " 'thunder snake, worm snake, Carphophis amoenus',\n",
              " 'ringneck snake, ring-necked snake, ring snake',\n",
              " 'hognose snake, puff adder, sand viper',\n",
              " 'green snake, grass snake',\n",
              " 'king snake, kingsnake',\n",
              " 'garter snake, grass snake',\n",
              " 'water snake',\n",
              " 'vine snake',\n",
              " 'night snake, Hypsiglena torquata',\n",
              " 'boa constrictor, Constrictor constrictor',\n",
              " 'rock python, rock snake, Python sebae',\n",
              " 'Indian cobra, Naja naja',\n",
              " 'green mamba',\n",
              " 'sea snake',\n",
              " 'horned viper, cerastes, sand viper, horned asp, Cerastes cornutus',\n",
              " 'diamondback, diamondback rattlesnake, Crotalus adamanteus',\n",
              " 'sidewinder, horned rattlesnake, Crotalus cerastes',\n",
              " 'trilobite',\n",
              " 'harvestman, daddy longlegs, Phalangium opilio',\n",
              " 'scorpion',\n",
              " 'black and gold garden spider, Argiope aurantia',\n",
              " 'barn spider, Araneus cavaticus',\n",
              " 'garden spider, Aranea diademata',\n",
              " 'black widow, Latrodectus mactans',\n",
              " 'tarantula',\n",
              " 'wolf spider, hunting spider',\n",
              " 'tick',\n",
              " 'centipede',\n",
              " 'black grouse',\n",
              " 'ptarmigan',\n",
              " 'ruffed grouse, partridge, Bonasa umbellus',\n",
              " 'prairie chicken, prairie grouse, prairie fowl',\n",
              " 'peacock',\n",
              " 'quail',\n",
              " 'partridge',\n",
              " 'African grey, African gray, Psittacus erithacus',\n",
              " 'macaw',\n",
              " 'sulphur-crested cockatoo, Kakatoe galerita, Cacatua galerita',\n",
              " 'lorikeet',\n",
              " 'coucal',\n",
              " 'bee eater',\n",
              " 'hornbill',\n",
              " 'hummingbird',\n",
              " 'jacamar',\n",
              " 'toucan',\n",
              " 'drake',\n",
              " 'red-breasted merganser, Mergus serrator',\n",
              " 'goose',\n",
              " 'black swan, Cygnus atratus',\n",
              " 'tusker',\n",
              " 'echidna, spiny anteater, anteater',\n",
              " 'platypus, duckbill, duckbilled platypus, duck-billed platypus, Ornithorhynchus anatinus',\n",
              " 'wallaby, brush kangaroo',\n",
              " 'koala, koala bear, kangaroo bear, native bear, Phascolarctos cinereus',\n",
              " 'wombat',\n",
              " 'jellyfish',\n",
              " 'sea anemone, anemone',\n",
              " 'brain coral',\n",
              " 'flatworm, platyhelminth',\n",
              " 'nematode, nematode worm, roundworm',\n",
              " 'conch',\n",
              " 'snail',\n",
              " 'slug',\n",
              " 'sea slug, nudibranch',\n",
              " 'chiton, coat-of-mail shell, sea cradle, polyplacophore',\n",
              " 'chambered nautilus, pearly nautilus, nautilus',\n",
              " 'Dungeness crab, Cancer magister',\n",
              " 'rock crab, Cancer irroratus',\n",
              " 'fiddler crab',\n",
              " 'king crab, Alaska crab, Alaskan king crab, Alaska king crab, Paralithodes camtschatica',\n",
              " 'American lobster, Northern lobster, Maine lobster, Homarus americanus',\n",
              " 'spiny lobster, langouste, rock lobster, crawfish, crayfish, sea crawfish',\n",
              " 'crayfish, crawfish, crawdad, crawdaddy',\n",
              " 'hermit crab',\n",
              " 'isopod',\n",
              " 'white stork, Ciconia ciconia',\n",
              " 'black stork, Ciconia nigra',\n",
              " 'spoonbill',\n",
              " 'flamingo',\n",
              " 'little blue heron, Egretta caerulea',\n",
              " 'American egret, great white heron, Egretta albus',\n",
              " 'bittern',\n",
              " 'crane',\n",
              " 'limpkin, Aramus pictus',\n",
              " 'European gallinule, Porphyrio porphyrio',\n",
              " 'American coot, marsh hen, mud hen, water hen, Fulica americana',\n",
              " 'bustard',\n",
              " 'ruddy turnstone, Arenaria interpres',\n",
              " 'red-backed sandpiper, dunlin, Erolia alpina',\n",
              " 'redshank, Tringa totanus',\n",
              " 'dowitcher',\n",
              " 'oystercatcher, oyster catcher',\n",
              " 'pelican',\n",
              " 'king penguin, Aptenodytes patagonica',\n",
              " 'albatross, mollymawk',\n",
              " 'grey whale, gray whale, devilfish, Eschrichtius gibbosus, Eschrichtius robustus',\n",
              " 'killer whale, killer, orca, grampus, sea wolf, Orcinus orca',\n",
              " 'dugong, Dugong dugon',\n",
              " 'sea lion',\n",
              " 'Chihuahua',\n",
              " 'Japanese spaniel',\n",
              " 'Maltese dog, Maltese terrier, Maltese',\n",
              " 'Pekinese, Pekingese, Peke',\n",
              " 'Shih-Tzu',\n",
              " 'Blenheim spaniel',\n",
              " 'papillon',\n",
              " 'toy terrier',\n",
              " 'Rhodesian ridgeback',\n",
              " 'Afghan hound, Afghan',\n",
              " 'basset, basset hound',\n",
              " 'beagle',\n",
              " 'bloodhound, sleuthhound',\n",
              " 'bluetick',\n",
              " 'black-and-tan coonhound',\n",
              " 'Walker hound, Walker foxhound',\n",
              " 'English foxhound',\n",
              " 'redbone',\n",
              " 'borzoi, Russian wolfhound',\n",
              " 'Irish wolfhound',\n",
              " 'Italian greyhound',\n",
              " 'whippet',\n",
              " 'Ibizan hound, Ibizan Podenco',\n",
              " 'Norwegian elkhound, elkhound',\n",
              " 'otterhound, otter hound',\n",
              " 'Saluki, gazelle hound',\n",
              " 'Scottish deerhound, deerhound',\n",
              " 'Weimaraner',\n",
              " 'Staffordshire bullterrier, Staffordshire bull terrier',\n",
              " 'American Staffordshire terrier, Staffordshire terrier, American pit bull terrier, pit bull terrier',\n",
              " 'Bedlington terrier',\n",
              " 'Border terrier',\n",
              " 'Kerry blue terrier',\n",
              " 'Irish terrier',\n",
              " 'Norfolk terrier',\n",
              " 'Norwich terrier',\n",
              " 'Yorkshire terrier',\n",
              " 'wire-haired fox terrier',\n",
              " 'Lakeland terrier',\n",
              " 'Sealyham terrier, Sealyham',\n",
              " 'Airedale, Airedale terrier',\n",
              " 'cairn, cairn terrier',\n",
              " 'Australian terrier',\n",
              " 'Dandie Dinmont, Dandie Dinmont terrier',\n",
              " 'Boston bull, Boston terrier',\n",
              " 'miniature schnauzer',\n",
              " 'giant schnauzer',\n",
              " 'standard schnauzer',\n",
              " 'Scotch terrier, Scottish terrier, Scottie',\n",
              " 'Tibetan terrier, chrysanthemum dog',\n",
              " 'silky terrier, Sydney silky',\n",
              " 'soft-coated wheaten terrier',\n",
              " 'West Highland white terrier',\n",
              " 'Lhasa, Lhasa apso',\n",
              " 'flat-coated retriever',\n",
              " 'curly-coated retriever',\n",
              " 'golden retriever',\n",
              " 'Labrador retriever',\n",
              " 'Chesapeake Bay retriever',\n",
              " 'German short-haired pointer',\n",
              " 'vizsla, Hungarian pointer',\n",
              " 'English setter',\n",
              " 'Irish setter, red setter',\n",
              " 'Gordon setter',\n",
              " 'Brittany spaniel',\n",
              " 'clumber, clumber spaniel',\n",
              " 'English springer, English springer spaniel',\n",
              " 'Welsh springer spaniel',\n",
              " 'cocker spaniel, English cocker spaniel, cocker',\n",
              " 'Sussex spaniel',\n",
              " 'Irish water spaniel',\n",
              " 'kuvasz',\n",
              " 'schipperke',\n",
              " 'groenendael',\n",
              " 'malinois',\n",
              " 'briard',\n",
              " 'kelpie',\n",
              " 'komondor',\n",
              " 'Old English sheepdog, bobtail',\n",
              " 'Shetland sheepdog, Shetland sheep dog, Shetland',\n",
              " 'collie',\n",
              " 'Border collie',\n",
              " 'Bouvier des Flandres, Bouviers des Flandres',\n",
              " 'Rottweiler',\n",
              " 'German shepherd, German shepherd dog, German police dog, alsatian',\n",
              " 'Doberman, Doberman pinscher',\n",
              " 'miniature pinscher',\n",
              " 'Greater Swiss Mountain dog',\n",
              " 'Bernese mountain dog',\n",
              " 'Appenzeller',\n",
              " 'EntleBucher',\n",
              " 'boxer',\n",
              " 'bull mastiff',\n",
              " 'Tibetan mastiff',\n",
              " 'French bulldog',\n",
              " 'Great Dane',\n",
              " 'Saint Bernard, St Bernard',\n",
              " 'Eskimo dog, husky',\n",
              " 'malamute, malemute, Alaskan malamute',\n",
              " 'Siberian husky',\n",
              " 'dalmatian, coach dog, carriage dog',\n",
              " 'affenpinscher, monkey pinscher, monkey dog',\n",
              " 'basenji',\n",
              " 'pug, pug-dog',\n",
              " 'Leonberg',\n",
              " 'Newfoundland, Newfoundland dog',\n",
              " 'Great Pyrenees',\n",
              " 'Samoyed, Samoyede',\n",
              " 'Pomeranian',\n",
              " 'chow, chow chow',\n",
              " 'keeshond',\n",
              " 'Brabancon griffon',\n",
              " 'Pembroke, Pembroke Welsh corgi',\n",
              " 'Cardigan, Cardigan Welsh corgi',\n",
              " 'toy poodle',\n",
              " 'miniature poodle',\n",
              " 'standard poodle',\n",
              " 'Mexican hairless',\n",
              " 'timber wolf, grey wolf, gray wolf, Canis lupus',\n",
              " 'white wolf, Arctic wolf, Canis lupus tundrarum',\n",
              " 'red wolf, maned wolf, Canis rufus, Canis niger',\n",
              " 'coyote, prairie wolf, brush wolf, Canis latrans',\n",
              " 'dingo, warrigal, warragal, Canis dingo',\n",
              " 'dhole, Cuon alpinus',\n",
              " 'African hunting dog, hyena dog, Cape hunting dog, Lycaon pictus',\n",
              " 'hyena, hyaena',\n",
              " 'red fox, Vulpes vulpes',\n",
              " 'kit fox, Vulpes macrotis',\n",
              " 'Arctic fox, white fox, Alopex lagopus',\n",
              " 'grey fox, gray fox, Urocyon cinereoargenteus',\n",
              " 'tabby, tabby cat',\n",
              " 'tiger cat',\n",
              " 'Persian cat',\n",
              " 'Siamese cat, Siamese',\n",
              " 'Egyptian cat',\n",
              " 'cougar, puma, catamount, mountain lion, painter, panther, Felis concolor',\n",
              " 'lynx, catamount',\n",
              " 'leopard, Panthera pardus',\n",
              " 'snow leopard, ounce, Panthera uncia',\n",
              " 'jaguar, panther, Panthera onca, Felis onca',\n",
              " 'lion, king of beasts, Panthera leo',\n",
              " 'tiger, Panthera tigris',\n",
              " 'cheetah, chetah, Acinonyx jubatus',\n",
              " 'brown bear, bruin, Ursus arctos',\n",
              " 'American black bear, black bear, Ursus americanus, Euarctos americanus',\n",
              " 'ice bear, polar bear, Ursus Maritimus, Thalarctos maritimus',\n",
              " 'sloth bear, Melursus ursinus, Ursus ursinus',\n",
              " 'mongoose',\n",
              " 'meerkat, mierkat',\n",
              " 'tiger beetle',\n",
              " 'ladybug, ladybeetle, lady beetle, ladybird, ladybird beetle',\n",
              " 'ground beetle, carabid beetle',\n",
              " 'long-horned beetle, longicorn, longicorn beetle',\n",
              " 'leaf beetle, chrysomelid',\n",
              " 'dung beetle',\n",
              " 'rhinoceros beetle',\n",
              " 'weevil',\n",
              " 'fly',\n",
              " 'bee',\n",
              " 'ant, emmet, pismire',\n",
              " 'grasshopper, hopper',\n",
              " 'cricket',\n",
              " 'walking stick, walkingstick, stick insect',\n",
              " 'cockroach, roach',\n",
              " 'mantis, mantid',\n",
              " 'cicada, cicala',\n",
              " 'leafhopper',\n",
              " 'lacewing, lacewing fly',\n",
              " \"dragonfly, darning needle, devil's darning needle, sewing needle, snake feeder, snake doctor, mosquito hawk, skeeter hawk\",\n",
              " 'damselfly',\n",
              " 'admiral',\n",
              " 'ringlet, ringlet butterfly',\n",
              " 'monarch, monarch butterfly, milkweed butterfly, Danaus plexippus',\n",
              " 'cabbage butterfly',\n",
              " 'sulphur butterfly, sulfur butterfly',\n",
              " 'lycaenid, lycaenid butterfly',\n",
              " 'starfish, sea star',\n",
              " 'sea urchin',\n",
              " 'sea cucumber, holothurian',\n",
              " 'wood rabbit, cottontail, cottontail rabbit',\n",
              " 'hare',\n",
              " 'Angora, Angora rabbit',\n",
              " 'hamster',\n",
              " 'porcupine, hedgehog',\n",
              " 'fox squirrel, eastern fox squirrel, Sciurus niger',\n",
              " 'marmot',\n",
              " 'beaver',\n",
              " 'guinea pig, Cavia cobaya',\n",
              " 'sorrel',\n",
              " 'zebra',\n",
              " 'hog, pig, grunter, squealer, Sus scrofa',\n",
              " 'wild boar, boar, Sus scrofa',\n",
              " 'warthog',\n",
              " 'hippopotamus, hippo, river horse, Hippopotamus amphibius',\n",
              " 'ox',\n",
              " 'water buffalo, water ox, Asiatic buffalo, Bubalus bubalis',\n",
              " 'bison',\n",
              " 'ram, tup',\n",
              " 'bighorn, bighorn sheep, cimarron, Rocky Mountain bighorn, Rocky Mountain sheep, Ovis canadensis',\n",
              " 'ibex, Capra ibex',\n",
              " 'hartebeest',\n",
              " 'impala, Aepyceros melampus',\n",
              " 'gazelle',\n",
              " 'Arabian camel, dromedary, Camelus dromedarius',\n",
              " 'llama',\n",
              " 'weasel',\n",
              " 'mink',\n",
              " 'polecat, fitch, foulmart, foumart, Mustela putorius',\n",
              " 'black-footed ferret, ferret, Mustela nigripes',\n",
              " 'otter',\n",
              " 'skunk, polecat, wood pussy',\n",
              " 'badger',\n",
              " 'armadillo',\n",
              " 'three-toed sloth, ai, Bradypus tridactylus',\n",
              " 'orangutan, orang, orangutang, Pongo pygmaeus',\n",
              " 'gorilla, Gorilla gorilla',\n",
              " 'chimpanzee, chimp, Pan troglodytes',\n",
              " 'gibbon, Hylobates lar',\n",
              " 'siamang, Hylobates syndactylus, Symphalangus syndactylus',\n",
              " 'guenon, guenon monkey',\n",
              " 'patas, hussar monkey, Erythrocebus patas',\n",
              " 'baboon',\n",
              " 'macaque',\n",
              " 'langur',\n",
              " 'colobus, colobus monkey',\n",
              " 'proboscis monkey, Nasalis larvatus',\n",
              " 'marmoset',\n",
              " 'capuchin, ringtail, Cebus capucinus',\n",
              " 'howler monkey, howler',\n",
              " 'titi, titi monkey',\n",
              " 'spider monkey, Ateles geoffroyi',\n",
              " 'squirrel monkey, Saimiri sciureus',\n",
              " 'Madagascar cat, ring-tailed lemur, Lemur catta',\n",
              " 'indri, indris, Indri indri, Indri brevicaudatus',\n",
              " 'Indian elephant, Elephas maximus',\n",
              " 'African elephant, Loxodonta africana',\n",
              " 'lesser panda, red panda, panda, bear cat, cat bear, Ailurus fulgens',\n",
              " 'giant panda, panda, panda bear, coon bear, Ailuropoda melanoleuca',\n",
              " 'barracouta, snoek',\n",
              " 'eel',\n",
              " 'coho, cohoe, coho salmon, blue jack, silver salmon, Oncorhynchus kisutch',\n",
              " 'rock beauty, Holocanthus tricolor',\n",
              " 'anemone fish',\n",
              " 'sturgeon',\n",
              " 'gar, garfish, garpike, billfish, Lepisosteus osseus',\n",
              " 'lionfish',\n",
              " 'puffer, pufferfish, blowfish, globefish',\n",
              " 'abacus',\n",
              " 'abaya',\n",
              " \"academic gown, academic robe, judge's robe\",\n",
              " 'accordion, piano accordion, squeeze box',\n",
              " 'acoustic guitar',\n",
              " 'aircraft carrier, carrier, flattop, attack aircraft carrier',\n",
              " 'airliner',\n",
              " 'airship, dirigible',\n",
              " 'altar',\n",
              " 'ambulance',\n",
              " 'amphibian, amphibious vehicle',\n",
              " 'analog clock',\n",
              " 'apiary, bee house',\n",
              " 'apron',\n",
              " 'ashcan, trash can, garbage can, wastebin, ash bin, ash-bin, ashbin, dustbin, trash barrel, trash bin',\n",
              " 'assault rifle, assault gun',\n",
              " 'backpack, back pack, knapsack, packsack, rucksack, haversack',\n",
              " 'bakery, bakeshop, bakehouse',\n",
              " 'balance beam, beam',\n",
              " 'balloon',\n",
              " 'ballpoint, ballpoint pen, ballpen, Biro',\n",
              " 'Band Aid',\n",
              " 'banjo',\n",
              " 'bannister, banister, balustrade, balusters, handrail',\n",
              " 'barbell',\n",
              " 'barber chair',\n",
              " 'barbershop',\n",
              " 'barn',\n",
              " 'barometer',\n",
              " 'barrel, cask',\n",
              " 'barrow, garden cart, lawn cart, wheelbarrow',\n",
              " 'baseball',\n",
              " 'basketball',\n",
              " 'bassinet',\n",
              " 'bassoon',\n",
              " 'bathing cap, swimming cap',\n",
              " 'bath towel',\n",
              " 'bathtub, bathing tub, bath, tub',\n",
              " 'beach wagon, station wagon, wagon, estate car, beach waggon, station waggon, waggon',\n",
              " 'beacon, lighthouse, beacon light, pharos',\n",
              " 'beaker',\n",
              " 'bearskin, busby, shako',\n",
              " 'beer bottle',\n",
              " 'beer glass',\n",
              " 'bell cote, bell cot',\n",
              " 'bib',\n",
              " 'bicycle-built-for-two, tandem bicycle, tandem',\n",
              " 'bikini, two-piece',\n",
              " 'binder, ring-binder',\n",
              " 'binoculars, field glasses, opera glasses',\n",
              " 'birdhouse',\n",
              " 'boathouse',\n",
              " 'bobsled, bobsleigh, bob',\n",
              " 'bolo tie, bolo, bola tie, bola',\n",
              " 'bonnet, poke bonnet',\n",
              " 'bookcase',\n",
              " 'bookshop, bookstore, bookstall',\n",
              " 'bottlecap',\n",
              " 'bow',\n",
              " 'bow tie, bow-tie, bowtie',\n",
              " 'brass, memorial tablet, plaque',\n",
              " 'brassiere, bra, bandeau',\n",
              " 'breakwater, groin, groyne, mole, bulwark, seawall, jetty',\n",
              " 'breastplate, aegis, egis',\n",
              " 'broom',\n",
              " 'bucket, pail',\n",
              " 'buckle',\n",
              " 'bulletproof vest',\n",
              " 'bullet train, bullet',\n",
              " 'butcher shop, meat market',\n",
              " 'cab, hack, taxi, taxicab',\n",
              " 'caldron, cauldron',\n",
              " 'candle, taper, wax light',\n",
              " 'cannon',\n",
              " 'canoe',\n",
              " 'can opener, tin opener',\n",
              " 'cardigan',\n",
              " 'car mirror',\n",
              " 'carousel, carrousel, merry-go-round, roundabout, whirligig',\n",
              " \"carpenter's kit, tool kit\",\n",
              " 'carton',\n",
              " 'car wheel',\n",
              " 'cash machine, cash dispenser, automated teller machine, automatic teller machine, automated teller, automatic teller, ATM',\n",
              " 'cassette',\n",
              " 'cassette player',\n",
              " 'castle',\n",
              " 'catamaran',\n",
              " 'CD player',\n",
              " 'cello, violoncello',\n",
              " 'cellular telephone, cellular phone, cellphone, cell, mobile phone',\n",
              " 'chain',\n",
              " 'chainlink fence',\n",
              " 'chain mail, ring mail, mail, chain armor, chain armour, ring armor, ring armour',\n",
              " 'chain saw, chainsaw',\n",
              " 'chest',\n",
              " 'chiffonier, commode',\n",
              " 'chime, bell, gong',\n",
              " 'china cabinet, china closet',\n",
              " 'Christmas stocking',\n",
              " 'church, church building',\n",
              " 'cinema, movie theater, movie theatre, movie house, picture palace',\n",
              " 'cleaver, meat cleaver, chopper',\n",
              " 'cliff dwelling',\n",
              " 'cloak',\n",
              " 'clog, geta, patten, sabot',\n",
              " 'cocktail shaker',\n",
              " 'coffee mug',\n",
              " 'coffeepot',\n",
              " 'coil, spiral, volute, whorl, helix',\n",
              " 'combination lock',\n",
              " 'computer keyboard, keypad',\n",
              " 'confectionery, confectionary, candy store',\n",
              " 'container ship, containership, container vessel',\n",
              " 'convertible',\n",
              " 'corkscrew, bottle screw',\n",
              " 'cornet, horn, trumpet, trump',\n",
              " 'cowboy boot',\n",
              " 'cowboy hat, ten-gallon hat',\n",
              " 'cradle',\n",
              " 'crane',\n",
              " 'crash helmet',\n",
              " 'crate',\n",
              " 'crib, cot',\n",
              " 'Crock Pot',\n",
              " 'croquet ball',\n",
              " 'crutch',\n",
              " 'cuirass',\n",
              " 'dam, dike, dyke',\n",
              " 'desk',\n",
              " 'desktop computer',\n",
              " 'dial telephone, dial phone',\n",
              " 'diaper, nappy, napkin',\n",
              " 'digital clock',\n",
              " 'digital watch',\n",
              " 'dining table, board',\n",
              " 'dishrag, dishcloth',\n",
              " 'dishwasher, dish washer, dishwashing machine',\n",
              " 'disk brake, disc brake',\n",
              " 'dock, dockage, docking facility',\n",
              " 'dogsled, dog sled, dog sleigh',\n",
              " 'dome',\n",
              " 'doormat, welcome mat',\n",
              " 'drilling platform, offshore rig',\n",
              " 'drum, membranophone, tympan',\n",
              " 'drumstick',\n",
              " 'dumbbell',\n",
              " 'Dutch oven',\n",
              " 'electric fan, blower',\n",
              " 'electric guitar',\n",
              " 'electric locomotive',\n",
              " 'entertainment center',\n",
              " 'envelope',\n",
              " 'espresso maker',\n",
              " 'face powder',\n",
              " 'feather boa, boa',\n",
              " 'file, file cabinet, filing cabinet',\n",
              " 'fireboat',\n",
              " 'fire engine, fire truck',\n",
              " 'fire screen, fireguard',\n",
              " 'flagpole, flagstaff',\n",
              " 'flute, transverse flute',\n",
              " 'folding chair',\n",
              " 'football helmet',\n",
              " 'forklift',\n",
              " 'fountain',\n",
              " 'fountain pen',\n",
              " 'four-poster',\n",
              " 'freight car',\n",
              " 'French horn, horn',\n",
              " 'frying pan, frypan, skillet',\n",
              " 'fur coat',\n",
              " 'garbage truck, dustcart',\n",
              " 'gasmask, respirator, gas helmet',\n",
              " 'gas pump, gasoline pump, petrol pump, island dispenser',\n",
              " 'goblet',\n",
              " 'go-kart',\n",
              " 'golf ball',\n",
              " 'golfcart, golf cart',\n",
              " 'gondola',\n",
              " 'gong, tam-tam',\n",
              " 'gown',\n",
              " 'grand piano, grand',\n",
              " 'greenhouse, nursery, glasshouse',\n",
              " 'grille, radiator grille',\n",
              " 'grocery store, grocery, food market, market',\n",
              " 'guillotine',\n",
              " 'hair slide',\n",
              " 'hair spray',\n",
              " 'half track',\n",
              " 'hammer',\n",
              " 'hamper',\n",
              " 'hand blower, blow dryer, blow drier, hair dryer, hair drier',\n",
              " 'hand-held computer, hand-held microcomputer',\n",
              " 'handkerchief, hankie, hanky, hankey',\n",
              " 'hard disc, hard disk, fixed disk',\n",
              " 'harmonica, mouth organ, harp, mouth harp',\n",
              " 'harp',\n",
              " 'harvester, reaper',\n",
              " 'hatchet',\n",
              " 'holster',\n",
              " 'home theater, home theatre',\n",
              " 'honeycomb',\n",
              " 'hook, claw',\n",
              " 'hoopskirt, crinoline',\n",
              " 'horizontal bar, high bar',\n",
              " 'horse cart, horse-cart',\n",
              " 'hourglass',\n",
              " 'iPod',\n",
              " 'iron, smoothing iron',\n",
              " \"jack-o'-lantern\",\n",
              " 'jean, blue jean, denim',\n",
              " 'jeep, landrover',\n",
              " 'jersey, T-shirt, tee shirt',\n",
              " 'jigsaw puzzle',\n",
              " 'jinrikisha, ricksha, rickshaw',\n",
              " 'joystick',\n",
              " 'kimono',\n",
              " 'knee pad',\n",
              " 'knot',\n",
              " 'lab coat, laboratory coat',\n",
              " 'ladle',\n",
              " 'lampshade, lamp shade',\n",
              " 'laptop, laptop computer',\n",
              " 'lawn mower, mower',\n",
              " 'lens cap, lens cover',\n",
              " 'letter opener, paper knife, paperknife',\n",
              " 'library',\n",
              " 'lifeboat',\n",
              " 'lighter, light, igniter, ignitor',\n",
              " 'limousine, limo',\n",
              " 'liner, ocean liner',\n",
              " 'lipstick, lip rouge',\n",
              " 'Loafer',\n",
              " 'lotion',\n",
              " 'loudspeaker, speaker, speaker unit, loudspeaker system, speaker system',\n",
              " \"loupe, jeweler's loupe\",\n",
              " 'lumbermill, sawmill',\n",
              " 'magnetic compass',\n",
              " 'mailbag, postbag',\n",
              " 'mailbox, letter box',\n",
              " 'maillot',\n",
              " 'maillot, tank suit',\n",
              " 'manhole cover',\n",
              " 'maraca',\n",
              " 'marimba, xylophone',\n",
              " 'mask',\n",
              " 'matchstick',\n",
              " 'maypole',\n",
              " 'maze, labyrinth',\n",
              " 'measuring cup',\n",
              " 'medicine chest, medicine cabinet',\n",
              " 'megalith, megalithic structure',\n",
              " 'microphone, mike',\n",
              " 'microwave, microwave oven',\n",
              " 'military uniform',\n",
              " 'milk can',\n",
              " 'minibus',\n",
              " 'miniskirt, mini',\n",
              " 'minivan',\n",
              " 'missile',\n",
              " 'mitten',\n",
              " 'mixing bowl',\n",
              " 'mobile home, manufactured home',\n",
              " 'Model T',\n",
              " 'modem',\n",
              " 'monastery',\n",
              " 'monitor',\n",
              " 'moped',\n",
              " 'mortar',\n",
              " 'mortarboard',\n",
              " 'mosque',\n",
              " 'mosquito net',\n",
              " 'motor scooter, scooter',\n",
              " 'mountain bike, all-terrain bike, off-roader',\n",
              " 'mountain tent',\n",
              " 'mouse, computer mouse',\n",
              " 'mousetrap',\n",
              " 'moving van',\n",
              " 'muzzle',\n",
              " 'nail',\n",
              " 'neck brace',\n",
              " 'necklace',\n",
              " 'nipple',\n",
              " 'notebook, notebook computer',\n",
              " 'obelisk',\n",
              " 'oboe, hautboy, hautbois',\n",
              " 'ocarina, sweet potato',\n",
              " 'odometer, hodometer, mileometer, milometer',\n",
              " 'oil filter',\n",
              " 'organ, pipe organ',\n",
              " 'oscilloscope, scope, cathode-ray oscilloscope, CRO',\n",
              " 'overskirt',\n",
              " 'oxcart',\n",
              " 'oxygen mask',\n",
              " 'packet',\n",
              " 'paddle, boat paddle',\n",
              " 'paddlewheel, paddle wheel',\n",
              " 'padlock',\n",
              " 'paintbrush',\n",
              " \"pajama, pyjama, pj's, jammies\",\n",
              " 'palace',\n",
              " 'panpipe, pandean pipe, syrinx',\n",
              " 'paper towel',\n",
              " 'parachute, chute',\n",
              " 'parallel bars, bars',\n",
              " 'park bench',\n",
              " 'parking meter',\n",
              " 'passenger car, coach, carriage',\n",
              " 'patio, terrace',\n",
              " 'pay-phone, pay-station',\n",
              " 'pedestal, plinth, footstall',\n",
              " 'pencil box, pencil case',\n",
              " 'pencil sharpener',\n",
              " 'perfume, essence',\n",
              " 'Petri dish',\n",
              " 'photocopier',\n",
              " 'pick, plectrum, plectron',\n",
              " 'pickelhaube',\n",
              " 'picket fence, paling',\n",
              " 'pickup, pickup truck',\n",
              " 'pier',\n",
              " 'piggy bank, penny bank',\n",
              " 'pill bottle',\n",
              " 'pillow',\n",
              " 'ping-pong ball',\n",
              " 'pinwheel',\n",
              " 'pirate, pirate ship',\n",
              " 'pitcher, ewer',\n",
              " \"plane, carpenter's plane, woodworking plane\",\n",
              " 'planetarium',\n",
              " 'plastic bag',\n",
              " 'plate rack',\n",
              " 'plow, plough',\n",
              " \"plunger, plumber's helper\",\n",
              " 'Polaroid camera, Polaroid Land camera',\n",
              " 'pole',\n",
              " 'police van, police wagon, paddy wagon, patrol wagon, wagon, black Maria',\n",
              " 'poncho',\n",
              " 'pool table, billiard table, snooker table',\n",
              " 'pop bottle, soda bottle',\n",
              " 'pot, flowerpot',\n",
              " \"potter's wheel\",\n",
              " 'power drill',\n",
              " 'prayer rug, prayer mat',\n",
              " 'printer',\n",
              " 'prison, prison house',\n",
              " 'projectile, missile',\n",
              " 'projector',\n",
              " 'puck, hockey puck',\n",
              " 'punching bag, punch bag, punching ball, punchball',\n",
              " 'purse',\n",
              " 'quill, quill pen',\n",
              " 'quilt, comforter, comfort, puff',\n",
              " 'racer, race car, racing car',\n",
              " 'racket, racquet',\n",
              " 'radiator',\n",
              " 'radio, wireless',\n",
              " 'radio telescope, radio reflector',\n",
              " 'rain barrel',\n",
              " 'recreational vehicle, RV, R.V.',\n",
              " 'reel',\n",
              " 'reflex camera',\n",
              " 'refrigerator, icebox',\n",
              " 'remote control, remote',\n",
              " 'restaurant, eating house, eating place, eatery',\n",
              " 'revolver, six-gun, six-shooter',\n",
              " 'rifle',\n",
              " 'rocking chair, rocker',\n",
              " 'rotisserie',\n",
              " 'rubber eraser, rubber, pencil eraser',\n",
              " 'rugby ball',\n",
              " 'rule, ruler',\n",
              " 'running shoe',\n",
              " 'safe',\n",
              " 'safety pin',\n",
              " 'saltshaker, salt shaker',\n",
              " 'sandal',\n",
              " 'sarong',\n",
              " 'sax, saxophone',\n",
              " 'scabbard',\n",
              " 'scale, weighing machine',\n",
              " 'school bus',\n",
              " 'schooner',\n",
              " 'scoreboard',\n",
              " 'screen, CRT screen',\n",
              " 'screw',\n",
              " 'screwdriver',\n",
              " 'seat belt, seatbelt',\n",
              " 'sewing machine',\n",
              " 'shield, buckler',\n",
              " 'shoe shop, shoe-shop, shoe store',\n",
              " 'shoji',\n",
              " 'shopping basket',\n",
              " 'shopping cart',\n",
              " 'shovel',\n",
              " 'shower cap',\n",
              " 'shower curtain',\n",
              " 'ski',\n",
              " 'ski mask',\n",
              " 'sleeping bag',\n",
              " 'slide rule, slipstick',\n",
              " 'sliding door',\n",
              " 'slot, one-armed bandit',\n",
              " 'snorkel',\n",
              " 'snowmobile',\n",
              " 'snowplow, snowplough',\n",
              " 'soap dispenser',\n",
              " 'soccer ball',\n",
              " 'sock',\n",
              " 'solar dish, solar collector, solar furnace',\n",
              " 'sombrero',\n",
              " 'soup bowl',\n",
              " 'space bar',\n",
              " 'space heater',\n",
              " 'space shuttle',\n",
              " 'spatula',\n",
              " 'speedboat',\n",
              " \"spider web, spider's web\",\n",
              " 'spindle',\n",
              " 'sports car, sport car',\n",
              " 'spotlight, spot',\n",
              " 'stage',\n",
              " 'steam locomotive',\n",
              " 'steel arch bridge',\n",
              " 'steel drum',\n",
              " 'stethoscope',\n",
              " 'stole',\n",
              " 'stone wall',\n",
              " 'stopwatch, stop watch',\n",
              " 'stove',\n",
              " 'strainer',\n",
              " 'streetcar, tram, tramcar, trolley, trolley car',\n",
              " 'stretcher',\n",
              " 'studio couch, day bed',\n",
              " 'stupa, tope',\n",
              " 'submarine, pigboat, sub, U-boat',\n",
              " 'suit, suit of clothes',\n",
              " 'sundial',\n",
              " 'sunglass',\n",
              " 'sunglasses, dark glasses, shades',\n",
              " 'sunscreen, sunblock, sun blocker',\n",
              " 'suspension bridge',\n",
              " 'swab, swob, mop',\n",
              " 'sweatshirt',\n",
              " 'swimming trunks, bathing trunks',\n",
              " 'swing',\n",
              " 'switch, electric switch, electrical switch',\n",
              " 'syringe',\n",
              " 'table lamp',\n",
              " 'tank, army tank, armored combat vehicle, armoured combat vehicle',\n",
              " 'tape player',\n",
              " 'teapot',\n",
              " 'teddy, teddy bear',\n",
              " 'television, television system',\n",
              " 'tennis ball',\n",
              " 'thatch, thatched roof',\n",
              " 'theater curtain, theatre curtain',\n",
              " 'thimble',\n",
              " 'thresher, thrasher, threshing machine',\n",
              " 'throne',\n",
              " 'tile roof',\n",
              " 'toaster',\n",
              " 'tobacco shop, tobacconist shop, tobacconist',\n",
              " 'toilet seat',\n",
              " 'torch',\n",
              " 'totem pole',\n",
              " 'tow truck, tow car, wrecker',\n",
              " 'toyshop',\n",
              " 'tractor',\n",
              " 'trailer truck, tractor trailer, trucking rig, rig, articulated lorry, semi',\n",
              " 'tray',\n",
              " 'trench coat',\n",
              " 'tricycle, trike, velocipede',\n",
              " 'trimaran',\n",
              " 'tripod',\n",
              " 'triumphal arch',\n",
              " 'trolleybus, trolley coach, trackless trolley',\n",
              " 'trombone',\n",
              " 'tub, vat',\n",
              " 'turnstile',\n",
              " 'typewriter keyboard',\n",
              " 'umbrella',\n",
              " 'unicycle, monocycle',\n",
              " 'upright, upright piano',\n",
              " 'vacuum, vacuum cleaner',\n",
              " 'vase',\n",
              " 'vault',\n",
              " 'velvet',\n",
              " 'vending machine',\n",
              " 'vestment',\n",
              " 'viaduct',\n",
              " 'violin, fiddle',\n",
              " 'volleyball',\n",
              " 'waffle iron',\n",
              " 'wall clock',\n",
              " 'wallet, billfold, notecase, pocketbook',\n",
              " 'wardrobe, closet, press',\n",
              " 'warplane, military plane',\n",
              " 'washbasin, handbasin, washbowl, lavabo, wash-hand basin',\n",
              " 'washer, automatic washer, washing machine',\n",
              " 'water bottle',\n",
              " 'water jug',\n",
              " 'water tower',\n",
              " 'whiskey jug',\n",
              " 'whistle',\n",
              " 'wig',\n",
              " 'window screen',\n",
              " 'window shade',\n",
              " 'Windsor tie',\n",
              " 'wine bottle',\n",
              " 'wing',\n",
              " 'wok',\n",
              " 'wooden spoon',\n",
              " 'wool, woolen, woollen',\n",
              " 'worm fence, snake fence, snake-rail fence, Virginia fence',\n",
              " 'wreck',\n",
              " 'yawl',\n",
              " 'yurt',\n",
              " 'web site, website, internet site, site',\n",
              " 'comic book',\n",
              " 'crossword puzzle, crossword',\n",
              " 'street sign',\n",
              " 'traffic light, traffic signal, stoplight',\n",
              " 'book jacket, dust cover, dust jacket, dust wrapper',\n",
              " 'menu',\n",
              " 'plate',\n",
              " 'guacamole',\n",
              " 'consomme',\n",
              " 'hot pot, hotpot',\n",
              " 'trifle',\n",
              " 'ice cream, icecream',\n",
              " 'ice lolly, lolly, lollipop, popsicle',\n",
              " 'French loaf',\n",
              " 'bagel, beigel',\n",
              " 'pretzel',\n",
              " 'cheeseburger',\n",
              " 'hotdog, hot dog, red hot',\n",
              " 'mashed potato',\n",
              " 'head cabbage',\n",
              " 'broccoli',\n",
              " 'cauliflower',\n",
              " 'zucchini, courgette',\n",
              " 'spaghetti squash',\n",
              " 'acorn squash',\n",
              " 'butternut squash',\n",
              " 'cucumber, cuke',\n",
              " 'artichoke, globe artichoke',\n",
              " 'bell pepper',\n",
              " 'cardoon',\n",
              " 'mushroom',\n",
              " 'Granny Smith',\n",
              " 'strawberry',\n",
              " 'orange',\n",
              " 'lemon',\n",
              " 'fig',\n",
              " 'pineapple, ananas',\n",
              " 'banana',\n",
              " 'jackfruit, jak, jack',\n",
              " 'custard apple',\n",
              " 'pomegranate',\n",
              " 'hay',\n",
              " 'carbonara',\n",
              " 'chocolate sauce, chocolate syrup',\n",
              " 'dough',\n",
              " 'meat loaf, meatloaf',\n",
              " 'pizza, pizza pie',\n",
              " 'potpie',\n",
              " 'burrito',\n",
              " 'red wine',\n",
              " 'espresso',\n",
              " 'cup',\n",
              " 'eggnog',\n",
              " 'alp',\n",
              " 'bubble',\n",
              " 'cliff, drop, drop-off',\n",
              " 'coral reef',\n",
              " 'geyser',\n",
              " 'lakeside, lakeshore',\n",
              " 'promontory, headland, head, foreland',\n",
              " 'sandbar, sand bar',\n",
              " 'seashore, coast, seacoast, sea-coast',\n",
              " 'valley, vale',\n",
              " 'volcano',\n",
              " 'ballplayer, baseball player',\n",
              " 'groom, bridegroom',\n",
              " 'scuba diver',\n",
              " 'rapeseed',\n",
              " 'daisy',\n",
              " \"yellow lady's slipper, yellow lady-slipper, Cypripedium calceolus, Cypripedium parviflorum\",\n",
              " 'corn',\n",
              " 'acorn',\n",
              " 'hip, rose hip, rosehip',\n",
              " 'buckeye, horse chestnut, conker',\n",
              " 'coral fungus',\n",
              " 'agaric',\n",
              " 'gyromitra',\n",
              " 'stinkhorn, carrion fungus',\n",
              " 'earthstar',\n",
              " 'hen-of-the-woods, hen of the woods, Polyporus frondosus, Grifola frondosa',\n",
              " 'bolete',\n",
              " 'ear, spike, capitulum',\n",
              " 'toilet tissue, toilet paper, bathroom tissue']"
            ]
          },
          "metadata": {},
          "execution_count": 50
        }
      ]
    },
    {
      "cell_type": "code",
      "source": [
        "# tensor에서 최댓값과 이 최댓값이 들어 있는 부분의 인텍스 출력\n",
        "\n",
        "_, index = torch.max(out, 1)\n",
        "_, index"
      ],
      "metadata": {
        "colab": {
          "base_uri": "https://localhost:8080/"
        },
        "id": "eaXTfV4Ea4-V",
        "outputId": "26e2f30b-bdfc-4561-d825-10823239e90c"
      },
      "execution_count": null,
      "outputs": [
        {
          "output_type": "execute_result",
          "data": {
            "text/plain": [
              "(tensor([15.6744], grad_fn=<MaxBackward0>), tensor([207]))"
            ]
          },
          "metadata": {},
          "execution_count": 51
        }
      ]
    },
    {
      "cell_type": "code",
      "source": [
        "percentage = torch.nn.functional.softmax(out, dim=1)[0] * 100\n",
        "labels[index[0]], percentage[index[0]].item()"
      ],
      "metadata": {
        "colab": {
          "base_uri": "https://localhost:8080/"
        },
        "id": "C8SeAiblbsCR",
        "outputId": "31b6df08-57b0-4a36-dd2a-4b13ad00ddad"
      },
      "execution_count": null,
      "outputs": [
        {
          "output_type": "execute_result",
          "data": {
            "text/plain": [
              "('golden retriever', 96.29335021972656)"
            ]
          },
          "metadata": {},
          "execution_count": 52
        }
      ]
    },
    {
      "cell_type": "code",
      "source": [
        "_, indices = torch.sort(out, descending=True)\n",
        "_, indices\n",
        "# [(index[0], percentage[idx].item()) for idx in indices[0][0:5]]"
      ],
      "metadata": {
        "colab": {
          "base_uri": "https://localhost:8080/"
        },
        "id": "-TYZGinneUVE",
        "outputId": "eff83150-8669-402d-c197-e5f896c0502f"
      },
      "execution_count": null,
      "outputs": [
        {
          "output_type": "execute_result",
          "data": {
            "text/plain": [
              "(tensor([[ 1.5674e+01,  1.2140e+01,  9.8436e+00,  9.5398e+00,  8.9547e+00,\n",
              "           7.7051e+00,  7.5155e+00,  7.5066e+00,  7.0547e+00,  6.9794e+00,\n",
              "           6.4168e+00,  6.4046e+00,  6.1872e+00,  6.1745e+00,  5.9932e+00,\n",
              "           5.8567e+00,  5.8086e+00,  5.7791e+00,  5.6958e+00,  5.6891e+00,\n",
              "           5.6885e+00,  5.6031e+00,  5.6016e+00,  5.5149e+00,  5.4996e+00,\n",
              "           5.3248e+00,  5.2050e+00,  5.1851e+00,  5.0895e+00,  4.9467e+00,\n",
              "           4.8873e+00,  4.8719e+00,  4.8250e+00,  4.7733e+00,  4.7226e+00,\n",
              "           4.6280e+00,  4.5523e+00,  4.4584e+00,  4.3620e+00,  4.3456e+00,\n",
              "           4.3443e+00,  4.3379e+00,  4.2841e+00,  4.2790e+00,  4.2622e+00,\n",
              "           4.2074e+00,  4.0970e+00,  4.0880e+00,  4.0282e+00,  4.0010e+00,\n",
              "           3.9907e+00,  3.9127e+00,  3.7953e+00,  3.7732e+00,  3.7192e+00,\n",
              "           3.7156e+00,  3.6606e+00,  3.6402e+00,  3.6187e+00,  3.5778e+00,\n",
              "           3.5698e+00,  3.5563e+00,  3.5030e+00,  3.5028e+00,  3.4956e+00,\n",
              "           3.4884e+00,  3.4846e+00,  3.4628e+00,  3.4522e+00,  3.4181e+00,\n",
              "           3.4149e+00,  3.4068e+00,  3.3969e+00,  3.3705e+00,  3.3626e+00,\n",
              "           3.3496e+00,  3.3418e+00,  3.3269e+00,  3.3264e+00,  3.3065e+00,\n",
              "           3.3065e+00,  3.3055e+00,  3.2445e+00,  3.2132e+00,  3.2060e+00,\n",
              "           3.0611e+00,  3.0412e+00,  3.0266e+00,  2.9893e+00,  2.9824e+00,\n",
              "           2.9637e+00,  2.9579e+00,  2.9570e+00,  2.8978e+00,  2.8848e+00,\n",
              "           2.8835e+00,  2.8823e+00,  2.8820e+00,  2.8807e+00,  2.8699e+00,\n",
              "           2.8674e+00,  2.8269e+00,  2.8255e+00,  2.7962e+00,  2.7914e+00,\n",
              "           2.7826e+00,  2.7550e+00,  2.6938e+00,  2.6934e+00,  2.6664e+00,\n",
              "           2.6647e+00,  2.6455e+00,  2.6429e+00,  2.6118e+00,  2.5582e+00,\n",
              "           2.5550e+00,  2.5388e+00,  2.5281e+00,  2.5016e+00,  2.4990e+00,\n",
              "           2.4775e+00,  2.4740e+00,  2.4431e+00,  2.4205e+00,  2.4162e+00,\n",
              "           2.3986e+00,  2.3949e+00,  2.3945e+00,  2.3850e+00,  2.3839e+00,\n",
              "           2.3831e+00,  2.3601e+00,  2.3589e+00,  2.3172e+00,  2.2950e+00,\n",
              "           2.2942e+00,  2.2911e+00,  2.2742e+00,  2.2694e+00,  2.2593e+00,\n",
              "           2.2398e+00,  2.2390e+00,  2.2373e+00,  2.2356e+00,  2.2197e+00,\n",
              "           2.1875e+00,  2.1824e+00,  2.1721e+00,  2.1657e+00,  2.1594e+00,\n",
              "           2.1583e+00,  2.1520e+00,  2.1434e+00,  2.1246e+00,  2.1217e+00,\n",
              "           2.1207e+00,  2.0940e+00,  2.0732e+00,  2.0583e+00,  2.0461e+00,\n",
              "           2.0182e+00,  2.0104e+00,  1.9974e+00,  1.9917e+00,  1.9885e+00,\n",
              "           1.9803e+00,  1.9793e+00,  1.9534e+00,  1.9473e+00,  1.9445e+00,\n",
              "           1.9331e+00,  1.9253e+00,  1.9229e+00,  1.9219e+00,  1.9095e+00,\n",
              "           1.9063e+00,  1.9041e+00,  1.8983e+00,  1.8871e+00,  1.8860e+00,\n",
              "           1.8833e+00,  1.8812e+00,  1.8734e+00,  1.8630e+00,  1.8626e+00,\n",
              "           1.8345e+00,  1.8301e+00,  1.8217e+00,  1.8182e+00,  1.8179e+00,\n",
              "           1.8063e+00,  1.7366e+00,  1.7257e+00,  1.7180e+00,  1.7015e+00,\n",
              "           1.6977e+00,  1.6968e+00,  1.6885e+00,  1.6658e+00,  1.6590e+00,\n",
              "           1.6387e+00,  1.6308e+00,  1.6144e+00,  1.5997e+00,  1.5898e+00,\n",
              "           1.5737e+00,  1.5624e+00,  1.5488e+00,  1.5457e+00,  1.5320e+00,\n",
              "           1.5312e+00,  1.5253e+00,  1.5227e+00,  1.5210e+00,  1.5186e+00,\n",
              "           1.5100e+00,  1.5085e+00,  1.4939e+00,  1.4927e+00,  1.4854e+00,\n",
              "           1.4761e+00,  1.4741e+00,  1.4680e+00,  1.4418e+00,  1.4388e+00,\n",
              "           1.4353e+00,  1.4299e+00,  1.4161e+00,  1.4127e+00,  1.3850e+00,\n",
              "           1.3809e+00,  1.3805e+00,  1.3566e+00,  1.3420e+00,  1.3375e+00,\n",
              "           1.3234e+00,  1.3230e+00,  1.3140e+00,  1.3131e+00,  1.3059e+00,\n",
              "           1.3057e+00,  1.3055e+00,  1.3048e+00,  1.3024e+00,  1.3009e+00,\n",
              "           1.2945e+00,  1.2918e+00,  1.2871e+00,  1.2772e+00,  1.2725e+00,\n",
              "           1.2722e+00,  1.2156e+00,  1.2092e+00,  1.2086e+00,  1.1901e+00,\n",
              "           1.1860e+00,  1.1795e+00,  1.1680e+00,  1.1554e+00,  1.1527e+00,\n",
              "           1.1511e+00,  1.1450e+00,  1.1426e+00,  1.1415e+00,  1.1329e+00,\n",
              "           1.1241e+00,  1.1231e+00,  1.0995e+00,  1.0993e+00,  1.0992e+00,\n",
              "           1.0959e+00,  1.0870e+00,  1.0807e+00,  1.0660e+00,  1.0643e+00,\n",
              "           1.0587e+00,  1.0563e+00,  1.0533e+00,  1.0497e+00,  1.0391e+00,\n",
              "           1.0360e+00,  1.0358e+00,  1.0336e+00,  1.0270e+00,  1.0128e+00,\n",
              "           1.0060e+00,  9.9796e-01,  9.9570e-01,  9.9525e-01,  9.9434e-01,\n",
              "           9.9215e-01,  9.6227e-01,  9.5719e-01,  9.5682e-01,  9.5069e-01,\n",
              "           9.4819e-01,  9.2982e-01,  9.2510e-01,  9.1568e-01,  9.1473e-01,\n",
              "           9.0731e-01,  9.0636e-01,  8.9641e-01,  8.8831e-01,  8.7255e-01,\n",
              "           8.7091e-01,  8.7084e-01,  8.6618e-01,  8.6249e-01,  8.6190e-01,\n",
              "           8.5880e-01,  8.5852e-01,  8.5265e-01,  8.5127e-01,  8.2096e-01,\n",
              "           8.0787e-01,  8.0364e-01,  8.0225e-01,  7.9938e-01,  7.9635e-01,\n",
              "           7.9443e-01,  7.9249e-01,  7.8257e-01,  7.7769e-01,  7.6857e-01,\n",
              "           7.6702e-01,  7.5865e-01,  7.5825e-01,  7.5817e-01,  7.4987e-01,\n",
              "           7.4630e-01,  7.3696e-01,  7.3219e-01,  7.1537e-01,  7.1266e-01,\n",
              "           7.1091e-01,  6.9517e-01,  6.9033e-01,  6.8673e-01,  6.7694e-01,\n",
              "           6.7141e-01,  6.7030e-01,  6.5878e-01,  6.5843e-01,  6.5593e-01,\n",
              "           6.5023e-01,  6.2614e-01,  6.1368e-01,  6.0876e-01,  6.0364e-01,\n",
              "           6.0024e-01,  5.9283e-01,  5.9193e-01,  5.8991e-01,  5.8118e-01,\n",
              "           5.7985e-01,  5.7504e-01,  5.5604e-01,  5.4372e-01,  5.4171e-01,\n",
              "           5.3562e-01,  5.3348e-01,  5.2548e-01,  5.1593e-01,  5.1375e-01,\n",
              "           5.1182e-01,  5.1155e-01,  5.0423e-01,  4.8295e-01,  4.8149e-01,\n",
              "           4.8082e-01,  4.7933e-01,  4.7847e-01,  4.7498e-01,  4.7010e-01,\n",
              "           4.6767e-01,  4.6637e-01,  4.6122e-01,  4.5175e-01,  4.5058e-01,\n",
              "           4.5000e-01,  4.4124e-01,  4.3202e-01,  4.1647e-01,  4.1487e-01,\n",
              "           4.0987e-01,  4.0911e-01,  4.0300e-01,  3.9847e-01,  3.9806e-01,\n",
              "           3.8983e-01,  3.7309e-01,  3.7236e-01,  3.7004e-01,  3.4084e-01,\n",
              "           3.4005e-01,  3.3723e-01,  3.1604e-01,  3.0274e-01,  3.0037e-01,\n",
              "           2.9573e-01,  2.9510e-01,  2.9499e-01,  2.8775e-01,  2.8466e-01,\n",
              "           2.7933e-01,  2.6750e-01,  2.6322e-01,  2.5441e-01,  2.5264e-01,\n",
              "           2.2839e-01,  2.2513e-01,  2.2464e-01,  2.2305e-01,  2.1408e-01,\n",
              "           1.9237e-01,  1.8876e-01,  1.8629e-01,  1.8575e-01,  1.8385e-01,\n",
              "           1.8185e-01,  1.8115e-01,  1.8005e-01,  1.6465e-01,  1.5960e-01,\n",
              "           1.4922e-01,  1.4820e-01,  1.4785e-01,  1.3916e-01,  1.3018e-01,\n",
              "           1.2856e-01,  1.2820e-01,  1.2191e-01,  1.1973e-01,  1.1952e-01,\n",
              "           1.1941e-01,  1.1283e-01,  1.0871e-01,  1.0733e-01,  1.0631e-01,\n",
              "           9.9857e-02,  9.8038e-02,  9.6212e-02,  9.1855e-02,  8.7698e-02,\n",
              "           8.1044e-02,  7.9207e-02,  7.1265e-02,  5.2414e-02,  4.7108e-02,\n",
              "           4.6970e-02,  4.5531e-02,  4.1588e-02,  3.8843e-02,  3.8708e-02,\n",
              "           3.2128e-02,  1.8891e-02,  1.4233e-02,  1.0987e-02,  2.4376e-03,\n",
              "          -2.2801e-03, -1.6449e-02, -2.4310e-02, -3.4144e-02, -4.0182e-02,\n",
              "          -4.0951e-02, -4.6198e-02, -4.9213e-02, -5.2855e-02, -5.9500e-02,\n",
              "          -7.0117e-02, -9.2978e-02, -9.6967e-02, -1.0072e-01, -1.0530e-01,\n",
              "          -1.1252e-01, -1.1333e-01, -1.2360e-01, -1.3066e-01, -1.3295e-01,\n",
              "          -1.3325e-01, -1.3643e-01, -1.4943e-01, -1.5698e-01, -1.6181e-01,\n",
              "          -1.6206e-01, -1.6493e-01, -1.6815e-01, -1.9782e-01, -2.0312e-01,\n",
              "          -2.0590e-01, -2.0776e-01, -2.1836e-01, -2.4128e-01, -2.5686e-01,\n",
              "          -2.7066e-01, -2.7477e-01, -2.7820e-01, -2.7968e-01, -2.8537e-01,\n",
              "          -2.9532e-01, -3.0086e-01, -3.0889e-01, -3.1106e-01, -3.1261e-01,\n",
              "          -3.1364e-01, -3.2016e-01, -3.2104e-01, -3.2125e-01, -3.2359e-01,\n",
              "          -3.2947e-01, -3.3199e-01, -3.3541e-01, -3.4029e-01, -3.4133e-01,\n",
              "          -3.5442e-01, -3.7005e-01, -3.7229e-01, -3.7380e-01, -3.8016e-01,\n",
              "          -3.8174e-01, -3.8734e-01, -3.8987e-01, -4.0387e-01, -4.0412e-01,\n",
              "          -4.1253e-01, -4.1344e-01, -4.1462e-01, -4.2284e-01, -4.2330e-01,\n",
              "          -4.2427e-01, -4.2920e-01, -4.3191e-01, -4.3380e-01, -4.3746e-01,\n",
              "          -4.5063e-01, -4.5093e-01, -4.5369e-01, -4.5848e-01, -4.6588e-01,\n",
              "          -4.6728e-01, -4.6732e-01, -4.6863e-01, -4.7347e-01, -4.7445e-01,\n",
              "          -4.8286e-01, -4.8723e-01, -4.8838e-01, -5.0451e-01, -5.0764e-01,\n",
              "          -5.1364e-01, -5.3657e-01, -5.3676e-01, -5.4423e-01, -5.4504e-01,\n",
              "          -5.5075e-01, -5.5236e-01, -5.5658e-01, -5.6701e-01, -5.7457e-01,\n",
              "          -5.8541e-01, -5.9215e-01, -5.9378e-01, -5.9990e-01, -6.0107e-01,\n",
              "          -6.0400e-01, -6.0873e-01, -6.1700e-01, -6.1874e-01, -6.2533e-01,\n",
              "          -6.2602e-01, -6.3256e-01, -6.3751e-01, -6.4104e-01, -6.4234e-01,\n",
              "          -6.5183e-01, -6.5640e-01, -6.5790e-01, -6.5939e-01, -6.6744e-01,\n",
              "          -6.7742e-01, -7.0227e-01, -7.0304e-01, -7.0908e-01, -7.1424e-01,\n",
              "          -7.1587e-01, -7.2352e-01, -7.2612e-01, -7.3556e-01, -7.3738e-01,\n",
              "          -7.3754e-01, -7.3866e-01, -7.3869e-01, -7.3998e-01, -7.4290e-01,\n",
              "          -7.4427e-01, -7.5314e-01, -7.5988e-01, -7.6032e-01, -7.6254e-01,\n",
              "          -7.6419e-01, -7.6507e-01, -7.6760e-01, -7.6857e-01, -7.6861e-01,\n",
              "          -7.6893e-01, -7.7844e-01, -7.8057e-01, -7.8641e-01, -7.8799e-01,\n",
              "          -7.9404e-01, -8.0395e-01, -8.1103e-01, -8.1360e-01, -8.1440e-01,\n",
              "          -8.1442e-01, -8.2025e-01, -8.3603e-01, -8.4138e-01, -8.4727e-01,\n",
              "          -8.4839e-01, -8.4857e-01, -8.5241e-01, -8.5398e-01, -8.6155e-01,\n",
              "          -8.6286e-01, -8.9197e-01, -8.9419e-01, -8.9567e-01, -8.9728e-01,\n",
              "          -9.0145e-01, -9.0533e-01, -9.1973e-01, -9.2215e-01, -9.3332e-01,\n",
              "          -9.3733e-01, -9.3960e-01, -9.4164e-01, -9.4297e-01, -9.4389e-01,\n",
              "          -9.4825e-01, -9.6399e-01, -9.7836e-01, -9.8906e-01, -9.9456e-01,\n",
              "          -1.0001e+00, -1.0044e+00, -1.0103e+00, -1.0232e+00, -1.0245e+00,\n",
              "          -1.0275e+00, -1.0291e+00, -1.0299e+00, -1.0396e+00, -1.0433e+00,\n",
              "          -1.0442e+00, -1.0448e+00, -1.0509e+00, -1.0588e+00, -1.0811e+00,\n",
              "          -1.0832e+00, -1.0903e+00, -1.0925e+00, -1.0961e+00, -1.1090e+00,\n",
              "          -1.1147e+00, -1.1158e+00, -1.1176e+00, -1.1300e+00, -1.1355e+00,\n",
              "          -1.1376e+00, -1.1396e+00, -1.1396e+00, -1.1452e+00, -1.1585e+00,\n",
              "          -1.1660e+00, -1.1723e+00, -1.1784e+00, -1.1794e+00, -1.1852e+00,\n",
              "          -1.1865e+00, -1.1902e+00, -1.1918e+00, -1.1935e+00, -1.1967e+00,\n",
              "          -1.2102e+00, -1.2186e+00, -1.2308e+00, -1.2457e+00, -1.2562e+00,\n",
              "          -1.2590e+00, -1.2731e+00, -1.2748e+00, -1.2882e+00, -1.2927e+00,\n",
              "          -1.3001e+00, -1.3041e+00, -1.3043e+00, -1.3055e+00, -1.3140e+00,\n",
              "          -1.3146e+00, -1.3166e+00, -1.3179e+00, -1.3223e+00, -1.3249e+00,\n",
              "          -1.3366e+00, -1.3463e+00, -1.3483e+00, -1.3585e+00, -1.3611e+00,\n",
              "          -1.3760e+00, -1.3834e+00, -1.3849e+00, -1.3850e+00, -1.3859e+00,\n",
              "          -1.3908e+00, -1.3973e+00, -1.4142e+00, -1.4160e+00, -1.4175e+00,\n",
              "          -1.4191e+00, -1.4204e+00, -1.4210e+00, -1.4287e+00, -1.4299e+00,\n",
              "          -1.4318e+00, -1.4349e+00, -1.4353e+00, -1.4365e+00, -1.4368e+00,\n",
              "          -1.4377e+00, -1.4430e+00, -1.4516e+00, -1.4552e+00, -1.4572e+00,\n",
              "          -1.4618e+00, -1.4785e+00, -1.4805e+00, -1.4806e+00, -1.4862e+00,\n",
              "          -1.4883e+00, -1.4914e+00, -1.4953e+00, -1.5027e+00, -1.5028e+00,\n",
              "          -1.5031e+00, -1.5137e+00, -1.5175e+00, -1.5186e+00, -1.5287e+00,\n",
              "          -1.5402e+00, -1.5489e+00, -1.5560e+00, -1.5596e+00, -1.5605e+00,\n",
              "          -1.5624e+00, -1.5808e+00, -1.5956e+00, -1.6105e+00, -1.6256e+00,\n",
              "          -1.6408e+00, -1.6618e+00, -1.6680e+00, -1.6683e+00, -1.6728e+00,\n",
              "          -1.6859e+00, -1.6862e+00, -1.6980e+00, -1.7127e+00, -1.7147e+00,\n",
              "          -1.7196e+00, -1.7358e+00, -1.7373e+00, -1.7394e+00, -1.7508e+00,\n",
              "          -1.7524e+00, -1.7554e+00, -1.7622e+00, -1.7652e+00, -1.7726e+00,\n",
              "          -1.7835e+00, -1.7860e+00, -1.7911e+00, -1.7942e+00, -1.7948e+00,\n",
              "          -1.7969e+00, -1.8022e+00, -1.8030e+00, -1.8049e+00, -1.8166e+00,\n",
              "          -1.8231e+00, -1.8283e+00, -1.8287e+00, -1.8349e+00, -1.8372e+00,\n",
              "          -1.8412e+00, -1.8426e+00, -1.8442e+00, -1.8470e+00, -1.8525e+00,\n",
              "          -1.8553e+00, -1.8582e+00, -1.8627e+00, -1.8726e+00, -1.8754e+00,\n",
              "          -1.8880e+00, -1.8937e+00, -1.8998e+00, -1.9067e+00, -1.9102e+00,\n",
              "          -1.9111e+00, -1.9127e+00, -1.9144e+00, -1.9328e+00, -1.9354e+00,\n",
              "          -1.9374e+00, -1.9420e+00, -1.9682e+00, -1.9843e+00, -1.9893e+00,\n",
              "          -1.9960e+00, -2.0034e+00, -2.0051e+00, -2.0247e+00, -2.0270e+00,\n",
              "          -2.0298e+00, -2.0341e+00, -2.0352e+00, -2.0411e+00, -2.0465e+00,\n",
              "          -2.0507e+00, -2.0528e+00, -2.0537e+00, -2.0666e+00, -2.0678e+00,\n",
              "          -2.0769e+00, -2.0806e+00, -2.0861e+00, -2.0907e+00, -2.0921e+00,\n",
              "          -2.1073e+00, -2.1074e+00, -2.1138e+00, -2.1175e+00, -2.1215e+00,\n",
              "          -2.1250e+00, -2.1327e+00, -2.1400e+00, -2.1452e+00, -2.1529e+00,\n",
              "          -2.1606e+00, -2.1716e+00, -2.1745e+00, -2.1964e+00, -2.2122e+00,\n",
              "          -2.2173e+00, -2.2268e+00, -2.2285e+00, -2.2445e+00, -2.2579e+00,\n",
              "          -2.2616e+00, -2.2675e+00, -2.2823e+00, -2.2918e+00, -2.3068e+00,\n",
              "          -2.3154e+00, -2.3240e+00, -2.3425e+00, -2.3503e+00, -2.3629e+00,\n",
              "          -2.3758e+00, -2.3869e+00, -2.4300e+00, -2.4515e+00, -2.4550e+00,\n",
              "          -2.4613e+00, -2.4737e+00, -2.4776e+00, -2.4832e+00, -2.4894e+00,\n",
              "          -2.4953e+00, -2.4964e+00, -2.5103e+00, -2.5112e+00, -2.5145e+00,\n",
              "          -2.5256e+00, -2.5266e+00, -2.5400e+00, -2.5433e+00, -2.5448e+00,\n",
              "          -2.5520e+00, -2.5798e+00, -2.5965e+00, -2.5969e+00, -2.6016e+00,\n",
              "          -2.6107e+00, -2.6129e+00, -2.6228e+00, -2.6234e+00, -2.6282e+00,\n",
              "          -2.6306e+00, -2.6427e+00, -2.6436e+00, -2.6543e+00, -2.6651e+00,\n",
              "          -2.6754e+00, -2.6845e+00, -2.7179e+00, -2.7324e+00, -2.7384e+00,\n",
              "          -2.7499e+00, -2.7734e+00, -2.7923e+00, -2.8029e+00, -2.8143e+00,\n",
              "          -2.8278e+00, -2.8282e+00, -2.8312e+00, -2.8471e+00, -2.8798e+00,\n",
              "          -2.8812e+00, -2.8900e+00, -2.8939e+00, -2.9093e+00, -2.9197e+00,\n",
              "          -2.9228e+00, -2.9312e+00, -2.9352e+00, -2.9438e+00, -2.9597e+00,\n",
              "          -2.9645e+00, -2.9725e+00, -2.9742e+00, -2.9849e+00, -3.0008e+00,\n",
              "          -3.0060e+00, -3.0193e+00, -3.0918e+00, -3.0976e+00, -3.1265e+00,\n",
              "          -3.1302e+00, -3.1681e+00, -3.1761e+00, -3.1888e+00, -3.2041e+00,\n",
              "          -3.2354e+00, -3.2403e+00, -3.2466e+00, -3.2500e+00, -3.2662e+00,\n",
              "          -3.2714e+00, -3.2804e+00, -3.2897e+00, -3.2964e+00, -3.3013e+00,\n",
              "          -3.3019e+00, -3.3097e+00, -3.3457e+00, -3.3744e+00, -3.3882e+00,\n",
              "          -3.4138e+00, -3.4176e+00, -3.4476e+00, -3.4544e+00, -3.4571e+00,\n",
              "          -3.4712e+00, -3.4803e+00, -3.5587e+00, -3.5611e+00, -3.5932e+00,\n",
              "          -3.6113e+00, -3.6207e+00, -3.6478e+00, -3.6659e+00, -3.7195e+00,\n",
              "          -3.7345e+00, -3.7441e+00, -3.7442e+00, -3.7750e+00, -3.7871e+00,\n",
              "          -3.8408e+00, -3.8437e+00, -3.8589e+00, -3.8709e+00, -3.8874e+00,\n",
              "          -3.9457e+00, -3.9844e+00, -3.9905e+00, -4.0037e+00, -4.2244e+00,\n",
              "          -4.2451e+00, -4.3189e+00, -4.3249e+00, -4.3375e+00, -4.3896e+00,\n",
              "          -4.4214e+00, -4.4594e+00, -4.4702e+00, -4.7830e+00, -4.8460e+00]],\n",
              "        grad_fn=<SortBackward0>),\n",
              " tensor([[207, 208, 219, 168, 852, 205, 213, 162, 539, 215, 220, 434, 159, 212,\n",
              "          231, 214, 165, 227, 263, 216, 176, 222, 805, 175, 211, 218, 209, 257,\n",
              "          244, 154, 164, 552, 230, 411, 700, 161, 273, 999, 260, 163, 206, 185,\n",
              "          793, 184, 238, 160, 931, 239, 166, 589, 232, 259, 736, 543, 264, 929,\n",
              "          234, 266, 879, 167, 204, 752, 192, 200, 251, 223, 478, 256, 182, 240,\n",
              "          882, 705, 998, 267, 534, 414, 452, 813, 515, 170, 799, 765, 767, 638,\n",
              "          961, 415, 797, 191, 578, 757, 785, 904, 156, 236, 868, 641, 722, 235,\n",
              "          659, 247, 990, 876, 428, 462, 193, 750, 910, 197, 217, 673, 828, 591,\n",
              "          549, 735, 808, 226, 202, 248, 178, 463, 574, 948, 221, 265, 776, 618,\n",
              "          255, 241, 898, 151, 987, 811, 789, 433, 201, 761, 731, 496, 779, 939,\n",
              "          472, 153, 579, 158, 522, 429, 740, 448, 558, 693, 502, 676, 177, 189,\n",
              "          615, 930, 840, 224, 559, 947, 196, 824, 774, 733, 246, 443, 293, 953,\n",
              "          171, 519, 210, 249, 655, 253, 180, 199, 508, 790, 402, 174, 152, 194,\n",
              "          619, 435, 710, 791, 430, 683, 258, 514, 639, 697, 932, 401, 664, 660,\n",
              "          542, 818, 446, 492, 419, 187, 526, 892, 518, 457, 890, 831, 553, 721,\n",
              "          281, 416, 667, 506, 440, 412, 992, 872, 181, 870,  79, 509, 681, 550,\n",
              "          173, 622, 782,  42, 741, 678, 936, 769, 431, 421, 225, 314, 541, 203,\n",
              "          301, 237, 826, 598, 650, 608, 304, 186, 418, 937, 903, 520, 934, 804,\n",
              "          827, 955, 572, 881, 646, 816, 271, 880, 748, 455, 188, 317, 689, 495,\n",
              "          823, 630, 620, 432, 169, 851, 855, 112, 198, 846, 935, 311, 563, 885,\n",
              "          229, 532, 621, 423, 893, 942, 763, 523, 499, 155, 834,  46, 732, 749,\n",
              "          529, 498, 883, 582, 728, 285, 528, 837, 964, 861, 567, 243, 969, 677,\n",
              "          613, 190, 943, 157, 933, 792, 487, 850, 599, 588, 845, 551, 844, 784,\n",
              "          447, 699, 282, 717, 593, 228, 609, 950, 666, 516, 956, 307, 616, 737,\n",
              "          614, 284, 417, 928, 658, 568, 770, 250, 533, 962, 179, 988, 842,  77,\n",
              "          436, 647, 629, 897, 745, 545, 426, 981, 841, 977, 530, 706, 899, 594,\n",
              "          670, 723, 747, 254, 989, 597, 794, 742, 409, 465, 566, 607, 451, 771,\n",
              "          954, 480, 869, 531, 479,  92, 548, 183, 775, 475, 651, 305, 773, 968,\n",
              "          445, 918, 762, 575, 261, 242, 806, 709, 319, 719, 911, 427, 848, 636,\n",
              "          788, 602, 585,  87, 397, 482, 949, 661, 759, 464, 339, 975, 886, 680,\n",
              "          859, 866, 488, 698, 328, 967, 810, 400, 195, 270, 996, 958, 648, 312,\n",
              "          940, 454, 359,  43, 971, 420, 610, 696, 960, 858, 493, 778,  73, 313,\n",
              "          422, 504, 601, 527, 656, 951, 672, 643, 584, 783, 631, 595, 738,  94,\n",
              "          907, 716, 605, 272, 754, 623, 965, 909, 644, 729, 713, 611, 442, 963,\n",
              "          586,  83, 843, 624, 398, 760, 825, 512, 753, 511, 768, 889, 617, 665,\n",
              "          269, 637, 694, 323, 356,  82,  75, 491, 905, 453, 470, 308, 486, 707,\n",
              "          399, 477, 945, 915, 916, 924, 838, 809, 995, 679, 692, 306, 632, 129,\n",
              "          959, 505,  60, 865, 332, 923,  67, 862,  74, 856, 489, 634, 459, 606,\n",
              "          140, 473, 318, 891,  40, 633,  56, 262, 494, 333, 424, 172, 896, 796,\n",
              "          758, 441,  59, 708, 353, 687, 122, 107, 310, 338, 501,  96, 252, 985,\n",
              "          490, 299, 906, 117, 294, 746, 377, 920, 600, 587, 878, 524, 277, 815,\n",
              "          671,  18, 927, 485, 800, 944, 406, 537, 781, 245, 714, 113, 908, 114,\n",
              "          125, 513, 701, 941, 468,  62, 642, 887, 938, 984, 564, 309, 517, 875,\n",
              "          596, 724, 902, 691, 863, 978, 772, 334,  17, 327, 538, 703, 662, 580,\n",
              "          798, 352, 123, 407, 571, 686, 612,  76, 922, 474,  78, 853, 560, 557,\n",
              "          725, 744, 577, 503,  39, 268, 854, 121, 331, 386, 786, 363, 291, 657,\n",
              "           47, 957, 727, 645,  24, 280, 739, 108, 535, 290, 507,  25, 497, 300,\n",
              "           88,  23,  72, 720,  37, 682, 481,  61, 849, 836, 126, 997, 884, 912,\n",
              "           36, 764, 966, 124, 544, 669, 469, 711, 395, 569, 877, 590, 150,  70,\n",
              "           38,  19, 362, 688, 626, 652, 684, 376, 653, 134,  55,   8,  11, 982,\n",
              "          894, 627, 408,  71, 743, 787,  93, 547, 425,   5, 900, 456, 860, 556,\n",
              "           97, 604, 365, 471, 525, 570, 690, 756, 449, 374,  63, 476, 118, 565,\n",
              "          795, 919, 668,  86, 562, 812, 320, 704, 913, 460,  45,  69,  64, 296,\n",
              "          437, 302, 819, 111, 635, 972, 640, 368, 361,  41, 325, 278, 946, 521,\n",
              "          288, 413, 467, 674, 654,   1, 780, 702, 355, 276,  10, 734, 316, 625,\n",
              "          726, 444,  66, 822, 233, 857, 926, 952, 576,  54, 561, 592, 358, 341,\n",
              "          718, 829,  52, 283, 766, 695, 546, 573, 925, 274, 847, 133, 895,  44,\n",
              "          389, 830,  31, 973, 348, 336, 379,  99, 330, 109, 298,  34, 777, 132,\n",
              "          438,  53, 970,  68, 369, 466, 581, 393, 346, 350, 315, 136, 388, 102,\n",
              "          921, 303, 712,   6, 663, 292,  57,  51, 340, 755, 917, 832, 286,  32,\n",
              "           65, 127, 337, 685, 360, 287,  33, 603, 583, 279, 345, 458, 461,  28,\n",
              "          867, 115, 135, 555,  84,  91, 116,  22, 351, 410, 730, 833, 901,  85,\n",
              "          387, 324, 380, 103,  14,   2, 450,  27, 373, 342, 142, 994, 364, 295,\n",
              "          335,   7,  90, 326, 873, 322, 715, 986, 382,  50, 119, 500, 979, 817,\n",
              "           12, 143, 321, 801, 145,  80, 439, 275, 483, 405, 820, 130, 104,  49,\n",
              "          144, 357, 139, 329,  15, 484, 396, 378, 392,  95,  89,   9, 536, 375,\n",
              "          354, 874, 888,  98, 976, 371,  13, 803, 101, 131, 370,  48,  20,  26,\n",
              "          751, 864, 403, 807, 137, 802, 297,  29,  35,   4, 993,   3, 146,  58,\n",
              "          390, 138,  30,  16, 540, 675, 814, 349, 871, 381, 628, 839, 649, 391,\n",
              "            0, 385, 110, 554, 106, 149,  81, 821, 347, 404, 394, 991, 141, 835,\n",
              "          983, 974, 366, 383, 343,  21, 120, 105, 128, 100, 148, 367, 147, 914,\n",
              "          510, 344, 980, 384, 289, 372]]))"
            ]
          },
          "metadata": {},
          "execution_count": 54
        }
      ]
    },
    {
      "cell_type": "code",
      "source": [
        "_, indices = torch.sort(out, descending=True)\n",
        "[(labels[idx], percentage[idx].item()) for idx in indices[0][:5]]"
      ],
      "metadata": {
        "colab": {
          "base_uri": "https://localhost:8080/"
        },
        "id": "CCMq5aVClTx_",
        "outputId": "24583fd1-8292-4888-92fd-df5bcdfb3597"
      },
      "execution_count": null,
      "outputs": [
        {
          "output_type": "execute_result",
          "data": {
            "text/plain": [
              "[('golden retriever', 96.29335021972656),\n",
              " ('Labrador retriever', 2.8081188201904297),\n",
              " ('cocker spaniel, English cocker spaniel, cocker', 0.2826734781265259),\n",
              " ('redbone', 0.2086300402879715),\n",
              " ('tennis ball', 0.11621593683958054)]"
            ]
          },
          "metadata": {},
          "execution_count": 53
        }
      ]
    },
    {
      "cell_type": "markdown",
      "source": [
        "### CycleGAN"
      ],
      "metadata": {
        "id": "0KVvrHbO5qDX"
      }
    },
    {
      "cell_type": "code",
      "source": [
        "import torch\n",
        "import torch.nn as nn\n",
        "\n",
        "\n",
        "class ResNetBlock(nn.Module): # <1>\n",
        "\n",
        "    def __init__(self, dim):\n",
        "        super(ResNetBlock, self).__init__()\n",
        "        self.conv_block = self.build_conv_block(dim)\n",
        "\n",
        "    def build_conv_block(self, dim):\n",
        "        conv_block = []\n",
        "\n",
        "        conv_block += [nn.ReflectionPad2d(1)]\n",
        "\n",
        "        conv_block += [nn.Conv2d(dim, dim, kernel_size=3, padding=0, bias=True),\n",
        "                       nn.InstanceNorm2d(dim),\n",
        "                       nn.ReLU(True)]\n",
        "\n",
        "        conv_block += [nn.ReflectionPad2d(1)]\n",
        "\n",
        "        conv_block += [nn.Conv2d(dim, dim, kernel_size=3, padding=0, bias=True),\n",
        "                       nn.InstanceNorm2d(dim)]\n",
        "\n",
        "        return nn.Sequential(*conv_block)\n",
        "\n",
        "    def forward(self, x):\n",
        "        out = x + self.conv_block(x) # <2>\n",
        "        return out\n",
        "\n",
        "\n",
        "class ResNetGenerator(nn.Module):\n",
        "\n",
        "    def __init__(self, input_nc=3, output_nc=3, ngf=64, n_blocks=9): # <3> \n",
        "\n",
        "        assert(n_blocks >= 0)\n",
        "        super(ResNetGenerator, self).__init__()\n",
        "\n",
        "        self.input_nc = input_nc\n",
        "        self.output_nc = output_nc\n",
        "        self.ngf = ngf\n",
        "\n",
        "        model = [nn.ReflectionPad2d(3),\n",
        "                 nn.Conv2d(input_nc, ngf, kernel_size=7, padding=0, bias=True),\n",
        "                 nn.InstanceNorm2d(ngf),\n",
        "                 nn.ReLU(True)]\n",
        "\n",
        "        n_downsampling = 2\n",
        "        for i in range(n_downsampling):\n",
        "            mult = 2**i\n",
        "            model += [nn.Conv2d(ngf * mult, ngf * mult * 2, kernel_size=3,\n",
        "                                stride=2, padding=1, bias=True),\n",
        "                      nn.InstanceNorm2d(ngf * mult * 2),\n",
        "                      nn.ReLU(True)]\n",
        "\n",
        "        mult = 2**n_downsampling\n",
        "        for i in range(n_blocks):\n",
        "            model += [ResNetBlock(ngf * mult)]\n",
        "\n",
        "        for i in range(n_downsampling):\n",
        "            mult = 2**(n_downsampling - i)\n",
        "            model += [nn.ConvTranspose2d(ngf * mult, int(ngf * mult / 2),\n",
        "                                         kernel_size=3, stride=2,\n",
        "                                         padding=1, output_padding=1,\n",
        "                                         bias=True),\n",
        "                      nn.InstanceNorm2d(int(ngf * mult / 2)),\n",
        "                      nn.ReLU(True)]\n",
        "\n",
        "        model += [nn.ReflectionPad2d(3)]\n",
        "        model += [nn.Conv2d(ngf, output_nc, kernel_size=7, padding=0)]\n",
        "        model += [nn.Tanh()]\n",
        "\n",
        "        self.model = nn.Sequential(*model)\n",
        "\n",
        "    def forward(self, input): # <3>\n",
        "        return self.model(input)"
      ],
      "metadata": {
        "id": "DDkYTK3N5mFm"
      },
      "execution_count": null,
      "outputs": []
    },
    {
      "cell_type": "code",
      "source": [
        "# ResNetGenerator 클래스 인스턴스 생성\n",
        "\n",
        "netG = ResNetGenerator()"
      ],
      "metadata": {
        "id": "xJdbdKiL54i-"
      },
      "execution_count": null,
      "outputs": []
    },
    {
      "cell_type": "code",
      "source": [
        "# model의 가중치를 ResNetGenerator에 로드할 때 load_state_dict 함수를 사용\n",
        "\n",
        "model_path = '/content/dlwpt-code/data/p1ch2/horse2zebra_0.4.0.pth'\n",
        "model_data = torch.load(model_path)\n",
        "netG.load_state_dict(model_data)"
      ],
      "metadata": {
        "colab": {
          "base_uri": "https://localhost:8080/"
        },
        "id": "YwTAzaSf64AO",
        "outputId": "e532e6ec-345b-4e91-fbbd-47cd1070cfe1"
      },
      "execution_count": null,
      "outputs": [
        {
          "output_type": "execute_result",
          "data": {
            "text/plain": [
              "<All keys matched successfully>"
            ]
          },
          "metadata": {},
          "execution_count": 65
        }
      ]
    },
    {
      "cell_type": "code",
      "source": [
        "# model에 새로운 데이터를 넣어 추론하는 과정 (eval)\n",
        "\n",
        "netG.eval()"
      ],
      "metadata": {
        "colab": {
          "base_uri": "https://localhost:8080/"
        },
        "id": "b6EdDdwQ64KM",
        "outputId": "294080a8-c29f-4021-cf9b-264a7898908f"
      },
      "execution_count": null,
      "outputs": [
        {
          "output_type": "execute_result",
          "data": {
            "text/plain": [
              "ResNetGenerator(\n",
              "  (model): Sequential(\n",
              "    (0): ReflectionPad2d((3, 3, 3, 3))\n",
              "    (1): Conv2d(3, 64, kernel_size=(7, 7), stride=(1, 1))\n",
              "    (2): InstanceNorm2d(64, eps=1e-05, momentum=0.1, affine=False, track_running_stats=False)\n",
              "    (3): ReLU(inplace=True)\n",
              "    (4): Conv2d(64, 128, kernel_size=(3, 3), stride=(2, 2), padding=(1, 1))\n",
              "    (5): InstanceNorm2d(128, eps=1e-05, momentum=0.1, affine=False, track_running_stats=False)\n",
              "    (6): ReLU(inplace=True)\n",
              "    (7): Conv2d(128, 256, kernel_size=(3, 3), stride=(2, 2), padding=(1, 1))\n",
              "    (8): InstanceNorm2d(256, eps=1e-05, momentum=0.1, affine=False, track_running_stats=False)\n",
              "    (9): ReLU(inplace=True)\n",
              "    (10): ResNetBlock(\n",
              "      (conv_block): Sequential(\n",
              "        (0): ReflectionPad2d((1, 1, 1, 1))\n",
              "        (1): Conv2d(256, 256, kernel_size=(3, 3), stride=(1, 1))\n",
              "        (2): InstanceNorm2d(256, eps=1e-05, momentum=0.1, affine=False, track_running_stats=False)\n",
              "        (3): ReLU(inplace=True)\n",
              "        (4): ReflectionPad2d((1, 1, 1, 1))\n",
              "        (5): Conv2d(256, 256, kernel_size=(3, 3), stride=(1, 1))\n",
              "        (6): InstanceNorm2d(256, eps=1e-05, momentum=0.1, affine=False, track_running_stats=False)\n",
              "      )\n",
              "    )\n",
              "    (11): ResNetBlock(\n",
              "      (conv_block): Sequential(\n",
              "        (0): ReflectionPad2d((1, 1, 1, 1))\n",
              "        (1): Conv2d(256, 256, kernel_size=(3, 3), stride=(1, 1))\n",
              "        (2): InstanceNorm2d(256, eps=1e-05, momentum=0.1, affine=False, track_running_stats=False)\n",
              "        (3): ReLU(inplace=True)\n",
              "        (4): ReflectionPad2d((1, 1, 1, 1))\n",
              "        (5): Conv2d(256, 256, kernel_size=(3, 3), stride=(1, 1))\n",
              "        (6): InstanceNorm2d(256, eps=1e-05, momentum=0.1, affine=False, track_running_stats=False)\n",
              "      )\n",
              "    )\n",
              "    (12): ResNetBlock(\n",
              "      (conv_block): Sequential(\n",
              "        (0): ReflectionPad2d((1, 1, 1, 1))\n",
              "        (1): Conv2d(256, 256, kernel_size=(3, 3), stride=(1, 1))\n",
              "        (2): InstanceNorm2d(256, eps=1e-05, momentum=0.1, affine=False, track_running_stats=False)\n",
              "        (3): ReLU(inplace=True)\n",
              "        (4): ReflectionPad2d((1, 1, 1, 1))\n",
              "        (5): Conv2d(256, 256, kernel_size=(3, 3), stride=(1, 1))\n",
              "        (6): InstanceNorm2d(256, eps=1e-05, momentum=0.1, affine=False, track_running_stats=False)\n",
              "      )\n",
              "    )\n",
              "    (13): ResNetBlock(\n",
              "      (conv_block): Sequential(\n",
              "        (0): ReflectionPad2d((1, 1, 1, 1))\n",
              "        (1): Conv2d(256, 256, kernel_size=(3, 3), stride=(1, 1))\n",
              "        (2): InstanceNorm2d(256, eps=1e-05, momentum=0.1, affine=False, track_running_stats=False)\n",
              "        (3): ReLU(inplace=True)\n",
              "        (4): ReflectionPad2d((1, 1, 1, 1))\n",
              "        (5): Conv2d(256, 256, kernel_size=(3, 3), stride=(1, 1))\n",
              "        (6): InstanceNorm2d(256, eps=1e-05, momentum=0.1, affine=False, track_running_stats=False)\n",
              "      )\n",
              "    )\n",
              "    (14): ResNetBlock(\n",
              "      (conv_block): Sequential(\n",
              "        (0): ReflectionPad2d((1, 1, 1, 1))\n",
              "        (1): Conv2d(256, 256, kernel_size=(3, 3), stride=(1, 1))\n",
              "        (2): InstanceNorm2d(256, eps=1e-05, momentum=0.1, affine=False, track_running_stats=False)\n",
              "        (3): ReLU(inplace=True)\n",
              "        (4): ReflectionPad2d((1, 1, 1, 1))\n",
              "        (5): Conv2d(256, 256, kernel_size=(3, 3), stride=(1, 1))\n",
              "        (6): InstanceNorm2d(256, eps=1e-05, momentum=0.1, affine=False, track_running_stats=False)\n",
              "      )\n",
              "    )\n",
              "    (15): ResNetBlock(\n",
              "      (conv_block): Sequential(\n",
              "        (0): ReflectionPad2d((1, 1, 1, 1))\n",
              "        (1): Conv2d(256, 256, kernel_size=(3, 3), stride=(1, 1))\n",
              "        (2): InstanceNorm2d(256, eps=1e-05, momentum=0.1, affine=False, track_running_stats=False)\n",
              "        (3): ReLU(inplace=True)\n",
              "        (4): ReflectionPad2d((1, 1, 1, 1))\n",
              "        (5): Conv2d(256, 256, kernel_size=(3, 3), stride=(1, 1))\n",
              "        (6): InstanceNorm2d(256, eps=1e-05, momentum=0.1, affine=False, track_running_stats=False)\n",
              "      )\n",
              "    )\n",
              "    (16): ResNetBlock(\n",
              "      (conv_block): Sequential(\n",
              "        (0): ReflectionPad2d((1, 1, 1, 1))\n",
              "        (1): Conv2d(256, 256, kernel_size=(3, 3), stride=(1, 1))\n",
              "        (2): InstanceNorm2d(256, eps=1e-05, momentum=0.1, affine=False, track_running_stats=False)\n",
              "        (3): ReLU(inplace=True)\n",
              "        (4): ReflectionPad2d((1, 1, 1, 1))\n",
              "        (5): Conv2d(256, 256, kernel_size=(3, 3), stride=(1, 1))\n",
              "        (6): InstanceNorm2d(256, eps=1e-05, momentum=0.1, affine=False, track_running_stats=False)\n",
              "      )\n",
              "    )\n",
              "    (17): ResNetBlock(\n",
              "      (conv_block): Sequential(\n",
              "        (0): ReflectionPad2d((1, 1, 1, 1))\n",
              "        (1): Conv2d(256, 256, kernel_size=(3, 3), stride=(1, 1))\n",
              "        (2): InstanceNorm2d(256, eps=1e-05, momentum=0.1, affine=False, track_running_stats=False)\n",
              "        (3): ReLU(inplace=True)\n",
              "        (4): ReflectionPad2d((1, 1, 1, 1))\n",
              "        (5): Conv2d(256, 256, kernel_size=(3, 3), stride=(1, 1))\n",
              "        (6): InstanceNorm2d(256, eps=1e-05, momentum=0.1, affine=False, track_running_stats=False)\n",
              "      )\n",
              "    )\n",
              "    (18): ResNetBlock(\n",
              "      (conv_block): Sequential(\n",
              "        (0): ReflectionPad2d((1, 1, 1, 1))\n",
              "        (1): Conv2d(256, 256, kernel_size=(3, 3), stride=(1, 1))\n",
              "        (2): InstanceNorm2d(256, eps=1e-05, momentum=0.1, affine=False, track_running_stats=False)\n",
              "        (3): ReLU(inplace=True)\n",
              "        (4): ReflectionPad2d((1, 1, 1, 1))\n",
              "        (5): Conv2d(256, 256, kernel_size=(3, 3), stride=(1, 1))\n",
              "        (6): InstanceNorm2d(256, eps=1e-05, momentum=0.1, affine=False, track_running_stats=False)\n",
              "      )\n",
              "    )\n",
              "    (19): ConvTranspose2d(256, 128, kernel_size=(3, 3), stride=(2, 2), padding=(1, 1), output_padding=(1, 1))\n",
              "    (20): InstanceNorm2d(128, eps=1e-05, momentum=0.1, affine=False, track_running_stats=False)\n",
              "    (21): ReLU(inplace=True)\n",
              "    (22): ConvTranspose2d(128, 64, kernel_size=(3, 3), stride=(2, 2), padding=(1, 1), output_padding=(1, 1))\n",
              "    (23): InstanceNorm2d(64, eps=1e-05, momentum=0.1, affine=False, track_running_stats=False)\n",
              "    (24): ReLU(inplace=True)\n",
              "    (25): ReflectionPad2d((3, 3, 3, 3))\n",
              "    (26): Conv2d(64, 3, kernel_size=(7, 7), stride=(1, 1))\n",
              "    (27): Tanh()\n",
              "  )\n",
              ")"
            ]
          },
          "metadata": {},
          "execution_count": 66
        }
      ]
    },
    {
      "cell_type": "code",
      "source": [
        "from PIL import Image\n",
        "from torchvision import transforms\n",
        "\n",
        "preprocess = transforms.Compose([\n",
        "    transforms.Resize(256),\n",
        "    transforms.ToTensor()\n",
        "])"
      ],
      "metadata": {
        "id": "7Z-rfQHs8U8t"
      },
      "execution_count": null,
      "outputs": []
    },
    {
      "cell_type": "code",
      "source": [
        "img = Image.open('/content/dlwpt-code/data/p1ch2/horse.jpg')\n",
        "img"
      ],
      "metadata": {
        "id": "ek-cdacuAkf8"
      },
      "execution_count": null,
      "outputs": []
    },
    {
      "cell_type": "code",
      "source": [
        "img_t = preprocess(img)\n",
        "batch_t = torch.unsqueeze(img_t, 0)\n",
        "\n",
        "# 생성자 출력 batch_out\n",
        "batch_out = netG(batch_t)\n",
        "batch_out"
      ],
      "metadata": {
        "colab": {
          "base_uri": "https://localhost:8080/"
        },
        "id": "vdg16GxGAvpj",
        "outputId": "fb330f23-693e-47cc-e92e-2bb5986b1fc4"
      },
      "execution_count": null,
      "outputs": [
        {
          "output_type": "execute_result",
          "data": {
            "text/plain": [
              "tensor([[[[ 0.3469,  0.3422,  0.3519,  ...,  0.5198,  0.4535,  0.4788],\n",
              "          [ 0.3839,  0.3595,  0.2991,  ...,  0.4433,  0.3944,  0.4282],\n",
              "          [ 0.3391,  0.3547,  0.3415,  ...,  0.4124,  0.3843,  0.4571],\n",
              "          ...,\n",
              "          [ 0.2666,  0.2619,  0.2637,  ...,  0.3536,  0.4634,  0.4651],\n",
              "          [ 0.1705,  0.1176,  0.1360,  ...,  0.4182,  0.4508,  0.4139],\n",
              "          [ 0.1020,  0.0393,  0.1127,  ...,  0.3672,  0.4050,  0.3818]],\n",
              "\n",
              "         [[ 0.2504,  0.2115,  0.2599,  ...,  0.3931,  0.3681,  0.4027],\n",
              "          [ 0.2051,  0.2126,  0.2039,  ...,  0.3052,  0.2960,  0.3362],\n",
              "          [ 0.2277,  0.2202,  0.2134,  ...,  0.2913,  0.3152,  0.3815],\n",
              "          ...,\n",
              "          [ 0.3045,  0.2703,  0.2502,  ...,  0.2361,  0.3240,  0.3590],\n",
              "          [ 0.2004,  0.0905,  0.1348,  ...,  0.2848,  0.3338,  0.2588],\n",
              "          [ 0.1276,  0.1313,  0.1398,  ...,  0.2573,  0.3042,  0.2946]],\n",
              "\n",
              "         [[ 0.4418,  0.4246,  0.4886,  ...,  0.3578,  0.3949,  0.4387],\n",
              "          [ 0.3700,  0.4238,  0.4150,  ...,  0.3487,  0.3254,  0.3906],\n",
              "          [ 0.3879,  0.4363,  0.4586,  ...,  0.3396,  0.3772,  0.4994],\n",
              "          ...,\n",
              "          [-0.1969, -0.3653, -0.3553,  ..., -0.2569, -0.0959, -0.1032],\n",
              "          [-0.3899, -0.5180, -0.4869,  ..., -0.1879, -0.0511, -0.1736],\n",
              "          [-0.4213, -0.5423, -0.4820,  ..., -0.2373, -0.0727, -0.1547]]]],\n",
              "       grad_fn=<TanhBackward0>)"
            ]
          },
          "metadata": {},
          "execution_count": 70
        }
      ]
    },
    {
      "cell_type": "code",
      "source": [
        "out_t = (batch_out.data.squeeze() + 1.0) / 2.0\n",
        "out_img = transforms.ToPILImage()(out_t)\n",
        "# out_img.save('/content/dlwpt-code/data/p1ch2/zebra.jpg')\n",
        "out_img"
      ],
      "metadata": {
        "id": "cyEo7omRC_Gz"
      },
      "execution_count": null,
      "outputs": []
    },
    {
      "cell_type": "markdown",
      "source": [
        "### NeuralTalk2"
      ],
      "metadata": {
        "id": "ywMaNe6jHGhx"
      }
    },
    {
      "cell_type": "code",
      "source": [
        "!git clone https://github.com/deep-learning-with-pytorch/ImageCaptioning.pytorch.git"
      ],
      "metadata": {
        "colab": {
          "base_uri": "https://localhost:8080/"
        },
        "id": "eV4HWLXsHYKJ",
        "outputId": "1c1d8291-8f43-4c0f-cd79-0d700fe6174c"
      },
      "execution_count": null,
      "outputs": [
        {
          "output_type": "stream",
          "name": "stdout",
          "text": [
            "Cloning into 'ImageCaptioning.pytorch'...\n",
            "remote: Enumerating objects: 515, done.\u001b[K\n",
            "remote: Total 515 (delta 0), reused 0 (delta 0), pack-reused 515\u001b[K\n",
            "Receiving objects: 100% (515/515), 206.53 MiB | 41.11 MiB/s, done.\n",
            "Resolving deltas: 100% (327/327), done.\n",
            "Checking out files: 100% (28/28), done.\n"
          ]
        }
      ]
    },
    {
      "cell_type": "code",
      "source": [
        "%pwd\n",
        "%cd /content/ImageCaptioning.pytorch"
      ],
      "metadata": {
        "colab": {
          "base_uri": "https://localhost:8080/"
        },
        "id": "N7AxPJ9AHdZK",
        "outputId": "7d6a41bc-de06-4b9e-cb25-b2790c1c1bc5"
      },
      "execution_count": null,
      "outputs": [
        {
          "output_type": "stream",
          "name": "stdout",
          "text": [
            "/content/ImageCaptioning.pytorch\n"
          ]
        }
      ]
    },
    {
      "cell_type": "code",
      "source": [
        "!python eval.py --model ./data/FC/fc-model.pth --infos_path ./data/FC/fc-infos.pkl --image_folder ./data"
      ],
      "metadata": {
        "colab": {
          "base_uri": "https://localhost:8080/"
        },
        "id": "-AcegImaIi7A",
        "outputId": "6cce6c8b-17f4-4133-b60a-391c751f3715"
      },
      "execution_count": null,
      "outputs": [
        {
          "output_type": "stream",
          "name": "stdout",
          "text": [
            "DataLoaderRaw loading images from folder:  ./data\n",
            "0\n",
            "listing all images in directory ./data\n",
            "DataLoaderRaw found  2  images\n",
            "Traceback (most recent call last):\n",
            "  File \"eval.py\", line 132, in <module>\n",
            "    loss, split_predictions, lang_stats = eval_utils.eval_split(\n",
            "  File \"/content/ImageCaptioning.pytorch/eval_utils.py\", line 106, in eval_split\n",
            "    seq, _ = model.sample(fc_feats, att_feats, eval_kwargs)\n",
            "  File \"/content/ImageCaptioning.pytorch/models/FCModel.py\", line 160, in sample\n",
            "    return self.sample_beam(fc_feats, att_feats, opt)\n",
            "  File \"/content/ImageCaptioning.pytorch/models/FCModel.py\", line 141, in sample_beam\n",
            "    xt = self.img_embed(fc_feats[k:k+1]).expand(beam_size, self.input_encoding_size)\n",
            "  File \"/usr/local/lib/python3.8/dist-packages/torch/nn/modules/module.py\", line 1190, in _call_impl\n",
            "    return forward_call(*input, **kwargs)\n",
            "  File \"/usr/local/lib/python3.8/dist-packages/torch/nn/modules/linear.py\", line 114, in forward\n",
            "    return F.linear(input, self.weight, self.bias)\n",
            "RuntimeError: Expected all tensors to be on the same device, but found at least two devices, cpu and cuda:0! (when checking argument for argument mat1 in method wrapper_addmm)\n"
          ]
        }
      ]
    },
    {
      "cell_type": "markdown",
      "source": [
        "### 토치 허브"
      ],
      "metadata": {
        "id": "voDrVrG8lOeQ"
      }
    },
    {
      "cell_type": "code",
      "source": [
        "import torch\n",
        "from torch import hub\n",
        "\n",
        "resnet18_model = hub.load('pytorch/vision:main',  # 깃헙 저장소 이름과 브랜치\n",
        "                          'resnet18',  # 진입점이 되는 함수 이름\n",
        "                          pretrained=True)  # 키워드 인자\n",
        "resnet18_model"
      ],
      "metadata": {
        "id": "SqmC9ZNvNMUv",
        "colab": {
          "base_uri": "https://localhost:8080/",
          "height": 1000,
          "referenced_widgets": [
            "648563990b304ac48431e362e73d183c",
            "071a45d3eac64d7096a9ec417113e6a7",
            "9d864d3b22694d3abef19affc0ef6d72",
            "edded86b9e2a4d74b7971af6ad140c58",
            "fd00b3381db44434a981de1416130678",
            "379dc4e55f1049bca23d54db8b25ab73",
            "7a99244ed88d4600927a57a1b1059bc1",
            "f7da659d29914b05b6abf26f36b89463",
            "3ec1d76dd0ef4faaac92908906f3ccf6",
            "20a00e714dc0425b9c353b4cbe48fb20",
            "f7113105f576409181ca1d69bc71ae1a"
          ]
        },
        "outputId": "dfe4fb0f-bcd6-4809-a31a-68363094e9bc"
      },
      "execution_count": 2,
      "outputs": [
        {
          "output_type": "stream",
          "name": "stderr",
          "text": [
            "Downloading: \"https://github.com/pytorch/vision/zipball/main\" to /root/.cache/torch/hub/main.zip\n",
            "/root/.cache/torch/hub/pytorch_vision_main/torchvision/io/image.py:13: UserWarning: Failed to load image Python extension: \n",
            "  warn(f\"Failed to load image Python extension: {e}\")\n",
            "/root/.cache/torch/hub/pytorch_vision_main/torchvision/models/_utils.py:208: UserWarning: The parameter 'pretrained' is deprecated since 0.13 and may be removed in the future, please use 'weights' instead.\n",
            "  warnings.warn(\n",
            "/root/.cache/torch/hub/pytorch_vision_main/torchvision/models/_utils.py:223: UserWarning: Arguments other than a weight enum or `None` for 'weights' are deprecated since 0.13 and may be removed in the future. The current behavior is equivalent to passing `weights=ResNet18_Weights.IMAGENET1K_V1`. You can also use `weights=ResNet18_Weights.DEFAULT` to get the most up-to-date weights.\n",
            "  warnings.warn(msg)\n",
            "Downloading: \"https://download.pytorch.org/models/resnet18-f37072fd.pth\" to /root/.cache/torch/hub/checkpoints/resnet18-f37072fd.pth\n"
          ]
        },
        {
          "output_type": "display_data",
          "data": {
            "text/plain": [
              "  0%|          | 0.00/44.7M [00:00<?, ?B/s]"
            ],
            "application/vnd.jupyter.widget-view+json": {
              "version_major": 2,
              "version_minor": 0,
              "model_id": "648563990b304ac48431e362e73d183c"
            }
          },
          "metadata": {}
        },
        {
          "output_type": "execute_result",
          "data": {
            "text/plain": [
              "ResNet(\n",
              "  (conv1): Conv2d(3, 64, kernel_size=(7, 7), stride=(2, 2), padding=(3, 3), bias=False)\n",
              "  (bn1): BatchNorm2d(64, eps=1e-05, momentum=0.1, affine=True, track_running_stats=True)\n",
              "  (relu): ReLU(inplace=True)\n",
              "  (maxpool): MaxPool2d(kernel_size=3, stride=2, padding=1, dilation=1, ceil_mode=False)\n",
              "  (layer1): Sequential(\n",
              "    (0): BasicBlock(\n",
              "      (conv1): Conv2d(64, 64, kernel_size=(3, 3), stride=(1, 1), padding=(1, 1), bias=False)\n",
              "      (bn1): BatchNorm2d(64, eps=1e-05, momentum=0.1, affine=True, track_running_stats=True)\n",
              "      (relu): ReLU(inplace=True)\n",
              "      (conv2): Conv2d(64, 64, kernel_size=(3, 3), stride=(1, 1), padding=(1, 1), bias=False)\n",
              "      (bn2): BatchNorm2d(64, eps=1e-05, momentum=0.1, affine=True, track_running_stats=True)\n",
              "    )\n",
              "    (1): BasicBlock(\n",
              "      (conv1): Conv2d(64, 64, kernel_size=(3, 3), stride=(1, 1), padding=(1, 1), bias=False)\n",
              "      (bn1): BatchNorm2d(64, eps=1e-05, momentum=0.1, affine=True, track_running_stats=True)\n",
              "      (relu): ReLU(inplace=True)\n",
              "      (conv2): Conv2d(64, 64, kernel_size=(3, 3), stride=(1, 1), padding=(1, 1), bias=False)\n",
              "      (bn2): BatchNorm2d(64, eps=1e-05, momentum=0.1, affine=True, track_running_stats=True)\n",
              "    )\n",
              "  )\n",
              "  (layer2): Sequential(\n",
              "    (0): BasicBlock(\n",
              "      (conv1): Conv2d(64, 128, kernel_size=(3, 3), stride=(2, 2), padding=(1, 1), bias=False)\n",
              "      (bn1): BatchNorm2d(128, eps=1e-05, momentum=0.1, affine=True, track_running_stats=True)\n",
              "      (relu): ReLU(inplace=True)\n",
              "      (conv2): Conv2d(128, 128, kernel_size=(3, 3), stride=(1, 1), padding=(1, 1), bias=False)\n",
              "      (bn2): BatchNorm2d(128, eps=1e-05, momentum=0.1, affine=True, track_running_stats=True)\n",
              "      (downsample): Sequential(\n",
              "        (0): Conv2d(64, 128, kernel_size=(1, 1), stride=(2, 2), bias=False)\n",
              "        (1): BatchNorm2d(128, eps=1e-05, momentum=0.1, affine=True, track_running_stats=True)\n",
              "      )\n",
              "    )\n",
              "    (1): BasicBlock(\n",
              "      (conv1): Conv2d(128, 128, kernel_size=(3, 3), stride=(1, 1), padding=(1, 1), bias=False)\n",
              "      (bn1): BatchNorm2d(128, eps=1e-05, momentum=0.1, affine=True, track_running_stats=True)\n",
              "      (relu): ReLU(inplace=True)\n",
              "      (conv2): Conv2d(128, 128, kernel_size=(3, 3), stride=(1, 1), padding=(1, 1), bias=False)\n",
              "      (bn2): BatchNorm2d(128, eps=1e-05, momentum=0.1, affine=True, track_running_stats=True)\n",
              "    )\n",
              "  )\n",
              "  (layer3): Sequential(\n",
              "    (0): BasicBlock(\n",
              "      (conv1): Conv2d(128, 256, kernel_size=(3, 3), stride=(2, 2), padding=(1, 1), bias=False)\n",
              "      (bn1): BatchNorm2d(256, eps=1e-05, momentum=0.1, affine=True, track_running_stats=True)\n",
              "      (relu): ReLU(inplace=True)\n",
              "      (conv2): Conv2d(256, 256, kernel_size=(3, 3), stride=(1, 1), padding=(1, 1), bias=False)\n",
              "      (bn2): BatchNorm2d(256, eps=1e-05, momentum=0.1, affine=True, track_running_stats=True)\n",
              "      (downsample): Sequential(\n",
              "        (0): Conv2d(128, 256, kernel_size=(1, 1), stride=(2, 2), bias=False)\n",
              "        (1): BatchNorm2d(256, eps=1e-05, momentum=0.1, affine=True, track_running_stats=True)\n",
              "      )\n",
              "    )\n",
              "    (1): BasicBlock(\n",
              "      (conv1): Conv2d(256, 256, kernel_size=(3, 3), stride=(1, 1), padding=(1, 1), bias=False)\n",
              "      (bn1): BatchNorm2d(256, eps=1e-05, momentum=0.1, affine=True, track_running_stats=True)\n",
              "      (relu): ReLU(inplace=True)\n",
              "      (conv2): Conv2d(256, 256, kernel_size=(3, 3), stride=(1, 1), padding=(1, 1), bias=False)\n",
              "      (bn2): BatchNorm2d(256, eps=1e-05, momentum=0.1, affine=True, track_running_stats=True)\n",
              "    )\n",
              "  )\n",
              "  (layer4): Sequential(\n",
              "    (0): BasicBlock(\n",
              "      (conv1): Conv2d(256, 512, kernel_size=(3, 3), stride=(2, 2), padding=(1, 1), bias=False)\n",
              "      (bn1): BatchNorm2d(512, eps=1e-05, momentum=0.1, affine=True, track_running_stats=True)\n",
              "      (relu): ReLU(inplace=True)\n",
              "      (conv2): Conv2d(512, 512, kernel_size=(3, 3), stride=(1, 1), padding=(1, 1), bias=False)\n",
              "      (bn2): BatchNorm2d(512, eps=1e-05, momentum=0.1, affine=True, track_running_stats=True)\n",
              "      (downsample): Sequential(\n",
              "        (0): Conv2d(256, 512, kernel_size=(1, 1), stride=(2, 2), bias=False)\n",
              "        (1): BatchNorm2d(512, eps=1e-05, momentum=0.1, affine=True, track_running_stats=True)\n",
              "      )\n",
              "    )\n",
              "    (1): BasicBlock(\n",
              "      (conv1): Conv2d(512, 512, kernel_size=(3, 3), stride=(1, 1), padding=(1, 1), bias=False)\n",
              "      (bn1): BatchNorm2d(512, eps=1e-05, momentum=0.1, affine=True, track_running_stats=True)\n",
              "      (relu): ReLU(inplace=True)\n",
              "      (conv2): Conv2d(512, 512, kernel_size=(3, 3), stride=(1, 1), padding=(1, 1), bias=False)\n",
              "      (bn2): BatchNorm2d(512, eps=1e-05, momentum=0.1, affine=True, track_running_stats=True)\n",
              "    )\n",
              "  )\n",
              "  (avgpool): AdaptiveAvgPool2d(output_size=(1, 1))\n",
              "  (fc): Linear(in_features=512, out_features=1000, bias=True)\n",
              ")"
            ]
          },
          "metadata": {},
          "execution_count": 2
        }
      ]
    },
    {
      "cell_type": "markdown",
      "source": [
        "#[PTM] 3장. 텐서 구조체"
      ],
      "metadata": {
        "id": "vgWGcZWUzwIG"
      }
    },
    {
      "cell_type": "markdown",
      "source": [
        "\n",
        "\n",
        "---\n",
        "\n",
        "### 텐서의 핵심\n",
        "숫자값으로 많든 파이썬 리스트나 튜플 객체는 메모리에 따로따로 할당된다.  \n",
        "반면, 파이토치 텐서나 넘파이 배열은 파이썬 객체가 아닌 unboxing된 C언어의 숫자 타입을 포함한 연속적인 메모리가 할당되고 이에 대한 뷰를 제공한다.  "
      ],
      "metadata": {
        "id": "CzI0uiAd0Jx6"
      }
    },
    {
      "cell_type": "code",
      "source": [
        "points = torch.zeros(6)\n",
        "points[0] = 4.0\n",
        "points[1] = 1.0\n",
        "points[2] = 5.0\n",
        "points[3] = 3.0\n",
        "points[4] = 2.0\n",
        "points[5] = 1.0\n",
        "points"
      ],
      "metadata": {
        "colab": {
          "base_uri": "https://localhost:8080/"
        },
        "id": "GEUPWfX90Jat",
        "outputId": "1b2c321f-e1eb-481d-dac4-7cf821a4dc9c"
      },
      "execution_count": 6,
      "outputs": [
        {
          "output_type": "execute_result",
          "data": {
            "text/plain": [
              "tensor([4., 1., 5., 3., 2., 1.])"
            ]
          },
          "metadata": {},
          "execution_count": 6
        }
      ]
    },
    {
      "cell_type": "code",
      "source": [
        "# 생성자에 파이썬 리스트 넘기기\n",
        "points = torch.tensor([4.0, 1.0, 5.0, 3.0, 2.0, 1.0])\n",
        "points"
      ],
      "metadata": {
        "colab": {
          "base_uri": "https://localhost:8080/"
        },
        "id": "Cv0NpPWUly6O",
        "outputId": "b28580de-7850-4b59-805e-9a053dffa7a9"
      },
      "execution_count": 7,
      "outputs": [
        {
          "output_type": "execute_result",
          "data": {
            "text/plain": [
              "tensor([4., 1., 5., 3., 2., 1.])"
            ]
          },
          "metadata": {},
          "execution_count": 7
        }
      ]
    },
    {
      "cell_type": "code",
      "source": [
        "# 첫 번째 점의 좌표 읽기\n",
        "float(points[0]), float(points[1])"
      ],
      "metadata": {
        "colab": {
          "base_uri": "https://localhost:8080/"
        },
        "id": "OAl4Sdyb1QSW",
        "outputId": "479b122d-48d9-4222-8495-377cf087db53"
      },
      "execution_count": 9,
      "outputs": [
        {
          "output_type": "execute_result",
          "data": {
            "text/plain": [
              "(4.0, 1.0)"
            ]
          },
          "metadata": {},
          "execution_count": 9
        }
      ]
    },
    {
      "cell_type": "code",
      "source": [
        "# 2차원 텐서\n",
        "points = torch.tensor([[4.0, 1.0], [5.0, 3.0], [2.0, 1.0]])\n",
        "points"
      ],
      "metadata": {
        "colab": {
          "base_uri": "https://localhost:8080/"
        },
        "id": "os0NflLo1Xme",
        "outputId": "bd4b4746-88b5-45bd-eaaf-007efe84f278"
      },
      "execution_count": 10,
      "outputs": [
        {
          "output_type": "execute_result",
          "data": {
            "text/plain": [
              "tensor([[4., 1.],\n",
              "        [5., 3.],\n",
              "        [2., 1.]])"
            ]
          },
          "metadata": {},
          "execution_count": 10
        }
      ]
    },
    {
      "cell_type": "code",
      "source": [
        "# 리스트의 리스트를 생성자로 넘겨주고 텐처의 차원 확인\n",
        "points.shape"
      ],
      "metadata": {
        "colab": {
          "base_uri": "https://localhost:8080/"
        },
        "id": "tAk30y-p1l3L",
        "outputId": "ad419a27-a40c-4343-c6fb-677f31ed6ef3"
      },
      "execution_count": 11,
      "outputs": [
        {
          "output_type": "execute_result",
          "data": {
            "text/plain": [
              "torch.Size([3, 2])"
            ]
          },
          "metadata": {},
          "execution_count": 11
        }
      ]
    },
    {
      "cell_type": "code",
      "source": [
        "# zeros나 ones로 차원별 크기 정보를 튜플로 만들기\n",
        "points = torch.zeros(3, 2)\n",
        "points"
      ],
      "metadata": {
        "colab": {
          "base_uri": "https://localhost:8080/"
        },
        "id": "PyTh0GyZ1nxh",
        "outputId": "01461f13-9f6f-4ea9-f989-2d006839c7e7"
      },
      "execution_count": 13,
      "outputs": [
        {
          "output_type": "execute_result",
          "data": {
            "text/plain": [
              "tensor([[0., 0.],\n",
              "        [0., 0.],\n",
              "        [0., 0.]])"
            ]
          },
          "metadata": {},
          "execution_count": 13
        }
      ]
    },
    {
      "cell_type": "markdown",
      "source": [
        "### 텐서 인덱싱"
      ],
      "metadata": {
        "id": "YsFN2M952JOl"
      }
    },
    {
      "cell_type": "code",
      "source": [
        "points[1:]  # 첫 번째 이후 모든 행에 대해, 암묵적으로 모든 열이 포함됨"
      ],
      "metadata": {
        "colab": {
          "base_uri": "https://localhost:8080/"
        },
        "id": "5S6R3xSa2W4y",
        "outputId": "7aa6b369-5a63-46f2-f3c4-592d8e97b49d"
      },
      "execution_count": 16,
      "outputs": [
        {
          "output_type": "execute_result",
          "data": {
            "text/plain": [
              "tensor([[0., 0.],\n",
              "        [0., 0.]])"
            ]
          },
          "metadata": {},
          "execution_count": 16
        }
      ]
    },
    {
      "cell_type": "code",
      "source": [
        "points[1:, 0]  # 첫 번째 이후 모든 행에 대해 첫 번째 열만 포함됨"
      ],
      "metadata": {
        "colab": {
          "base_uri": "https://localhost:8080/"
        },
        "id": "Jjylb1DY2iVx",
        "outputId": "630395b7-4f47-4f1c-8645-29bb1fc89ee7"
      },
      "execution_count": 18,
      "outputs": [
        {
          "output_type": "execute_result",
          "data": {
            "text/plain": [
              "tensor([0., 0.])"
            ]
          },
          "metadata": {},
          "execution_count": 18
        }
      ]
    },
    {
      "cell_type": "code",
      "source": [
        "points[None]  # 길이가 1인 차원을 추가함. unsqueeze와 동일함"
      ],
      "metadata": {
        "colab": {
          "base_uri": "https://localhost:8080/"
        },
        "id": "0WwuKrxk2lWH",
        "outputId": "8217ab94-b13f-4c82-d65e-047a350944c5"
      },
      "execution_count": 19,
      "outputs": [
        {
          "output_type": "execute_result",
          "data": {
            "text/plain": [
              "tensor([[[0., 0.],\n",
              "         [0., 0.],\n",
              "         [0., 0.]]])"
            ]
          },
          "metadata": {},
          "execution_count": 19
        }
      ]
    },
    {
      "cell_type": "markdown",
      "source": [
        "### 이름이 있는 텐서"
      ],
      "metadata": {
        "id": "-sLck7t229EW"
      }
    },
    {
      "cell_type": "code",
      "source": [
        "img_t = torch.randn(3, 5, 5)  # 각각이 [채널 크기, 행 크기, 열 크기]가 됨\n",
        "weights = torch.tensor([0.2126, 0.7152, 0.0722])"
      ],
      "metadata": {
        "id": "IqwRQ20i2zHy"
      },
      "execution_count": 20,
      "outputs": []
    },
    {
      "cell_type": "code",
      "source": [
        "# 배치 크기 2인 텐서\n",
        "batch_t = torch.randn(2, 3, 5, 5)  # [채널 크기, 행 크기, 열 크기]"
      ],
      "metadata": {
        "id": "onOXLzbY3Rzz"
      },
      "execution_count": 21,
      "outputs": []
    },
    {
      "cell_type": "code",
      "source": [
        "# RGB 채널은 -3번 차원에 있는 것으로 일반화할 수 있음\n",
        "# 배치 차원 유므에 상관없이 평균을 구할 수 있음\n",
        "img_gray_naive = img_t.mean(-3)\n",
        "batch_gray_naive = batch_t.mean(-3)\n",
        "img_gray_naive.shape, batch_gray_naive.shape"
      ],
      "metadata": {
        "colab": {
          "base_uri": "https://localhost:8080/"
        },
        "id": "CyJG7RAS4FXW",
        "outputId": "4b8d169e-752a-4715-ec63-cdc70f72e181"
      },
      "execution_count": 23,
      "outputs": [
        {
          "output_type": "execute_result",
          "data": {
            "text/plain": [
              "(torch.Size([5, 5]), torch.Size([2, 5, 5]))"
            ]
          },
          "metadata": {},
          "execution_count": 23
        }
      ]
    },
    {
      "cell_type": "code",
      "source": [
        "# pytorch에서의 브로드캐스팅 연산\n",
        "unsqueezed_weights = weights.unsqueeze(-1).unsqueeze(-1)\n",
        "img_weights = (img_t * unsqueezed_weights)\n",
        "batch_weights = (batch_t * unsqueezed_weights)\n",
        "img_gray_weighted = img_weights.sum(-3)\n",
        "batch_gray_weighted = batch_weights.sum(-3)\n",
        "batch_weights.shape, batch_t.shape, unsqueezed_weights.shape"
      ],
      "metadata": {
        "colab": {
          "base_uri": "https://localhost:8080/"
        },
        "id": "xBTZ4a754sU5",
        "outputId": "f55e8140-49bb-463e-c537-bea0b4665b08"
      },
      "execution_count": 27,
      "outputs": [
        {
          "output_type": "execute_result",
          "data": {
            "text/plain": [
              "(torch.Size([2, 3, 5, 5]), torch.Size([2, 3, 5, 5]), torch.Size([3, 1, 1]))"
            ]
          },
          "metadata": {},
          "execution_count": 27
        }
      ]
    },
    {
      "cell_type": "code",
      "source": [
        "# 차원별로 이름을 부여하고 곱셈 후 합을 구하는 경우 사용 할 수 있음\n",
        "# einsum 함수\n",
        "img_gray_weighted_fancy = torch.einsum('...chw,c->...hw', img_t, weights)\n",
        "img_gray_weighted_fancy"
      ],
      "metadata": {
        "colab": {
          "base_uri": "https://localhost:8080/"
        },
        "id": "vU2sLxfe5a1k",
        "outputId": "66547e50-5585-4db9-94c0-8a6ec58c0af9"
      },
      "execution_count": 28,
      "outputs": [
        {
          "output_type": "execute_result",
          "data": {
            "text/plain": [
              "tensor([[-0.8755, -0.1684,  1.2147, -0.1639,  0.2134],\n",
              "        [ 0.9833, -0.0242,  0.2883,  1.8565, -0.1609],\n",
              "        [-0.6376, -0.7787,  0.4429,  0.7084, -0.3895],\n",
              "        [ 1.0349,  0.1547,  0.4424, -0.5018, -0.7948],\n",
              "        [-0.5875, -0.4061, -1.1368, -0.8204, -1.5046]])"
            ]
          },
          "metadata": {},
          "execution_count": 28
        }
      ]
    },
    {
      "cell_type": "code",
      "source": [
        "batch_gray_weighted_fancy = torch.einsum('...chw,c->...hw', batch_t, weights)\n",
        "batch_gray_weighted_fancy.shape"
      ],
      "metadata": {
        "colab": {
          "base_uri": "https://localhost:8080/"
        },
        "id": "Fa4FwxYt66pP",
        "outputId": "23072088-e570-47f4-f8ff-3db4349cd92b"
      },
      "execution_count": 29,
      "outputs": [
        {
          "output_type": "execute_result",
          "data": {
            "text/plain": [
              "torch.Size([2, 5, 5])"
            ]
          },
          "metadata": {},
          "execution_count": 29
        }
      ]
    },
    {
      "cell_type": "code",
      "source": [
        "# 이름 지정이 가능한 텐서\n",
        "weights_named = torch.tensor([0.2126, 0.7152, 0.0722], names=[('channels')])\n",
        "weights_named"
      ],
      "metadata": {
        "colab": {
          "base_uri": "https://localhost:8080/"
        },
        "id": "4QPhciaT7C6V",
        "outputId": "5cb611e5-530e-4f93-9f25-66abe62d04e7"
      },
      "execution_count": 33,
      "outputs": [
        {
          "output_type": "execute_result",
          "data": {
            "text/plain": [
              "tensor([0.2126, 0.7152, 0.0722], names=('channels',))"
            ]
          },
          "metadata": {},
          "execution_count": 33
        }
      ]
    },
    {
      "cell_type": "code",
      "source": [
        "# 텐서를 먼저 만들고 나중에 이름 지정\n",
        "# redefine_names 함수\n",
        "img_named = img_t.refine_names(..., 'channels', 'rows', 'columns')\n",
        "batch_named = batch_t.refine_names(..., 'channels', 'rows', 'columns')\n",
        "print(\"img named:\", img_named.shape, img_named.names)\n",
        "print(\"batch named:\", batch_named.shape, batch_named.names)"
      ],
      "metadata": {
        "colab": {
          "base_uri": "https://localhost:8080/"
        },
        "id": "U-PwDrOk7Tci",
        "outputId": "e23bdde7-cf0c-4fcc-c334-0920857073f2"
      },
      "execution_count": 35,
      "outputs": [
        {
          "output_type": "stream",
          "name": "stdout",
          "text": [
            "img named: torch.Size([3, 5, 5]) ('channels', 'rows', 'columns')\n",
            "batch named: torch.Size([2, 3, 5, 5]) (None, 'channels', 'rows', 'columns')\n"
          ]
        }
      ]
    },
    {
      "cell_type": "code",
      "source": [
        "# 빠진 차원을 채우고, 존재하는 차원을 올바른 순서로 바꿈\n",
        "# align_as 함수\n",
        "weights_aligned = weights_named.align_as(img_named)\n",
        "weights_aligned.shape, weights_aligned.names"
      ],
      "metadata": {
        "colab": {
          "base_uri": "https://localhost:8080/"
        },
        "id": "rLZ43wLQ8CSU",
        "outputId": "de101b1b-60c2-4fb0-95f4-6a131c7a4fe7"
      },
      "execution_count": 40,
      "outputs": [
        {
          "output_type": "execute_result",
          "data": {
            "text/plain": [
              "(torch.Size([3, 1, 1]), ('channels', 'rows', 'columns'))"
            ]
          },
          "metadata": {},
          "execution_count": 40
        }
      ]
    },
    {
      "cell_type": "code",
      "source": [
        "# 차원 인수를 허용하는 함수들은 이름이 붙은 차원도 받아들임\n",
        "# sum 함수\n",
        "gray_named = (img_named * weights_aligned).sum('channels')\n",
        "gray_named.shape, gray_named.names"
      ],
      "metadata": {
        "colab": {
          "base_uri": "https://localhost:8080/"
        },
        "id": "Ema3jWlZ8jml",
        "outputId": "2c7eda87-6803-415b-a90d-0e1020d6f101"
      },
      "execution_count": 41,
      "outputs": [
        {
          "output_type": "execute_result",
          "data": {
            "text/plain": [
              "(torch.Size([5, 5]), ('rows', 'columns'))"
            ]
          },
          "metadata": {},
          "execution_count": 41
        }
      ]
    },
    {
      "cell_type": "code",
      "source": [
        "# Error: 이름이 다른 차원을 결합\n",
        "gray_named = (img_named[..., 3] * weights_named).sum('channels')"
      ],
      "metadata": {
        "colab": {
          "base_uri": "https://localhost:8080/",
          "height": 206
        },
        "id": "M6yYdSug9LBj",
        "outputId": "ef8157b9-161c-421a-8d1f-44b3045a077d"
      },
      "execution_count": 42,
      "outputs": [
        {
          "output_type": "error",
          "ename": "RuntimeError",
          "evalue": "ignored",
          "traceback": [
            "\u001b[0;31m---------------------------------------------------------------------------\u001b[0m",
            "\u001b[0;31mRuntimeError\u001b[0m                              Traceback (most recent call last)",
            "\u001b[0;32m<ipython-input-42-41aef4570528>\u001b[0m in \u001b[0;36m<module>\u001b[0;34m\u001b[0m\n\u001b[1;32m      1\u001b[0m \u001b[0;31m# Error: 이름이 다른 차원을 결합\u001b[0m\u001b[0;34m\u001b[0m\u001b[0;34m\u001b[0m\u001b[0;34m\u001b[0m\u001b[0m\n\u001b[0;32m----> 2\u001b[0;31m \u001b[0mgray_named\u001b[0m \u001b[0;34m=\u001b[0m \u001b[0;34m(\u001b[0m\u001b[0mimg_named\u001b[0m\u001b[0;34m[\u001b[0m\u001b[0;34m...\u001b[0m\u001b[0;34m,\u001b[0m \u001b[0;36m3\u001b[0m\u001b[0;34m]\u001b[0m \u001b[0;34m*\u001b[0m \u001b[0mweights_named\u001b[0m\u001b[0;34m)\u001b[0m\u001b[0;34m.\u001b[0m\u001b[0msum\u001b[0m\u001b[0;34m(\u001b[0m\u001b[0;34m'channels'\u001b[0m\u001b[0;34m)\u001b[0m\u001b[0;34m\u001b[0m\u001b[0;34m\u001b[0m\u001b[0m\n\u001b[0m",
            "\u001b[0;31mRuntimeError\u001b[0m: Error when attempting to broadcast dims ['channels', 'rows'] and dims ['channels']: dim 'rows' and dim 'channels' are at the same position from the right but do not match."
          ]
        }
      ]
    },
    {
      "cell_type": "code",
      "source": [
        "# 차원 이름에 None을 넣어 이름 없는 텐서 생성\n",
        "gray_plain = gray_named.rename(None)\n",
        "gray_plain.shape, gray_plain.names"
      ],
      "metadata": {
        "colab": {
          "base_uri": "https://localhost:8080/"
        },
        "id": "bJvm10d89lIy",
        "outputId": "4b07744c-3b8b-4050-fc23-30c49849971e"
      },
      "execution_count": 43,
      "outputs": [
        {
          "output_type": "execute_result",
          "data": {
            "text/plain": [
              "(torch.Size([5, 5]), (None, None))"
            ]
          },
          "metadata": {},
          "execution_count": 43
        }
      ]
    },
    {
      "cell_type": "markdown",
      "source": [
        "### 텐서의 dtype 속성관리"
      ],
      "metadata": {
        "id": "1EfK3ssJ_Gza"
      }
    },
    {
      "cell_type": "code",
      "source": [
        "# 생성자에 dtype 인자를 정확하게 전달\n",
        "double_points = torch.ones(10, 2, dtype=torch.double)\n",
        "double_points"
      ],
      "metadata": {
        "colab": {
          "base_uri": "https://localhost:8080/"
        },
        "id": "D5YZrJ5k94kq",
        "outputId": "2b5760e2-cf7b-4413-99b8-1b8958c48204"
      },
      "execution_count": 45,
      "outputs": [
        {
          "output_type": "execute_result",
          "data": {
            "text/plain": [
              "tensor([[1., 1.],\n",
              "        [1., 1.],\n",
              "        [1., 1.],\n",
              "        [1., 1.],\n",
              "        [1., 1.],\n",
              "        [1., 1.],\n",
              "        [1., 1.],\n",
              "        [1., 1.],\n",
              "        [1., 1.],\n",
              "        [1., 1.]], dtype=torch.float64)"
            ]
          },
          "metadata": {},
          "execution_count": 45
        }
      ]
    },
    {
      "cell_type": "code",
      "source": [
        "short_points = torch.tensor([[1, 2], [3, 4]], dtype=torch.short)\n",
        "short_points"
      ],
      "metadata": {
        "colab": {
          "base_uri": "https://localhost:8080/"
        },
        "id": "JNSTpFKl_gYg",
        "outputId": "32207f0e-c16e-4ef3-d448-7c30962f1411"
      },
      "execution_count": 47,
      "outputs": [
        {
          "output_type": "execute_result",
          "data": {
            "text/plain": [
              "tensor([[1, 2],\n",
              "        [3, 4]], dtype=torch.int16)"
            ]
          },
          "metadata": {},
          "execution_count": 47
        }
      ]
    },
    {
      "cell_type": "code",
      "source": [
        "# 캐스팅 메소드를 사용한 타입 변환\n",
        "double_points = torch.zeros(10, 2).double()\n",
        "short_points = torch.ones(10, 2).short()\n",
        "\n",
        "# to 메소드를 사용한 타입 변환\n",
        "double_points = torch.zeros(10, 2).to(torch.double)\n",
        "short_points = torch.ones(10, 2).to(dtype=torch.short)"
      ],
      "metadata": {
        "id": "MFukLjXR_ybc"
      },
      "execution_count": 49,
      "outputs": []
    },
    {
      "cell_type": "code",
      "source": [
        "points_64 = torch.rand(5, dtype=torch.double)  # rand는 텐서 요소를 0과 1사이 임의의 수로 초기화함\n",
        "points_short = points_64.to(torch.short)\n",
        "points_64 * points_short"
      ],
      "metadata": {
        "colab": {
          "base_uri": "https://localhost:8080/"
        },
        "id": "nuwIysHzAELI",
        "outputId": "906fbd55-65c9-488d-a316-195e8daac8b4"
      },
      "execution_count": 50,
      "outputs": [
        {
          "output_type": "execute_result",
          "data": {
            "text/plain": [
              "tensor([0., 0., 0., 0., 0.], dtype=torch.float64)"
            ]
          },
          "metadata": {},
          "execution_count": 50
        }
      ]
    },
    {
      "cell_type": "code",
      "source": [],
      "metadata": {
        "id": "_Z-6oEplAvLK"
      },
      "execution_count": null,
      "outputs": []
    }
  ]
}