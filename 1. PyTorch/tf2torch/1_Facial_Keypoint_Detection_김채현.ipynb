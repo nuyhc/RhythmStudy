{
 "cells": [
  {
   "attachments": {},
   "cell_type": "markdown",
   "metadata": {},
   "source": [
    "# Facial Keypoint Detection\n",
    "[참고 | Facial Keypoint Detection](https://www.kaggle.com/code/karanjakhar/facial-keypoint-detection)\n",
    "\n",
    "- 3개의 CSV 파일\n",
    "  - `training.csv` : 얼굴 부위의 키포인트 좌표\n",
    "  - `test.csv` : `IdLookupTable.csv`의 3번째 데이터를 이용해, 좌표를 구해야하는 정보"
   ]
  },
  {
   "cell_type": "code",
   "execution_count": 1,
   "metadata": {},
   "outputs": [],
   "source": [
    "import numpy as np\n",
    "import matplotlib.pyplot as plt\n",
    "import seaborn as sns\n",
    "import koreanize_matplotlib\n",
    "from IPython.display import clear_output\n",
    "import time\n",
    "import os\n",
    "import pandas as pd"
   ]
  },
  {
   "attachments": {},
   "cell_type": "markdown",
   "metadata": {},
   "source": [
    "## Data Load"
   ]
  },
  {
   "cell_type": "code",
   "execution_count": 2,
   "metadata": {},
   "outputs": [
    {
     "name": "stdout",
     "output_type": "stream",
     "text": [
      "Train: (7049, 31)\n",
      "Test: (1783, 2)\n",
      "lookid: (27124, 4)\n"
     ]
    }
   ],
   "source": [
    "Train_Dir = \"./FKD/training/training.csv\"\n",
    "Test_Dir = \"./FKD/test/test.csv\"\n",
    "lookid_dir = \"./FKD/IdLookupTable.csv\"\n",
    "\n",
    "train_data = pd.read_csv(Train_Dir)\n",
    "test_data = pd.read_csv(Test_Dir)\n",
    "lookid_data = pd.read_csv(lookid_dir)\n",
    "\n",
    "print(f\"Train: {train_data.shape}\\nTest: {test_data.shape}\\nlookid: {lookid_data.shape}\")"
   ]
  },
  {
   "attachments": {},
   "cell_type": "markdown",
   "metadata": {},
   "source": [
    "## EDA"
   ]
  },
  {
   "cell_type": "code",
   "execution_count": 3,
   "metadata": {},
   "outputs": [
    {
     "data": {
      "text/html": [
       "<div>\n",
       "<style scoped>\n",
       "    .dataframe tbody tr th:only-of-type {\n",
       "        vertical-align: middle;\n",
       "    }\n",
       "\n",
       "    .dataframe tbody tr th {\n",
       "        vertical-align: top;\n",
       "    }\n",
       "\n",
       "    .dataframe thead th {\n",
       "        text-align: right;\n",
       "    }\n",
       "</style>\n",
       "<table border=\"1\" class=\"dataframe\">\n",
       "  <thead>\n",
       "    <tr style=\"text-align: right;\">\n",
       "      <th></th>\n",
       "      <th>0</th>\n",
       "      <th>1</th>\n",
       "      <th>2</th>\n",
       "      <th>3</th>\n",
       "      <th>4</th>\n",
       "    </tr>\n",
       "  </thead>\n",
       "  <tbody>\n",
       "    <tr>\n",
       "      <th>left_eye_center_x</th>\n",
       "      <td>66.033564</td>\n",
       "      <td>64.332936</td>\n",
       "      <td>65.057053</td>\n",
       "      <td>65.225739</td>\n",
       "      <td>66.725301</td>\n",
       "    </tr>\n",
       "    <tr>\n",
       "      <th>left_eye_center_y</th>\n",
       "      <td>39.002274</td>\n",
       "      <td>34.970077</td>\n",
       "      <td>34.909642</td>\n",
       "      <td>37.261774</td>\n",
       "      <td>39.621261</td>\n",
       "    </tr>\n",
       "    <tr>\n",
       "      <th>right_eye_center_x</th>\n",
       "      <td>30.227008</td>\n",
       "      <td>29.949277</td>\n",
       "      <td>30.903789</td>\n",
       "      <td>32.023096</td>\n",
       "      <td>32.24481</td>\n",
       "    </tr>\n",
       "    <tr>\n",
       "      <th>right_eye_center_y</th>\n",
       "      <td>36.421678</td>\n",
       "      <td>33.448715</td>\n",
       "      <td>34.909642</td>\n",
       "      <td>37.261774</td>\n",
       "      <td>38.042032</td>\n",
       "    </tr>\n",
       "    <tr>\n",
       "      <th>left_eye_inner_corner_x</th>\n",
       "      <td>59.582075</td>\n",
       "      <td>58.85617</td>\n",
       "      <td>59.412</td>\n",
       "      <td>60.003339</td>\n",
       "      <td>58.56589</td>\n",
       "    </tr>\n",
       "    <tr>\n",
       "      <th>left_eye_inner_corner_y</th>\n",
       "      <td>39.647423</td>\n",
       "      <td>35.274349</td>\n",
       "      <td>36.320968</td>\n",
       "      <td>39.127179</td>\n",
       "      <td>39.621261</td>\n",
       "    </tr>\n",
       "    <tr>\n",
       "      <th>left_eye_outer_corner_x</th>\n",
       "      <td>73.130346</td>\n",
       "      <td>70.722723</td>\n",
       "      <td>70.984421</td>\n",
       "      <td>72.314713</td>\n",
       "      <td>72.515926</td>\n",
       "    </tr>\n",
       "    <tr>\n",
       "      <th>left_eye_outer_corner_y</th>\n",
       "      <td>39.969997</td>\n",
       "      <td>36.187166</td>\n",
       "      <td>36.320968</td>\n",
       "      <td>38.380967</td>\n",
       "      <td>39.884466</td>\n",
       "    </tr>\n",
       "    <tr>\n",
       "      <th>right_eye_inner_corner_x</th>\n",
       "      <td>36.356571</td>\n",
       "      <td>36.034723</td>\n",
       "      <td>37.678105</td>\n",
       "      <td>37.618643</td>\n",
       "      <td>36.98238</td>\n",
       "    </tr>\n",
       "    <tr>\n",
       "      <th>right_eye_inner_corner_y</th>\n",
       "      <td>37.389402</td>\n",
       "      <td>34.361532</td>\n",
       "      <td>36.320968</td>\n",
       "      <td>38.754115</td>\n",
       "      <td>39.094852</td>\n",
       "    </tr>\n",
       "    <tr>\n",
       "      <th>right_eye_outer_corner_x</th>\n",
       "      <td>23.452872</td>\n",
       "      <td>24.472511</td>\n",
       "      <td>24.976421</td>\n",
       "      <td>25.30727</td>\n",
       "      <td>22.50611</td>\n",
       "    </tr>\n",
       "    <tr>\n",
       "      <th>right_eye_outer_corner_y</th>\n",
       "      <td>37.389402</td>\n",
       "      <td>33.144443</td>\n",
       "      <td>36.603221</td>\n",
       "      <td>38.007903</td>\n",
       "      <td>38.305237</td>\n",
       "    </tr>\n",
       "    <tr>\n",
       "      <th>left_eyebrow_inner_end_x</th>\n",
       "      <td>56.953263</td>\n",
       "      <td>53.987404</td>\n",
       "      <td>55.742526</td>\n",
       "      <td>56.433809</td>\n",
       "      <td>57.249571</td>\n",
       "    </tr>\n",
       "    <tr>\n",
       "      <th>left_eyebrow_inner_end_y</th>\n",
       "      <td>29.033648</td>\n",
       "      <td>28.275949</td>\n",
       "      <td>27.570947</td>\n",
       "      <td>30.929864</td>\n",
       "      <td>30.672177</td>\n",
       "    </tr>\n",
       "    <tr>\n",
       "      <th>left_eyebrow_outer_end_x</th>\n",
       "      <td>80.227128</td>\n",
       "      <td>78.634213</td>\n",
       "      <td>78.887368</td>\n",
       "      <td>77.910261</td>\n",
       "      <td>77.762945</td>\n",
       "    </tr>\n",
       "    <tr>\n",
       "      <th>left_eyebrow_outer_end_y</th>\n",
       "      <td>32.228138</td>\n",
       "      <td>30.405923</td>\n",
       "      <td>32.651621</td>\n",
       "      <td>31.665725</td>\n",
       "      <td>31.737247</td>\n",
       "    </tr>\n",
       "    <tr>\n",
       "      <th>right_eyebrow_inner_end_x</th>\n",
       "      <td>40.227609</td>\n",
       "      <td>42.728851</td>\n",
       "      <td>42.193895</td>\n",
       "      <td>41.671513</td>\n",
       "      <td>38.035436</td>\n",
       "    </tr>\n",
       "    <tr>\n",
       "      <th>right_eyebrow_inner_end_y</th>\n",
       "      <td>29.002322</td>\n",
       "      <td>26.146043</td>\n",
       "      <td>28.135453</td>\n",
       "      <td>31.04999</td>\n",
       "      <td>30.935382</td>\n",
       "    </tr>\n",
       "    <tr>\n",
       "      <th>right_eyebrow_outer_end_x</th>\n",
       "      <td>16.356379</td>\n",
       "      <td>16.865362</td>\n",
       "      <td>16.791158</td>\n",
       "      <td>20.458017</td>\n",
       "      <td>15.92587</td>\n",
       "    </tr>\n",
       "    <tr>\n",
       "      <th>right_eyebrow_outer_end_y</th>\n",
       "      <td>29.647471</td>\n",
       "      <td>27.05886</td>\n",
       "      <td>32.087116</td>\n",
       "      <td>29.909343</td>\n",
       "      <td>30.672177</td>\n",
       "    </tr>\n",
       "    <tr>\n",
       "      <th>nose_tip_x</th>\n",
       "      <td>44.420571</td>\n",
       "      <td>48.206298</td>\n",
       "      <td>47.557263</td>\n",
       "      <td>51.885078</td>\n",
       "      <td>43.299534</td>\n",
       "    </tr>\n",
       "    <tr>\n",
       "      <th>nose_tip_y</th>\n",
       "      <td>57.066803</td>\n",
       "      <td>55.660936</td>\n",
       "      <td>53.538947</td>\n",
       "      <td>54.166539</td>\n",
       "      <td>64.889521</td>\n",
       "    </tr>\n",
       "    <tr>\n",
       "      <th>mouth_left_corner_x</th>\n",
       "      <td>61.195308</td>\n",
       "      <td>56.421447</td>\n",
       "      <td>60.822947</td>\n",
       "      <td>65.598887</td>\n",
       "      <td>60.671411</td>\n",
       "    </tr>\n",
       "    <tr>\n",
       "      <th>mouth_left_corner_y</th>\n",
       "      <td>79.970165</td>\n",
       "      <td>76.352</td>\n",
       "      <td>73.014316</td>\n",
       "      <td>72.703722</td>\n",
       "      <td>77.523239</td>\n",
       "    </tr>\n",
       "    <tr>\n",
       "      <th>mouth_right_corner_x</th>\n",
       "      <td>28.614496</td>\n",
       "      <td>35.122383</td>\n",
       "      <td>33.726316</td>\n",
       "      <td>37.245496</td>\n",
       "      <td>31.191755</td>\n",
       "    </tr>\n",
       "    <tr>\n",
       "      <th>mouth_right_corner_y</th>\n",
       "      <td>77.388992</td>\n",
       "      <td>76.04766</td>\n",
       "      <td>72.732</td>\n",
       "      <td>74.195478</td>\n",
       "      <td>76.997301</td>\n",
       "    </tr>\n",
       "    <tr>\n",
       "      <th>mouth_center_top_lip_x</th>\n",
       "      <td>43.312602</td>\n",
       "      <td>46.684596</td>\n",
       "      <td>47.274947</td>\n",
       "      <td>50.303165</td>\n",
       "      <td>44.962748</td>\n",
       "    </tr>\n",
       "    <tr>\n",
       "      <th>mouth_center_top_lip_y</th>\n",
       "      <td>72.935459</td>\n",
       "      <td>70.266553</td>\n",
       "      <td>70.191789</td>\n",
       "      <td>70.091687</td>\n",
       "      <td>73.707387</td>\n",
       "    </tr>\n",
       "    <tr>\n",
       "      <th>mouth_center_bottom_lip_x</th>\n",
       "      <td>43.130707</td>\n",
       "      <td>45.467915</td>\n",
       "      <td>47.274947</td>\n",
       "      <td>51.561183</td>\n",
       "      <td>44.227141</td>\n",
       "    </tr>\n",
       "    <tr>\n",
       "      <th>mouth_center_bottom_lip_y</th>\n",
       "      <td>84.485774</td>\n",
       "      <td>85.48017</td>\n",
       "      <td>78.659368</td>\n",
       "      <td>78.268383</td>\n",
       "      <td>86.871166</td>\n",
       "    </tr>\n",
       "    <tr>\n",
       "      <th>Image</th>\n",
       "      <td>238 236 237 238 240 240 239 241 241 243 240 23...</td>\n",
       "      <td>219 215 204 196 204 211 212 200 180 168 178 19...</td>\n",
       "      <td>144 142 159 180 188 188 184 180 167 132 84 59 ...</td>\n",
       "      <td>193 192 193 194 194 194 193 192 168 111 50 12 ...</td>\n",
       "      <td>147 148 160 196 215 214 216 217 219 220 206 18...</td>\n",
       "    </tr>\n",
       "  </tbody>\n",
       "</table>\n",
       "</div>"
      ],
      "text/plain": [
       "                                                                           0  \\\n",
       "left_eye_center_x                                                  66.033564   \n",
       "left_eye_center_y                                                  39.002274   \n",
       "right_eye_center_x                                                 30.227008   \n",
       "right_eye_center_y                                                 36.421678   \n",
       "left_eye_inner_corner_x                                            59.582075   \n",
       "left_eye_inner_corner_y                                            39.647423   \n",
       "left_eye_outer_corner_x                                            73.130346   \n",
       "left_eye_outer_corner_y                                            39.969997   \n",
       "right_eye_inner_corner_x                                           36.356571   \n",
       "right_eye_inner_corner_y                                           37.389402   \n",
       "right_eye_outer_corner_x                                           23.452872   \n",
       "right_eye_outer_corner_y                                           37.389402   \n",
       "left_eyebrow_inner_end_x                                           56.953263   \n",
       "left_eyebrow_inner_end_y                                           29.033648   \n",
       "left_eyebrow_outer_end_x                                           80.227128   \n",
       "left_eyebrow_outer_end_y                                           32.228138   \n",
       "right_eyebrow_inner_end_x                                          40.227609   \n",
       "right_eyebrow_inner_end_y                                          29.002322   \n",
       "right_eyebrow_outer_end_x                                          16.356379   \n",
       "right_eyebrow_outer_end_y                                          29.647471   \n",
       "nose_tip_x                                                         44.420571   \n",
       "nose_tip_y                                                         57.066803   \n",
       "mouth_left_corner_x                                                61.195308   \n",
       "mouth_left_corner_y                                                79.970165   \n",
       "mouth_right_corner_x                                               28.614496   \n",
       "mouth_right_corner_y                                               77.388992   \n",
       "mouth_center_top_lip_x                                             43.312602   \n",
       "mouth_center_top_lip_y                                             72.935459   \n",
       "mouth_center_bottom_lip_x                                          43.130707   \n",
       "mouth_center_bottom_lip_y                                          84.485774   \n",
       "Image                      238 236 237 238 240 240 239 241 241 243 240 23...   \n",
       "\n",
       "                                                                           1  \\\n",
       "left_eye_center_x                                                  64.332936   \n",
       "left_eye_center_y                                                  34.970077   \n",
       "right_eye_center_x                                                 29.949277   \n",
       "right_eye_center_y                                                 33.448715   \n",
       "left_eye_inner_corner_x                                             58.85617   \n",
       "left_eye_inner_corner_y                                            35.274349   \n",
       "left_eye_outer_corner_x                                            70.722723   \n",
       "left_eye_outer_corner_y                                            36.187166   \n",
       "right_eye_inner_corner_x                                           36.034723   \n",
       "right_eye_inner_corner_y                                           34.361532   \n",
       "right_eye_outer_corner_x                                           24.472511   \n",
       "right_eye_outer_corner_y                                           33.144443   \n",
       "left_eyebrow_inner_end_x                                           53.987404   \n",
       "left_eyebrow_inner_end_y                                           28.275949   \n",
       "left_eyebrow_outer_end_x                                           78.634213   \n",
       "left_eyebrow_outer_end_y                                           30.405923   \n",
       "right_eyebrow_inner_end_x                                          42.728851   \n",
       "right_eyebrow_inner_end_y                                          26.146043   \n",
       "right_eyebrow_outer_end_x                                          16.865362   \n",
       "right_eyebrow_outer_end_y                                           27.05886   \n",
       "nose_tip_x                                                         48.206298   \n",
       "nose_tip_y                                                         55.660936   \n",
       "mouth_left_corner_x                                                56.421447   \n",
       "mouth_left_corner_y                                                   76.352   \n",
       "mouth_right_corner_x                                               35.122383   \n",
       "mouth_right_corner_y                                                76.04766   \n",
       "mouth_center_top_lip_x                                             46.684596   \n",
       "mouth_center_top_lip_y                                             70.266553   \n",
       "mouth_center_bottom_lip_x                                          45.467915   \n",
       "mouth_center_bottom_lip_y                                           85.48017   \n",
       "Image                      219 215 204 196 204 211 212 200 180 168 178 19...   \n",
       "\n",
       "                                                                           2  \\\n",
       "left_eye_center_x                                                  65.057053   \n",
       "left_eye_center_y                                                  34.909642   \n",
       "right_eye_center_x                                                 30.903789   \n",
       "right_eye_center_y                                                 34.909642   \n",
       "left_eye_inner_corner_x                                               59.412   \n",
       "left_eye_inner_corner_y                                            36.320968   \n",
       "left_eye_outer_corner_x                                            70.984421   \n",
       "left_eye_outer_corner_y                                            36.320968   \n",
       "right_eye_inner_corner_x                                           37.678105   \n",
       "right_eye_inner_corner_y                                           36.320968   \n",
       "right_eye_outer_corner_x                                           24.976421   \n",
       "right_eye_outer_corner_y                                           36.603221   \n",
       "left_eyebrow_inner_end_x                                           55.742526   \n",
       "left_eyebrow_inner_end_y                                           27.570947   \n",
       "left_eyebrow_outer_end_x                                           78.887368   \n",
       "left_eyebrow_outer_end_y                                           32.651621   \n",
       "right_eyebrow_inner_end_x                                          42.193895   \n",
       "right_eyebrow_inner_end_y                                          28.135453   \n",
       "right_eyebrow_outer_end_x                                          16.791158   \n",
       "right_eyebrow_outer_end_y                                          32.087116   \n",
       "nose_tip_x                                                         47.557263   \n",
       "nose_tip_y                                                         53.538947   \n",
       "mouth_left_corner_x                                                60.822947   \n",
       "mouth_left_corner_y                                                73.014316   \n",
       "mouth_right_corner_x                                               33.726316   \n",
       "mouth_right_corner_y                                                  72.732   \n",
       "mouth_center_top_lip_x                                             47.274947   \n",
       "mouth_center_top_lip_y                                             70.191789   \n",
       "mouth_center_bottom_lip_x                                          47.274947   \n",
       "mouth_center_bottom_lip_y                                          78.659368   \n",
       "Image                      144 142 159 180 188 188 184 180 167 132 84 59 ...   \n",
       "\n",
       "                                                                           3  \\\n",
       "left_eye_center_x                                                  65.225739   \n",
       "left_eye_center_y                                                  37.261774   \n",
       "right_eye_center_x                                                 32.023096   \n",
       "right_eye_center_y                                                 37.261774   \n",
       "left_eye_inner_corner_x                                            60.003339   \n",
       "left_eye_inner_corner_y                                            39.127179   \n",
       "left_eye_outer_corner_x                                            72.314713   \n",
       "left_eye_outer_corner_y                                            38.380967   \n",
       "right_eye_inner_corner_x                                           37.618643   \n",
       "right_eye_inner_corner_y                                           38.754115   \n",
       "right_eye_outer_corner_x                                            25.30727   \n",
       "right_eye_outer_corner_y                                           38.007903   \n",
       "left_eyebrow_inner_end_x                                           56.433809   \n",
       "left_eyebrow_inner_end_y                                           30.929864   \n",
       "left_eyebrow_outer_end_x                                           77.910261   \n",
       "left_eyebrow_outer_end_y                                           31.665725   \n",
       "right_eyebrow_inner_end_x                                          41.671513   \n",
       "right_eyebrow_inner_end_y                                           31.04999   \n",
       "right_eyebrow_outer_end_x                                          20.458017   \n",
       "right_eyebrow_outer_end_y                                          29.909343   \n",
       "nose_tip_x                                                         51.885078   \n",
       "nose_tip_y                                                         54.166539   \n",
       "mouth_left_corner_x                                                65.598887   \n",
       "mouth_left_corner_y                                                72.703722   \n",
       "mouth_right_corner_x                                               37.245496   \n",
       "mouth_right_corner_y                                               74.195478   \n",
       "mouth_center_top_lip_x                                             50.303165   \n",
       "mouth_center_top_lip_y                                             70.091687   \n",
       "mouth_center_bottom_lip_x                                          51.561183   \n",
       "mouth_center_bottom_lip_y                                          78.268383   \n",
       "Image                      193 192 193 194 194 194 193 192 168 111 50 12 ...   \n",
       "\n",
       "                                                                           4  \n",
       "left_eye_center_x                                                  66.725301  \n",
       "left_eye_center_y                                                  39.621261  \n",
       "right_eye_center_x                                                  32.24481  \n",
       "right_eye_center_y                                                 38.042032  \n",
       "left_eye_inner_corner_x                                             58.56589  \n",
       "left_eye_inner_corner_y                                            39.621261  \n",
       "left_eye_outer_corner_x                                            72.515926  \n",
       "left_eye_outer_corner_y                                            39.884466  \n",
       "right_eye_inner_corner_x                                            36.98238  \n",
       "right_eye_inner_corner_y                                           39.094852  \n",
       "right_eye_outer_corner_x                                            22.50611  \n",
       "right_eye_outer_corner_y                                           38.305237  \n",
       "left_eyebrow_inner_end_x                                           57.249571  \n",
       "left_eyebrow_inner_end_y                                           30.672177  \n",
       "left_eyebrow_outer_end_x                                           77.762945  \n",
       "left_eyebrow_outer_end_y                                           31.737247  \n",
       "right_eyebrow_inner_end_x                                          38.035436  \n",
       "right_eyebrow_inner_end_y                                          30.935382  \n",
       "right_eyebrow_outer_end_x                                           15.92587  \n",
       "right_eyebrow_outer_end_y                                          30.672177  \n",
       "nose_tip_x                                                         43.299534  \n",
       "nose_tip_y                                                         64.889521  \n",
       "mouth_left_corner_x                                                60.671411  \n",
       "mouth_left_corner_y                                                77.523239  \n",
       "mouth_right_corner_x                                               31.191755  \n",
       "mouth_right_corner_y                                               76.997301  \n",
       "mouth_center_top_lip_x                                             44.962748  \n",
       "mouth_center_top_lip_y                                             73.707387  \n",
       "mouth_center_bottom_lip_x                                          44.227141  \n",
       "mouth_center_bottom_lip_y                                          86.871166  \n",
       "Image                      147 148 160 196 215 214 216 217 219 220 206 18...  "
      ]
     },
     "execution_count": 3,
     "metadata": {},
     "output_type": "execute_result"
    }
   ],
   "source": [
    "train_data.head().T"
   ]
  },
  {
   "attachments": {},
   "cell_type": "markdown",
   "metadata": {},
   "source": [
    "전치해서 샘플을 보는 방법이 신박..\n",
    "\n",
    "### 결측치"
   ]
  },
  {
   "cell_type": "code",
   "execution_count": 4,
   "metadata": {},
   "outputs": [
    {
     "data": {
      "text/plain": [
       "True     28\n",
       "False     3\n",
       "dtype: int64"
      ]
     },
     "execution_count": 4,
     "metadata": {},
     "output_type": "execute_result"
    }
   ],
   "source": [
    "train_data.isnull().any().value_counts()"
   ]
  },
  {
   "attachments": {},
   "cell_type": "markdown",
   "metadata": {},
   "source": [
    "28개의 컬럼에 결측치가 존재  "
   ]
  },
  {
   "cell_type": "code",
   "execution_count": 5,
   "metadata": {},
   "outputs": [],
   "source": [
    "# 이전 행의 데이터를 이용해 결측치를 채움\n",
    "train_data = train_data.fillna(method=\"ffill\")"
   ]
  },
  {
   "cell_type": "code",
   "execution_count": 6,
   "metadata": {},
   "outputs": [
    {
     "data": {
      "text/plain": [
       "False    31\n",
       "dtype: int64"
      ]
     },
     "execution_count": 6,
     "metadata": {},
     "output_type": "execute_result"
    }
   ],
   "source": [
    "train_data.isnull().any().value_counts()"
   ]
  },
  {
   "attachments": {},
   "cell_type": "markdown",
   "metadata": {},
   "source": [
    "## Train Test Split"
   ]
  },
  {
   "cell_type": "code",
   "execution_count": 7,
   "metadata": {},
   "outputs": [],
   "source": [
    "image = []\n",
    "for idx in range(train_data.shape[0]):\n",
    "    img = train_data[\"Image\"][idx].split((\" \"))\n",
    "    img = [\"0\" if x==\" \" else x for x in img]\n",
    "    image.append(img)"
   ]
  },
  {
   "cell_type": "code",
   "execution_count": 8,
   "metadata": {},
   "outputs": [],
   "source": [
    "image_list = np.array(image, dtype=\"float\")\n",
    "X_train = image_list.reshape(-1, 96, 96, 1)\n"
   ]
  },
  {
   "cell_type": "code",
   "execution_count": 9,
   "metadata": {},
   "outputs": [
    {
     "data": {
      "image/png": "[encoded data removed]",
      "text/plain": [
       "<Figure size 640x480 with 1 Axes>"
      ]
     },
     "metadata": {},
     "output_type": "display_data"
    }
   ],
   "source": [
    "plt.imshow(X_train[0].reshape(96, 96), cmap=\"gray\")\n",
    "plt.show()"
   ]
  },
  {
   "cell_type": "code",
   "execution_count": 10,
   "metadata": {},
   "outputs": [],
   "source": [
    "training = train_data.drop(\"Image\", axis=1)\n",
    "\n",
    "y_train = []\n",
    "for idx in range(train_data.shape[0]):\n",
    "    y = training.iloc[idx]\n",
    "    y_train.append(y)\n",
    "\n",
    "y_train = np.array(y_train, dtype=\"float\")"
   ]
  },
  {
   "cell_type": "code",
   "execution_count": 11,
   "metadata": {},
   "outputs": [
    {
     "name": "stdout",
     "output_type": "stream",
     "text": [
      "X_train: (7049, 96, 96, 1)\n",
      "y_train: (7049, 30)\n"
     ]
    }
   ],
   "source": [
    "print(f\"X_train: {X_train.shape}\\ny_train: {y_train.shape}\")"
   ]
  },
  {
   "attachments": {},
   "cell_type": "markdown",
   "metadata": {},
   "source": [
    "## Modeling\n"
   ]
  },
  {
   "cell_type": "code",
   "execution_count": 12,
   "metadata": {},
   "outputs": [],
   "source": [
    "from keras.layers.advanced_activations import LeakyReLU\n",
    "from keras.models import Sequential, Model\n",
    "from keras.layers import Activation, Convolution2D, MaxPooling2D, BatchNormalization, Flatten, Dense, Dropout, Conv2D,MaxPool2D, ZeroPadding2D"
   ]
  },
  {
   "cell_type": "code",
   "execution_count": 13,
   "metadata": {},
   "outputs": [],
   "source": [
    "model = Sequential()\n",
    "\n",
    "model.add(Convolution2D(32, (3,3), padding='same', use_bias=False, input_shape=(96,96,1)))\n",
    "model.add(LeakyReLU(alpha = 0.1))\n",
    "model.add(BatchNormalization())\n",
    "\n",
    "model.add(Convolution2D(32, (3,3), padding='same', use_bias=False))\n",
    "model.add(LeakyReLU(alpha = 0.1))\n",
    "model.add(BatchNormalization())\n",
    "model.add(MaxPool2D(pool_size=(2, 2)))\n",
    "\n",
    "model.add(Convolution2D(64, (3,3), padding='same', use_bias=False))\n",
    "model.add(LeakyReLU(alpha = 0.1))\n",
    "model.add(BatchNormalization())\n",
    "\n",
    "model.add(Convolution2D(64, (3,3), padding='same', use_bias=False))\n",
    "model.add(LeakyReLU(alpha = 0.1))\n",
    "model.add(BatchNormalization())\n",
    "model.add(MaxPool2D(pool_size=(2, 2)))\n",
    "\n",
    "model.add(Convolution2D(96, (3,3), padding='same', use_bias=False))\n",
    "model.add(LeakyReLU(alpha = 0.1))\n",
    "model.add(BatchNormalization())\n",
    "\n",
    "model.add(Convolution2D(96, (3,3), padding='same', use_bias=False))\n",
    "model.add(LeakyReLU(alpha = 0.1))\n",
    "model.add(BatchNormalization())\n",
    "model.add(MaxPool2D(pool_size=(2, 2)))\n",
    "\n",
    "model.add(Convolution2D(128, (3,3),padding='same', use_bias=False))\n",
    "# model.add(BatchNormalization())\n",
    "model.add(LeakyReLU(alpha = 0.1))\n",
    "model.add(BatchNormalization())\n",
    "\n",
    "model.add(Convolution2D(128, (3,3),padding='same', use_bias=False))\n",
    "model.add(LeakyReLU(alpha = 0.1))\n",
    "model.add(BatchNormalization())\n",
    "model.add(MaxPool2D(pool_size=(2, 2)))\n",
    "\n",
    "model.add(Convolution2D(256, (3,3),padding='same',use_bias=False))\n",
    "model.add(LeakyReLU(alpha = 0.1))\n",
    "model.add(BatchNormalization())\n",
    "\n",
    "model.add(Convolution2D(256, (3,3),padding='same',use_bias=False))\n",
    "model.add(LeakyReLU(alpha = 0.1))\n",
    "model.add(BatchNormalization())\n",
    "model.add(MaxPool2D(pool_size=(2, 2)))\n",
    "\n",
    "model.add(Convolution2D(512, (3,3), padding='same', use_bias=False))\n",
    "model.add(LeakyReLU(alpha = 0.1))\n",
    "model.add(BatchNormalization())\n",
    "\n",
    "model.add(Convolution2D(512, (3,3), padding='same', use_bias=False))\n",
    "model.add(LeakyReLU(alpha = 0.1))\n",
    "model.add(BatchNormalization())\n",
    "\n",
    "\n",
    "model.add(Flatten())\n",
    "model.add(Dense(512,activation='relu'))\n",
    "model.add(Dropout(0.1))\n",
    "model.add(Dense(30))"
   ]
  },
  {
   "cell_type": "code",
   "execution_count": 14,
   "metadata": {},
   "outputs": [],
   "source": [
    "model.compile(optimizer='adam', \n",
    "              loss='mean_squared_error',\n",
    "              metrics=['mae'])"
   ]
  },
  {
   "cell_type": "code",
   "execution_count": 15,
   "metadata": {},
   "outputs": [
    {
     "name": "stdout",
     "output_type": "stream",
     "text": [
      "Epoch 1/50\n",
      "23/23 [==============================] - 13s 141ms/step - loss: 398.8206 - mae: 13.0062 - val_loss: 265.3918 - val_mae: 14.6498\n",
      "Epoch 2/50\n",
      "23/23 [==============================] - 3s 127ms/step - loss: 35.7163 - mae: 4.6563 - val_loss: 95.3521 - val_mae: 8.5286\n",
      "Epoch 3/50\n",
      "23/23 [==============================] - 3s 147ms/step - loss: 28.3026 - mae: 4.1224 - val_loss: 121.8393 - val_mae: 10.0869\n",
      "Epoch 4/50\n",
      "23/23 [==============================] - 4s 177ms/step - loss: 25.4401 - mae: 3.8901 - val_loss: 95.7800 - val_mae: 8.9338\n",
      "Epoch 5/50\n",
      "23/23 [==============================] - 4s 173ms/step - loss: 23.3590 - mae: 3.7186 - val_loss: 70.0791 - val_mae: 7.5457\n",
      "Epoch 6/50\n",
      "23/23 [==============================] - 4s 162ms/step - loss: 21.7641 - mae: 3.5758 - val_loss: 56.8209 - val_mae: 6.7960\n",
      "Epoch 7/50\n",
      "23/23 [==============================] - 4s 156ms/step - loss: 20.0267 - mae: 3.4213 - val_loss: 30.9227 - val_mae: 4.8413\n",
      "Epoch 8/50\n",
      "23/23 [==============================] - 4s 152ms/step - loss: 19.3972 - mae: 3.3653 - val_loss: 43.4691 - val_mae: 5.7888\n",
      "Epoch 9/50\n",
      "23/23 [==============================] - 3s 149ms/step - loss: 17.8232 - mae: 3.2282 - val_loss: 18.7019 - val_mae: 3.5706\n",
      "Epoch 10/50\n",
      "23/23 [==============================] - 3s 124ms/step - loss: 16.5167 - mae: 3.0867 - val_loss: 21.9768 - val_mae: 3.9731\n",
      "Epoch 11/50\n",
      "23/23 [==============================] - 3s 123ms/step - loss: 15.7787 - mae: 3.0223 - val_loss: 6.7873 - val_mae: 1.8052\n",
      "Epoch 12/50\n",
      "23/23 [==============================] - 3s 129ms/step - loss: 16.0624 - mae: 3.0575 - val_loss: 8.9157 - val_mae: 2.2243\n",
      "Epoch 13/50\n",
      "23/23 [==============================] - 3s 120ms/step - loss: 14.2432 - mae: 2.8656 - val_loss: 25.5377 - val_mae: 4.3218\n",
      "Epoch 14/50\n",
      "23/23 [==============================] - 3s 122ms/step - loss: 14.9392 - mae: 2.9466 - val_loss: 5.3874 - val_mae: 1.5143\n",
      "Epoch 15/50\n",
      "23/23 [==============================] - 3s 126ms/step - loss: 13.4268 - mae: 2.7860 - val_loss: 5.2726 - val_mae: 1.4137\n",
      "Epoch 16/50\n",
      "23/23 [==============================] - 3s 122ms/step - loss: 12.5517 - mae: 2.6967 - val_loss: 6.9621 - val_mae: 1.9334\n",
      "Epoch 17/50\n",
      "23/23 [==============================] - 3s 119ms/step - loss: 14.5146 - mae: 2.8905 - val_loss: 5.3311 - val_mae: 1.5000\n",
      "Epoch 18/50\n",
      "23/23 [==============================] - 3s 118ms/step - loss: 12.0529 - mae: 2.6354 - val_loss: 4.9925 - val_mae: 1.6131\n",
      "Epoch 19/50\n",
      "23/23 [==============================] - 3s 123ms/step - loss: 11.8054 - mae: 2.6172 - val_loss: 4.8682 - val_mae: 1.5600\n",
      "Epoch 20/50\n",
      "23/23 [==============================] - 3s 135ms/step - loss: 11.4443 - mae: 2.5660 - val_loss: 6.0154 - val_mae: 1.6435\n",
      "Epoch 21/50\n",
      "23/23 [==============================] - 3s 137ms/step - loss: 10.4996 - mae: 2.4553 - val_loss: 6.6149 - val_mae: 1.6870\n",
      "Epoch 22/50\n",
      "23/23 [==============================] - 3s 138ms/step - loss: 10.2974 - mae: 2.4306 - val_loss: 5.1338 - val_mae: 1.6453\n",
      "Epoch 23/50\n",
      "23/23 [==============================] - 3s 143ms/step - loss: 11.3231 - mae: 2.5638 - val_loss: 38.2990 - val_mae: 5.5373\n",
      "Epoch 24/50\n",
      "23/23 [==============================] - 4s 155ms/step - loss: 16.3212 - mae: 3.1216 - val_loss: 9.8507 - val_mae: 2.5011\n",
      "Epoch 25/50\n",
      "23/23 [==============================] - 3s 147ms/step - loss: 9.6364 - mae: 2.3430 - val_loss: 6.2949 - val_mae: 1.6926\n",
      "Epoch 26/50\n",
      "23/23 [==============================] - 3s 134ms/step - loss: 9.9576 - mae: 2.3905 - val_loss: 4.2762 - val_mae: 1.4140\n",
      "Epoch 27/50\n",
      "23/23 [==============================] - 3s 129ms/step - loss: 9.4300 - mae: 2.3193 - val_loss: 3.5676 - val_mae: 1.2112\n",
      "Epoch 28/50\n",
      "23/23 [==============================] - 3s 128ms/step - loss: 9.0520 - mae: 2.2806 - val_loss: 6.1446 - val_mae: 1.6485\n",
      "Epoch 29/50\n",
      "23/23 [==============================] - 3s 126ms/step - loss: 9.0337 - mae: 2.2726 - val_loss: 3.6641 - val_mae: 1.2131\n",
      "Epoch 30/50\n",
      "23/23 [==============================] - 3s 119ms/step - loss: 9.2118 - mae: 2.2830 - val_loss: 36.5788 - val_mae: 5.3306\n",
      "Epoch 31/50\n",
      "23/23 [==============================] - 3s 112ms/step - loss: 14.8476 - mae: 2.9598 - val_loss: 3.0323 - val_mae: 1.0288\n",
      "Epoch 32/50\n",
      "23/23 [==============================] - 3s 117ms/step - loss: 8.3919 - mae: 2.1881 - val_loss: 3.6093 - val_mae: 1.3254\n",
      "Epoch 33/50\n",
      "23/23 [==============================] - 3s 122ms/step - loss: 7.6615 - mae: 2.0912 - val_loss: 5.2254 - val_mae: 1.5502\n",
      "Epoch 34/50\n",
      "23/23 [==============================] - 3s 117ms/step - loss: 8.6517 - mae: 2.2253 - val_loss: 5.6589 - val_mae: 1.6946\n",
      "Epoch 35/50\n",
      "23/23 [==============================] - 3s 120ms/step - loss: 7.9834 - mae: 2.1330 - val_loss: 4.2376 - val_mae: 1.4139\n",
      "Epoch 36/50\n",
      "23/23 [==============================] - 3s 110ms/step - loss: 9.0504 - mae: 2.2815 - val_loss: 3.5840 - val_mae: 1.2038\n",
      "Epoch 37/50\n",
      "23/23 [==============================] - 2s 103ms/step - loss: 8.0116 - mae: 2.1424 - val_loss: 27.5980 - val_mae: 4.5805\n",
      "Epoch 38/50\n",
      "23/23 [==============================] - 2s 106ms/step - loss: 14.6506 - mae: 2.9512 - val_loss: 20.6375 - val_mae: 3.8466\n",
      "Epoch 39/50\n",
      "23/23 [==============================] - 2s 104ms/step - loss: 7.7490 - mae: 2.0901 - val_loss: 15.6648 - val_mae: 3.4313\n",
      "Epoch 40/50\n",
      "23/23 [==============================] - 2s 103ms/step - loss: 8.7688 - mae: 2.2496 - val_loss: 26.1483 - val_mae: 4.5584\n",
      "Epoch 41/50\n",
      "23/23 [==============================] - 2s 105ms/step - loss: 9.4126 - mae: 2.3256 - val_loss: 9.6935 - val_mae: 2.5160\n",
      "Epoch 42/50\n",
      "23/23 [==============================] - 2s 104ms/step - loss: 7.6182 - mae: 2.0860 - val_loss: 3.7079 - val_mae: 1.3213\n",
      "Epoch 43/50\n",
      "23/23 [==============================] - 2s 106ms/step - loss: 7.2778 - mae: 2.0363 - val_loss: 4.2314 - val_mae: 1.4033\n",
      "Epoch 44/50\n",
      "23/23 [==============================] - 2s 109ms/step - loss: 7.6210 - mae: 2.0949 - val_loss: 5.8606 - val_mae: 1.9128\n",
      "Epoch 45/50\n",
      "23/23 [==============================] - 3s 112ms/step - loss: 6.9362 - mae: 1.9930 - val_loss: 2.8569 - val_mae: 0.9625\n",
      "Epoch 46/50\n",
      "23/23 [==============================] - 2s 102ms/step - loss: 6.7565 - mae: 1.9548 - val_loss: 2.5891 - val_mae: 0.8892\n",
      "Epoch 47/50\n",
      "23/23 [==============================] - 2s 105ms/step - loss: 6.1403 - mae: 1.8776 - val_loss: 4.1351 - val_mae: 1.2074\n",
      "Epoch 48/50\n",
      "23/23 [==============================] - 2s 93ms/step - loss: 6.4113 - mae: 1.9233 - val_loss: 5.4924 - val_mae: 1.7942\n",
      "Epoch 49/50\n",
      "23/23 [==============================] - 2s 104ms/step - loss: 7.0096 - mae: 2.0139 - val_loss: 15.5438 - val_mae: 3.3745\n",
      "Epoch 50/50\n",
      "23/23 [==============================] - 2s 104ms/step - loss: 9.4959 - mae: 2.3725 - val_loss: 8.7644 - val_mae: 2.4992\n"
     ]
    },
    {
     "data": {
      "text/plain": [
       "<keras.callbacks.History at 0x207e101fd90>"
      ]
     },
     "execution_count": 15,
     "metadata": {},
     "output_type": "execute_result"
    }
   ],
   "source": [
    "model.fit(X_train,y_train,epochs = 50,batch_size = 256,validation_split = 0.2)"
   ]
  },
  {
   "attachments": {},
   "cell_type": "markdown",
   "metadata": {},
   "source": [
    "## Test (Predict)"
   ]
  },
  {
   "cell_type": "code",
   "execution_count": 16,
   "metadata": {},
   "outputs": [],
   "source": [
    "timag = []\n",
    "for i in range(0,1783):\n",
    "    timg = test_data['Image'][i].split(' ')\n",
    "    timg = ['0' if x == '' else x for x in timg]\n",
    "    \n",
    "    timag.append(timg)"
   ]
  },
  {
   "cell_type": "code",
   "execution_count": 17,
   "metadata": {},
   "outputs": [],
   "source": [
    "timage_list = np.array(timag,dtype = 'float')\n",
    "X_test = timage_list.reshape(-1,96,96,1) "
   ]
  },
  {
   "cell_type": "code",
   "execution_count": 18,
   "metadata": {},
   "outputs": [
    {
     "data": {
      "image/png": "[encoded data removed]",
      "text/plain": [
       "<Figure size 640x480 with 1 Axes>"
      ]
     },
     "metadata": {},
     "output_type": "display_data"
    }
   ],
   "source": [
    "plt.imshow(X_test[0].reshape(96,96),cmap = 'gray')\n",
    "plt.show()"
   ]
  },
  {
   "cell_type": "code",
   "execution_count": 19,
   "metadata": {},
   "outputs": [],
   "source": [
    "pred = model.predict(X_test)"
   ]
  },
  {
   "attachments": {},
   "cell_type": "markdown",
   "metadata": {},
   "source": [
    "## Submit"
   ]
  },
  {
   "cell_type": "code",
   "execution_count": 20,
   "metadata": {},
   "outputs": [],
   "source": [
    "lookid_list = list(lookid_data['FeatureName'])\n",
    "imageID = list(lookid_data['ImageId']-1)\n",
    "pre_list = list(pred)"
   ]
  },
  {
   "cell_type": "code",
   "execution_count": 21,
   "metadata": {},
   "outputs": [],
   "source": [
    "rowid = lookid_data['RowId']\n",
    "rowid=list(rowid)"
   ]
  },
  {
   "cell_type": "code",
   "execution_count": 22,
   "metadata": {},
   "outputs": [],
   "source": [
    "feature = []\n",
    "for f in list(lookid_data['FeatureName']):\n",
    "    feature.append(lookid_list.index(f))"
   ]
  },
  {
   "cell_type": "code",
   "execution_count": 23,
   "metadata": {},
   "outputs": [],
   "source": [
    "preded = []\n",
    "for x,y in zip(imageID,feature):\n",
    "    preded.append(pre_list[x][y])"
   ]
  },
  {
   "cell_type": "code",
   "execution_count": 24,
   "metadata": {},
   "outputs": [],
   "source": [
    "rowid = pd.Series(rowid,name = 'RowId')\n",
    "loc = pd.Series(preded,name = 'Location')\n",
    "submission = pd.concat([rowid,loc],axis = 1)\n",
    "submission.to_csv('face_key_detection_submission.csv',index = False)"
   ]
  }
 ],
 "metadata": {
  "kernelspec": {
   "display_name": "NN",
   "language": "python",
   "name": "python3"
  },
  "language_info": {
   "codemirror_mode": {
    "name": "ipython",
    "version": 3
   },
   "file_extension": ".py",
   "mimetype": "text/x-python",
   "name": "python",
   "nbconvert_exporter": "python",
   "pygments_lexer": "ipython3",
   "version": "3.9.15"
  },
  "orig_nbformat": 4,
  "vscode": {
   "interpreter": {
    "hash": "0f0991e49adad1753eef4fa4b55232b676ddb958fe2380cbc7c0c4d0c1f50553"
   }
  }
 },
 "nbformat": 4,
 "nbformat_minor": 2
}
