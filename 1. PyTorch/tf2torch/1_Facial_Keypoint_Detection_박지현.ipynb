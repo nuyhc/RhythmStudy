{
  "nbformat": 4,
  "nbformat_minor": 0,
  "metadata": {
    "colab": {
      "provenance": [],
      "toc_visible": true,
      "mount_file_id": "1iu4a0LTFzsuEi0PxM_Ve8iPz59U-0hh9",
      "authorship_tag": "ABX9TyNQRcymUNWK24IpxFDUQXnI",
      "include_colab_link": true
    },
    "kernelspec": {
      "name": "python3",
      "display_name": "Python 3"
    },
    "language_info": {
      "name": "python"
    },
    "accelerator": "GPU",
    "gpuClass": "standard"
  },
  "cells": [
    {
      "cell_type": "markdown",
      "metadata": {
        "id": "view-in-github",
        "colab_type": "text"
      },
      "source": [
        "<a href=\"https://colab.research.google.com/github/nuyhc/RhythmStudy/blob/main/1.%20PyTorch/tf2torch/1_Facial_Keypoint_Detection_%EB%B0%95%EC%A7%80%ED%98%84.ipynb\" target=\"_parent\"><img src=\"https://colab.research.google.com/assets/colab-badge.svg\" alt=\"Open In Colab\"/></a>"
      ]
    },
    {
      "cell_type": "markdown",
      "source": [
        "# Facial Keypoints Detection\n",
        "Detect the location of keypoints on face images\n",
        "\n",
        "### Data files\n",
        "* `training.csv`: list of training 7049 images. Each row contains the (x,y) coordinates for 15 keypoints, and image data as row-ordered list of pixels.\n",
        "* `test.csv`: list of 1783 test images. Each row contains ImageId and image data as row-ordered list of pixels\n",
        "* `submissionFileFormat.csv`: list of 27124 keypoints to predict. Each row contains a RowId, ImageId, FeatureName, Location. FeatureName are \"left_eye_center_x,\" \"right_eyebrow_outer_end_y,\" etc. Location is what you need to predict. \n",
        "\n",
        "### Reference\n",
        "[kaggle Notebook - karanjakhar/facial-keypoint-detection](https://www.kaggle.com/code/karanjakhar/facial-keypoint-detection)"
      ],
      "metadata": {
        "id": "Jk9TkpCs_xYO"
      }
    },
    {
      "cell_type": "markdown",
      "source": [
        "# 1. Colab에서 kaggle datasets 불러오기"
      ],
      "metadata": {
        "id": "4fM0NM68E11V"
      }
    },
    {
      "cell_type": "code",
      "source": [
        "!pip install -q kaggle"
      ],
      "metadata": {
        "id": "HO4vDUw7_w3m"
      },
      "execution_count": 2,
      "outputs": []
    },
    {
      "cell_type": "code",
      "source": [
        "%cd /content/drive/MyDrive/리듬스터디"
      ],
      "metadata": {
        "colab": {
          "base_uri": "https://localhost:8080/"
        },
        "id": "cq3ChX0UCFV5",
        "outputId": "9d244893-7f44-4d3b-e122-ea681e58bc5f"
      },
      "execution_count": 3,
      "outputs": [
        {
          "output_type": "stream",
          "name": "stdout",
          "text": [
            "/content/drive/MyDrive/리듬스터디\n"
          ]
        }
      ]
    },
    {
      "cell_type": "code",
      "source": [
        "!ls -al"
      ],
      "metadata": {
        "colab": {
          "base_uri": "https://localhost:8080/"
        },
        "id": "ChYIMoQeCMwo",
        "outputId": "34bd70cc-53a6-43a6-9f2f-8c4e97248b82"
      },
      "execution_count": 4,
      "outputs": [
        {
          "output_type": "stream",
          "name": "stdout",
          "text": [
            "total 448508\n",
            "-rw------- 1 root root    118856 Dec 15 04:31  1_Facial_Keypoint_Detection_박지현.ipynb\n",
            "-rw------- 1 root root    404582 Dec 11 15:49 '1. PyTorch'\n",
            "-rw------- 1 root root  79999502 Dec 14 05:09  facial-keypoints-detection.zip\n",
            "-rw------- 1 root root    862732 Dec 11  2019  IdLookupTable.csv\n",
            "-rw------- 1 root root    205901 Dec 11  2019  SampleSubmission.csv\n",
            "-rw------- 1 root root  59822141 Apr 27  2013  test.csv\n",
            "-rw------- 1 root root  16765834 Dec 11  2019  test.zip\n",
            "-rw------- 1 root root 238064810 Mar 23  2013  training.csv\n",
            "-rw------- 1 root root  63023793 Dec 11  2019  training.zip\n"
          ]
        }
      ]
    },
    {
      "cell_type": "code",
      "source": [
        "!rm -r ~/.kaggle\n",
        "!mkdir ~/.kaggle\n",
        "!mv ./kaggle.json ~/.kaggle/\n",
        "!chmod 600 ~/.kaggle/kaggle.json\n",
        "!kaggle datasets list"
      ],
      "metadata": {
        "id": "4fpx6lTGBML9"
      },
      "execution_count": null,
      "outputs": []
    },
    {
      "cell_type": "code",
      "execution_count": null,
      "metadata": {
        "id": "QAV1qzwY7XX7"
      },
      "outputs": [],
      "source": [
        "!kaggle competitions download -c facial-keypoints-detection"
      ]
    },
    {
      "cell_type": "code",
      "source": [
        "!unzip /content/drive/MyDrive/리듬스터디/facial-keypoints-detection.zip\n",
        "!unzip /content/drive/MyDrive/리듬스터디/training.zip\n",
        "!unzip /content/drive/MyDrive/리듬스터디/test.zip"
      ],
      "metadata": {
        "colab": {
          "base_uri": "https://localhost:8080/"
        },
        "id": "pgku9wmhD9Hd",
        "outputId": "33d03be3-821b-431b-95c4-3dc8f0412f3a"
      },
      "execution_count": 7,
      "outputs": [
        {
          "output_type": "stream",
          "name": "stdout",
          "text": [
            "Archive:  /content/drive/MyDrive/리듬스터디/facial-keypoints-detection.zip\n",
            "replace IdLookupTable.csv? [y]es, [n]o, [A]ll, [N]one, [r]ename: Archive:  /content/drive/MyDrive/리듬스터디/training.zip\n",
            "replace training.csv? [y]es, [n]o, [A]ll, [N]one, [r]ename: Archive:  /content/drive/MyDrive/리듬스터디/test.zip\n",
            "replace test.csv? [y]es, [n]o, [A]ll, [N]one, [r]ename: "
          ]
        }
      ]
    },
    {
      "cell_type": "markdown",
      "source": [
        "# 2. Library Load"
      ],
      "metadata": {
        "id": "H-RjsIpjFDDE"
      }
    },
    {
      "cell_type": "code",
      "source": [
        "import numpy as np\n",
        "import matplotlib.pyplot as plt\n",
        "import pandas as pd\n",
        "from IPython.display import clear_output\n",
        "from time import sleep\n",
        "import os"
      ],
      "metadata": {
        "id": "phHVF6yPDB39"
      },
      "execution_count": 8,
      "outputs": []
    },
    {
      "cell_type": "markdown",
      "source": [
        "# 3. Dataset Load"
      ],
      "metadata": {
        "id": "o-mvYl9Ol3eG"
      }
    },
    {
      "cell_type": "code",
      "source": [
        "Train_Dir = '/content/drive/MyDrive/리듬스터디/training.csv'\n",
        "Test_Dir = '/content/drive/MyDrive/리듬스터디/test.csv'\n",
        "lookid_dir = '/content/drive/MyDrive/리듬스터디/IdLookupTable.csv'\n",
        "train_data = pd.read_csv(Train_Dir)\n",
        "test_data = pd.read_csv(Test_Dir)\n",
        "lookid_data = pd.read_csv(lookid_dir)\n",
        "os.listdir('/content/drive/MyDrive/리듬스터디')"
      ],
      "metadata": {
        "colab": {
          "base_uri": "https://localhost:8080/"
        },
        "id": "vkvOW8n3DQj2",
        "outputId": "af73141a-d79b-41ee-ba16-415a79378627"
      },
      "execution_count": 9,
      "outputs": [
        {
          "output_type": "execute_result",
          "data": {
            "text/plain": [
              "['training.csv',\n",
              " 'test.csv',\n",
              " 'test.zip',\n",
              " 'SampleSubmission.csv',\n",
              " 'IdLookupTable.csv',\n",
              " 'training.zip',\n",
              " '1. PyTorch',\n",
              " 'facial-keypoints-detection.zip',\n",
              " '1_Facial_Keypoint_Detection_박지현.ipynb']"
            ]
          },
          "metadata": {},
          "execution_count": 9
        }
      ]
    },
    {
      "cell_type": "markdown",
      "source": [
        "# Explore Dataset"
      ],
      "metadata": {
        "id": "dIx5zeApmBqf"
      }
    },
    {
      "cell_type": "markdown",
      "source": [
        "Let's explore our dataset"
      ],
      "metadata": {
        "id": "HA6Bn7q1FWas"
      }
    },
    {
      "cell_type": "code",
      "source": [
        "display(train_data.shape)\n",
        "test_data.shape"
      ],
      "metadata": {
        "colab": {
          "base_uri": "https://localhost:8080/",
          "height": 54
        },
        "id": "khsnYFm-EEkg",
        "outputId": "0c551759-ffe3-41fd-b7f7-7eab1efa51ed"
      },
      "execution_count": 14,
      "outputs": [
        {
          "output_type": "display_data",
          "data": {
            "text/plain": [
              "(7049, 31)"
            ]
          },
          "metadata": {}
        },
        {
          "output_type": "execute_result",
          "data": {
            "text/plain": [
              "(1783, 2)"
            ]
          },
          "metadata": {},
          "execution_count": 14
        }
      ]
    },
    {
      "cell_type": "code",
      "source": [
        "train_data.head().T"
      ],
      "metadata": {
        "colab": {
          "base_uri": "https://localhost:8080/",
          "height": 1000
        },
        "id": "Jh9itu8QErCc",
        "outputId": "2f2b2aba-0f7c-4a10-915b-7edc8ef690b3"
      },
      "execution_count": 10,
      "outputs": [
        {
          "output_type": "execute_result",
          "data": {
            "text/plain": [
              "                                                                           0  \\\n",
              "left_eye_center_x                                                  66.033564   \n",
              "left_eye_center_y                                                  39.002274   \n",
              "right_eye_center_x                                                 30.227008   \n",
              "right_eye_center_y                                                 36.421678   \n",
              "left_eye_inner_corner_x                                            59.582075   \n",
              "left_eye_inner_corner_y                                            39.647423   \n",
              "left_eye_outer_corner_x                                            73.130346   \n",
              "left_eye_outer_corner_y                                            39.969997   \n",
              "right_eye_inner_corner_x                                           36.356571   \n",
              "right_eye_inner_corner_y                                           37.389402   \n",
              "right_eye_outer_corner_x                                           23.452872   \n",
              "right_eye_outer_corner_y                                           37.389402   \n",
              "left_eyebrow_inner_end_x                                           56.953263   \n",
              "left_eyebrow_inner_end_y                                           29.033648   \n",
              "left_eyebrow_outer_end_x                                           80.227128   \n",
              "left_eyebrow_outer_end_y                                           32.228138   \n",
              "right_eyebrow_inner_end_x                                          40.227609   \n",
              "right_eyebrow_inner_end_y                                          29.002322   \n",
              "right_eyebrow_outer_end_x                                          16.356379   \n",
              "right_eyebrow_outer_end_y                                          29.647471   \n",
              "nose_tip_x                                                         44.420571   \n",
              "nose_tip_y                                                         57.066803   \n",
              "mouth_left_corner_x                                                61.195308   \n",
              "mouth_left_corner_y                                                79.970165   \n",
              "mouth_right_corner_x                                               28.614496   \n",
              "mouth_right_corner_y                                               77.388992   \n",
              "mouth_center_top_lip_x                                             43.312602   \n",
              "mouth_center_top_lip_y                                             72.935459   \n",
              "mouth_center_bottom_lip_x                                          43.130707   \n",
              "mouth_center_bottom_lip_y                                          84.485774   \n",
              "Image                      238 236 237 238 240 240 239 241 241 243 240 23...   \n",
              "\n",
              "                                                                           1  \\\n",
              "left_eye_center_x                                                  64.332936   \n",
              "left_eye_center_y                                                  34.970077   \n",
              "right_eye_center_x                                                 29.949277   \n",
              "right_eye_center_y                                                 33.448715   \n",
              "left_eye_inner_corner_x                                             58.85617   \n",
              "left_eye_inner_corner_y                                            35.274349   \n",
              "left_eye_outer_corner_x                                            70.722723   \n",
              "left_eye_outer_corner_y                                            36.187166   \n",
              "right_eye_inner_corner_x                                           36.034723   \n",
              "right_eye_inner_corner_y                                           34.361532   \n",
              "right_eye_outer_corner_x                                           24.472511   \n",
              "right_eye_outer_corner_y                                           33.144443   \n",
              "left_eyebrow_inner_end_x                                           53.987404   \n",
              "left_eyebrow_inner_end_y                                           28.275949   \n",
              "left_eyebrow_outer_end_x                                           78.634213   \n",
              "left_eyebrow_outer_end_y                                           30.405923   \n",
              "right_eyebrow_inner_end_x                                          42.728851   \n",
              "right_eyebrow_inner_end_y                                          26.146043   \n",
              "right_eyebrow_outer_end_x                                          16.865362   \n",
              "right_eyebrow_outer_end_y                                           27.05886   \n",
              "nose_tip_x                                                         48.206298   \n",
              "nose_tip_y                                                         55.660936   \n",
              "mouth_left_corner_x                                                56.421447   \n",
              "mouth_left_corner_y                                                   76.352   \n",
              "mouth_right_corner_x                                               35.122383   \n",
              "mouth_right_corner_y                                                76.04766   \n",
              "mouth_center_top_lip_x                                             46.684596   \n",
              "mouth_center_top_lip_y                                             70.266553   \n",
              "mouth_center_bottom_lip_x                                          45.467915   \n",
              "mouth_center_bottom_lip_y                                           85.48017   \n",
              "Image                      219 215 204 196 204 211 212 200 180 168 178 19...   \n",
              "\n",
              "                                                                           2  \\\n",
              "left_eye_center_x                                                  65.057053   \n",
              "left_eye_center_y                                                  34.909642   \n",
              "right_eye_center_x                                                 30.903789   \n",
              "right_eye_center_y                                                 34.909642   \n",
              "left_eye_inner_corner_x                                               59.412   \n",
              "left_eye_inner_corner_y                                            36.320968   \n",
              "left_eye_outer_corner_x                                            70.984421   \n",
              "left_eye_outer_corner_y                                            36.320968   \n",
              "right_eye_inner_corner_x                                           37.678105   \n",
              "right_eye_inner_corner_y                                           36.320968   \n",
              "right_eye_outer_corner_x                                           24.976421   \n",
              "right_eye_outer_corner_y                                           36.603221   \n",
              "left_eyebrow_inner_end_x                                           55.742526   \n",
              "left_eyebrow_inner_end_y                                           27.570947   \n",
              "left_eyebrow_outer_end_x                                           78.887368   \n",
              "left_eyebrow_outer_end_y                                           32.651621   \n",
              "right_eyebrow_inner_end_x                                          42.193895   \n",
              "right_eyebrow_inner_end_y                                          28.135453   \n",
              "right_eyebrow_outer_end_x                                          16.791158   \n",
              "right_eyebrow_outer_end_y                                          32.087116   \n",
              "nose_tip_x                                                         47.557263   \n",
              "nose_tip_y                                                         53.538947   \n",
              "mouth_left_corner_x                                                60.822947   \n",
              "mouth_left_corner_y                                                73.014316   \n",
              "mouth_right_corner_x                                               33.726316   \n",
              "mouth_right_corner_y                                                  72.732   \n",
              "mouth_center_top_lip_x                                             47.274947   \n",
              "mouth_center_top_lip_y                                             70.191789   \n",
              "mouth_center_bottom_lip_x                                          47.274947   \n",
              "mouth_center_bottom_lip_y                                          78.659368   \n",
              "Image                      144 142 159 180 188 188 184 180 167 132 84 59 ...   \n",
              "\n",
              "                                                                           3  \\\n",
              "left_eye_center_x                                                  65.225739   \n",
              "left_eye_center_y                                                  37.261774   \n",
              "right_eye_center_x                                                 32.023096   \n",
              "right_eye_center_y                                                 37.261774   \n",
              "left_eye_inner_corner_x                                            60.003339   \n",
              "left_eye_inner_corner_y                                            39.127179   \n",
              "left_eye_outer_corner_x                                            72.314713   \n",
              "left_eye_outer_corner_y                                            38.380967   \n",
              "right_eye_inner_corner_x                                           37.618643   \n",
              "right_eye_inner_corner_y                                           38.754115   \n",
              "right_eye_outer_corner_x                                            25.30727   \n",
              "right_eye_outer_corner_y                                           38.007903   \n",
              "left_eyebrow_inner_end_x                                           56.433809   \n",
              "left_eyebrow_inner_end_y                                           30.929864   \n",
              "left_eyebrow_outer_end_x                                           77.910261   \n",
              "left_eyebrow_outer_end_y                                           31.665725   \n",
              "right_eyebrow_inner_end_x                                          41.671513   \n",
              "right_eyebrow_inner_end_y                                           31.04999   \n",
              "right_eyebrow_outer_end_x                                          20.458017   \n",
              "right_eyebrow_outer_end_y                                          29.909343   \n",
              "nose_tip_x                                                         51.885078   \n",
              "nose_tip_y                                                         54.166539   \n",
              "mouth_left_corner_x                                                65.598887   \n",
              "mouth_left_corner_y                                                72.703722   \n",
              "mouth_right_corner_x                                               37.245496   \n",
              "mouth_right_corner_y                                               74.195478   \n",
              "mouth_center_top_lip_x                                             50.303165   \n",
              "mouth_center_top_lip_y                                             70.091687   \n",
              "mouth_center_bottom_lip_x                                          51.561183   \n",
              "mouth_center_bottom_lip_y                                          78.268383   \n",
              "Image                      193 192 193 194 194 194 193 192 168 111 50 12 ...   \n",
              "\n",
              "                                                                           4  \n",
              "left_eye_center_x                                                  66.725301  \n",
              "left_eye_center_y                                                  39.621261  \n",
              "right_eye_center_x                                                  32.24481  \n",
              "right_eye_center_y                                                 38.042032  \n",
              "left_eye_inner_corner_x                                             58.56589  \n",
              "left_eye_inner_corner_y                                            39.621261  \n",
              "left_eye_outer_corner_x                                            72.515926  \n",
              "left_eye_outer_corner_y                                            39.884466  \n",
              "right_eye_inner_corner_x                                            36.98238  \n",
              "right_eye_inner_corner_y                                           39.094852  \n",
              "right_eye_outer_corner_x                                            22.50611  \n",
              "right_eye_outer_corner_y                                           38.305237  \n",
              "left_eyebrow_inner_end_x                                           57.249571  \n",
              "left_eyebrow_inner_end_y                                           30.672177  \n",
              "left_eyebrow_outer_end_x                                           77.762945  \n",
              "left_eyebrow_outer_end_y                                           31.737247  \n",
              "right_eyebrow_inner_end_x                                          38.035436  \n",
              "right_eyebrow_inner_end_y                                          30.935382  \n",
              "right_eyebrow_outer_end_x                                           15.92587  \n",
              "right_eyebrow_outer_end_y                                          30.672177  \n",
              "nose_tip_x                                                         43.299534  \n",
              "nose_tip_y                                                         64.889521  \n",
              "mouth_left_corner_x                                                60.671411  \n",
              "mouth_left_corner_y                                                77.523239  \n",
              "mouth_right_corner_x                                               31.191755  \n",
              "mouth_right_corner_y                                               76.997301  \n",
              "mouth_center_top_lip_x                                             44.962748  \n",
              "mouth_center_top_lip_y                                             73.707387  \n",
              "mouth_center_bottom_lip_x                                          44.227141  \n",
              "mouth_center_bottom_lip_y                                          86.871166  \n",
              "Image                      147 148 160 196 215 214 216 217 219 220 206 18...  "
            ],
            "text/html": [
              "\n",
              "  <div id=\"df-0aa5e7f4-6415-43a4-a29d-f4653cc22807\">\n",
              "    <div class=\"colab-df-container\">\n",
              "      <div>\n",
              "<style scoped>\n",
              "    .dataframe tbody tr th:only-of-type {\n",
              "        vertical-align: middle;\n",
              "    }\n",
              "\n",
              "    .dataframe tbody tr th {\n",
              "        vertical-align: top;\n",
              "    }\n",
              "\n",
              "    .dataframe thead th {\n",
              "        text-align: right;\n",
              "    }\n",
              "</style>\n",
              "<table border=\"1\" class=\"dataframe\">\n",
              "  <thead>\n",
              "    <tr style=\"text-align: right;\">\n",
              "      <th></th>\n",
              "      <th>0</th>\n",
              "      <th>1</th>\n",
              "      <th>2</th>\n",
              "      <th>3</th>\n",
              "      <th>4</th>\n",
              "    </tr>\n",
              "  </thead>\n",
              "  <tbody>\n",
              "    <tr>\n",
              "      <th>left_eye_center_x</th>\n",
              "      <td>66.033564</td>\n",
              "      <td>64.332936</td>\n",
              "      <td>65.057053</td>\n",
              "      <td>65.225739</td>\n",
              "      <td>66.725301</td>\n",
              "    </tr>\n",
              "    <tr>\n",
              "      <th>left_eye_center_y</th>\n",
              "      <td>39.002274</td>\n",
              "      <td>34.970077</td>\n",
              "      <td>34.909642</td>\n",
              "      <td>37.261774</td>\n",
              "      <td>39.621261</td>\n",
              "    </tr>\n",
              "    <tr>\n",
              "      <th>right_eye_center_x</th>\n",
              "      <td>30.227008</td>\n",
              "      <td>29.949277</td>\n",
              "      <td>30.903789</td>\n",
              "      <td>32.023096</td>\n",
              "      <td>32.24481</td>\n",
              "    </tr>\n",
              "    <tr>\n",
              "      <th>right_eye_center_y</th>\n",
              "      <td>36.421678</td>\n",
              "      <td>33.448715</td>\n",
              "      <td>34.909642</td>\n",
              "      <td>37.261774</td>\n",
              "      <td>38.042032</td>\n",
              "    </tr>\n",
              "    <tr>\n",
              "      <th>left_eye_inner_corner_x</th>\n",
              "      <td>59.582075</td>\n",
              "      <td>58.85617</td>\n",
              "      <td>59.412</td>\n",
              "      <td>60.003339</td>\n",
              "      <td>58.56589</td>\n",
              "    </tr>\n",
              "    <tr>\n",
              "      <th>left_eye_inner_corner_y</th>\n",
              "      <td>39.647423</td>\n",
              "      <td>35.274349</td>\n",
              "      <td>36.320968</td>\n",
              "      <td>39.127179</td>\n",
              "      <td>39.621261</td>\n",
              "    </tr>\n",
              "    <tr>\n",
              "      <th>left_eye_outer_corner_x</th>\n",
              "      <td>73.130346</td>\n",
              "      <td>70.722723</td>\n",
              "      <td>70.984421</td>\n",
              "      <td>72.314713</td>\n",
              "      <td>72.515926</td>\n",
              "    </tr>\n",
              "    <tr>\n",
              "      <th>left_eye_outer_corner_y</th>\n",
              "      <td>39.969997</td>\n",
              "      <td>36.187166</td>\n",
              "      <td>36.320968</td>\n",
              "      <td>38.380967</td>\n",
              "      <td>39.884466</td>\n",
              "    </tr>\n",
              "    <tr>\n",
              "      <th>right_eye_inner_corner_x</th>\n",
              "      <td>36.356571</td>\n",
              "      <td>36.034723</td>\n",
              "      <td>37.678105</td>\n",
              "      <td>37.618643</td>\n",
              "      <td>36.98238</td>\n",
              "    </tr>\n",
              "    <tr>\n",
              "      <th>right_eye_inner_corner_y</th>\n",
              "      <td>37.389402</td>\n",
              "      <td>34.361532</td>\n",
              "      <td>36.320968</td>\n",
              "      <td>38.754115</td>\n",
              "      <td>39.094852</td>\n",
              "    </tr>\n",
              "    <tr>\n",
              "      <th>right_eye_outer_corner_x</th>\n",
              "      <td>23.452872</td>\n",
              "      <td>24.472511</td>\n",
              "      <td>24.976421</td>\n",
              "      <td>25.30727</td>\n",
              "      <td>22.50611</td>\n",
              "    </tr>\n",
              "    <tr>\n",
              "      <th>right_eye_outer_corner_y</th>\n",
              "      <td>37.389402</td>\n",
              "      <td>33.144443</td>\n",
              "      <td>36.603221</td>\n",
              "      <td>38.007903</td>\n",
              "      <td>38.305237</td>\n",
              "    </tr>\n",
              "    <tr>\n",
              "      <th>left_eyebrow_inner_end_x</th>\n",
              "      <td>56.953263</td>\n",
              "      <td>53.987404</td>\n",
              "      <td>55.742526</td>\n",
              "      <td>56.433809</td>\n",
              "      <td>57.249571</td>\n",
              "    </tr>\n",
              "    <tr>\n",
              "      <th>left_eyebrow_inner_end_y</th>\n",
              "      <td>29.033648</td>\n",
              "      <td>28.275949</td>\n",
              "      <td>27.570947</td>\n",
              "      <td>30.929864</td>\n",
              "      <td>30.672177</td>\n",
              "    </tr>\n",
              "    <tr>\n",
              "      <th>left_eyebrow_outer_end_x</th>\n",
              "      <td>80.227128</td>\n",
              "      <td>78.634213</td>\n",
              "      <td>78.887368</td>\n",
              "      <td>77.910261</td>\n",
              "      <td>77.762945</td>\n",
              "    </tr>\n",
              "    <tr>\n",
              "      <th>left_eyebrow_outer_end_y</th>\n",
              "      <td>32.228138</td>\n",
              "      <td>30.405923</td>\n",
              "      <td>32.651621</td>\n",
              "      <td>31.665725</td>\n",
              "      <td>31.737247</td>\n",
              "    </tr>\n",
              "    <tr>\n",
              "      <th>right_eyebrow_inner_end_x</th>\n",
              "      <td>40.227609</td>\n",
              "      <td>42.728851</td>\n",
              "      <td>42.193895</td>\n",
              "      <td>41.671513</td>\n",
              "      <td>38.035436</td>\n",
              "    </tr>\n",
              "    <tr>\n",
              "      <th>right_eyebrow_inner_end_y</th>\n",
              "      <td>29.002322</td>\n",
              "      <td>26.146043</td>\n",
              "      <td>28.135453</td>\n",
              "      <td>31.04999</td>\n",
              "      <td>30.935382</td>\n",
              "    </tr>\n",
              "    <tr>\n",
              "      <th>right_eyebrow_outer_end_x</th>\n",
              "      <td>16.356379</td>\n",
              "      <td>16.865362</td>\n",
              "      <td>16.791158</td>\n",
              "      <td>20.458017</td>\n",
              "      <td>15.92587</td>\n",
              "    </tr>\n",
              "    <tr>\n",
              "      <th>right_eyebrow_outer_end_y</th>\n",
              "      <td>29.647471</td>\n",
              "      <td>27.05886</td>\n",
              "      <td>32.087116</td>\n",
              "      <td>29.909343</td>\n",
              "      <td>30.672177</td>\n",
              "    </tr>\n",
              "    <tr>\n",
              "      <th>nose_tip_x</th>\n",
              "      <td>44.420571</td>\n",
              "      <td>48.206298</td>\n",
              "      <td>47.557263</td>\n",
              "      <td>51.885078</td>\n",
              "      <td>43.299534</td>\n",
              "    </tr>\n",
              "    <tr>\n",
              "      <th>nose_tip_y</th>\n",
              "      <td>57.066803</td>\n",
              "      <td>55.660936</td>\n",
              "      <td>53.538947</td>\n",
              "      <td>54.166539</td>\n",
              "      <td>64.889521</td>\n",
              "    </tr>\n",
              "    <tr>\n",
              "      <th>mouth_left_corner_x</th>\n",
              "      <td>61.195308</td>\n",
              "      <td>56.421447</td>\n",
              "      <td>60.822947</td>\n",
              "      <td>65.598887</td>\n",
              "      <td>60.671411</td>\n",
              "    </tr>\n",
              "    <tr>\n",
              "      <th>mouth_left_corner_y</th>\n",
              "      <td>79.970165</td>\n",
              "      <td>76.352</td>\n",
              "      <td>73.014316</td>\n",
              "      <td>72.703722</td>\n",
              "      <td>77.523239</td>\n",
              "    </tr>\n",
              "    <tr>\n",
              "      <th>mouth_right_corner_x</th>\n",
              "      <td>28.614496</td>\n",
              "      <td>35.122383</td>\n",
              "      <td>33.726316</td>\n",
              "      <td>37.245496</td>\n",
              "      <td>31.191755</td>\n",
              "    </tr>\n",
              "    <tr>\n",
              "      <th>mouth_right_corner_y</th>\n",
              "      <td>77.388992</td>\n",
              "      <td>76.04766</td>\n",
              "      <td>72.732</td>\n",
              "      <td>74.195478</td>\n",
              "      <td>76.997301</td>\n",
              "    </tr>\n",
              "    <tr>\n",
              "      <th>mouth_center_top_lip_x</th>\n",
              "      <td>43.312602</td>\n",
              "      <td>46.684596</td>\n",
              "      <td>47.274947</td>\n",
              "      <td>50.303165</td>\n",
              "      <td>44.962748</td>\n",
              "    </tr>\n",
              "    <tr>\n",
              "      <th>mouth_center_top_lip_y</th>\n",
              "      <td>72.935459</td>\n",
              "      <td>70.266553</td>\n",
              "      <td>70.191789</td>\n",
              "      <td>70.091687</td>\n",
              "      <td>73.707387</td>\n",
              "    </tr>\n",
              "    <tr>\n",
              "      <th>mouth_center_bottom_lip_x</th>\n",
              "      <td>43.130707</td>\n",
              "      <td>45.467915</td>\n",
              "      <td>47.274947</td>\n",
              "      <td>51.561183</td>\n",
              "      <td>44.227141</td>\n",
              "    </tr>\n",
              "    <tr>\n",
              "      <th>mouth_center_bottom_lip_y</th>\n",
              "      <td>84.485774</td>\n",
              "      <td>85.48017</td>\n",
              "      <td>78.659368</td>\n",
              "      <td>78.268383</td>\n",
              "      <td>86.871166</td>\n",
              "    </tr>\n",
              "    <tr>\n",
              "      <th>Image</th>\n",
              "      <td>238 236 237 238 240 240 239 241 241 243 240 23...</td>\n",
              "      <td>219 215 204 196 204 211 212 200 180 168 178 19...</td>\n",
              "      <td>144 142 159 180 188 188 184 180 167 132 84 59 ...</td>\n",
              "      <td>193 192 193 194 194 194 193 192 168 111 50 12 ...</td>\n",
              "      <td>147 148 160 196 215 214 216 217 219 220 206 18...</td>\n",
              "    </tr>\n",
              "  </tbody>\n",
              "</table>\n",
              "</div>\n",
              "      <button class=\"colab-df-convert\" onclick=\"convertToInteractive('df-0aa5e7f4-6415-43a4-a29d-f4653cc22807')\"\n",
              "              title=\"Convert this dataframe to an interactive table.\"\n",
              "              style=\"display:none;\">\n",
              "        \n",
              "  <svg xmlns=\"http://www.w3.org/2000/svg\" height=\"24px\"viewBox=\"0 0 24 24\"\n",
              "       width=\"24px\">\n",
              "    <path d=\"M0 0h24v24H0V0z\" fill=\"none\"/>\n",
              "    <path d=\"M18.56 5.44l.94 2.06.94-2.06 2.06-.94-2.06-.94-.94-2.06-.94 2.06-2.06.94zm-11 1L8.5 8.5l.94-2.06 2.06-.94-2.06-.94L8.5 2.5l-.94 2.06-2.06.94zm10 10l.94 2.06.94-2.06 2.06-.94-2.06-.94-.94-2.06-.94 2.06-2.06.94z\"/><path d=\"M17.41 7.96l-1.37-1.37c-.4-.4-.92-.59-1.43-.59-.52 0-1.04.2-1.43.59L10.3 9.45l-7.72 7.72c-.78.78-.78 2.05 0 2.83L4 21.41c.39.39.9.59 1.41.59.51 0 1.02-.2 1.41-.59l7.78-7.78 2.81-2.81c.8-.78.8-2.07 0-2.86zM5.41 20L4 18.59l7.72-7.72 1.47 1.35L5.41 20z\"/>\n",
              "  </svg>\n",
              "      </button>\n",
              "      \n",
              "  <style>\n",
              "    .colab-df-container {\n",
              "      display:flex;\n",
              "      flex-wrap:wrap;\n",
              "      gap: 12px;\n",
              "    }\n",
              "\n",
              "    .colab-df-convert {\n",
              "      background-color: #E8F0FE;\n",
              "      border: none;\n",
              "      border-radius: 50%;\n",
              "      cursor: pointer;\n",
              "      display: none;\n",
              "      fill: #1967D2;\n",
              "      height: 32px;\n",
              "      padding: 0 0 0 0;\n",
              "      width: 32px;\n",
              "    }\n",
              "\n",
              "    .colab-df-convert:hover {\n",
              "      background-color: #E2EBFA;\n",
              "      box-shadow: 0px 1px 2px rgba(60, 64, 67, 0.3), 0px 1px 3px 1px rgba(60, 64, 67, 0.15);\n",
              "      fill: #174EA6;\n",
              "    }\n",
              "\n",
              "    [theme=dark] .colab-df-convert {\n",
              "      background-color: #3B4455;\n",
              "      fill: #D2E3FC;\n",
              "    }\n",
              "\n",
              "    [theme=dark] .colab-df-convert:hover {\n",
              "      background-color: #434B5C;\n",
              "      box-shadow: 0px 1px 3px 1px rgba(0, 0, 0, 0.15);\n",
              "      filter: drop-shadow(0px 1px 2px rgba(0, 0, 0, 0.3));\n",
              "      fill: #FFFFFF;\n",
              "    }\n",
              "  </style>\n",
              "\n",
              "      <script>\n",
              "        const buttonEl =\n",
              "          document.querySelector('#df-0aa5e7f4-6415-43a4-a29d-f4653cc22807 button.colab-df-convert');\n",
              "        buttonEl.style.display =\n",
              "          google.colab.kernel.accessAllowed ? 'block' : 'none';\n",
              "\n",
              "        async function convertToInteractive(key) {\n",
              "          const element = document.querySelector('#df-0aa5e7f4-6415-43a4-a29d-f4653cc22807');\n",
              "          const dataTable =\n",
              "            await google.colab.kernel.invokeFunction('convertToInteractive',\n",
              "                                                     [key], {});\n",
              "          if (!dataTable) return;\n",
              "\n",
              "          const docLinkHtml = 'Like what you see? Visit the ' +\n",
              "            '<a target=\"_blank\" href=https://colab.research.google.com/notebooks/data_table.ipynb>data table notebook</a>'\n",
              "            + ' to learn more about interactive tables.';\n",
              "          element.innerHTML = '';\n",
              "          dataTable['output_type'] = 'display_data';\n",
              "          await google.colab.output.renderOutput(dataTable, element);\n",
              "          const docLink = document.createElement('div');\n",
              "          docLink.innerHTML = docLinkHtml;\n",
              "          element.appendChild(docLink);\n",
              "        }\n",
              "      </script>\n",
              "    </div>\n",
              "  </div>\n",
              "  "
            ]
          },
          "metadata": {},
          "execution_count": 10
        }
      ]
    },
    {
      "cell_type": "markdown",
      "source": [
        "Let's check for missing values"
      ],
      "metadata": {
        "id": "SxT72dNvFhrs"
      }
    },
    {
      "cell_type": "code",
      "source": [
        "train_data.isnull().any().value_counts()"
      ],
      "metadata": {
        "colab": {
          "base_uri": "https://localhost:8080/"
        },
        "id": "Q96dLcXxFbds",
        "outputId": "0a1e6fa7-140b-42ea-ba3d-7b68a3b1c22d"
      },
      "execution_count": 15,
      "outputs": [
        {
          "output_type": "execute_result",
          "data": {
            "text/plain": [
              "True     28\n",
              "False     3\n",
              "dtype: int64"
            ]
          },
          "metadata": {},
          "execution_count": 15
        }
      ]
    },
    {
      "cell_type": "code",
      "source": [
        "train_data.fillna(method = 'ffill', inplace = True)"
      ],
      "metadata": {
        "id": "JIZl-V0_Fk4k"
      },
      "execution_count": 16,
      "outputs": []
    },
    {
      "cell_type": "code",
      "source": [
        "train_data.tail().T"
      ],
      "metadata": {
        "colab": {
          "base_uri": "https://localhost:8080/",
          "height": 1000
        },
        "id": "OWyEKV_KFryp",
        "outputId": "1a9ac3e6-8a62-4f01-a731-3ecfd585757f"
      },
      "execution_count": 17,
      "outputs": [
        {
          "output_type": "execute_result",
          "data": {
            "text/plain": [
              "                                                                        7044  \\\n",
              "left_eye_center_x                                                  67.402546   \n",
              "left_eye_center_y                                                  31.842551   \n",
              "right_eye_center_x                                                 29.746749   \n",
              "right_eye_center_y                                                 38.632942   \n",
              "left_eye_inner_corner_x                                            59.255347   \n",
              "left_eye_inner_corner_y                                            36.065143   \n",
              "left_eye_outer_corner_x                                            73.942694   \n",
              "left_eye_outer_corner_y                                            34.624653   \n",
              "right_eye_inner_corner_x                                           37.478531   \n",
              "right_eye_inner_corner_y                                           39.398041   \n",
              "right_eye_outer_corner_x                                           22.056816   \n",
              "right_eye_outer_corner_y                                           40.330122   \n",
              "left_eyebrow_inner_end_x                                           53.299787   \n",
              "left_eyebrow_inner_end_y                                           29.987657   \n",
              "left_eyebrow_outer_end_x                                           80.947787   \n",
              "left_eyebrow_outer_end_y                                           27.977535   \n",
              "right_eyebrow_inner_end_x                                          38.779298   \n",
              "right_eyebrow_inner_end_y                                          33.302596   \n",
              "right_eyebrow_outer_end_x                                           14.79889   \n",
              "right_eyebrow_outer_end_y                                           35.98276   \n",
              "nose_tip_x                                                         48.265961   \n",
              "nose_tip_y                                                         67.029093   \n",
              "mouth_left_corner_x                                                72.600433   \n",
              "mouth_left_corner_y                                                71.862041   \n",
              "mouth_right_corner_x                                               34.232759   \n",
              "mouth_right_corner_y                                               77.339429   \n",
              "mouth_center_top_lip_x                                             51.599453   \n",
              "mouth_center_top_lip_y                                             75.963592   \n",
              "mouth_center_bottom_lip_x                                          50.426637   \n",
              "mouth_center_bottom_lip_y                                          79.683921   \n",
              "Image                      71 74 85 105 116 128 139 150 170 187 201 209 2...   \n",
              "\n",
              "                                                                        7045  \\\n",
              "left_eye_center_x                                                    66.1344   \n",
              "left_eye_center_y                                                  38.365501   \n",
              "right_eye_center_x                                                 30.478626   \n",
              "right_eye_center_y                                                 39.950198   \n",
              "left_eye_inner_corner_x                                            59.255347   \n",
              "left_eye_inner_corner_y                                            36.065143   \n",
              "left_eye_outer_corner_x                                            73.942694   \n",
              "left_eye_outer_corner_y                                            34.624653   \n",
              "right_eye_inner_corner_x                                           37.478531   \n",
              "right_eye_inner_corner_y                                           39.398041   \n",
              "right_eye_outer_corner_x                                           22.056816   \n",
              "right_eye_outer_corner_y                                           40.330122   \n",
              "left_eyebrow_inner_end_x                                           53.299787   \n",
              "left_eyebrow_inner_end_y                                           29.987657   \n",
              "left_eyebrow_outer_end_x                                           80.947787   \n",
              "left_eyebrow_outer_end_y                                           27.977535   \n",
              "right_eyebrow_inner_end_x                                          38.779298   \n",
              "right_eyebrow_inner_end_y                                          33.302596   \n",
              "right_eyebrow_outer_end_x                                           14.79889   \n",
              "right_eyebrow_outer_end_y                                           35.98276   \n",
              "nose_tip_x                                                         47.910346   \n",
              "nose_tip_y                                                         66.626011   \n",
              "mouth_left_corner_x                                                72.600433   \n",
              "mouth_left_corner_y                                                71.862041   \n",
              "mouth_right_corner_x                                               34.232759   \n",
              "mouth_right_corner_y                                               77.339429   \n",
              "mouth_center_top_lip_x                                             51.599453   \n",
              "mouth_center_top_lip_y                                             75.963592   \n",
              "mouth_center_bottom_lip_x                                          50.287397   \n",
              "mouth_center_bottom_lip_y                                          77.983023   \n",
              "Image                      60 60 62 57 55 51 49 48 50 53 56 56 106 89 77 ...   \n",
              "\n",
              "                                                                        7046  \\\n",
              "left_eye_center_x                                                  66.690732   \n",
              "left_eye_center_y                                                  36.845221   \n",
              "right_eye_center_x                                                  31.66642   \n",
              "right_eye_center_y                                                 39.685042   \n",
              "left_eye_inner_corner_x                                            59.255347   \n",
              "left_eye_inner_corner_y                                            36.065143   \n",
              "left_eye_outer_corner_x                                            73.942694   \n",
              "left_eye_outer_corner_y                                            34.624653   \n",
              "right_eye_inner_corner_x                                           37.478531   \n",
              "right_eye_inner_corner_y                                           39.398041   \n",
              "right_eye_outer_corner_x                                           22.056816   \n",
              "right_eye_outer_corner_y                                           40.330122   \n",
              "left_eyebrow_inner_end_x                                           53.299787   \n",
              "left_eyebrow_inner_end_y                                           29.987657   \n",
              "left_eyebrow_outer_end_x                                           80.947787   \n",
              "left_eyebrow_outer_end_y                                           27.977535   \n",
              "right_eyebrow_inner_end_x                                          38.779298   \n",
              "right_eyebrow_inner_end_y                                          33.302596   \n",
              "right_eyebrow_outer_end_x                                           14.79889   \n",
              "right_eyebrow_outer_end_y                                           35.98276   \n",
              "nose_tip_x                                                         49.462572   \n",
              "nose_tip_y                                                         67.515161   \n",
              "mouth_left_corner_x                                                72.600433   \n",
              "mouth_left_corner_y                                                71.862041   \n",
              "mouth_right_corner_x                                               34.232759   \n",
              "mouth_right_corner_y                                               77.339429   \n",
              "mouth_center_top_lip_x                                             51.599453   \n",
              "mouth_center_top_lip_y                                             75.963592   \n",
              "mouth_center_bottom_lip_x                                          49.462572   \n",
              "mouth_center_bottom_lip_y                                           78.11712   \n",
              "Image                      74 74 74 78 79 79 79 81 77 78 80 73 72 81 77 1...   \n",
              "\n",
              "                                                                        7047  \\\n",
              "left_eye_center_x                                                  70.965082   \n",
              "left_eye_center_y                                                  39.853666   \n",
              "right_eye_center_x                                                 30.543285   \n",
              "right_eye_center_y                                                 40.772339   \n",
              "left_eye_inner_corner_x                                            59.255347   \n",
              "left_eye_inner_corner_y                                            36.065143   \n",
              "left_eye_outer_corner_x                                            73.942694   \n",
              "left_eye_outer_corner_y                                            34.624653   \n",
              "right_eye_inner_corner_x                                           37.478531   \n",
              "right_eye_inner_corner_y                                           39.398041   \n",
              "right_eye_outer_corner_x                                           22.056816   \n",
              "right_eye_outer_corner_y                                           40.330122   \n",
              "left_eyebrow_inner_end_x                                           53.299787   \n",
              "left_eyebrow_inner_end_y                                           29.987657   \n",
              "left_eyebrow_outer_end_x                                           80.947787   \n",
              "left_eyebrow_outer_end_y                                           27.977535   \n",
              "right_eyebrow_inner_end_x                                          38.779298   \n",
              "right_eyebrow_inner_end_y                                          33.302596   \n",
              "right_eyebrow_outer_end_x                                           14.79889   \n",
              "right_eyebrow_outer_end_y                                           35.98276   \n",
              "nose_tip_x                                                         50.754202   \n",
              "nose_tip_y                                                         66.724988   \n",
              "mouth_left_corner_x                                                72.600433   \n",
              "mouth_left_corner_y                                                71.862041   \n",
              "mouth_right_corner_x                                               34.232759   \n",
              "mouth_right_corner_y                                               77.339429   \n",
              "mouth_center_top_lip_x                                             51.599453   \n",
              "mouth_center_top_lip_y                                             75.963592   \n",
              "mouth_center_bottom_lip_x                                          50.065186   \n",
              "mouth_center_bottom_lip_y                                          79.586447   \n",
              "Image                      254 254 254 254 254 238 193 145 121 118 119 10...   \n",
              "\n",
              "                                                                        7048  \n",
              "left_eye_center_x                                                  66.938311  \n",
              "left_eye_center_y                                                   43.42451  \n",
              "right_eye_center_x                                                 31.096059  \n",
              "right_eye_center_y                                                 39.528604  \n",
              "left_eye_inner_corner_x                                            59.255347  \n",
              "left_eye_inner_corner_y                                            36.065143  \n",
              "left_eye_outer_corner_x                                            73.942694  \n",
              "left_eye_outer_corner_y                                            34.624653  \n",
              "right_eye_inner_corner_x                                           37.478531  \n",
              "right_eye_inner_corner_y                                           39.398041  \n",
              "right_eye_outer_corner_x                                           22.056816  \n",
              "right_eye_outer_corner_y                                           40.330122  \n",
              "left_eyebrow_inner_end_x                                           53.299787  \n",
              "left_eyebrow_inner_end_y                                           29.987657  \n",
              "left_eyebrow_outer_end_x                                           80.947787  \n",
              "left_eyebrow_outer_end_y                                           27.977535  \n",
              "right_eyebrow_inner_end_x                                          38.779298  \n",
              "right_eyebrow_inner_end_y                                          33.302596  \n",
              "right_eyebrow_outer_end_x                                           14.79889  \n",
              "right_eyebrow_outer_end_y                                           35.98276  \n",
              "nose_tip_x                                                          47.06925  \n",
              "nose_tip_y                                                         73.033339  \n",
              "mouth_left_corner_x                                                72.600433  \n",
              "mouth_left_corner_y                                                71.862041  \n",
              "mouth_right_corner_x                                               34.232759  \n",
              "mouth_right_corner_y                                               77.339429  \n",
              "mouth_center_top_lip_x                                             51.599453  \n",
              "mouth_center_top_lip_y                                             75.963592  \n",
              "mouth_center_bottom_lip_x                                           45.90048  \n",
              "mouth_center_bottom_lip_y                                          82.773096  \n",
              "Image                      53 62 67 76 86 91 97 105 105 106 107 108 112 1...  "
            ],
            "text/html": [
              "\n",
              "  <div id=\"df-5d67e4f8-b61d-4b37-b1e0-949138a86e97\">\n",
              "    <div class=\"colab-df-container\">\n",
              "      <div>\n",
              "<style scoped>\n",
              "    .dataframe tbody tr th:only-of-type {\n",
              "        vertical-align: middle;\n",
              "    }\n",
              "\n",
              "    .dataframe tbody tr th {\n",
              "        vertical-align: top;\n",
              "    }\n",
              "\n",
              "    .dataframe thead th {\n",
              "        text-align: right;\n",
              "    }\n",
              "</style>\n",
              "<table border=\"1\" class=\"dataframe\">\n",
              "  <thead>\n",
              "    <tr style=\"text-align: right;\">\n",
              "      <th></th>\n",
              "      <th>7044</th>\n",
              "      <th>7045</th>\n",
              "      <th>7046</th>\n",
              "      <th>7047</th>\n",
              "      <th>7048</th>\n",
              "    </tr>\n",
              "  </thead>\n",
              "  <tbody>\n",
              "    <tr>\n",
              "      <th>left_eye_center_x</th>\n",
              "      <td>67.402546</td>\n",
              "      <td>66.1344</td>\n",
              "      <td>66.690732</td>\n",
              "      <td>70.965082</td>\n",
              "      <td>66.938311</td>\n",
              "    </tr>\n",
              "    <tr>\n",
              "      <th>left_eye_center_y</th>\n",
              "      <td>31.842551</td>\n",
              "      <td>38.365501</td>\n",
              "      <td>36.845221</td>\n",
              "      <td>39.853666</td>\n",
              "      <td>43.42451</td>\n",
              "    </tr>\n",
              "    <tr>\n",
              "      <th>right_eye_center_x</th>\n",
              "      <td>29.746749</td>\n",
              "      <td>30.478626</td>\n",
              "      <td>31.66642</td>\n",
              "      <td>30.543285</td>\n",
              "      <td>31.096059</td>\n",
              "    </tr>\n",
              "    <tr>\n",
              "      <th>right_eye_center_y</th>\n",
              "      <td>38.632942</td>\n",
              "      <td>39.950198</td>\n",
              "      <td>39.685042</td>\n",
              "      <td>40.772339</td>\n",
              "      <td>39.528604</td>\n",
              "    </tr>\n",
              "    <tr>\n",
              "      <th>left_eye_inner_corner_x</th>\n",
              "      <td>59.255347</td>\n",
              "      <td>59.255347</td>\n",
              "      <td>59.255347</td>\n",
              "      <td>59.255347</td>\n",
              "      <td>59.255347</td>\n",
              "    </tr>\n",
              "    <tr>\n",
              "      <th>left_eye_inner_corner_y</th>\n",
              "      <td>36.065143</td>\n",
              "      <td>36.065143</td>\n",
              "      <td>36.065143</td>\n",
              "      <td>36.065143</td>\n",
              "      <td>36.065143</td>\n",
              "    </tr>\n",
              "    <tr>\n",
              "      <th>left_eye_outer_corner_x</th>\n",
              "      <td>73.942694</td>\n",
              "      <td>73.942694</td>\n",
              "      <td>73.942694</td>\n",
              "      <td>73.942694</td>\n",
              "      <td>73.942694</td>\n",
              "    </tr>\n",
              "    <tr>\n",
              "      <th>left_eye_outer_corner_y</th>\n",
              "      <td>34.624653</td>\n",
              "      <td>34.624653</td>\n",
              "      <td>34.624653</td>\n",
              "      <td>34.624653</td>\n",
              "      <td>34.624653</td>\n",
              "    </tr>\n",
              "    <tr>\n",
              "      <th>right_eye_inner_corner_x</th>\n",
              "      <td>37.478531</td>\n",
              "      <td>37.478531</td>\n",
              "      <td>37.478531</td>\n",
              "      <td>37.478531</td>\n",
              "      <td>37.478531</td>\n",
              "    </tr>\n",
              "    <tr>\n",
              "      <th>right_eye_inner_corner_y</th>\n",
              "      <td>39.398041</td>\n",
              "      <td>39.398041</td>\n",
              "      <td>39.398041</td>\n",
              "      <td>39.398041</td>\n",
              "      <td>39.398041</td>\n",
              "    </tr>\n",
              "    <tr>\n",
              "      <th>right_eye_outer_corner_x</th>\n",
              "      <td>22.056816</td>\n",
              "      <td>22.056816</td>\n",
              "      <td>22.056816</td>\n",
              "      <td>22.056816</td>\n",
              "      <td>22.056816</td>\n",
              "    </tr>\n",
              "    <tr>\n",
              "      <th>right_eye_outer_corner_y</th>\n",
              "      <td>40.330122</td>\n",
              "      <td>40.330122</td>\n",
              "      <td>40.330122</td>\n",
              "      <td>40.330122</td>\n",
              "      <td>40.330122</td>\n",
              "    </tr>\n",
              "    <tr>\n",
              "      <th>left_eyebrow_inner_end_x</th>\n",
              "      <td>53.299787</td>\n",
              "      <td>53.299787</td>\n",
              "      <td>53.299787</td>\n",
              "      <td>53.299787</td>\n",
              "      <td>53.299787</td>\n",
              "    </tr>\n",
              "    <tr>\n",
              "      <th>left_eyebrow_inner_end_y</th>\n",
              "      <td>29.987657</td>\n",
              "      <td>29.987657</td>\n",
              "      <td>29.987657</td>\n",
              "      <td>29.987657</td>\n",
              "      <td>29.987657</td>\n",
              "    </tr>\n",
              "    <tr>\n",
              "      <th>left_eyebrow_outer_end_x</th>\n",
              "      <td>80.947787</td>\n",
              "      <td>80.947787</td>\n",
              "      <td>80.947787</td>\n",
              "      <td>80.947787</td>\n",
              "      <td>80.947787</td>\n",
              "    </tr>\n",
              "    <tr>\n",
              "      <th>left_eyebrow_outer_end_y</th>\n",
              "      <td>27.977535</td>\n",
              "      <td>27.977535</td>\n",
              "      <td>27.977535</td>\n",
              "      <td>27.977535</td>\n",
              "      <td>27.977535</td>\n",
              "    </tr>\n",
              "    <tr>\n",
              "      <th>right_eyebrow_inner_end_x</th>\n",
              "      <td>38.779298</td>\n",
              "      <td>38.779298</td>\n",
              "      <td>38.779298</td>\n",
              "      <td>38.779298</td>\n",
              "      <td>38.779298</td>\n",
              "    </tr>\n",
              "    <tr>\n",
              "      <th>right_eyebrow_inner_end_y</th>\n",
              "      <td>33.302596</td>\n",
              "      <td>33.302596</td>\n",
              "      <td>33.302596</td>\n",
              "      <td>33.302596</td>\n",
              "      <td>33.302596</td>\n",
              "    </tr>\n",
              "    <tr>\n",
              "      <th>right_eyebrow_outer_end_x</th>\n",
              "      <td>14.79889</td>\n",
              "      <td>14.79889</td>\n",
              "      <td>14.79889</td>\n",
              "      <td>14.79889</td>\n",
              "      <td>14.79889</td>\n",
              "    </tr>\n",
              "    <tr>\n",
              "      <th>right_eyebrow_outer_end_y</th>\n",
              "      <td>35.98276</td>\n",
              "      <td>35.98276</td>\n",
              "      <td>35.98276</td>\n",
              "      <td>35.98276</td>\n",
              "      <td>35.98276</td>\n",
              "    </tr>\n",
              "    <tr>\n",
              "      <th>nose_tip_x</th>\n",
              "      <td>48.265961</td>\n",
              "      <td>47.910346</td>\n",
              "      <td>49.462572</td>\n",
              "      <td>50.754202</td>\n",
              "      <td>47.06925</td>\n",
              "    </tr>\n",
              "    <tr>\n",
              "      <th>nose_tip_y</th>\n",
              "      <td>67.029093</td>\n",
              "      <td>66.626011</td>\n",
              "      <td>67.515161</td>\n",
              "      <td>66.724988</td>\n",
              "      <td>73.033339</td>\n",
              "    </tr>\n",
              "    <tr>\n",
              "      <th>mouth_left_corner_x</th>\n",
              "      <td>72.600433</td>\n",
              "      <td>72.600433</td>\n",
              "      <td>72.600433</td>\n",
              "      <td>72.600433</td>\n",
              "      <td>72.600433</td>\n",
              "    </tr>\n",
              "    <tr>\n",
              "      <th>mouth_left_corner_y</th>\n",
              "      <td>71.862041</td>\n",
              "      <td>71.862041</td>\n",
              "      <td>71.862041</td>\n",
              "      <td>71.862041</td>\n",
              "      <td>71.862041</td>\n",
              "    </tr>\n",
              "    <tr>\n",
              "      <th>mouth_right_corner_x</th>\n",
              "      <td>34.232759</td>\n",
              "      <td>34.232759</td>\n",
              "      <td>34.232759</td>\n",
              "      <td>34.232759</td>\n",
              "      <td>34.232759</td>\n",
              "    </tr>\n",
              "    <tr>\n",
              "      <th>mouth_right_corner_y</th>\n",
              "      <td>77.339429</td>\n",
              "      <td>77.339429</td>\n",
              "      <td>77.339429</td>\n",
              "      <td>77.339429</td>\n",
              "      <td>77.339429</td>\n",
              "    </tr>\n",
              "    <tr>\n",
              "      <th>mouth_center_top_lip_x</th>\n",
              "      <td>51.599453</td>\n",
              "      <td>51.599453</td>\n",
              "      <td>51.599453</td>\n",
              "      <td>51.599453</td>\n",
              "      <td>51.599453</td>\n",
              "    </tr>\n",
              "    <tr>\n",
              "      <th>mouth_center_top_lip_y</th>\n",
              "      <td>75.963592</td>\n",
              "      <td>75.963592</td>\n",
              "      <td>75.963592</td>\n",
              "      <td>75.963592</td>\n",
              "      <td>75.963592</td>\n",
              "    </tr>\n",
              "    <tr>\n",
              "      <th>mouth_center_bottom_lip_x</th>\n",
              "      <td>50.426637</td>\n",
              "      <td>50.287397</td>\n",
              "      <td>49.462572</td>\n",
              "      <td>50.065186</td>\n",
              "      <td>45.90048</td>\n",
              "    </tr>\n",
              "    <tr>\n",
              "      <th>mouth_center_bottom_lip_y</th>\n",
              "      <td>79.683921</td>\n",
              "      <td>77.983023</td>\n",
              "      <td>78.11712</td>\n",
              "      <td>79.586447</td>\n",
              "      <td>82.773096</td>\n",
              "    </tr>\n",
              "    <tr>\n",
              "      <th>Image</th>\n",
              "      <td>71 74 85 105 116 128 139 150 170 187 201 209 2...</td>\n",
              "      <td>60 60 62 57 55 51 49 48 50 53 56 56 106 89 77 ...</td>\n",
              "      <td>74 74 74 78 79 79 79 81 77 78 80 73 72 81 77 1...</td>\n",
              "      <td>254 254 254 254 254 238 193 145 121 118 119 10...</td>\n",
              "      <td>53 62 67 76 86 91 97 105 105 106 107 108 112 1...</td>\n",
              "    </tr>\n",
              "  </tbody>\n",
              "</table>\n",
              "</div>\n",
              "      <button class=\"colab-df-convert\" onclick=\"convertToInteractive('df-5d67e4f8-b61d-4b37-b1e0-949138a86e97')\"\n",
              "              title=\"Convert this dataframe to an interactive table.\"\n",
              "              style=\"display:none;\">\n",
              "        \n",
              "  <svg xmlns=\"http://www.w3.org/2000/svg\" height=\"24px\"viewBox=\"0 0 24 24\"\n",
              "       width=\"24px\">\n",
              "    <path d=\"M0 0h24v24H0V0z\" fill=\"none\"/>\n",
              "    <path d=\"M18.56 5.44l.94 2.06.94-2.06 2.06-.94-2.06-.94-.94-2.06-.94 2.06-2.06.94zm-11 1L8.5 8.5l.94-2.06 2.06-.94-2.06-.94L8.5 2.5l-.94 2.06-2.06.94zm10 10l.94 2.06.94-2.06 2.06-.94-2.06-.94-.94-2.06-.94 2.06-2.06.94z\"/><path d=\"M17.41 7.96l-1.37-1.37c-.4-.4-.92-.59-1.43-.59-.52 0-1.04.2-1.43.59L10.3 9.45l-7.72 7.72c-.78.78-.78 2.05 0 2.83L4 21.41c.39.39.9.59 1.41.59.51 0 1.02-.2 1.41-.59l7.78-7.78 2.81-2.81c.8-.78.8-2.07 0-2.86zM5.41 20L4 18.59l7.72-7.72 1.47 1.35L5.41 20z\"/>\n",
              "  </svg>\n",
              "      </button>\n",
              "      \n",
              "  <style>\n",
              "    .colab-df-container {\n",
              "      display:flex;\n",
              "      flex-wrap:wrap;\n",
              "      gap: 12px;\n",
              "    }\n",
              "\n",
              "    .colab-df-convert {\n",
              "      background-color: #E8F0FE;\n",
              "      border: none;\n",
              "      border-radius: 50%;\n",
              "      cursor: pointer;\n",
              "      display: none;\n",
              "      fill: #1967D2;\n",
              "      height: 32px;\n",
              "      padding: 0 0 0 0;\n",
              "      width: 32px;\n",
              "    }\n",
              "\n",
              "    .colab-df-convert:hover {\n",
              "      background-color: #E2EBFA;\n",
              "      box-shadow: 0px 1px 2px rgba(60, 64, 67, 0.3), 0px 1px 3px 1px rgba(60, 64, 67, 0.15);\n",
              "      fill: #174EA6;\n",
              "    }\n",
              "\n",
              "    [theme=dark] .colab-df-convert {\n",
              "      background-color: #3B4455;\n",
              "      fill: #D2E3FC;\n",
              "    }\n",
              "\n",
              "    [theme=dark] .colab-df-convert:hover {\n",
              "      background-color: #434B5C;\n",
              "      box-shadow: 0px 1px 3px 1px rgba(0, 0, 0, 0.15);\n",
              "      filter: drop-shadow(0px 1px 2px rgba(0, 0, 0, 0.3));\n",
              "      fill: #FFFFFF;\n",
              "    }\n",
              "  </style>\n",
              "\n",
              "      <script>\n",
              "        const buttonEl =\n",
              "          document.querySelector('#df-5d67e4f8-b61d-4b37-b1e0-949138a86e97 button.colab-df-convert');\n",
              "        buttonEl.style.display =\n",
              "          google.colab.kernel.accessAllowed ? 'block' : 'none';\n",
              "\n",
              "        async function convertToInteractive(key) {\n",
              "          const element = document.querySelector('#df-5d67e4f8-b61d-4b37-b1e0-949138a86e97');\n",
              "          const dataTable =\n",
              "            await google.colab.kernel.invokeFunction('convertToInteractive',\n",
              "                                                     [key], {});\n",
              "          if (!dataTable) return;\n",
              "\n",
              "          const docLinkHtml = 'Like what you see? Visit the ' +\n",
              "            '<a target=\"_blank\" href=https://colab.research.google.com/notebooks/data_table.ipynb>data table notebook</a>'\n",
              "            + ' to learn more about interactive tables.';\n",
              "          element.innerHTML = '';\n",
              "          dataTable['output_type'] = 'display_data';\n",
              "          await google.colab.output.renderOutput(dataTable, element);\n",
              "          const docLink = document.createElement('div');\n",
              "          docLink.innerHTML = docLinkHtml;\n",
              "          element.appendChild(docLink);\n",
              "        }\n",
              "      </script>\n",
              "    </div>\n",
              "  </div>\n",
              "  "
            ]
          },
          "metadata": {},
          "execution_count": 17
        }
      ]
    },
    {
      "cell_type": "code",
      "source": [
        "train_data.isnull().any().value_counts()"
      ],
      "metadata": {
        "colab": {
          "base_uri": "https://localhost:8080/"
        },
        "id": "OrkPMV5TFrb8",
        "outputId": "d1fe132f-24b0-4b6a-a559-7e5acfcf208e"
      },
      "execution_count": 18,
      "outputs": [
        {
          "output_type": "execute_result",
          "data": {
            "text/plain": [
              "False    31\n",
              "dtype: int64"
            ]
          },
          "metadata": {},
          "execution_count": 18
        }
      ]
    },
    {
      "cell_type": "code",
      "source": [
        "image = []\n",
        "for i in range(0, 7049):\n",
        "    img = train_data['Image'][i].split(' ')\n",
        "    img = ['0' if x == '' else x for x in img]\n",
        "    image.append(img)"
      ],
      "metadata": {
        "id": "Mfj7IL_EGx90"
      },
      "execution_count": 19,
      "outputs": []
    },
    {
      "cell_type": "code",
      "source": [
        "image_list = np.array(image, dtype='float')\n",
        "X_train = image_list.reshape(-1, 96, 96, 1)"
      ],
      "metadata": {
        "id": "hEOpojm_HjT8"
      },
      "execution_count": 20,
      "outputs": []
    },
    {
      "cell_type": "code",
      "source": [
        "plt.imshow(X_train[0].reshape(96, 96), cmap='gray')\n",
        "plt.show()"
      ],
      "metadata": {
        "colab": {
          "base_uri": "https://localhost:8080/",
          "height": 268
        },
        "id": "r4FTtsCdH4NM",
        "outputId": "7d0d6ab9-287a-47f5-86c6-91423a7c2960"
      },
      "execution_count": 21,
      "outputs": [
        {
          "output_type": "display_data",
          "data": {
            "text/plain": [
              "<Figure size 432x288 with 1 Axes>"
            ],
            "image/png": "[encoded data removed]"
          },
          "metadata": {
            "needs_background": "light"
          }
        }
      ]
    },
    {
      "cell_type": "markdown",
      "source": [
        "Now let's separate labels."
      ],
      "metadata": {
        "id": "FJsmoT1WmhXR"
      }
    },
    {
      "cell_type": "code",
      "source": [
        "training = train_data.drop('Image', axis=1)\n",
        "\n",
        "y_train = []\n",
        "for i in range(0, 7049):\n",
        "    y = training.iloc[i, :]\n",
        "\n",
        "    y_train.append(y)\n",
        "y_train = np.array(y_train, dtype='float')"
      ],
      "metadata": {
        "id": "F8QOlGYHmglI"
      },
      "execution_count": 22,
      "outputs": []
    },
    {
      "cell_type": "markdown",
      "source": [
        "# Modeling"
      ],
      "metadata": {
        "id": "JV5cQSQJMKzM"
      }
    },
    {
      "cell_type": "code",
      "source": [
        "from keras.layers import Conv2D, Dropout, Dense, Flatten\n",
        "from keras.models import Sequential\n",
        "\n",
        "model = Sequential([Flatten(input_shape=(96, 96)),\n",
        "                    Dense(128, activation=\"relu\"),\n",
        "                    Dropout(0.1),\n",
        "                    Dense(64, activation=\"relu\"),\n",
        "                    Dense(30)\n",
        "                    ])"
      ],
      "metadata": {
        "id": "CpdRE1USmhKJ"
      },
      "execution_count": 23,
      "outputs": []
    },
    {
      "cell_type": "markdown",
      "source": [
        "Using TensorFlow backend."
      ],
      "metadata": {
        "id": "ZN4K41F4qS2D"
      }
    },
    {
      "cell_type": "code",
      "source": [
        "from keras.layers import LeakyReLU\n",
        "from keras.models import Sequential, Model\n",
        "from keras.layers import Activation, Convolution2D, MaxPooling2D, BatchNormalization, Flatten, Dense, Dropout, Conv2D, MaxPool2D, ZeroPadding2D"
      ],
      "metadata": {
        "id": "RedtNpchmnsB"
      },
      "execution_count": 24,
      "outputs": []
    },
    {
      "cell_type": "code",
      "source": [
        "model = Sequential()\n",
        "\n",
        "model.add(Convolution2D(32, (3, 3), padding='same', use_bias=False, input_shape=(96, 96, 1)))\n",
        "model.add(LeakyReLU(alpha=0.1))\n",
        "model.add(BatchNormalization())\n",
        "\n",
        "model.add(Convolution2D(32, (3, 3), padding='same', use_bias=False))\n",
        "model.add(LeakyReLU(alpha=0.1))\n",
        "model.add(BatchNormalization())\n",
        "model.add(MaxPool2D(pool_size=(2, 2)))\n",
        "\n",
        "model.add(Convolution2D(64, (3, 3), padding='same', use_bias=False))\n",
        "model.add(LeakyReLU(alpha=0.1))\n",
        "model.add(BatchNormalization())\n",
        "\n",
        "model.add(Convolution2D(64, (3, 3), padding='same', use_bias=False))\n",
        "model.add(LeakyReLU(alpha=0.1))\n",
        "model.add(BatchNormalization())\n",
        "model.add(MaxPool2D(pool_size=(2, 2)))\n",
        "\n",
        "model.add(Convolution2D(96, (3, 3), padding='same', use_bias=False))\n",
        "model.add(LeakyReLU(alpha=0.1))\n",
        "model.add(BatchNormalization())\n",
        "\n",
        "model.add(Convolution2D(96, (3, 3), padding='same', use_bias=False))\n",
        "model.add(LeakyReLU(alpha=0.1))\n",
        "model.add(BatchNormalization())\n",
        "model.add(MaxPool2D(pool_size=(2, 2)))\n",
        "\n",
        "model.add(Convolution2D(128, (3, 3), padding='same', use_bias=False))\n",
        "model.add(LeakyReLU(alpha=0.1))\n",
        "model.add(BatchNormalization())\n",
        "\n",
        "model.add(Convolution2D(128, (3, 3), padding='same', use_bias=False))\n",
        "model.add(LeakyReLU(alpha=0.1))\n",
        "model.add(BatchNormalization())\n",
        "model.add(MaxPool2D(pool_size=(2, 2)))\n",
        "\n",
        "model.add(Convolution2D(256, (3, 3), padding='same', use_bias=False))\n",
        "model.add(LeakyReLU(alpha=0.1))\n",
        "model.add(BatchNormalization())\n",
        "\n",
        "model.add(Convolution2D(256, (3, 3), padding='same', use_bias=False))\n",
        "model.add(LeakyReLU(alpha=0.1))\n",
        "model.add(BatchNormalization())\n",
        "model.add(MaxPool2D(pool_size=(2, 2)))\n",
        "\n",
        "model.add(Convolution2D(512, (3, 3), padding='same', use_bias=False))\n",
        "model.add(LeakyReLU(alpha=0.1))\n",
        "model.add(BatchNormalization())\n",
        "\n",
        "model.add(Convolution2D(512, (3, 3), padding='same', use_bias=False))\n",
        "model.add(LeakyReLU(alpha=0.1))\n",
        "model.add(BatchNormalization())\n",
        "\n",
        "model.add(Flatten())\n",
        "model.add(Dense(512, activation='relu'))\n",
        "model.add(Dropout(0.1))\n",
        "model.add(Dense(30))\n",
        "model.summary()"
      ],
      "metadata": {
        "colab": {
          "base_uri": "https://localhost:8080/"
        },
        "id": "cwBnBhOamoEh",
        "outputId": "3eec59ec-2493-4cda-d937-d153ed5635e9"
      },
      "execution_count": 25,
      "outputs": [
        {
          "output_type": "stream",
          "name": "stdout",
          "text": [
            "Model: \"sequential_1\"\n",
            "_________________________________________________________________\n",
            " Layer (type)                Output Shape              Param #   \n",
            "=================================================================\n",
            " conv2d (Conv2D)             (None, 96, 96, 32)        288       \n",
            "                                                                 \n",
            " leaky_re_lu (LeakyReLU)     (None, 96, 96, 32)        0         \n",
            "                                                                 \n",
            " batch_normalization (BatchN  (None, 96, 96, 32)       128       \n",
            " ormalization)                                                   \n",
            "                                                                 \n",
            " conv2d_1 (Conv2D)           (None, 96, 96, 32)        9216      \n",
            "                                                                 \n",
            " leaky_re_lu_1 (LeakyReLU)   (None, 96, 96, 32)        0         \n",
            "                                                                 \n",
            " batch_normalization_1 (Batc  (None, 96, 96, 32)       128       \n",
            " hNormalization)                                                 \n",
            "                                                                 \n",
            " max_pooling2d (MaxPooling2D  (None, 48, 48, 32)       0         \n",
            " )                                                               \n",
            "                                                                 \n",
            " conv2d_2 (Conv2D)           (None, 48, 48, 64)        18432     \n",
            "                                                                 \n",
            " leaky_re_lu_2 (LeakyReLU)   (None, 48, 48, 64)        0         \n",
            "                                                                 \n",
            " batch_normalization_2 (Batc  (None, 48, 48, 64)       256       \n",
            " hNormalization)                                                 \n",
            "                                                                 \n",
            " conv2d_3 (Conv2D)           (None, 48, 48, 64)        36864     \n",
            "                                                                 \n",
            " leaky_re_lu_3 (LeakyReLU)   (None, 48, 48, 64)        0         \n",
            "                                                                 \n",
            " batch_normalization_3 (Batc  (None, 48, 48, 64)       256       \n",
            " hNormalization)                                                 \n",
            "                                                                 \n",
            " max_pooling2d_1 (MaxPooling  (None, 24, 24, 64)       0         \n",
            " 2D)                                                             \n",
            "                                                                 \n",
            " conv2d_4 (Conv2D)           (None, 24, 24, 96)        55296     \n",
            "                                                                 \n",
            " leaky_re_lu_4 (LeakyReLU)   (None, 24, 24, 96)        0         \n",
            "                                                                 \n",
            " batch_normalization_4 (Batc  (None, 24, 24, 96)       384       \n",
            " hNormalization)                                                 \n",
            "                                                                 \n",
            " conv2d_5 (Conv2D)           (None, 24, 24, 96)        82944     \n",
            "                                                                 \n",
            " leaky_re_lu_5 (LeakyReLU)   (None, 24, 24, 96)        0         \n",
            "                                                                 \n",
            " batch_normalization_5 (Batc  (None, 24, 24, 96)       384       \n",
            " hNormalization)                                                 \n",
            "                                                                 \n",
            " max_pooling2d_2 (MaxPooling  (None, 12, 12, 96)       0         \n",
            " 2D)                                                             \n",
            "                                                                 \n",
            " conv2d_6 (Conv2D)           (None, 12, 12, 128)       110592    \n",
            "                                                                 \n",
            " leaky_re_lu_6 (LeakyReLU)   (None, 12, 12, 128)       0         \n",
            "                                                                 \n",
            " batch_normalization_6 (Batc  (None, 12, 12, 128)      512       \n",
            " hNormalization)                                                 \n",
            "                                                                 \n",
            " conv2d_7 (Conv2D)           (None, 12, 12, 128)       147456    \n",
            "                                                                 \n",
            " leaky_re_lu_7 (LeakyReLU)   (None, 12, 12, 128)       0         \n",
            "                                                                 \n",
            " batch_normalization_7 (Batc  (None, 12, 12, 128)      512       \n",
            " hNormalization)                                                 \n",
            "                                                                 \n",
            " max_pooling2d_3 (MaxPooling  (None, 6, 6, 128)        0         \n",
            " 2D)                                                             \n",
            "                                                                 \n",
            " conv2d_8 (Conv2D)           (None, 6, 6, 256)         294912    \n",
            "                                                                 \n",
            " leaky_re_lu_8 (LeakyReLU)   (None, 6, 6, 256)         0         \n",
            "                                                                 \n",
            " batch_normalization_8 (Batc  (None, 6, 6, 256)        1024      \n",
            " hNormalization)                                                 \n",
            "                                                                 \n",
            " conv2d_9 (Conv2D)           (None, 6, 6, 256)         589824    \n",
            "                                                                 \n",
            " leaky_re_lu_9 (LeakyReLU)   (None, 6, 6, 256)         0         \n",
            "                                                                 \n",
            " batch_normalization_9 (Batc  (None, 6, 6, 256)        1024      \n",
            " hNormalization)                                                 \n",
            "                                                                 \n",
            " max_pooling2d_4 (MaxPooling  (None, 3, 3, 256)        0         \n",
            " 2D)                                                             \n",
            "                                                                 \n",
            " conv2d_10 (Conv2D)          (None, 3, 3, 512)         1179648   \n",
            "                                                                 \n",
            " leaky_re_lu_10 (LeakyReLU)  (None, 3, 3, 512)         0         \n",
            "                                                                 \n",
            " batch_normalization_10 (Bat  (None, 3, 3, 512)        2048      \n",
            " chNormalization)                                                \n",
            "                                                                 \n",
            " conv2d_11 (Conv2D)          (None, 3, 3, 512)         2359296   \n",
            "                                                                 \n",
            " leaky_re_lu_11 (LeakyReLU)  (None, 3, 3, 512)         0         \n",
            "                                                                 \n",
            " batch_normalization_11 (Bat  (None, 3, 3, 512)        2048      \n",
            " chNormalization)                                                \n",
            "                                                                 \n",
            " flatten_1 (Flatten)         (None, 4608)              0         \n",
            "                                                                 \n",
            " dense_3 (Dense)             (None, 512)               2359808   \n",
            "                                                                 \n",
            " dropout_1 (Dropout)         (None, 512)               0         \n",
            "                                                                 \n",
            " dense_4 (Dense)             (None, 30)                15390     \n",
            "                                                                 \n",
            "=================================================================\n",
            "Total params: 7,268,670\n",
            "Trainable params: 7,264,318\n",
            "Non-trainable params: 4,352\n",
            "_________________________________________________________________\n"
          ]
        }
      ]
    },
    {
      "cell_type": "code",
      "source": [
        "model.compile(optimizer='adam',\n",
        "              loss='mean_squared_error',\n",
        "              metrics=['mae'])"
      ],
      "metadata": {
        "id": "MkRgt2ZBmoUR"
      },
      "execution_count": 26,
      "outputs": []
    },
    {
      "cell_type": "code",
      "source": [
        "model.fit(X_train, y_train, epochs=50, batch_size=256, validation_split=0.2)"
      ],
      "metadata": {
        "colab": {
          "base_uri": "https://localhost:8080/"
        },
        "id": "iuB3oSeZCuk1",
        "outputId": "740ee2ae-c8cc-483b-b7f6-4302dfc4598e"
      },
      "execution_count": 27,
      "outputs": [
        {
          "output_type": "stream",
          "name": "stdout",
          "text": [
            "Epoch 1/50\n",
            "23/23 [==============================] - 22s 346ms/step - loss: 352.6166 - mae: 12.2432 - val_loss: 305.0502 - val_mae: 16.0649\n",
            "Epoch 2/50\n",
            "23/23 [==============================] - 6s 255ms/step - loss: 33.1452 - mae: 4.4891 - val_loss: 132.3212 - val_mae: 10.5219\n",
            "Epoch 3/50\n",
            "23/23 [==============================] - 6s 257ms/step - loss: 26.6163 - mae: 3.9906 - val_loss: 97.3907 - val_mae: 8.9252\n",
            "Epoch 4/50\n",
            "23/23 [==============================] - 6s 261ms/step - loss: 23.9600 - mae: 3.7790 - val_loss: 96.2895 - val_mae: 8.9594\n",
            "Epoch 5/50\n",
            "23/23 [==============================] - 6s 265ms/step - loss: 23.3077 - mae: 3.7203 - val_loss: 49.7772 - val_mae: 6.2007\n",
            "Epoch 6/50\n",
            "23/23 [==============================] - 6s 269ms/step - loss: 20.8000 - mae: 3.4915 - val_loss: 43.2568 - val_mae: 5.8444\n",
            "Epoch 7/50\n",
            "23/23 [==============================] - 6s 274ms/step - loss: 18.8050 - mae: 3.3033 - val_loss: 33.6799 - val_mae: 5.1980\n",
            "Epoch 8/50\n",
            "23/23 [==============================] - 6s 274ms/step - loss: 17.6308 - mae: 3.1953 - val_loss: 35.9845 - val_mae: 5.3406\n",
            "Epoch 9/50\n",
            "23/23 [==============================] - 6s 272ms/step - loss: 17.1903 - mae: 3.1546 - val_loss: 26.8422 - val_mae: 4.4469\n",
            "Epoch 10/50\n",
            "23/23 [==============================] - 6s 267ms/step - loss: 16.0524 - mae: 3.0402 - val_loss: 15.1615 - val_mae: 3.2633\n",
            "Epoch 11/50\n",
            "23/23 [==============================] - 6s 265ms/step - loss: 14.7282 - mae: 2.9126 - val_loss: 37.5490 - val_mae: 5.4590\n",
            "Epoch 12/50\n",
            "23/23 [==============================] - 6s 263ms/step - loss: 15.2327 - mae: 2.9671 - val_loss: 4.3563 - val_mae: 1.2216\n",
            "Epoch 13/50\n",
            "23/23 [==============================] - 6s 261ms/step - loss: 14.7154 - mae: 2.9225 - val_loss: 4.0623 - val_mae: 1.2378\n",
            "Epoch 14/50\n",
            "23/23 [==============================] - 6s 260ms/step - loss: 14.2353 - mae: 2.8755 - val_loss: 8.9786 - val_mae: 2.1650\n",
            "Epoch 15/50\n",
            "23/23 [==============================] - 6s 260ms/step - loss: 12.9198 - mae: 2.7257 - val_loss: 25.8459 - val_mae: 4.2519\n",
            "Epoch 16/50\n",
            "23/23 [==============================] - 6s 260ms/step - loss: 14.6176 - mae: 2.9210 - val_loss: 11.0922 - val_mae: 2.5934\n",
            "Epoch 17/50\n",
            "23/23 [==============================] - 6s 262ms/step - loss: 13.1014 - mae: 2.7519 - val_loss: 6.3078 - val_mae: 1.7208\n",
            "Epoch 18/50\n",
            "23/23 [==============================] - 6s 272ms/step - loss: 11.3896 - mae: 2.5460 - val_loss: 7.0005 - val_mae: 1.7178\n",
            "Epoch 19/50\n",
            "23/23 [==============================] - 6s 264ms/step - loss: 10.7360 - mae: 2.4742 - val_loss: 10.7412 - val_mae: 2.3828\n",
            "Epoch 20/50\n",
            "23/23 [==============================] - 6s 265ms/step - loss: 10.7909 - mae: 2.4865 - val_loss: 5.2384 - val_mae: 1.4623\n",
            "Epoch 21/50\n",
            "23/23 [==============================] - 6s 266ms/step - loss: 10.1999 - mae: 2.4219 - val_loss: 4.1595 - val_mae: 1.3402\n",
            "Epoch 22/50\n",
            "23/23 [==============================] - 6s 266ms/step - loss: 11.3260 - mae: 2.5504 - val_loss: 7.2154 - val_mae: 1.8727\n",
            "Epoch 23/50\n",
            "23/23 [==============================] - 6s 277ms/step - loss: 9.8188 - mae: 2.3627 - val_loss: 5.7883 - val_mae: 1.6706\n",
            "Epoch 24/50\n",
            "23/23 [==============================] - 6s 267ms/step - loss: 9.2801 - mae: 2.2960 - val_loss: 4.6181 - val_mae: 1.3937\n",
            "Epoch 25/50\n",
            "23/23 [==============================] - 6s 266ms/step - loss: 8.9069 - mae: 2.2536 - val_loss: 7.5380 - val_mae: 1.8031\n",
            "Epoch 26/50\n",
            "23/23 [==============================] - 6s 275ms/step - loss: 9.0437 - mae: 2.2742 - val_loss: 7.5218 - val_mae: 1.7922\n",
            "Epoch 27/50\n",
            "23/23 [==============================] - 6s 264ms/step - loss: 9.1350 - mae: 2.2813 - val_loss: 4.4702 - val_mae: 1.2976\n",
            "Epoch 28/50\n",
            "23/23 [==============================] - 6s 273ms/step - loss: 8.9412 - mae: 2.2540 - val_loss: 15.9994 - val_mae: 3.1196\n",
            "Epoch 29/50\n",
            "23/23 [==============================] - 6s 264ms/step - loss: 13.8126 - mae: 2.8228 - val_loss: 12.5956 - val_mae: 2.8521\n",
            "Epoch 30/50\n",
            "23/23 [==============================] - 6s 263ms/step - loss: 10.0411 - mae: 2.3900 - val_loss: 3.4519 - val_mae: 1.1370\n",
            "Epoch 31/50\n",
            "23/23 [==============================] - 6s 264ms/step - loss: 8.5216 - mae: 2.1910 - val_loss: 9.1124 - val_mae: 2.4238\n",
            "Epoch 32/50\n",
            "23/23 [==============================] - 6s 263ms/step - loss: 9.2475 - mae: 2.2899 - val_loss: 4.9275 - val_mae: 1.6107\n",
            "Epoch 33/50\n",
            "23/23 [==============================] - 6s 264ms/step - loss: 8.6354 - mae: 2.2168 - val_loss: 5.2731 - val_mae: 1.5412\n",
            "Epoch 34/50\n",
            "23/23 [==============================] - 6s 264ms/step - loss: 8.7940 - mae: 2.2104 - val_loss: 3.4438 - val_mae: 1.1807\n",
            "Epoch 35/50\n",
            "23/23 [==============================] - 6s 264ms/step - loss: 7.5783 - mae: 2.0640 - val_loss: 3.5049 - val_mae: 1.0986\n",
            "Epoch 36/50\n",
            "23/23 [==============================] - 6s 263ms/step - loss: 8.3741 - mae: 2.1868 - val_loss: 4.6913 - val_mae: 1.3809\n",
            "Epoch 37/50\n",
            "23/23 [==============================] - 6s 264ms/step - loss: 8.6827 - mae: 2.2358 - val_loss: 6.0425 - val_mae: 1.9663\n",
            "Epoch 38/50\n",
            "23/23 [==============================] - 6s 275ms/step - loss: 7.7348 - mae: 2.1061 - val_loss: 8.2385 - val_mae: 2.3874\n",
            "Epoch 39/50\n",
            "23/23 [==============================] - 6s 265ms/step - loss: 7.6125 - mae: 2.0881 - val_loss: 2.8384 - val_mae: 1.0172\n",
            "Epoch 40/50\n",
            "23/23 [==============================] - 6s 264ms/step - loss: 6.6162 - mae: 1.9461 - val_loss: 3.0731 - val_mae: 0.9676\n",
            "Epoch 41/50\n",
            "23/23 [==============================] - 6s 265ms/step - loss: 6.4597 - mae: 1.9240 - val_loss: 12.3274 - val_mae: 2.8315\n",
            "Epoch 42/50\n",
            "23/23 [==============================] - 6s 274ms/step - loss: 10.3660 - mae: 2.4750 - val_loss: 7.0759 - val_mae: 1.8808\n",
            "Epoch 43/50\n",
            "23/23 [==============================] - 6s 265ms/step - loss: 7.0504 - mae: 1.9987 - val_loss: 15.4526 - val_mae: 3.3053\n",
            "Epoch 44/50\n",
            "23/23 [==============================] - 6s 265ms/step - loss: 10.4729 - mae: 2.4972 - val_loss: 4.2274 - val_mae: 1.5582\n",
            "Epoch 45/50\n",
            "23/23 [==============================] - 6s 275ms/step - loss: 6.9434 - mae: 2.0020 - val_loss: 3.1630 - val_mae: 1.0018\n",
            "Epoch 46/50\n",
            "23/23 [==============================] - 6s 265ms/step - loss: 5.9576 - mae: 1.8555 - val_loss: 2.5030 - val_mae: 0.8600\n",
            "Epoch 47/50\n",
            "23/23 [==============================] - 6s 266ms/step - loss: 6.0146 - mae: 1.8496 - val_loss: 3.2038 - val_mae: 1.0488\n",
            "Epoch 48/50\n",
            "23/23 [==============================] - 6s 275ms/step - loss: 6.8400 - mae: 1.9900 - val_loss: 17.6121 - val_mae: 3.6821\n",
            "Epoch 49/50\n",
            "23/23 [==============================] - 6s 264ms/step - loss: 8.8117 - mae: 2.2580 - val_loss: 10.1880 - val_mae: 2.6117\n",
            "Epoch 50/50\n",
            "23/23 [==============================] - 6s 265ms/step - loss: 7.3263 - mae: 2.0662 - val_loss: 2.9110 - val_mae: 1.0823\n"
          ]
        },
        {
          "output_type": "execute_result",
          "data": {
            "text/plain": [
              "<keras.callbacks.History at 0x7f4b35e47370>"
            ]
          },
          "metadata": {},
          "execution_count": 27
        }
      ]
    },
    {
      "cell_type": "markdown",
      "source": [
        "Now let's prepare our testing data"
      ],
      "metadata": {
        "id": "POlmlKtpHpiM"
      }
    },
    {
      "cell_type": "code",
      "source": [
        "#preparing test data\n",
        "timage = []\n",
        "for i in range(0, 1783):\n",
        "    timg = test_data['Image'][i].split(' ')\n",
        "    timg = ['0' if x == '' else x for x in timg]\n",
        "\n",
        "    timage.append(timg)"
      ],
      "metadata": {
        "id": "-awXmZgIEwFO"
      },
      "execution_count": 30,
      "outputs": []
    },
    {
      "cell_type": "markdown",
      "source": [
        "Reshaping and converting"
      ],
      "metadata": {
        "id": "K1jGuKWQI2WM"
      }
    },
    {
      "cell_type": "code",
      "source": [
        "timage_list = np.array(timage, dtype='float')\n",
        "X_test = timage_list.reshape(-1, 96, 96, 1)"
      ],
      "metadata": {
        "id": "rx90Nod9IdRN"
      },
      "execution_count": 33,
      "outputs": []
    },
    {
      "cell_type": "markdown",
      "source": [
        "Let's see first image in our test data"
      ],
      "metadata": {
        "id": "dj77AEwpI-CU"
      }
    },
    {
      "cell_type": "code",
      "source": [
        "plt.imshow(X_test[0].reshape(96, 96), cmap='gray')\n",
        "plt.show()"
      ],
      "metadata": {
        "id": "8mFxqxVDJAnz"
      },
      "execution_count": null,
      "outputs": []
    },
    {
      "cell_type": "markdown",
      "source": [
        "Let's predict our results"
      ],
      "metadata": {
        "id": "UmHx95zzJL87"
      }
    },
    {
      "cell_type": "code",
      "source": [
        "pred = model.predict(X_test)"
      ],
      "metadata": {
        "colab": {
          "base_uri": "https://localhost:8080/"
        },
        "id": "pnGRTdNEJHAM",
        "outputId": "38c9ad17-a126-46ba-bacb-ef7c549a6259"
      },
      "execution_count": 35,
      "outputs": [
        {
          "output_type": "stream",
          "name": "stdout",
          "text": [
            "56/56 [==============================] - 2s 18ms/step\n"
          ]
        }
      ]
    },
    {
      "cell_type": "code",
      "source": [
        "lookid_list = list(lookid_data['FeatureName'])\n",
        "imageID = list(lookid_data['ImageId']-1)\n",
        "pre_list = list(pred)"
      ],
      "metadata": {
        "id": "JHUj98E7JQzt"
      },
      "execution_count": 39,
      "outputs": []
    },
    {
      "cell_type": "code",
      "source": [
        "rowid = lookid_data['RowId']\n",
        "rowid = list(rowid)"
      ],
      "metadata": {
        "id": "4BzSAhevJS-r"
      },
      "execution_count": 41,
      "outputs": []
    },
    {
      "cell_type": "code",
      "source": [
        "feature = []\n",
        "for f in list(lookid_data['FeatureName']):\n",
        "    feature.append(lookid_list.index(f))"
      ],
      "metadata": {
        "id": "1uICNxupKTd8"
      },
      "execution_count": 42,
      "outputs": []
    },
    {
      "cell_type": "code",
      "source": [
        "preded = []\n",
        "for x, y in zip(imageID, feature):\n",
        "    preded.append(pre_list[x][y])"
      ],
      "metadata": {
        "id": "kpr3vTtqKlF8"
      },
      "execution_count": 44,
      "outputs": []
    },
    {
      "cell_type": "code",
      "source": [
        "rowid = pd.Series(rowid, name='RowId')"
      ],
      "metadata": {
        "id": "Inp0B-DRKmms"
      },
      "execution_count": 46,
      "outputs": []
    },
    {
      "cell_type": "code",
      "source": [
        "loc = pd.Series(preded, name='Location')"
      ],
      "metadata": {
        "id": "XjdH0bUpK22J"
      },
      "execution_count": 47,
      "outputs": []
    },
    {
      "cell_type": "code",
      "source": [
        "submission = pd.concat([rowid, loc], axis=1)\n",
        "# submission.to_csv('face_key_detection_submission.csv',index = False)"
      ],
      "metadata": {
        "id": "zboufglDLCA7"
      },
      "execution_count": 48,
      "outputs": []
    }
  ]
}