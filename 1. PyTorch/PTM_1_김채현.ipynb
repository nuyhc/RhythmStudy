{
 "cells": [
  {
   "cell_type": "markdown",
   "metadata": {},
   "source": [
    "# [PTM] Section 1"
   ]
  },
  {
   "cell_type": "markdown",
   "metadata": {},
   "source": [
    "## 1. 딥러닝과 파이토치 라이브러리 소개"
   ]
  },
  {
   "cell_type": "markdown",
   "metadata": {},
   "source": [
    "- 일반화된 알고리즘 분류는 기존에 사람만 할 수 있던 일을 자동화해주며 복잡한 비선형 프로세스들을 효과적이면서 꽤 그럴듯하게 처리\n",
    "- 지능은 자의식을 포함한 개념이라고 생각해왔지만, 작업을 수행하는 데 자의식은 굳이 필요도 없을 것 같다\n",
    "- 딥러닝은, 대량의 데이터를 사용해 입력과 출력이 동떨어진 복잡한 함수들을 근사하는 방법을 사용\n",
    "\n",
    "### 1.1 딥러닝 혁명\n",
    "- 머신러닝(ML)은 피처 엔지니어링(feature engineering)에 크게 의존 (다운스트림 알고리즘이 새로운 데이터를 기반으로 올바른 결과물을 낼 수 있도록 촉진하기 위한 데이터 변형)\n",
    "- 딥러닝(DL)은 원본 데이터로부터 자동으로 표현을 찾아냄\n",
    "- 주어진 예제로부터 유용한 표현을 추출하는 신경망의 능력은 딥러닝을 좀 더 강력하게 만듬\n",
    "\n",
    "### 1.2 딥러닝을 위한 파이토치\n",
    "- 텐서(Tensor)는 넘파이 배열과 여러 면에서 유사한 다차원 배열\n",
    "\n",
    "### 1.3 왜 파이토치인가?\n",
    "- 단순함\n",
    "- 텐서를 기본 제공\n",
    "- 산술 최적화 지원\n",
    "\n",
    "### 1.4~1.5\n",
    "- pass\n",
    "\n",
    "### 1.6 연습문제\n",
    "- 1. 파이썬을 실행해 프롬포트를 띄워보자\n",
    "  - 어떤 버전을 사용 중인가? -> 3.7\n",
    "  - import torch가 되는가? -> yes\n",
    "  - torch.cuda.is_available() 실행 결과는? -> TF와 Torch 환경 구축 중\n",
    "- 2. 주피터 노트북 서버를 띄워보자\n",
    "  - 주피터가 사용하는 파이썬 버전은?\n",
    "  - 경로가 같은지?"
   ]
  },
  {
   "cell_type": "markdown",
   "metadata": {},
   "source": [
    "## 2. 사전 훈련된 신경망"
   ]
  },
  {
   "cell_type": "markdown",
   "metadata": {},
   "source": [
    "## 3. 텐서 구조체"
   ]
  }
 ],
 "metadata": {
  "kernelspec": {
   "display_name": "Python 3.9.13 ('base')",
   "language": "python",
   "name": "python3"
  },
  "language_info": {
   "name": "python",
   "version": "3.9.13"
  },
  "orig_nbformat": 4,
  "vscode": {
   "interpreter": {
    "hash": "2adf3ccca9222a21ddf813ce3f7330ff220318730c13c08bb78e423c67466e5c"
   }
  }
 },
 "nbformat": 4,
 "nbformat_minor": 2
}
