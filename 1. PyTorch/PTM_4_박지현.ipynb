{
  "nbformat": 4,
  "nbformat_minor": 0,
  "metadata": {
    "colab": {
      "provenance": [],
      "authorship_tag": "ABX9TyOm+512Ymq9GjIdUGdS6Ep8",
      "include_colab_link": true
    },
    "kernelspec": {
      "name": "python3",
      "display_name": "Python 3"
    },
    "language_info": {
      "name": "python"
    },
    "widgets": {
      "application/vnd.jupyter.widget-state+json": {
        "750391126a11440893bb57bb134784b3": {
          "model_module": "@jupyter-widgets/controls",
          "model_name": "HBoxModel",
          "model_module_version": "1.5.0",
          "state": {
            "_dom_classes": [],
            "_model_module": "@jupyter-widgets/controls",
            "_model_module_version": "1.5.0",
            "_model_name": "HBoxModel",
            "_view_count": null,
            "_view_module": "@jupyter-widgets/controls",
            "_view_module_version": "1.5.0",
            "_view_name": "HBoxView",
            "box_style": "",
            "children": [
              "IPY_MODEL_dd1b5adc7eb94fdaa150db80168da953",
              "IPY_MODEL_3b884a5356564ca48f1c87a7cda02ad1",
              "IPY_MODEL_adc469e5466743479450c3e276451186"
            ],
            "layout": "IPY_MODEL_2b73146e92784371a1ae7ee66e867c9c"
          }
        },
        "dd1b5adc7eb94fdaa150db80168da953": {
          "model_module": "@jupyter-widgets/controls",
          "model_name": "HTMLModel",
          "model_module_version": "1.5.0",
          "state": {
            "_dom_classes": [],
            "_model_module": "@jupyter-widgets/controls",
            "_model_module_version": "1.5.0",
            "_model_name": "HTMLModel",
            "_view_count": null,
            "_view_module": "@jupyter-widgets/controls",
            "_view_module_version": "1.5.0",
            "_view_name": "HTMLView",
            "description": "",
            "description_tooltip": null,
            "layout": "IPY_MODEL_39c11a0c9a7b45bda295b57d2027b2eb",
            "placeholder": "​",
            "style": "IPY_MODEL_ffb5d70df96541e49aa00e4ef37c7a8d",
            "value": "100%"
          }
        },
        "3b884a5356564ca48f1c87a7cda02ad1": {
          "model_module": "@jupyter-widgets/controls",
          "model_name": "FloatProgressModel",
          "model_module_version": "1.5.0",
          "state": {
            "_dom_classes": [],
            "_model_module": "@jupyter-widgets/controls",
            "_model_module_version": "1.5.0",
            "_model_name": "FloatProgressModel",
            "_view_count": null,
            "_view_module": "@jupyter-widgets/controls",
            "_view_module_version": "1.5.0",
            "_view_name": "ProgressView",
            "bar_style": "success",
            "description": "",
            "description_tooltip": null,
            "layout": "IPY_MODEL_335affc043b64c8bb91a12c3d1b98ce6",
            "max": 170498071,
            "min": 0,
            "orientation": "horizontal",
            "style": "IPY_MODEL_8c8c18d64a0242f1a46c7b7d9b9ff401",
            "value": 170498071
          }
        },
        "adc469e5466743479450c3e276451186": {
          "model_module": "@jupyter-widgets/controls",
          "model_name": "HTMLModel",
          "model_module_version": "1.5.0",
          "state": {
            "_dom_classes": [],
            "_model_module": "@jupyter-widgets/controls",
            "_model_module_version": "1.5.0",
            "_model_name": "HTMLModel",
            "_view_count": null,
            "_view_module": "@jupyter-widgets/controls",
            "_view_module_version": "1.5.0",
            "_view_name": "HTMLView",
            "description": "",
            "description_tooltip": null,
            "layout": "IPY_MODEL_9bb8414e3eca4127bead21dbac2fa29b",
            "placeholder": "​",
            "style": "IPY_MODEL_769be74b1a524ce88c40a4a80176e39b",
            "value": " 170498071/170498071 [00:02&lt;00:00, 70445277.45it/s]"
          }
        },
        "2b73146e92784371a1ae7ee66e867c9c": {
          "model_module": "@jupyter-widgets/base",
          "model_name": "LayoutModel",
          "model_module_version": "1.2.0",
          "state": {
            "_model_module": "@jupyter-widgets/base",
            "_model_module_version": "1.2.0",
            "_model_name": "LayoutModel",
            "_view_count": null,
            "_view_module": "@jupyter-widgets/base",
            "_view_module_version": "1.2.0",
            "_view_name": "LayoutView",
            "align_content": null,
            "align_items": null,
            "align_self": null,
            "border": null,
            "bottom": null,
            "display": null,
            "flex": null,
            "flex_flow": null,
            "grid_area": null,
            "grid_auto_columns": null,
            "grid_auto_flow": null,
            "grid_auto_rows": null,
            "grid_column": null,
            "grid_gap": null,
            "grid_row": null,
            "grid_template_areas": null,
            "grid_template_columns": null,
            "grid_template_rows": null,
            "height": null,
            "justify_content": null,
            "justify_items": null,
            "left": null,
            "margin": null,
            "max_height": null,
            "max_width": null,
            "min_height": null,
            "min_width": null,
            "object_fit": null,
            "object_position": null,
            "order": null,
            "overflow": null,
            "overflow_x": null,
            "overflow_y": null,
            "padding": null,
            "right": null,
            "top": null,
            "visibility": null,
            "width": null
          }
        },
        "39c11a0c9a7b45bda295b57d2027b2eb": {
          "model_module": "@jupyter-widgets/base",
          "model_name": "LayoutModel",
          "model_module_version": "1.2.0",
          "state": {
            "_model_module": "@jupyter-widgets/base",
            "_model_module_version": "1.2.0",
            "_model_name": "LayoutModel",
            "_view_count": null,
            "_view_module": "@jupyter-widgets/base",
            "_view_module_version": "1.2.0",
            "_view_name": "LayoutView",
            "align_content": null,
            "align_items": null,
            "align_self": null,
            "border": null,
            "bottom": null,
            "display": null,
            "flex": null,
            "flex_flow": null,
            "grid_area": null,
            "grid_auto_columns": null,
            "grid_auto_flow": null,
            "grid_auto_rows": null,
            "grid_column": null,
            "grid_gap": null,
            "grid_row": null,
            "grid_template_areas": null,
            "grid_template_columns": null,
            "grid_template_rows": null,
            "height": null,
            "justify_content": null,
            "justify_items": null,
            "left": null,
            "margin": null,
            "max_height": null,
            "max_width": null,
            "min_height": null,
            "min_width": null,
            "object_fit": null,
            "object_position": null,
            "order": null,
            "overflow": null,
            "overflow_x": null,
            "overflow_y": null,
            "padding": null,
            "right": null,
            "top": null,
            "visibility": null,
            "width": null
          }
        },
        "ffb5d70df96541e49aa00e4ef37c7a8d": {
          "model_module": "@jupyter-widgets/controls",
          "model_name": "DescriptionStyleModel",
          "model_module_version": "1.5.0",
          "state": {
            "_model_module": "@jupyter-widgets/controls",
            "_model_module_version": "1.5.0",
            "_model_name": "DescriptionStyleModel",
            "_view_count": null,
            "_view_module": "@jupyter-widgets/base",
            "_view_module_version": "1.2.0",
            "_view_name": "StyleView",
            "description_width": ""
          }
        },
        "335affc043b64c8bb91a12c3d1b98ce6": {
          "model_module": "@jupyter-widgets/base",
          "model_name": "LayoutModel",
          "model_module_version": "1.2.0",
          "state": {
            "_model_module": "@jupyter-widgets/base",
            "_model_module_version": "1.2.0",
            "_model_name": "LayoutModel",
            "_view_count": null,
            "_view_module": "@jupyter-widgets/base",
            "_view_module_version": "1.2.0",
            "_view_name": "LayoutView",
            "align_content": null,
            "align_items": null,
            "align_self": null,
            "border": null,
            "bottom": null,
            "display": null,
            "flex": null,
            "flex_flow": null,
            "grid_area": null,
            "grid_auto_columns": null,
            "grid_auto_flow": null,
            "grid_auto_rows": null,
            "grid_column": null,
            "grid_gap": null,
            "grid_row": null,
            "grid_template_areas": null,
            "grid_template_columns": null,
            "grid_template_rows": null,
            "height": null,
            "justify_content": null,
            "justify_items": null,
            "left": null,
            "margin": null,
            "max_height": null,
            "max_width": null,
            "min_height": null,
            "min_width": null,
            "object_fit": null,
            "object_position": null,
            "order": null,
            "overflow": null,
            "overflow_x": null,
            "overflow_y": null,
            "padding": null,
            "right": null,
            "top": null,
            "visibility": null,
            "width": null
          }
        },
        "8c8c18d64a0242f1a46c7b7d9b9ff401": {
          "model_module": "@jupyter-widgets/controls",
          "model_name": "ProgressStyleModel",
          "model_module_version": "1.5.0",
          "state": {
            "_model_module": "@jupyter-widgets/controls",
            "_model_module_version": "1.5.0",
            "_model_name": "ProgressStyleModel",
            "_view_count": null,
            "_view_module": "@jupyter-widgets/base",
            "_view_module_version": "1.2.0",
            "_view_name": "StyleView",
            "bar_color": null,
            "description_width": ""
          }
        },
        "9bb8414e3eca4127bead21dbac2fa29b": {
          "model_module": "@jupyter-widgets/base",
          "model_name": "LayoutModel",
          "model_module_version": "1.2.0",
          "state": {
            "_model_module": "@jupyter-widgets/base",
            "_model_module_version": "1.2.0",
            "_model_name": "LayoutModel",
            "_view_count": null,
            "_view_module": "@jupyter-widgets/base",
            "_view_module_version": "1.2.0",
            "_view_name": "LayoutView",
            "align_content": null,
            "align_items": null,
            "align_self": null,
            "border": null,
            "bottom": null,
            "display": null,
            "flex": null,
            "flex_flow": null,
            "grid_area": null,
            "grid_auto_columns": null,
            "grid_auto_flow": null,
            "grid_auto_rows": null,
            "grid_column": null,
            "grid_gap": null,
            "grid_row": null,
            "grid_template_areas": null,
            "grid_template_columns": null,
            "grid_template_rows": null,
            "height": null,
            "justify_content": null,
            "justify_items": null,
            "left": null,
            "margin": null,
            "max_height": null,
            "max_width": null,
            "min_height": null,
            "min_width": null,
            "object_fit": null,
            "object_position": null,
            "order": null,
            "overflow": null,
            "overflow_x": null,
            "overflow_y": null,
            "padding": null,
            "right": null,
            "top": null,
            "visibility": null,
            "width": null
          }
        },
        "769be74b1a524ce88c40a4a80176e39b": {
          "model_module": "@jupyter-widgets/controls",
          "model_name": "DescriptionStyleModel",
          "model_module_version": "1.5.0",
          "state": {
            "_model_module": "@jupyter-widgets/controls",
            "_model_module_version": "1.5.0",
            "_model_name": "DescriptionStyleModel",
            "_view_count": null,
            "_view_module": "@jupyter-widgets/base",
            "_view_module_version": "1.2.0",
            "_view_name": "StyleView",
            "description_width": ""
          }
        }
      }
    },
    "accelerator": "GPU",
    "gpuClass": "standard"
  },
  "cells": [
    {
      "cell_type": "markdown",
      "metadata": {
        "id": "view-in-github",
        "colab_type": "text"
      },
      "source": [
        "<a href=\"https://colab.research.google.com/github/nuyhc/RhythmStudy/blob/main/1.%20PyTorch/PTM_4_%EB%B0%95%EC%A7%80%ED%98%84.ipynb\" target=\"_parent\"><img src=\"https://colab.research.google.com/assets/colab-badge.svg\" alt=\"Open In Colab\"/></a>"
      ]
    },
    {
      "cell_type": "markdown",
      "source": [
        "# [PTM] 8장. 컨볼루션을 활용한 일반화\n",
        "\n",
        "앞서 7장에서는 선형 계층에 존재하는 최적화를 위해 활용 가능한 여러 파라미터의 도움으로 데이터에 맞춘(혹은 과적합된) 단순 신경망을 만들었다.\n",
        "* 일반화를 강제하기 위해 훈련 데이터를 증강시켜도 너무 많은 파라미터가 필요하다.\n",
        "* 더 나은 방법은, 신경망에서 완전 연결된 아핀 변환 유닛을 또 다른 선형 연산인 컨볼루션으로 바꾸는 것이다."
      ],
      "metadata": {
        "id": "lbWyI53upZso"
      }
    },
    {
      "cell_type": "code",
      "source": [
        "!git clone https://github.com/deep-learning-with-pytorch/dlwpt-code"
      ],
      "metadata": {
        "colab": {
          "base_uri": "https://localhost:8080/"
        },
        "id": "EmVu9_rmsnFJ",
        "outputId": "2cccd17b-2f44-4323-fa9a-81dd7c460cc7"
      },
      "execution_count": 1,
      "outputs": [
        {
          "output_type": "stream",
          "name": "stdout",
          "text": [
            "Cloning into 'dlwpt-code'...\n",
            "remote: Enumerating objects: 703, done.\u001b[K\n",
            "remote: Total 703 (delta 0), reused 0 (delta 0), pack-reused 703\u001b[K\n",
            "Receiving objects: 100% (703/703), 176.00 MiB | 24.67 MiB/s, done.\n",
            "Resolving deltas: 100% (309/309), done.\n",
            "Checking out files: 100% (228/228), done.\n"
          ]
        }
      ]
    },
    {
      "cell_type": "markdown",
      "source": [
        "## 8.1 컨볼루션\n",
        "\n",
        "* 하늘을 나는 비행기 같은 물체와 일치하는 패턴을 인지하려면 인근 픽셀의 배열 방식을 살펴봐야 한다.\n",
        "* 서로 멀리 떨어져 있는 픽셀들을 연결해가며 어떻게 보이는지 확인하는 데에는 관심이 없다.  \n",
        "\n",
        "**즉, 스핏파이어가 등장하는 이미지에 나무나 구름 혹은 연 같은 물체가 구석에 있는지 관심이 없다는 뜻이다.**\n",
        "\n",
        "* 이 개념을 수학적인 형태로 바꾸려면 이미지 내의 다른 픽셀이 아닌 바로 옆 픽셀에 대한 가중치의 합을 계산하면 된다.  \n",
        "* 센터가 되는 픽셀에서 일정 거리 이상 떨어진 경우 가중치가 0이 된다고 생각하면 된다.\n"
      ],
      "metadata": {
        "id": "wyGAuBPIplRP"
      }
    },
    {
      "cell_type": "markdown",
      "source": [
        "### 8.1.1 컨볼루션의 역할\n",
        "\n",
        "`평행이동 불변성(translate invariance)`은 지역화된 패턴이 이미지의 어떤 위치에 있더라도 동일하게 출력에 영향을 주는 성질이다.\n",
        "이미지를 벡터처럼 다루려고 만들었던 행렬로 이러한 효과를 내려면 다소 복잡한 가중치 패턴을 구현해야 한다.  \n",
        "* 따라서, 같은 값으로 초기화해야 하며 가중치가 훈련을 통해 업데이트시 영향을 받지 않아야 한다는 의미다. \n",
        "\n",
        "\n",
        "이미지에 대해 `지역적인`, `평행이동 불변성`을 보장하는 선형 연산도 이미 존재하는데 `컨볼루션(convolution)` 이다.   \n",
        "정확하게 말하자면 `이산 컨볼루션(discrete convolution)`은 2차원 이미지에 가중치 행렬을 스칼라곱을 수행하는 것으로 정의한다. 가중치 행렬은 `커널(kernel)`이라 부르며 입력의 모든 이웃에 대해 수행한다.\n",
        "\n",
        "\n",
        "*`지역성(locality)` 이동된 커널과 이미지(커널 밖은 0의 값을 가짐)의 스칼라곱이다.*\n",
        "\n",
        "### 컨볼루션 사용시\n",
        "* 주의 영역에 대한 지역 연산을 할 수 있고\n",
        "* 평행이동 불변성을 가지며\n",
        "* 더 적은 파라미터를 사용한다."
      ],
      "metadata": {
        "id": "eradDwyhp6pP"
      }
    },
    {
      "cell_type": "markdown",
      "source": [
        "## 8.2 컨볼루션 사용해보기\n",
        "\n",
        "torch.nn 모듈은 1, 2, 3차원에 대한 컨볼루션을 제공한다.  \n",
        "* nn.Conv1d는 시계열용\n",
        "* nn.Conv2d는 이미지용\n",
        "* nn.Conv3d는 용적 데이터나 동영상용\n",
        "\n",
        "**nn.Conv2d(최소 입력 피처 수, 출력 피처 수, 커널의 크기)**\n",
        "* 최소 입력 피처 수: 픽셀 하나당 둘 이상의 값을 가지는 `멀티채널` 이미지의 경우 `채널` 정보  \n",
        "* 출력 피처 수: 출력 이미지가 더 많은 채널을 가질수록 신경망의 용량도 커짐\n",
        "* 커널의 크기: 일반적으로 모든 방향으로 동일하게 만듬\n",
        "    * 2차원 컨볼루션 -> 3X3\n",
        "    * 3차원 컨볼루션 -> 3X3X3\n",
        "    * 2부에서 살펴볼 CT 스캔 데이터는 세 개의 축 중 하나가 다른 Voxel(3D)화소임"
      ],
      "metadata": {
        "id": "XyYpkeRgp9Lv"
      }
    },
    {
      "cell_type": "code",
      "source": [
        "import torch\n",
        "import torch.nn as nn\n",
        "import torch.nn.functional as F\n",
        "\n",
        "# 입력 피처 수 -> 3 (RGB 채널을 가지니 픽셀당 3개의 입력 피처)\n",
        "# 출력 피처 수 -> 16 (임의로 16을 전달/ 출력 이미지가 더 많은 채널을 가질수록 신경망의 용량도 커짐)\n",
        "# 커널의 크기 \n",
        "\n",
        "conv = nn.Conv2d(3, 16, kernel_size=3)  # kernel_size=(3, 3)을 전달해도 동일한 효과\n",
        "conv"
      ],
      "metadata": {
        "colab": {
          "base_uri": "https://localhost:8080/"
        },
        "id": "5_UHBK3aqxG4",
        "outputId": "6e36cdb4-8c03-4c25-e615-5ba56b3956d2"
      },
      "execution_count": 2,
      "outputs": [
        {
          "output_type": "execute_result",
          "data": {
            "text/plain": [
              "Conv2d(3, 16, kernel_size=(3, 3), stride=(1, 1))"
            ]
          },
          "metadata": {},
          "execution_count": 2
        }
      ]
    },
    {
      "cell_type": "markdown",
      "source": [
        "전체 가중치 텐서는 `out_chXin_chX3X3` -> 즉, 16X3X3X3"
      ],
      "metadata": {
        "id": "VpPHtoE-VCd5"
      }
    },
    {
      "cell_type": "code",
      "source": [
        "conv.weight.shape, conv.bias.shape"
      ],
      "metadata": {
        "colab": {
          "base_uri": "https://localhost:8080/"
        },
        "id": "k_ohMsQ5sLdY",
        "outputId": "680b64a4-0396-4762-ecd3-57d3eacb7593"
      },
      "execution_count": 3,
      "outputs": [
        {
          "output_type": "execute_result",
          "data": {
            "text/plain": [
              "(torch.Size([16, 3, 3, 3]), torch.Size([16]))"
            ]
          },
          "metadata": {},
          "execution_count": 3
        }
      ]
    },
    {
      "cell_type": "code",
      "source": [
        "from torchvision import datasets, transforms\n",
        "\n",
        "data_path = '/content/dlwpt-code/p1ch7'\n",
        "cifar10 = datasets.CIFAR10(data_path, train=True, download=True, transform=transforms.ToTensor())\n",
        "cifar10_val = datasets.CIFAR10(data_path, train=False, download=True, transform=transforms.ToTensor())"
      ],
      "metadata": {
        "colab": {
          "base_uri": "https://localhost:8080/",
          "height": 124,
          "referenced_widgets": [
            "750391126a11440893bb57bb134784b3",
            "dd1b5adc7eb94fdaa150db80168da953",
            "3b884a5356564ca48f1c87a7cda02ad1",
            "adc469e5466743479450c3e276451186",
            "2b73146e92784371a1ae7ee66e867c9c",
            "39c11a0c9a7b45bda295b57d2027b2eb",
            "ffb5d70df96541e49aa00e4ef37c7a8d",
            "335affc043b64c8bb91a12c3d1b98ce6",
            "8c8c18d64a0242f1a46c7b7d9b9ff401",
            "9bb8414e3eca4127bead21dbac2fa29b",
            "769be74b1a524ce88c40a4a80176e39b"
          ]
        },
        "id": "iXiDQI0RstsY",
        "outputId": "134c1c0d-7569-4820-9130-fbcdf7fe9895"
      },
      "execution_count": 4,
      "outputs": [
        {
          "output_type": "stream",
          "name": "stdout",
          "text": [
            "Downloading https://www.cs.toronto.edu/~kriz/cifar-10-python.tar.gz to /content/dlwpt-code/p1ch7/cifar-10-python.tar.gz\n"
          ]
        },
        {
          "output_type": "display_data",
          "data": {
            "text/plain": [
              "  0%|          | 0/170498071 [00:00<?, ?it/s]"
            ],
            "application/vnd.jupyter.widget-view+json": {
              "version_major": 2,
              "version_minor": 0,
              "model_id": "750391126a11440893bb57bb134784b3"
            }
          },
          "metadata": {}
        },
        {
          "output_type": "stream",
          "name": "stdout",
          "text": [
            "Extracting /content/dlwpt-code/p1ch7/cifar-10-python.tar.gz to /content/dlwpt-code/p1ch7\n",
            "Files already downloaded and verified\n"
          ]
        }
      ]
    },
    {
      "cell_type": "markdown",
      "source": [
        "2차원 컨볼루션 전달은 2차원 이미지를 출력한다.\n",
        "출력 픽셀은 입력 이미지의 각 이웃 데이터에 대한 가중치 합니다.\n",
        "커널 가중치와 편향값 conv.weight가 랜덤으로 초기화된다.\n",
        "* 따라서, 출력 이미지 자체가 특별한 의미를 갖지 않는다.\n",
        "\n",
        "하나의 입력 이미지로 conv 모듈을 호출하려면 nn.Conv2d는 입력으로 BXCXHXW를 받으므로 통상 0번째 차원은 unsqueeze를 통해 배치 차원으로 사용된다."
      ],
      "metadata": {
        "id": "neZ33XlNWHr5"
      }
    },
    {
      "cell_type": "markdown",
      "source": [
        "```python\n",
        ">>> x = torch.tensor([1, 2, 3, 4])\n",
        ">>> torch.unsqueeze(x, 0)\n",
        "tensor([[ 1,  2,  3,  4]])\n",
        ">>> torch.unsqueeze(x, 1)\n",
        "tensor([[ 1],\n",
        "        [ 2],\n",
        "        [ 3],\n",
        "        [ 4]])\n",
        "```"
      ],
      "metadata": {
        "id": "xt1Mb8tuXfQy"
      }
    },
    {
      "cell_type": "code",
      "source": [
        "import torch.optim as optim\n",
        "\n",
        "label_map = {0: 0, 2: 1}\n",
        "class_names = ['airplane', 'bird']\n",
        "cifar2 = [(img, label_map[label])\n",
        "          for img, label in cifar10\n",
        "          if label in [0, 2]]\n",
        "cifar2_val = [(img, label_map[label])\n",
        "              for img, label in cifar10_val\n",
        "              if label in [0, 2]]\n",
        "\n",
        "img, _ = cifar2[0]\n",
        "output = conv(img.unsqueeze(0))\n",
        "\n",
        "# 출력 이미지 자체가 특별한 의미를 갖지 않음/ 출력 이미지 -> 1\n",
        "img.unsqueeze(0).shape, output.shape"
      ],
      "metadata": {
        "colab": {
          "base_uri": "https://localhost:8080/"
        },
        "id": "-9MDZv3rWEpK",
        "outputId": "721925cf-bc87-45e2-bd44-85a3920b843d"
      },
      "execution_count": 5,
      "outputs": [
        {
          "output_type": "execute_result",
          "data": {
            "text/plain": [
              "(torch.Size([1, 3, 32, 32]), torch.Size([1, 16, 30, 30]))"
            ]
          },
          "metadata": {},
          "execution_count": 5
        }
      ]
    },
    {
      "cell_type": "code",
      "source": [
        "import matplotlib.pyplot as plt\n",
        "\n",
        "fig = plt.figure(figsize=(9, 3))\n",
        "\n",
        "ax1 = plt.subplot(121)\n",
        "ax2 = plt.subplot(122)\n",
        "ax1.imshow(output[0, 0].detach(), cmap='gray')\n",
        "ax1.title.set_text('OUTPUT IN RANDOM CONVALUTION')\n",
        "ax2.imshow(img.permute(1, 2, 0)[:, :, 0], cmap='gray')\n",
        "ax2.title.set_text('INPUT')\n",
        "plt.show()"
      ],
      "metadata": {
        "colab": {
          "base_uri": "https://localhost:8080/",
          "height": 227
        },
        "id": "H5esbtQEZa3K",
        "outputId": "572ef540-3c15-4c98-b142-d8cccb6b5ce1"
      },
      "execution_count": 6,
      "outputs": [
        {
          "output_type": "display_data",
          "data": {
            "text/plain": [
              "<Figure size 648x216 with 2 Axes>"
            ],
            "image/png": "[encoded data removed]"
          },
          "metadata": {
            "needs_background": "light"
          }
        }
      ]
    },
    {
      "cell_type": "markdown",
      "source": [
        "### 8.2.1  경계 패딩하기\n",
        "\n",
        "컨볼루션에서 `패딩`을 사용하는 이유\n",
        "* 패딩을 통해서 컨볼루션과 이미지 크기 변경 문제는 별도로 분리해 기억해야 하는 사항을 하나 줄이는 데 도움을 줌\n",
        "* 컨볼루션 구조 자체에 더 신경쓸 수 있음"
      ],
      "metadata": {
        "id": "4fl8-P7uqMDX"
      }
    },
    {
      "cell_type": "code",
      "source": [
        "conv = nn.Conv2d(3, 1, kernel_size=3, padding=1)  # 패딩시킴\n",
        "output = conv(img.unsqueeze(0))\n",
        "img.unsqueeze(0).shape, output.shape"
      ],
      "metadata": {
        "id": "HR4VuzlMq1JJ",
        "colab": {
          "base_uri": "https://localhost:8080/"
        },
        "outputId": "104834b1-e277-44d8-9e99-9f713a6064fa"
      },
      "execution_count": 7,
      "outputs": [
        {
          "output_type": "execute_result",
          "data": {
            "text/plain": [
              "(torch.Size([1, 3, 32, 32]), torch.Size([1, 1, 32, 32]))"
            ]
          },
          "metadata": {},
          "execution_count": 7
        }
      ]
    },
    {
      "cell_type": "markdown",
      "source": [
        "### 8.2.2  컨볼루션으로 피처 찾아내기\n",
        "\n",
        "weight와 bias는 역전파를 통해 학습되는 파라미터라고 배웠다. 정확하게는 nn.Linear에서 일어난다. 하지만, 이와 다르게 직접 가중치를 설정해서 컨볼루션에서 어떤 일이 일어나는지 알아볼 수도 있다.\n",
        "\n",
        "* 먼저 bias를 0으로 제거해 `교란 변수`를 배제하자.\n",
        "* 가중치에 상수값을 넣어서 출력의 각 픽셀이 자신의 이웃 픽셀에 대한 평균을 가지게 해보자.\n"
      ],
      "metadata": {
        "id": "DMB7OfgtqQUf"
      }
    },
    {
      "cell_type": "code",
      "source": [
        "with torch.no_grad():\n",
        "    conv.bias.zero_()\n",
        "\n",
        "with torch.no_grad():\n",
        "    conv.weight.fill_(1.0/9.0)"
      ],
      "metadata": {
        "id": "LwJmabcXq1kx"
      },
      "execution_count": 8,
      "outputs": []
    },
    {
      "cell_type": "code",
      "source": [
        "output = conv(img.unsqueeze(0))\n",
        "plt.imshow(output[0, 0].detach(), cmap='gray')\n",
        "plt.show()"
      ],
      "metadata": {
        "colab": {
          "base_uri": "https://localhost:8080/",
          "height": 266
        },
        "id": "RpRssbuffUQP",
        "outputId": "f63ca058-3dd8-4edf-88a6-484c4058487c"
      },
      "execution_count": 9,
      "outputs": [
        {
          "output_type": "display_data",
          "data": {
            "text/plain": [
              "<Figure size 432x288 with 1 Axes>"
            ],
            "image/png": "[encoded data removed]"
          },
          "metadata": {
            "needs_background": "light"
          }
        }
      ]
    },
    {
      "cell_type": "markdown",
      "source": [
        "아래 이미지가 흐려졌다. 각 출력 픽셀은 자신의 주변 픽셀에 대한 평균이기 때문에 출력 픽셀에서 이러한 상관관계를 반영해 픽셀 간의 변화가 부드러워졌다."
      ],
      "metadata": {
        "id": "m7fDlpidfn7W"
      }
    },
    {
      "cell_type": "code",
      "source": [
        "conv = nn.Conv2d(3, 1, kernel_size=3, padding=1)\n",
        "\n",
        "with torch.no_grad():\n",
        "    conv.weight[:] = torch.tensor([[-1.0, 0.0, 1.0],\n",
        "                                   [-1.0, 0.0, 1.0],\n",
        "                                   [-1.0, 0.0, 1.0]])\n",
        "    conv.bias.zero_()"
      ],
      "metadata": {
        "id": "HNptBrIfhQUW"
      },
      "execution_count": 10,
      "outputs": []
    },
    {
      "cell_type": "code",
      "source": [
        "import matplotlib.pyplot as plt\n",
        "\n",
        "output = conv(img.unsqueeze(0))\n",
        "\n",
        "fig = plt.figure(figsize=(9, 3))\n",
        "\n",
        "ax1 = plt.subplot(121)\n",
        "ax2 = plt.subplot(122)\n",
        "ax1.imshow(output[0, 0].detach(), cmap='gray')\n",
        "ax1.title.set_text('OUTPUT')\n",
        "ax2.imshow(img.permute(1, 2, 0)[:, :, 0], cmap='gray')\n",
        "ax2.title.set_text('INPUT')\n",
        "plt.show()"
      ],
      "metadata": {
        "colab": {
          "base_uri": "https://localhost:8080/",
          "height": 227
        },
        "id": "jQoGxBPmjl9m",
        "outputId": "f87489ad-3d9f-495a-fa4a-a531f738e3a3"
      },
      "execution_count": 11,
      "outputs": [
        {
          "output_type": "display_data",
          "data": {
            "text/plain": [
              "<Figure size 648x216 with 2 Axes>"
            ],
            "image/png": "[encoded data removed]"
          },
          "metadata": {
            "needs_background": "light"
          }
        }
      ]
    },
    {
      "cell_type": "markdown",
      "source": [
        "### 8.2.3  깊이와 풀링으로 한 단계 더 인식하기\n",
        "\n",
        "큰 이미지에서 작은 이미지로: 다운샘플링\n",
        "* `네 개의 픽셀을 평균하기`: 초기에는 이와 같은 **평균 풀링**average pooling이라는 방법이 일반적이었는데 요즘은 잘 사용하지 않는다.\n",
        "* `네 개의 픽셀 중 최댓값`: **맥스 풀링**max pooling이라 불리는 이와 같은 접근 방법은 오늘날 가장 널리 사용되지만, 데이터의 4분의 3을 버린다는 단점이 있다.\n",
        "* `스트라이드하며 컨볼루션을 수행하되 n번째 픽셀만 계산하기`: 3X4 컨볼루션을 스트라이드 2로 실행하면 이전 계층의 모든 픽셀을 포함한되. 이 방식의 가능성을 보여주는 논문이 있지만 아직 맥스 풀링을 대체할 정도는 아니다."
      ],
      "metadata": {
        "id": "ibsb_J1oqW_I"
      }
    },
    {
      "cell_type": "code",
      "source": [
        "pool = nn.MaxPool2d(2)  # 컨볼루션과 마찬가지로 1차원과 3차원 데이터를 위한 버전도 있다.\n",
        "output = pool(img.unsqueeze(0))\n",
        "\n",
        "img.unsqueeze(0).shape, output.shape"
      ],
      "metadata": {
        "id": "puQvbaGsp6JP",
        "colab": {
          "base_uri": "https://localhost:8080/"
        },
        "outputId": "20921a9f-4245-45cf-b71d-b686c82d1a42"
      },
      "execution_count": 12,
      "outputs": [
        {
          "output_type": "execute_result",
          "data": {
            "text/plain": [
              "(torch.Size([1, 3, 32, 32]), torch.Size([1, 3, 16, 16]))"
            ]
          },
          "metadata": {},
          "execution_count": 12
        }
      ]
    },
    {
      "cell_type": "markdown",
      "source": [
        "### 8.2.4  우리의 신경망에 적용하기"
      ],
      "metadata": {
        "id": "Yxnw-htHqdFw"
      }
    },
    {
      "cell_type": "markdown",
      "source": [
        "우리가 지금 만들고 있는 전형적인 컨볼루션 신경망의 모양.\n",
        "* 이미지가 여러 개의 연속적인 컨볼루션과 맥스 풀링 모듈을 거친 후 1차원 벡터로 나열되고 이내 완전 연결 모듈로 들어간다."
      ],
      "metadata": {
        "id": "2PaUEQfEg0BN"
      }
    },
    {
      "cell_type": "code",
      "source": [
        "model = nn.Sequential(\n",
        "            nn.Conv2d(3, 16, kernel_size=3, padding=1),\n",
        "            nn.Tanh(),\n",
        "            nn.MaxPool2d(2),\n",
        "            nn.Conv2d(16, 8, kernel_size=3, padding=1),\n",
        "            nn.Tanh(),\n",
        "            nn.MaxPool2d(2),\n",
        "            # ... 8채널의 8X8 이미지를 1차원 벡터로 바꿔서 완전 연결 계층으로 신경망을 마무리해야 함.\n",
        "            nn.Linear(8*8*8, 32),\n",
        "            nn.Tanh(),\n",
        "            nn.Linear(32, 2),       \n",
        ")"
      ],
      "metadata": {
        "id": "lZ1w2GjcqiL3"
      },
      "execution_count": 13,
      "outputs": []
    },
    {
      "cell_type": "code",
      "source": [
        "numel_list = [p.numel() for p in model.parameters()]\n",
        "sum(numel_list), numel_list"
      ],
      "metadata": {
        "colab": {
          "base_uri": "https://localhost:8080/"
        },
        "id": "njGTVh-3cqts",
        "outputId": "c8d4ea92-00e8-4c04-bf32-a4e996ad5d9c"
      },
      "execution_count": 14,
      "outputs": [
        {
          "output_type": "execute_result",
          "data": {
            "text/plain": [
              "(18090, [432, 16, 1152, 8, 16384, 32, 64, 2])"
            ]
          },
          "metadata": {},
          "execution_count": 14
        }
      ]
    },
    {
      "cell_type": "code",
      "source": [
        "model(img.unsqueeze(0))  # 경고"
      ],
      "metadata": {
        "colab": {
          "base_uri": "https://localhost:8080/",
          "height": 327
        },
        "id": "mX5vc2d2cqpi",
        "outputId": "2ef7e053-1c8f-4c17-f4cd-5f23c79345f4"
      },
      "execution_count": 15,
      "outputs": [
        {
          "output_type": "error",
          "ename": "RuntimeError",
          "evalue": "ignored",
          "traceback": [
            "\u001b[0;31m---------------------------------------------------------------------------\u001b[0m",
            "\u001b[0;31mRuntimeError\u001b[0m                              Traceback (most recent call last)",
            "\u001b[0;32m<ipython-input-15-0fa55a068d82>\u001b[0m in \u001b[0;36m<module>\u001b[0;34m\u001b[0m\n\u001b[0;32m----> 1\u001b[0;31m \u001b[0mmodel\u001b[0m\u001b[0;34m(\u001b[0m\u001b[0mimg\u001b[0m\u001b[0;34m.\u001b[0m\u001b[0munsqueeze\u001b[0m\u001b[0;34m(\u001b[0m\u001b[0;36m0\u001b[0m\u001b[0;34m)\u001b[0m\u001b[0;34m)\u001b[0m  \u001b[0;31m# 경고\u001b[0m\u001b[0;34m\u001b[0m\u001b[0;34m\u001b[0m\u001b[0m\n\u001b[0m",
            "\u001b[0;32m/usr/local/lib/python3.8/dist-packages/torch/nn/modules/module.py\u001b[0m in \u001b[0;36m_call_impl\u001b[0;34m(self, *input, **kwargs)\u001b[0m\n\u001b[1;32m   1188\u001b[0m         if not (self._backward_hooks or self._forward_hooks or self._forward_pre_hooks or _global_backward_hooks\n\u001b[1;32m   1189\u001b[0m                 or _global_forward_hooks or _global_forward_pre_hooks):\n\u001b[0;32m-> 1190\u001b[0;31m             \u001b[0;32mreturn\u001b[0m \u001b[0mforward_call\u001b[0m\u001b[0;34m(\u001b[0m\u001b[0;34m*\u001b[0m\u001b[0minput\u001b[0m\u001b[0;34m,\u001b[0m \u001b[0;34m**\u001b[0m\u001b[0mkwargs\u001b[0m\u001b[0;34m)\u001b[0m\u001b[0;34m\u001b[0m\u001b[0;34m\u001b[0m\u001b[0m\n\u001b[0m\u001b[1;32m   1191\u001b[0m         \u001b[0;31m# Do not call functions when jit is used\u001b[0m\u001b[0;34m\u001b[0m\u001b[0;34m\u001b[0m\u001b[0;34m\u001b[0m\u001b[0m\n\u001b[1;32m   1192\u001b[0m         \u001b[0mfull_backward_hooks\u001b[0m\u001b[0;34m,\u001b[0m \u001b[0mnon_full_backward_hooks\u001b[0m \u001b[0;34m=\u001b[0m \u001b[0;34m[\u001b[0m\u001b[0;34m]\u001b[0m\u001b[0;34m,\u001b[0m \u001b[0;34m[\u001b[0m\u001b[0;34m]\u001b[0m\u001b[0;34m\u001b[0m\u001b[0;34m\u001b[0m\u001b[0m\n",
            "\u001b[0;32m/usr/local/lib/python3.8/dist-packages/torch/nn/modules/container.py\u001b[0m in \u001b[0;36mforward\u001b[0;34m(self, input)\u001b[0m\n\u001b[1;32m    202\u001b[0m     \u001b[0;32mdef\u001b[0m \u001b[0mforward\u001b[0m\u001b[0;34m(\u001b[0m\u001b[0mself\u001b[0m\u001b[0;34m,\u001b[0m \u001b[0minput\u001b[0m\u001b[0;34m)\u001b[0m\u001b[0;34m:\u001b[0m\u001b[0;34m\u001b[0m\u001b[0;34m\u001b[0m\u001b[0m\n\u001b[1;32m    203\u001b[0m         \u001b[0;32mfor\u001b[0m \u001b[0mmodule\u001b[0m \u001b[0;32min\u001b[0m \u001b[0mself\u001b[0m\u001b[0;34m:\u001b[0m\u001b[0;34m\u001b[0m\u001b[0;34m\u001b[0m\u001b[0m\n\u001b[0;32m--> 204\u001b[0;31m             \u001b[0minput\u001b[0m \u001b[0;34m=\u001b[0m \u001b[0mmodule\u001b[0m\u001b[0;34m(\u001b[0m\u001b[0minput\u001b[0m\u001b[0;34m)\u001b[0m\u001b[0;34m\u001b[0m\u001b[0;34m\u001b[0m\u001b[0m\n\u001b[0m\u001b[1;32m    205\u001b[0m         \u001b[0;32mreturn\u001b[0m \u001b[0minput\u001b[0m\u001b[0;34m\u001b[0m\u001b[0;34m\u001b[0m\u001b[0m\n\u001b[1;32m    206\u001b[0m \u001b[0;34m\u001b[0m\u001b[0m\n",
            "\u001b[0;32m/usr/local/lib/python3.8/dist-packages/torch/nn/modules/module.py\u001b[0m in \u001b[0;36m_call_impl\u001b[0;34m(self, *input, **kwargs)\u001b[0m\n\u001b[1;32m   1188\u001b[0m         if not (self._backward_hooks or self._forward_hooks or self._forward_pre_hooks or _global_backward_hooks\n\u001b[1;32m   1189\u001b[0m                 or _global_forward_hooks or _global_forward_pre_hooks):\n\u001b[0;32m-> 1190\u001b[0;31m             \u001b[0;32mreturn\u001b[0m \u001b[0mforward_call\u001b[0m\u001b[0;34m(\u001b[0m\u001b[0;34m*\u001b[0m\u001b[0minput\u001b[0m\u001b[0;34m,\u001b[0m \u001b[0;34m**\u001b[0m\u001b[0mkwargs\u001b[0m\u001b[0;34m)\u001b[0m\u001b[0;34m\u001b[0m\u001b[0;34m\u001b[0m\u001b[0m\n\u001b[0m\u001b[1;32m   1191\u001b[0m         \u001b[0;31m# Do not call functions when jit is used\u001b[0m\u001b[0;34m\u001b[0m\u001b[0;34m\u001b[0m\u001b[0;34m\u001b[0m\u001b[0m\n\u001b[1;32m   1192\u001b[0m         \u001b[0mfull_backward_hooks\u001b[0m\u001b[0;34m,\u001b[0m \u001b[0mnon_full_backward_hooks\u001b[0m \u001b[0;34m=\u001b[0m \u001b[0;34m[\u001b[0m\u001b[0;34m]\u001b[0m\u001b[0;34m,\u001b[0m \u001b[0;34m[\u001b[0m\u001b[0;34m]\u001b[0m\u001b[0;34m\u001b[0m\u001b[0;34m\u001b[0m\u001b[0m\n",
            "\u001b[0;32m/usr/local/lib/python3.8/dist-packages/torch/nn/modules/linear.py\u001b[0m in \u001b[0;36mforward\u001b[0;34m(self, input)\u001b[0m\n\u001b[1;32m    112\u001b[0m \u001b[0;34m\u001b[0m\u001b[0m\n\u001b[1;32m    113\u001b[0m     \u001b[0;32mdef\u001b[0m \u001b[0mforward\u001b[0m\u001b[0;34m(\u001b[0m\u001b[0mself\u001b[0m\u001b[0;34m,\u001b[0m \u001b[0minput\u001b[0m\u001b[0;34m:\u001b[0m \u001b[0mTensor\u001b[0m\u001b[0;34m)\u001b[0m \u001b[0;34m->\u001b[0m \u001b[0mTensor\u001b[0m\u001b[0;34m:\u001b[0m\u001b[0;34m\u001b[0m\u001b[0;34m\u001b[0m\u001b[0m\n\u001b[0;32m--> 114\u001b[0;31m         \u001b[0;32mreturn\u001b[0m \u001b[0mF\u001b[0m\u001b[0;34m.\u001b[0m\u001b[0mlinear\u001b[0m\u001b[0;34m(\u001b[0m\u001b[0minput\u001b[0m\u001b[0;34m,\u001b[0m \u001b[0mself\u001b[0m\u001b[0;34m.\u001b[0m\u001b[0mweight\u001b[0m\u001b[0;34m,\u001b[0m \u001b[0mself\u001b[0m\u001b[0;34m.\u001b[0m\u001b[0mbias\u001b[0m\u001b[0;34m)\u001b[0m\u001b[0;34m\u001b[0m\u001b[0;34m\u001b[0m\u001b[0m\n\u001b[0m\u001b[1;32m    115\u001b[0m \u001b[0;34m\u001b[0m\u001b[0m\n\u001b[1;32m    116\u001b[0m     \u001b[0;32mdef\u001b[0m \u001b[0mextra_repr\u001b[0m\u001b[0;34m(\u001b[0m\u001b[0mself\u001b[0m\u001b[0;34m)\u001b[0m \u001b[0;34m->\u001b[0m \u001b[0mstr\u001b[0m\u001b[0;34m:\u001b[0m\u001b[0;34m\u001b[0m\u001b[0;34m\u001b[0m\u001b[0m\n",
            "\u001b[0;31mRuntimeError\u001b[0m: mat1 and mat2 shapes cannot be multiplied (64x8 and 512x32)"
          ]
        }
      ]
    },
    {
      "cell_type": "markdown",
      "source": [
        "모델을 살펴보면 512X32 텐서를 가지는 모듈은 마지막 컨볼루션 블럭 다음에 오는 첫째 선형 모듈인 nn.Linear(512, 32)뿐이다.  \n",
        "* 하나 깜빡한 부분은 8채널의 8X8 이미지를, 512요소를 가진 1차원 벡터로 차원 정보를 변경해야하는 부분이다.\n",
        "* 마지막 nn.MaxPool2d의 출력에 대해 view를 호출하면 해결할 수 있다.\n",
        "* `nn.Sequential을 사용할 때는 각 모듈의 출력을 명시적으로 볼 수 없다.`"
      ],
      "metadata": {
        "id": "lYdqgiEskj8g"
      }
    },
    {
      "cell_type": "markdown",
      "source": [
        "## 8.3 nn.Module 서브클래싱하기"
      ],
      "metadata": {
        "id": "VxGbO4t_lb0e"
      }
    },
    {
      "cell_type": "markdown",
      "source": [
        "신경망 개발하다 보면 기존에 만들어진 모듈에서 지원하지 않는 연산이 필요할 떄가 있다.\n",
        "* 차원 정보 변경, 잔차 연결 구현\n",
        "* `nn.Module`의 서브클래스를 직접 만드는 법을 배워서 이미 만들어져 있는 것이나 `nn.Sequential`처럼 사용할 수 있게 할 예정\n",
        "\n",
        "nn.Module을 서브클래싱하기\n",
        "1. 먼저 forward 함수를 정의하여 모듈로 입력을 전달하고 출력을 반환하게 해야 함\n",
        "2. 파이토치에서는 표준 torch 연산을 사용하기만 한다면 자동미분 기능이 자동으로 역방향 경로를 만들어준다. (nn.Module에는 backward가 필요 없다.)\n",
        "3. 우리가 만들 연산도 결국 컨볼루션 같은 이미 있는 모듈이나 커스텀 모듈을 사용한다.\n",
        "4. 서브모듈을 포함하려면 생성자 __init__에 정의하고 self에 할당해서 forward 함수에서 사용할 수 있게 만들어야 한다.\n",
        "5. 모든 코드에 앞서 super().__init__()을 호출해야 함을 잊지 말자. "
      ],
      "metadata": {
        "id": "2XaPcU5xlpII"
      }
    },
    {
      "cell_type": "markdown",
      "source": [
        "### 8.3.1 nn.Module로 정의된 우리의 신경망"
      ],
      "metadata": {
        "id": "ZwX0NbuYnvff"
      }
    },
    {
      "cell_type": "markdown",
      "source": [
        "self.pool3의 출력을 직접 조작해서 view를 통해 BXN 벡터로 만들 수 있다."
      ],
      "metadata": {
        "id": "SX4NK_fZpry6"
      }
    },
    {
      "cell_type": "code",
      "source": [
        "class Net(nn.Module):\n",
        "    def __init__(self):\n",
        "        super().__init__()\n",
        "        self.conv1 = nn.Conv2d(3, 16, kernel_size=3, padding=1)\n",
        "        self.act1 = nn.Tanh()\n",
        "        self.pool1 = nn.MaxPool2d(2)\n",
        "        self.conv2 = nn.Conv2d(16, 8, kernel_size=3, padding=1)\n",
        "        self.act2 = nn.Tanh()\n",
        "        self.pool2 = nn.MaxPool2d(2)\n",
        "        self.fc1 = nn.Linear(8*8*8, 32)\n",
        "        self.act3 = nn.Tanh()\n",
        "        self.fc2 = nn.Linear(32, 2)\n",
        "\n",
        "    def forward(self, x):\n",
        "        out = self.pool1(self.act1(self.conv1))\n",
        "        out = self.pool2(self.act2(self.conv2))\n",
        "        out = out.view(-1, 8*8*8)  # view(512D)\n",
        "        out = self.act3(self.fc1(out))  # Linear(512D -> 32D) -> Tanh\n",
        "        out = self.fc2(out)  # OUTPUT 2D\n",
        "        return out"
      ],
      "metadata": {
        "id": "03Dq5nB-cqnc"
      },
      "execution_count": 16,
      "outputs": []
    },
    {
      "cell_type": "markdown",
      "source": [
        "### 8.3.2 파이토치가 파라미터와 서브모듈을 유지하는 방법"
      ],
      "metadata": {
        "id": "VzDERxQ8rEry"
      }
    },
    {
      "cell_type": "code",
      "source": [
        "model = Net()\n",
        "\n",
        "numel_list = [p.numel() for p in model.parameters()]\n",
        "sum(numel_list), numel_list"
      ],
      "metadata": {
        "colab": {
          "base_uri": "https://localhost:8080/"
        },
        "id": "fvL10XRXcqj7",
        "outputId": "3f561fd1-ab3b-4a5a-d8a7-4084d420f249"
      },
      "execution_count": 17,
      "outputs": [
        {
          "output_type": "execute_result",
          "data": {
            "text/plain": [
              "(18090, [432, 16, 1152, 8, 16384, 32, 64, 2])"
            ]
          },
          "metadata": {},
          "execution_count": 17
        }
      ]
    },
    {
      "cell_type": "markdown",
      "source": [
        "### 8.3.3 함수형 API"
      ],
      "metadata": {
        "id": "FB-JACLTr_ci"
      }
    },
    {
      "cell_type": "markdown",
      "source": [
        "Net 클래스 구현을 되돌아보고 생성자에서 서브모듈을 등록하는 과정을 생각해보면 파라미터가 없는 nn.Tanh(), nn.MaxPool2d 같은 서브 모듈은 굳이 등록할 필요가 없을 것 같다. 이들은 view 호출처럼 그냥 forward 함수에서 직접 호출하는 게 더 쉽지 않을까?\n",
        "* 그런 이유로 파이토치는 모든 nn 모듈에 대한 함수형을 제공한다.\n",
        "* 여기서 '함수형'이란 내부 상태가 없다는 의미다. 즉. 출력값이 전적으로 입력 인자에 의존한다.\n",
        "\n",
        "예를 들어, nn.Linear의 함수형은 `nn.functional.linear`인데,   \n",
        "함수 시그니처가 `linear(input, weight, bias=None)`이다. 함수 인자로 weight와 bias가 넘어간다."
      ],
      "metadata": {
        "id": "mL7mr-gwsHsV"
      }
    },
    {
      "cell_type": "code",
      "source": [
        "import torch.nn.functional as F\n",
        "\n",
        "class Net(nn.Module):\n",
        "    def __init__(self):\n",
        "        super().__init__()\n",
        "        self.conv1 = nn.Conv2d(3, 16, kernel_size=3, padding=1)\n",
        "        self.conv2 = nn.Conv2d(16, 8, kernel_size=3, padding=1)    \n",
        "        self.fc1 = nn.Linear(8*8*8, 32)\n",
        "        self.fc2 = nn.Linear(32, 2)\n",
        "\n",
        "    def forward(self, x):\n",
        "        out = F.max_pool2d(torch.tanh(self.conv1(x)), 2)\n",
        "        out = F.max_pool2d(torch.tanh(self.conv2(out)), 2)\n",
        "        out = out.view(-1, 8*8*8)\n",
        "        out = torch.tanh(self.fc1(out))\n",
        "        out = self.fc2(out)\n",
        "        return out"
      ],
      "metadata": {
        "id": "QxiGMtpwcqc7"
      },
      "execution_count": 18,
      "outputs": []
    },
    {
      "cell_type": "code",
      "source": [
        "model = Net()\n",
        "model(img.unsqueeze(0))"
      ],
      "metadata": {
        "colab": {
          "base_uri": "https://localhost:8080/"
        },
        "id": "tHbSOiB0gTm9",
        "outputId": "f529c0cf-6b3c-4d09-aa3c-9c0c8a3b1caf"
      },
      "execution_count": 19,
      "outputs": [
        {
          "output_type": "execute_result",
          "data": {
            "text/plain": [
              "tensor([[ 0.0502, -0.0222]], grad_fn=<AddmmBackward0>)"
            ]
          },
          "metadata": {},
          "execution_count": 19
        }
      ]
    },
    {
      "cell_type": "markdown",
      "source": [
        "## 8.4 우리가 만든 컨볼루션 신경망 훈련시키기"
      ],
      "metadata": {
        "id": "xJEMS_Z0wwmZ"
      }
    },
    {
      "cell_type": "markdown",
      "source": [
        "우리가 만든 컨볼루션 신경망을 두 루프를 가지고 있다.   \n",
        "바깥 루프는 에포크 단위로 돌며, 안쪽 루프는 `Dataset`에서 배치를 만드는 `DataLoader` 단위로 돈다.  \n",
        "\n",
        "> 각 루프에서  \n",
        "    1. 모델에 입력값을 넣고(순방향 전달)\n",
        "    2. 손실값을 계산하고(마찬가지로 순방향 전달)  \n",
        "    3. 이전 기울기값을 0으로 리셋하고  \n",
        "    4. loss.backward()를 호출하여 모든 파라미터에 대한 손실값의 기울기를 계산한다(역방향 전달).  \n",
        "    5. 이후 옵티마이저를 통해 손실값을 낮추도록 파라미터를 조정한다."
      ],
      "metadata": {
        "id": "MjozJaWww5xP"
      }
    },
    {
      "cell_type": "code",
      "source": [
        "import datetime\n",
        "\n",
        "def training_loop(n_epochs, optimizer, model, loss_fn, train_loader):\n",
        "    for epoch in range(1, n_epochs + 1):\n",
        "        loss_train = 0.0\n",
        "        for imgs, labels in train_loader:\n",
        "\n",
        "            outputs = model(imgs)\n",
        "\n",
        "            loss = loss_fn(outputs, labels)\n",
        "\n",
        "            optimizer.zero_grad()\n",
        "\n",
        "            loss.backward()\n",
        "\n",
        "            optimizer.step()\n",
        "\n",
        "            loss_train += loss.item()\n",
        "\n",
        "    if epoch == 1 or epoch % 10 == 0:\n",
        "        print('{} Epoch {}, Training loss {}'.format(datetime.datetime.now(), epoch, loss_train / len(train_loader)))"
      ],
      "metadata": {
        "id": "yAl0RIwdgTk-"
      },
      "execution_count": 20,
      "outputs": []
    },
    {
      "cell_type": "code",
      "source": [
        "train_loader = torch.utils.data.DataLoader(cifar2, batch_size=64, shuffle=True)\n",
        "\n",
        "model = Net()\n",
        "optimizer = optim.SGD(model.parameters(), lr=1e-2)\n",
        "loss_fn = nn.CrossEntropyLoss()\n",
        "\n",
        "training_loop(\n",
        "    n_epochs = 100,\n",
        "    optimizer = optimizer,\n",
        "    model = model,\n",
        "    loss_fn = loss_fn,\n",
        "    train_loader = train_loader\n",
        ")"
      ],
      "metadata": {
        "id": "mtAYFQElgTc1",
        "colab": {
          "base_uri": "https://localhost:8080/"
        },
        "outputId": "00a4028c-fdea-4df5-c506-188f3f2f9f76"
      },
      "execution_count": 21,
      "outputs": [
        {
          "output_type": "stream",
          "name": "stdout",
          "text": [
            "2023-01-04 06:33:52.128896 Epoch 100, Training loss 0.22351231169738586\n"
          ]
        }
      ]
    },
    {
      "cell_type": "markdown",
      "source": [
        "### 8.4.1 정확도 측정\n",
        "손실값보다 해석하기 좋은 측정 방법으로 훈련셋과 검증셋을 통한 정확도 측정을 생각해볼 수 있다."
      ],
      "metadata": {
        "id": "6ZAmifdck6_c"
      }
    },
    {
      "cell_type": "code",
      "source": [
        "train_loader = torch.utils.data.DataLoader(cifar2, batch_size=64,\n",
        "                                           shuffle=False)\n",
        "val_loader = torch.utils.data.DataLoader(cifar2_val, batch_size=64,\n",
        "                                         shuffle=False)\n",
        "\n",
        "def validate(model, train_loader, val_loader):\n",
        "    for name, loader in [(\"train\", train_loader), (\"val\", val_loader)]:\n",
        "        correct = 0\n",
        "        total = 0\n",
        "\n",
        "        with torch.no_grad():  # <1>\n",
        "            for imgs, labels in loader:\n",
        "                outputs = model(imgs)\n",
        "                _, predicted = torch.max(outputs, dim=1)  # <2>\n",
        "                total += labels.shape[0]  # <3>\n",
        "                correct += int((predicted == labels).sum())  # <4>\n",
        "\n",
        "        print(\"Accuracy {}: {:.2f}\".format(name , correct / total))\n",
        "\n",
        "validate(model, train_loader, val_loader)"
      ],
      "metadata": {
        "id": "vvPe_UFjsEzx",
        "colab": {
          "base_uri": "https://localhost:8080/"
        },
        "outputId": "0fa941f1-d728-4504-e6c3-46e1ed26cd98"
      },
      "execution_count": 22,
      "outputs": [
        {
          "output_type": "stream",
          "name": "stdout",
          "text": [
            "Accuracy train: 0.91\n",
            "Accuracy val: 0.89\n"
          ]
        }
      ]
    },
    {
      "cell_type": "markdown",
      "source": [
        "* <1>: 파라미터를 업데이트하지 않을 것이므로 기울기는 필요없다.\n",
        "* <2>: 가장 높은 값을 가진 인덱스를 출력한다.\n",
        "* <3>: 예제 수를 세어서 total을 배치 크기만큼 증가시킨다.\n",
        "* <4>: 확률값이 가장 높았던 클래스의 레이블의 실측값을 비교하여 불리언 배열을 얻고, 예측값이 실측값에 맞는 경우가 배치에서 얼마나 나왔는지 세어 합한다."
      ],
      "metadata": {
        "id": "DQkwaNAPdZMy"
      }
    },
    {
      "cell_type": "markdown",
      "source": [
        "### 8.4.2 모델을 저장하고 불러오기"
      ],
      "metadata": {
        "id": "qRU0xgRnm47g"
      }
    },
    {
      "cell_type": "markdown",
      "source": [
        "model의 모든 파라미터를 pt형식으로 저장"
      ],
      "metadata": {
        "id": "qFpEdpf3nVEd"
      }
    },
    {
      "cell_type": "code",
      "source": [
        "torch.save(model.state_dict(), data_path + 'birds_vs_airplanes.pt')"
      ],
      "metadata": {
        "id": "Y1Su9xrksExZ"
      },
      "execution_count": 23,
      "outputs": []
    },
    {
      "cell_type": "markdown",
      "source": [
        "실제 서비스 목적으로 제공한다면 model 클래스도 보관해뒀다가 인스턴스를 만들고 파라미터를 파일에서 읽어와야 한다."
      ],
      "metadata": {
        "id": "YygNrDMxnff1"
      }
    },
    {
      "cell_type": "code",
      "source": [
        "loaded_model =Net()\n",
        "loaded_model.load_state_dict(torch.load(data_path + 'birds_vs_airplanes.pt'))"
      ],
      "metadata": {
        "id": "jJmpfaidsEsK",
        "colab": {
          "base_uri": "https://localhost:8080/"
        },
        "outputId": "69925874-f986-41b2-a2f5-0b8fe024ef1e"
      },
      "execution_count": 24,
      "outputs": [
        {
          "output_type": "execute_result",
          "data": {
            "text/plain": [
              "<All keys matched successfully>"
            ]
          },
          "metadata": {},
          "execution_count": 24
        }
      ]
    },
    {
      "cell_type": "markdown",
      "source": [
        "### 8.4.3  GPU에서 훈련시키기"
      ],
      "metadata": {
        "id": "sUH2KsMBn6OM"
      }
    },
    {
      "cell_type": "markdown",
      "source": [
        "GPU로 옮길 수 있는 것들 - .to 메소드 사용\n",
        "* 데이터 로더에서 얻은 텐서\n",
        "* 파라미터\n",
        "* nn.Module\n",
        "\n",
        "Module.to와 Tensor.to는 사실 조금 다르다. Module.to는 모듈 인스턴스 자체를 수정한다. 하지만 Tensor.to는 새 텐서를 반환한다. 파라미터를 원하는 디바이스로 이동 후 Optimizer를 만드는 식의 구현을 추천한다."
      ],
      "metadata": {
        "id": "OwK50h7goChN"
      }
    },
    {
      "cell_type": "code",
      "source": [
        "device = (torch.device('cuda') if torch.cuda.is_available()\n",
        "          else torch.device('cpu'))\n",
        "print(f\"Training on device {device}.\")"
      ],
      "metadata": {
        "id": "erkYtDJWsEpS",
        "colab": {
          "base_uri": "https://localhost:8080/"
        },
        "outputId": "d454af7b-ac10-4c07-a779-22379d74acdd"
      },
      "execution_count": 25,
      "outputs": [
        {
          "output_type": "stream",
          "name": "stdout",
          "text": [
            "Training on device cuda.\n"
          ]
        }
      ]
    },
    {
      "cell_type": "code",
      "source": [
        "import datetime\n",
        "\n",
        "def training_loop(n_epochs, optimizer, model, loss_fn, train_loader):\n",
        "    for epoch in range(1, n_epochs + 1):\n",
        "        loss_train = 0.0\n",
        "\n",
        "        for imgs, labels in train_loader:\n",
        "            imgs = imgs.to(device=device)  # input의 labels를 옮기는 이 두 줄만 이전과 다르다.\n",
        "            labels = labels.to(device=device)\n",
        "            outputs = model(imgs)\n",
        "            loss = loss_fn(outputs, labels)\n",
        "\n",
        "            optimizer.zero_grad()\n",
        "            loss.backward()\n",
        "            optimizer.step()\n",
        "\n",
        "            loss_train += loss.item()\n",
        "\n",
        "        if epoch == 1 or epoch % 10 == 0:\n",
        "            print('{} Epoch {}, Training loss {}'.format(\n",
        "                datetime.datetime.now(), epoch,\n",
        "                loss_train / len(train_loader)))"
      ],
      "metadata": {
        "id": "U8ppF4S8sEmx"
      },
      "execution_count": 26,
      "outputs": []
    },
    {
      "cell_type": "markdown",
      "source": [
        "vaildate 함수에서도 동일한 방식의 수정이 필요하다. 이후 모델을 인스턴스화하고 device로 옮긴 후 이전처럼 실행한다."
      ],
      "metadata": {
        "id": "pDHqX2_O-1G5"
      }
    },
    {
      "cell_type": "code",
      "source": [
        "train_loader = torch.utils.data.DataLoader(cifar2, batch_size=64, shuffle=True)\n",
        "\n",
        "model = Net().to(device=device)\n",
        "optimizer = optim.SGD(model.parameters(), lr=1e-2)\n",
        "loss_fn = nn.CrossEntropyLoss()\n",
        "\n",
        "training_loop(\n",
        "    n_epochs = 100,\n",
        "    optimizer = optimizer,\n",
        "    model = model,\n",
        "    loss_fn = loss_fn,\n",
        "    train_loader = train_loader\n",
        ")"
      ],
      "metadata": {
        "id": "mSrByk6YsEkZ",
        "colab": {
          "base_uri": "https://localhost:8080/"
        },
        "outputId": "c7db3a30-faa2-489a-9a52-1b56303282d3"
      },
      "execution_count": 27,
      "outputs": [
        {
          "output_type": "stream",
          "name": "stdout",
          "text": [
            "2023-01-04 06:36:30.174224 Epoch 1, Training loss 0.6853811376413722\n",
            "2023-01-04 06:36:33.491752 Epoch 10, Training loss 0.47094707637076166\n",
            "2023-01-04 06:36:37.124681 Epoch 20, Training loss 0.38460718864088606\n",
            "2023-01-04 06:36:40.758224 Epoch 30, Training loss 0.3360207164363497\n",
            "2023-01-04 06:36:44.420108 Epoch 40, Training loss 0.31678117631347313\n",
            "2023-01-04 06:36:48.106108 Epoch 50, Training loss 0.29901218338377156\n",
            "2023-01-04 06:36:51.747760 Epoch 60, Training loss 0.28089636602219503\n",
            "2023-01-04 06:36:55.419472 Epoch 70, Training loss 0.2652488572961965\n",
            "2023-01-04 06:36:59.095480 Epoch 80, Training loss 0.2545768981146964\n",
            "2023-01-04 06:37:02.775538 Epoch 90, Training loss 0.24189810483318985\n",
            "2023-01-04 06:37:06.458005 Epoch 100, Training loss 0.22483034972931928\n"
          ]
        }
      ]
    },
    {
      "cell_type": "markdown",
      "source": [
        "# [PTM] 9장. 암과 싸워 이기기 위한 파이토치 활용"
      ],
      "metadata": {
        "id": "g11yfocJpgPu"
      }
    }
  ]
}