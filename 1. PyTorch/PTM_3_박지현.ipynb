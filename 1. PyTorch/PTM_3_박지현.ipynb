{
  "nbformat": 4,
  "nbformat_minor": 0,
  "metadata": {
    "colab": {
      "provenance": [],
      "authorship_tag": "ABX9TyMfNeQWxWKN+U7oUcW36seM",
      "include_colab_link": true
    },
    "kernelspec": {
      "name": "python3",
      "display_name": "Python 3"
    },
    "language_info": {
      "name": "python"
    },
    "widgets": {
      "application/vnd.jupyter.widget-state+json": {
        "b27e244fe383458d8fc0cc1f82e24b83": {
          "model_module": "@jupyter-widgets/controls",
          "model_name": "HBoxModel",
          "model_module_version": "1.5.0",
          "state": {
            "_dom_classes": [],
            "_model_module": "@jupyter-widgets/controls",
            "_model_module_version": "1.5.0",
            "_model_name": "HBoxModel",
            "_view_count": null,
            "_view_module": "@jupyter-widgets/controls",
            "_view_module_version": "1.5.0",
            "_view_name": "HBoxView",
            "box_style": "",
            "children": [
              "IPY_MODEL_76ce6965338a4cbb807289f44811842e",
              "IPY_MODEL_b4d2ce39053247a8a23aa17e572be3f3",
              "IPY_MODEL_cefbb225d68f466098a8b8bfe123106b"
            ],
            "layout": "IPY_MODEL_627dc54aed5b4bd5b0a7ec4ac4ccbc2d"
          }
        },
        "76ce6965338a4cbb807289f44811842e": {
          "model_module": "@jupyter-widgets/controls",
          "model_name": "HTMLModel",
          "model_module_version": "1.5.0",
          "state": {
            "_dom_classes": [],
            "_model_module": "@jupyter-widgets/controls",
            "_model_module_version": "1.5.0",
            "_model_name": "HTMLModel",
            "_view_count": null,
            "_view_module": "@jupyter-widgets/controls",
            "_view_module_version": "1.5.0",
            "_view_name": "HTMLView",
            "description": "",
            "description_tooltip": null,
            "layout": "IPY_MODEL_d4965e93dd4f4f86aff1e3778ac4b506",
            "placeholder": "​",
            "style": "IPY_MODEL_af890bb703bb4b029f15e733b5dbaebe",
            "value": "100%"
          }
        },
        "b4d2ce39053247a8a23aa17e572be3f3": {
          "model_module": "@jupyter-widgets/controls",
          "model_name": "FloatProgressModel",
          "model_module_version": "1.5.0",
          "state": {
            "_dom_classes": [],
            "_model_module": "@jupyter-widgets/controls",
            "_model_module_version": "1.5.0",
            "_model_name": "FloatProgressModel",
            "_view_count": null,
            "_view_module": "@jupyter-widgets/controls",
            "_view_module_version": "1.5.0",
            "_view_name": "ProgressView",
            "bar_style": "success",
            "description": "",
            "description_tooltip": null,
            "layout": "IPY_MODEL_94d0e9595fa044ed9a07ac56129e6744",
            "max": 170498071,
            "min": 0,
            "orientation": "horizontal",
            "style": "IPY_MODEL_ac53664def884cf1bcd8a8930207dffe",
            "value": 170498071
          }
        },
        "cefbb225d68f466098a8b8bfe123106b": {
          "model_module": "@jupyter-widgets/controls",
          "model_name": "HTMLModel",
          "model_module_version": "1.5.0",
          "state": {
            "_dom_classes": [],
            "_model_module": "@jupyter-widgets/controls",
            "_model_module_version": "1.5.0",
            "_model_name": "HTMLModel",
            "_view_count": null,
            "_view_module": "@jupyter-widgets/controls",
            "_view_module_version": "1.5.0",
            "_view_name": "HTMLView",
            "description": "",
            "description_tooltip": null,
            "layout": "IPY_MODEL_399df5d07d1749949f2672e3526b2544",
            "placeholder": "​",
            "style": "IPY_MODEL_76ff1b301785408d84306b0b0c8d8cf8",
            "value": " 170498071/170498071 [00:02&lt;00:00, 87623779.68it/s]"
          }
        },
        "627dc54aed5b4bd5b0a7ec4ac4ccbc2d": {
          "model_module": "@jupyter-widgets/base",
          "model_name": "LayoutModel",
          "model_module_version": "1.2.0",
          "state": {
            "_model_module": "@jupyter-widgets/base",
            "_model_module_version": "1.2.0",
            "_model_name": "LayoutModel",
            "_view_count": null,
            "_view_module": "@jupyter-widgets/base",
            "_view_module_version": "1.2.0",
            "_view_name": "LayoutView",
            "align_content": null,
            "align_items": null,
            "align_self": null,
            "border": null,
            "bottom": null,
            "display": null,
            "flex": null,
            "flex_flow": null,
            "grid_area": null,
            "grid_auto_columns": null,
            "grid_auto_flow": null,
            "grid_auto_rows": null,
            "grid_column": null,
            "grid_gap": null,
            "grid_row": null,
            "grid_template_areas": null,
            "grid_template_columns": null,
            "grid_template_rows": null,
            "height": null,
            "justify_content": null,
            "justify_items": null,
            "left": null,
            "margin": null,
            "max_height": null,
            "max_width": null,
            "min_height": null,
            "min_width": null,
            "object_fit": null,
            "object_position": null,
            "order": null,
            "overflow": null,
            "overflow_x": null,
            "overflow_y": null,
            "padding": null,
            "right": null,
            "top": null,
            "visibility": null,
            "width": null
          }
        },
        "d4965e93dd4f4f86aff1e3778ac4b506": {
          "model_module": "@jupyter-widgets/base",
          "model_name": "LayoutModel",
          "model_module_version": "1.2.0",
          "state": {
            "_model_module": "@jupyter-widgets/base",
            "_model_module_version": "1.2.0",
            "_model_name": "LayoutModel",
            "_view_count": null,
            "_view_module": "@jupyter-widgets/base",
            "_view_module_version": "1.2.0",
            "_view_name": "LayoutView",
            "align_content": null,
            "align_items": null,
            "align_self": null,
            "border": null,
            "bottom": null,
            "display": null,
            "flex": null,
            "flex_flow": null,
            "grid_area": null,
            "grid_auto_columns": null,
            "grid_auto_flow": null,
            "grid_auto_rows": null,
            "grid_column": null,
            "grid_gap": null,
            "grid_row": null,
            "grid_template_areas": null,
            "grid_template_columns": null,
            "grid_template_rows": null,
            "height": null,
            "justify_content": null,
            "justify_items": null,
            "left": null,
            "margin": null,
            "max_height": null,
            "max_width": null,
            "min_height": null,
            "min_width": null,
            "object_fit": null,
            "object_position": null,
            "order": null,
            "overflow": null,
            "overflow_x": null,
            "overflow_y": null,
            "padding": null,
            "right": null,
            "top": null,
            "visibility": null,
            "width": null
          }
        },
        "af890bb703bb4b029f15e733b5dbaebe": {
          "model_module": "@jupyter-widgets/controls",
          "model_name": "DescriptionStyleModel",
          "model_module_version": "1.5.0",
          "state": {
            "_model_module": "@jupyter-widgets/controls",
            "_model_module_version": "1.5.0",
            "_model_name": "DescriptionStyleModel",
            "_view_count": null,
            "_view_module": "@jupyter-widgets/base",
            "_view_module_version": "1.2.0",
            "_view_name": "StyleView",
            "description_width": ""
          }
        },
        "94d0e9595fa044ed9a07ac56129e6744": {
          "model_module": "@jupyter-widgets/base",
          "model_name": "LayoutModel",
          "model_module_version": "1.2.0",
          "state": {
            "_model_module": "@jupyter-widgets/base",
            "_model_module_version": "1.2.0",
            "_model_name": "LayoutModel",
            "_view_count": null,
            "_view_module": "@jupyter-widgets/base",
            "_view_module_version": "1.2.0",
            "_view_name": "LayoutView",
            "align_content": null,
            "align_items": null,
            "align_self": null,
            "border": null,
            "bottom": null,
            "display": null,
            "flex": null,
            "flex_flow": null,
            "grid_area": null,
            "grid_auto_columns": null,
            "grid_auto_flow": null,
            "grid_auto_rows": null,
            "grid_column": null,
            "grid_gap": null,
            "grid_row": null,
            "grid_template_areas": null,
            "grid_template_columns": null,
            "grid_template_rows": null,
            "height": null,
            "justify_content": null,
            "justify_items": null,
            "left": null,
            "margin": null,
            "max_height": null,
            "max_width": null,
            "min_height": null,
            "min_width": null,
            "object_fit": null,
            "object_position": null,
            "order": null,
            "overflow": null,
            "overflow_x": null,
            "overflow_y": null,
            "padding": null,
            "right": null,
            "top": null,
            "visibility": null,
            "width": null
          }
        },
        "ac53664def884cf1bcd8a8930207dffe": {
          "model_module": "@jupyter-widgets/controls",
          "model_name": "ProgressStyleModel",
          "model_module_version": "1.5.0",
          "state": {
            "_model_module": "@jupyter-widgets/controls",
            "_model_module_version": "1.5.0",
            "_model_name": "ProgressStyleModel",
            "_view_count": null,
            "_view_module": "@jupyter-widgets/base",
            "_view_module_version": "1.2.0",
            "_view_name": "StyleView",
            "bar_color": null,
            "description_width": ""
          }
        },
        "399df5d07d1749949f2672e3526b2544": {
          "model_module": "@jupyter-widgets/base",
          "model_name": "LayoutModel",
          "model_module_version": "1.2.0",
          "state": {
            "_model_module": "@jupyter-widgets/base",
            "_model_module_version": "1.2.0",
            "_model_name": "LayoutModel",
            "_view_count": null,
            "_view_module": "@jupyter-widgets/base",
            "_view_module_version": "1.2.0",
            "_view_name": "LayoutView",
            "align_content": null,
            "align_items": null,
            "align_self": null,
            "border": null,
            "bottom": null,
            "display": null,
            "flex": null,
            "flex_flow": null,
            "grid_area": null,
            "grid_auto_columns": null,
            "grid_auto_flow": null,
            "grid_auto_rows": null,
            "grid_column": null,
            "grid_gap": null,
            "grid_row": null,
            "grid_template_areas": null,
            "grid_template_columns": null,
            "grid_template_rows": null,
            "height": null,
            "justify_content": null,
            "justify_items": null,
            "left": null,
            "margin": null,
            "max_height": null,
            "max_width": null,
            "min_height": null,
            "min_width": null,
            "object_fit": null,
            "object_position": null,
            "order": null,
            "overflow": null,
            "overflow_x": null,
            "overflow_y": null,
            "padding": null,
            "right": null,
            "top": null,
            "visibility": null,
            "width": null
          }
        },
        "76ff1b301785408d84306b0b0c8d8cf8": {
          "model_module": "@jupyter-widgets/controls",
          "model_name": "DescriptionStyleModel",
          "model_module_version": "1.5.0",
          "state": {
            "_model_module": "@jupyter-widgets/controls",
            "_model_module_version": "1.5.0",
            "_model_name": "DescriptionStyleModel",
            "_view_count": null,
            "_view_module": "@jupyter-widgets/base",
            "_view_module_version": "1.2.0",
            "_view_name": "StyleView",
            "description_width": ""
          }
        }
      }
    }
  },
  "cells": [
    {
      "cell_type": "markdown",
      "metadata": {
        "id": "view-in-github",
        "colab_type": "text"
      },
      "source": [
        "<a href=\"https://colab.research.google.com/github/nuyhc/RhythmStudy/blob/main/1.%20PyTorch/PTM_3_%EB%B0%95%EC%A7%80%ED%98%84.ipynb\" target=\"_parent\"><img src=\"https://colab.research.google.com/assets/colab-badge.svg\" alt=\"Open In Colab\"/></a>"
      ]
    },
    {
      "cell_type": "markdown",
      "source": [
        "# [PTM] 6장. 신경망을 활용한 데이터 적합"
      ],
      "metadata": {
        "id": "h3P9takIk6Xd"
      }
    },
    {
      "cell_type": "code",
      "execution_count": 1,
      "metadata": {
        "colab": {
          "base_uri": "https://localhost:8080/"
        },
        "id": "GJO5iBNgk2Hf",
        "outputId": "76421e05-f011-4798-b6c1-a9dc1848ea9b"
      },
      "outputs": [
        {
          "output_type": "stream",
          "name": "stdout",
          "text": [
            "Cloning into 'dlwpt-code'...\n",
            "remote: Enumerating objects: 703, done.\u001b[K\n",
            "remote: Total 703 (delta 0), reused 0 (delta 0), pack-reused 703\u001b[K\n",
            "Receiving objects: 100% (703/703), 176.00 MiB | 19.61 MiB/s, done.\n",
            "Resolving deltas: 100% (309/309), done.\n",
            "Checking out files: 100% (228/228), done.\n"
          ]
        }
      ],
      "source": [
        "!git clone https://github.com/deep-learning-with-pytorch/dlwpt-code"
      ]
    },
    {
      "cell_type": "code",
      "source": [
        "# 데이터 수집\n",
        "import torch\n",
        "\n",
        "t_c = [0.5,  14.0, 15.0, 28.0, 11.0,  8.0,  3.0, -4.0,  6.0, 13.0, 21.0]\n",
        "t_u = [35.7, 55.9, 58.2, 81.9, 56.3, 48.9, 33.9, 21.8, 48.4, 60.4, 68.4]\n",
        "t_c = torch.tensor(t_c).unsqueeze(1)\n",
        "t_u = torch.tensor(t_u).unsqueeze(1)\n",
        "\n",
        "print(t_u.shape)\n",
        "t_c, t_u"
      ],
      "metadata": {
        "colab": {
          "base_uri": "https://localhost:8080/"
        },
        "id": "mdgKhodrmEvd",
        "outputId": "448550c4-3ab1-431e-b3b8-662f37e177e1"
      },
      "execution_count": 2,
      "outputs": [
        {
          "output_type": "stream",
          "name": "stdout",
          "text": [
            "torch.Size([11, 1])\n"
          ]
        },
        {
          "output_type": "execute_result",
          "data": {
            "text/plain": [
              "(tensor([[ 0.5000],\n",
              "         [14.0000],\n",
              "         [15.0000],\n",
              "         [28.0000],\n",
              "         [11.0000],\n",
              "         [ 8.0000],\n",
              "         [ 3.0000],\n",
              "         [-4.0000],\n",
              "         [ 6.0000],\n",
              "         [13.0000],\n",
              "         [21.0000]]), tensor([[35.7000],\n",
              "         [55.9000],\n",
              "         [58.2000],\n",
              "         [81.9000],\n",
              "         [56.3000],\n",
              "         [48.9000],\n",
              "         [33.9000],\n",
              "         [21.8000],\n",
              "         [48.4000],\n",
              "         [60.4000],\n",
              "         [68.4000]]))"
            ]
          },
          "metadata": {},
          "execution_count": 2
        }
      ]
    },
    {
      "cell_type": "code",
      "source": [
        "n_samples = t_u.shape[0]\n",
        "n_val = int(0.2 * n_samples)\n",
        "\n",
        "shuffled_indices = torch.randperm(n_samples)\n",
        "\n",
        "train_indices = shuffled_indices[:-n_val]\n",
        "val_indices = shuffled_indices[-n_val:]\n",
        "\n",
        "train_indices, val_indices"
      ],
      "metadata": {
        "colab": {
          "base_uri": "https://localhost:8080/"
        },
        "id": "wTatw__LL6Dm",
        "outputId": "b18f988f-4f15-4445-a343-57fbe0f242eb"
      },
      "execution_count": 3,
      "outputs": [
        {
          "output_type": "execute_result",
          "data": {
            "text/plain": [
              "(tensor([ 1,  4,  5,  2, 10,  8,  0,  6,  3]), tensor([9, 7]))"
            ]
          },
          "metadata": {},
          "execution_count": 3
        }
      ]
    },
    {
      "cell_type": "code",
      "source": [
        "t_u_train = t_u[train_indices]\n",
        "t_c_train = t_c[train_indices]\n",
        "\n",
        "t_u_val = t_u[val_indices]\n",
        "t_c_val = t_c[val_indices]\n",
        "\n",
        "t_un_train = 0.1 * t_u_train\n",
        "t_un_val = 0.1 * t_u_val"
      ],
      "metadata": {
        "id": "WBxtpNwYMmGG"
      },
      "execution_count": 4,
      "outputs": []
    },
    {
      "cell_type": "markdown",
      "source": [
        "### 파이토치 nn 모듈\n",
        "forward 대신 __call__ 사용하기\n",
        "* 파이토치가 제공하는 nn.Module의 모든 서브클래스에는 __call__ 메소드가 정의되어 있다. 이를 통해 nn.Linear를 인스턴스화하여 마치 함수인 것처럼 실행할 수 있다.\n",
        "\n",
        "nn.Linear\n",
        "* `nn.Linear`은 세 개의 인자를 갖는다. 입력 피처의 수, 출력 피처의 수, 선형 모델이 편향값을 포함하는지 여부이다."
      ],
      "metadata": {
        "id": "s4OXjMEMK7SG"
      }
    },
    {
      "cell_type": "code",
      "source": [
        "import torch.nn as nn\n",
        "\n",
        "linear_model = nn.Linear(1, 1)  # 피처 수는 모듈에 대한 입출력 텐서 크기와 같아서, 값이 각각 1, 1이다.\n",
        "linear_model(t_un_val)"
      ],
      "metadata": {
        "colab": {
          "base_uri": "https://localhost:8080/"
        },
        "id": "LUajerfMK0zX",
        "outputId": "1edafff7-a333-4bbc-9d81-0945234635c5"
      },
      "execution_count": 5,
      "outputs": [
        {
          "output_type": "execute_result",
          "data": {
            "text/plain": [
              "tensor([[6.0219],\n",
              "        [2.5925]], grad_fn=<AddmmBackward0>)"
            ]
          },
          "metadata": {},
          "execution_count": 5
        }
      ]
    },
    {
      "cell_type": "markdown",
      "source": [
        "하나의 입력 피처와 출력 피처를 가진 nn.Linear 인스턴스\n",
        "* 이 인스턴스는 weight와 bias값을 요구한다."
      ],
      "metadata": {
        "id": "kkG-NkeTO9_l"
      }
    },
    {
      "cell_type": "code",
      "source": [
        "display(linear_model.weight)\n",
        "linear_model.bias"
      ],
      "metadata": {
        "colab": {
          "base_uri": "https://localhost:8080/",
          "height": 90
        },
        "id": "rRym1mPPK1R8",
        "outputId": "2c5286b7-f6d9-444b-e011-b716b2d49bf4"
      },
      "execution_count": 6,
      "outputs": [
        {
          "output_type": "display_data",
          "data": {
            "text/plain": [
              "Parameter containing:\n",
              "tensor([[0.8884]], requires_grad=True)"
            ]
          },
          "metadata": {}
        },
        {
          "output_type": "execute_result",
          "data": {
            "text/plain": [
              "Parameter containing:\n",
              "tensor([0.6557], requires_grad=True)"
            ]
          },
          "metadata": {},
          "execution_count": 6
        }
      ]
    },
    {
      "cell_type": "code",
      "source": [
        "# 입력값으로 모듈 호출\n",
        "x = torch.ones(1)\n",
        "linear_model(x)"
      ],
      "metadata": {
        "colab": {
          "base_uri": "https://localhost:8080/"
        },
        "id": "_VHtPG7MK183",
        "outputId": "d6cb676b-fa93-4877-fe93-1b2783df300c"
      },
      "execution_count": 7,
      "outputs": [
        {
          "output_type": "execute_result",
          "data": {
            "text/plain": [
              "tensor([1.5442], grad_fn=<AddBackward0>)"
            ]
          },
          "metadata": {},
          "execution_count": 7
        }
      ]
    },
    {
      "cell_type": "markdown",
      "source": [
        "### 배치 입력 만들기\n",
        "nn에 있는 모든 모듈은 한 번에 여러 입력을 가진 batch에 대한 출력을 만들도록 작성되었다. \n",
        "  \n",
        "[아래 코드]\n",
        "* 10개의 샘플에 대해 nn.Linear을 실행해야 한다고 가정해보자. B가 배치의 크기이고, Nin이 입력 피처의 크기라면 크기가 B X Nin인 입력 텐서를 만들고 모델로 실행하는 이다."
      ],
      "metadata": {
        "id": "x_5cCn1KR_nk"
      }
    },
    {
      "cell_type": "code",
      "source": [
        "x = torch.ones(10, 1)\n",
        "linear_model(x)"
      ],
      "metadata": {
        "colab": {
          "base_uri": "https://localhost:8080/"
        },
        "id": "FBWIk3oTK2Gn",
        "outputId": "b800f2f1-39ab-4aa9-a646-76d66c9ae298"
      },
      "execution_count": 8,
      "outputs": [
        {
          "output_type": "execute_result",
          "data": {
            "text/plain": [
              "tensor([[1.5442],\n",
              "        [1.5442],\n",
              "        [1.5442],\n",
              "        [1.5442],\n",
              "        [1.5442],\n",
              "        [1.5442],\n",
              "        [1.5442],\n",
              "        [1.5442],\n",
              "        [1.5442],\n",
              "        [1.5442]], grad_fn=<AddmmBackward0>)"
            ]
          },
          "metadata": {},
          "execution_count": 8
        }
      ]
    },
    {
      "cell_type": "markdown",
      "source": [
        "### 배치 최적화\n",
        "배치를 수행하는 이유\n",
        "* 주요 이유 중 하나는 연산량을 충분히 크게 만들어 준비한 자원을 최대한 활용하기 위함이다."
      ],
      "metadata": {
        "id": "Dqe0mXg3T9AZ"
      }
    },
    {
      "cell_type": "code",
      "source": [
        "t_c = [0.5,  14.0, 15.0, 28.0, 11.0,  8.0,  3.0, -4.0,  6.0, 13.0, 21.0]\n",
        "t_u = [35.7, 55.9, 58.2, 81.9, 56.3, 48.9, 33.9, 21.8, 48.4, 60.4, 68.4]\n",
        "t_c = torch.tensor(t_c).unsqueeze(1)\n",
        "t_u = torch.tensor(t_u).unsqueeze(1)\n",
        "\n",
        "t_u.shape"
      ],
      "metadata": {
        "colab": {
          "base_uri": "https://localhost:8080/"
        },
        "id": "Eq33LjD4K2PH",
        "outputId": "a0e2b8e6-178b-4021-d12c-21f69d6a70bc"
      },
      "execution_count": 9,
      "outputs": [
        {
          "output_type": "execute_result",
          "data": {
            "text/plain": [
              "torch.Size([11, 1])"
            ]
          },
          "metadata": {},
          "execution_count": 9
        }
      ]
    },
    {
      "cell_type": "markdown",
      "source": [
        "학습 코드 업데이트\n",
        "* 작성한 모델을 nn.Linear(1, 1)로 바꾼 후 옵티마이저에 선형 모델 파라미터 전달"
      ],
      "metadata": {
        "id": "9fnYyMgoV6Ii"
      }
    },
    {
      "cell_type": "code",
      "source": [
        "import torch.optim as optim\n",
        "\n",
        "linear_model = nn.Linear(1, 1)\n",
        "optimizer = optim.SGD(\n",
        "    linear_model.parameters(),  # [params] 대신 넣은 것  \n",
        "    lr = 1e-2\n",
        ")"
      ],
      "metadata": {
        "id": "fK8gyIIDK2XK"
      },
      "execution_count": 10,
      "outputs": []
    },
    {
      "cell_type": "code",
      "source": [
        "linear_model.parameters()"
      ],
      "metadata": {
        "colab": {
          "base_uri": "https://localhost:8080/"
        },
        "id": "Ml1cVtj8K2e3",
        "outputId": "828a1b5d-b1df-48c3-dc85-3ab37998c977"
      },
      "execution_count": 11,
      "outputs": [
        {
          "output_type": "execute_result",
          "data": {
            "text/plain": [
              "<generator object Module.parameters at 0x7f096e74d7b0>"
            ]
          },
          "metadata": {},
          "execution_count": 11
        }
      ]
    },
    {
      "cell_type": "code",
      "source": [
        "list(linear_model.parameters())"
      ],
      "metadata": {
        "colab": {
          "base_uri": "https://localhost:8080/"
        },
        "id": "7s2LnqntK2xJ",
        "outputId": "5a1a72bb-fae1-4cb6-a3d1-6210e8699223"
      },
      "execution_count": 12,
      "outputs": [
        {
          "output_type": "execute_result",
          "data": {
            "text/plain": [
              "[Parameter containing:\n",
              " tensor([[0.5645]], requires_grad=True), Parameter containing:\n",
              " tensor([-0.3435], requires_grad=True)]"
            ]
          },
          "metadata": {},
          "execution_count": 12
        }
      ]
    },
    {
      "cell_type": "code",
      "source": [
        "def training_loop(n_epochs, optimizer, model, loss_fn, t_u_train, t_u_val,\n",
        "                  t_c_train, t_c_val):\n",
        "    for epoch in range(1, n_epochs + 1):\n",
        "        t_p_train = model(t_u_train)\n",
        "        loss_train = loss_fn(t_p_train, t_c_train)\n",
        "\n",
        "        t_p_val = model(t_u_val)\n",
        "        loss_val = loss_fn(t_p_val, t_c_val)\n",
        "\n",
        "        optimizer.zero_grad()\n",
        "        loss_train.backward()\n",
        "        optimizer.step()\n",
        "\n",
        "        if epoch == 1 or epoch % 1000 == 0:\n",
        "            print(f'Epoch {epoch}, Training Loss {loss_train.item():.4f},',\n",
        "                  f'Validation Loss {loss_val.item():.4f}')"
      ],
      "metadata": {
        "id": "LE4dLDEGK27p"
      },
      "execution_count": 13,
      "outputs": []
    },
    {
      "cell_type": "code",
      "source": [
        "linear_model = nn.Linear(1, 1)\n",
        "optimizer = optim.SGD(linear_model.parameters(), lr=1e-2)\n",
        "\n",
        "training_loop(\n",
        "    n_epochs = 3000,\n",
        "    optimizer = optimizer,\n",
        "    model = linear_model,\n",
        "    loss_fn = nn.MSELoss(),  # 이제 직접 만든 손실 함수는 사용하지 않는다.\n",
        "    t_u_train = t_un_train,\n",
        "    t_u_val = t_un_val,\n",
        "    t_c_train = t_c_train,\n",
        "    t_c_val = t_c_val\n",
        ")\n",
        "\n",
        "print()\n",
        "print(linear_model.weight)\n",
        "print(linear_model.bias)"
      ],
      "metadata": {
        "colab": {
          "base_uri": "https://localhost:8080/"
        },
        "id": "k1I1wILQK3D5",
        "outputId": "bf83c1cc-bf85-4903-8584-f303e18f98e6"
      },
      "execution_count": 14,
      "outputs": [
        {
          "output_type": "stream",
          "name": "stdout",
          "text": [
            "Epoch 1, Training Loss 351.1638, Validation Loss 163.3999\n",
            "Epoch 1000, Training Loss 4.8112, Validation Loss 2.7622\n",
            "Epoch 2000, Training Loss 2.7206, Validation Loss 4.0367\n",
            "Epoch 3000, Training Loss 2.5473, Validation Loss 5.7075\n",
            "\n",
            "Parameter containing:\n",
            "tensor([[5.6421]], requires_grad=True)\n",
            "Parameter containing:\n",
            "tensor([-18.7034], requires_grad=True)\n"
          ]
        }
      ]
    },
    {
      "cell_type": "markdown",
      "source": [
        "### 신경망\n",
        "선형 모델 대신 신경망을 근사 함수로 사용하도록 바꿔보자\n",
        "\n",
        "* nn은 nn.Sequential 컨테이너를 통해 모듈을 간단하게 결합시켜준다.  \n",
        "\n",
        "아래 모델은 한 개의 입력 피처로부터 13개의 은닉된 피처로 펼쳐지며, 결과값을 tanh 활성 함수로 넘겨서 결과로 나운 13개의 숫자를 하나의 출력 피처로 만들기 위해 선형적으로 결합한다. "
      ],
      "metadata": {
        "id": "wltESrkblyQF"
      }
    },
    {
      "cell_type": "code",
      "source": [
        "seq_model = nn.Sequential(\n",
        "            nn.Linear(1, 13),\n",
        "            nn.Tanh(),\n",
        "            nn.Linear(13, 1)\n",
        ")\n",
        "\n",
        "seq_model"
      ],
      "metadata": {
        "id": "NdEtzM5wK3Mo",
        "colab": {
          "base_uri": "https://localhost:8080/"
        },
        "outputId": "8ca07cda-bfdb-4d5b-b98f-9fbb98e8b964"
      },
      "execution_count": 15,
      "outputs": [
        {
          "output_type": "execute_result",
          "data": {
            "text/plain": [
              "Sequential(\n",
              "  (0): Linear(in_features=1, out_features=13, bias=True)\n",
              "  (1): Tanh()\n",
              "  (2): Linear(in_features=13, out_features=1, bias=True)\n",
              ")"
            ]
          },
          "metadata": {},
          "execution_count": 15
        }
      ]
    },
    {
      "cell_type": "markdown",
      "source": [
        "파라미터 살펴보기"
      ],
      "metadata": {
        "id": "96fa9RdNNEhA"
      }
    },
    {
      "cell_type": "code",
      "source": [
        "[param.shape for param in seq_model.parameters()]"
      ],
      "metadata": {
        "id": "GctBlkU9K3V6",
        "colab": {
          "base_uri": "https://localhost:8080/"
        },
        "outputId": "8986b848-b217-4c10-ab0a-482cc4d01323"
      },
      "execution_count": 16,
      "outputs": [
        {
          "output_type": "execute_result",
          "data": {
            "text/plain": [
              "[torch.Size([13, 1]), torch.Size([13]), torch.Size([1, 13]), torch.Size([1])]"
            ]
          },
          "metadata": {},
          "execution_count": 16
        }
      ]
    },
    {
      "cell_type": "markdown",
      "source": [
        "여러 개의 서브 모듈로 만들어진 모델의 파라미터를 추적할 경우, 파라미터를 이름으로 식별가능하게 하면 매우 편리하다."
      ],
      "metadata": {
        "id": "RPstqY5oQBjG"
      }
    },
    {
      "cell_type": "code",
      "source": [
        "# named_parameters\n",
        "for name, param in seq_model.named_parameters():\n",
        "    print(name, param.shape)"
      ],
      "metadata": {
        "id": "NuM9byhRK3gm",
        "colab": {
          "base_uri": "https://localhost:8080/"
        },
        "outputId": "4d8d4ba9-46db-40ae-e8fd-b5b00764fff0"
      },
      "execution_count": 17,
      "outputs": [
        {
          "output_type": "stream",
          "name": "stdout",
          "text": [
            "0.weight torch.Size([13, 1])\n",
            "0.bias torch.Size([13])\n",
            "2.weight torch.Size([1, 13])\n",
            "2.bias torch.Size([1])\n"
          ]
        }
      ]
    },
    {
      "cell_type": "markdown",
      "source": [
        "Sequential은 OrderedDict라는 인자를 받는데, 여기에 각 모듈의 이름을 정해서 전달할 수 있다."
      ],
      "metadata": {
        "id": "nCpgpkknQvPn"
      }
    },
    {
      "cell_type": "code",
      "source": [
        "from collections import OrderedDict\n",
        "\n",
        "seq_model = nn.Sequential(OrderedDict([  # 연속적인 경로를 만들어낸다는 점에서 Sequential이라는 이름이 매우 적절함\n",
        "            ('hidden_linear', nn.Linear(1, 8)),\n",
        "            ('hidden_activation', nn.Tanh()),\n",
        "            ('output_linear', nn.Linear(8, 1))\n",
        "]))\n",
        "\n",
        "seq_model"
      ],
      "metadata": {
        "colab": {
          "base_uri": "https://localhost:8080/"
        },
        "id": "6tVdv3T9Qvj_",
        "outputId": "be5b6579-246d-41ff-d61f-5fe9010b3f62"
      },
      "execution_count": 18,
      "outputs": [
        {
          "output_type": "execute_result",
          "data": {
            "text/plain": [
              "Sequential(\n",
              "  (hidden_linear): Linear(in_features=1, out_features=8, bias=True)\n",
              "  (hidden_activation): Tanh()\n",
              "  (output_linear): Linear(in_features=8, out_features=1, bias=True)\n",
              ")"
            ]
          },
          "metadata": {},
          "execution_count": 18
        }
      ]
    },
    {
      "cell_type": "code",
      "source": [
        "for name, param in seq_model.named_parameters():\n",
        "    print(name, param)"
      ],
      "metadata": {
        "colab": {
          "base_uri": "https://localhost:8080/"
        },
        "id": "IUMsGmigR30W",
        "outputId": "2bc08746-2a12-4c60-fc8e-34fb0c9282a8"
      },
      "execution_count": 19,
      "outputs": [
        {
          "output_type": "stream",
          "name": "stdout",
          "text": [
            "hidden_linear.weight Parameter containing:\n",
            "tensor([[-0.9920],\n",
            "        [ 0.8089],\n",
            "        [-0.6840],\n",
            "        [-0.3758],\n",
            "        [-0.1620],\n",
            "        [-0.9197],\n",
            "        [-0.1052],\n",
            "        [ 0.7612]], requires_grad=True)\n",
            "hidden_linear.bias Parameter containing:\n",
            "tensor([-0.6096, -0.9763,  0.8998, -0.0048,  0.7788,  0.0944,  0.6939, -0.9531],\n",
            "       requires_grad=True)\n",
            "output_linear.weight Parameter containing:\n",
            "tensor([[ 1.2276e-01,  1.5866e-01,  6.3646e-02, -1.1953e-04, -1.4939e-01,\n",
            "          3.0586e-01, -7.2619e-04,  1.9996e-01]], requires_grad=True)\n",
            "output_linear.bias Parameter containing:\n",
            "tensor([0.3418], requires_grad=True)\n"
          ]
        }
      ]
    },
    {
      "cell_type": "code",
      "source": [
        "for name, param in seq_model.named_parameters():\n",
        "    print(name, param.shape)"
      ],
      "metadata": {
        "colab": {
          "base_uri": "https://localhost:8080/"
        },
        "id": "v9S0niq_T25e",
        "outputId": "ddef2b41-f890-4cc3-9d20-9544345e24da"
      },
      "execution_count": 20,
      "outputs": [
        {
          "output_type": "stream",
          "name": "stdout",
          "text": [
            "hidden_linear.weight torch.Size([8, 1])\n",
            "hidden_linear.bias torch.Size([8])\n",
            "output_linear.weight torch.Size([1, 8])\n",
            "output_linear.bias torch.Size([1])\n"
          ]
        }
      ]
    },
    {
      "cell_type": "markdown",
      "source": [
        "서브 모듈을 속성처럼 사용해 특정 Parameter에 접근할 수 있다."
      ],
      "metadata": {
        "id": "sbCj6BfWUkac"
      }
    },
    {
      "cell_type": "code",
      "source": [
        "seq_model.output_linear.bias"
      ],
      "metadata": {
        "colab": {
          "base_uri": "https://localhost:8080/"
        },
        "id": "s4cT2IvDUdWN",
        "outputId": "ab04f41a-6f2d-4237-cf3b-ecd78a8d2bec"
      },
      "execution_count": 21,
      "outputs": [
        {
          "output_type": "execute_result",
          "data": {
            "text/plain": [
              "Parameter containing:\n",
              "tensor([0.3418], requires_grad=True)"
            ]
          },
          "metadata": {},
          "execution_count": 21
        }
      ]
    },
    {
      "cell_type": "code",
      "source": [
        "optimizer = optim.SGD(seq_model.parameters(), lr=1e-3)\n",
        "\n",
        "training_loop(\n",
        "    n_epochs = 5000,\n",
        "    optimizer = optimizer,\n",
        "    model = seq_model,\n",
        "    loss_fn = nn.MSELoss(),\n",
        "    t_u_train = t_un_train,\n",
        "    t_u_val = t_un_val,\n",
        "    t_c_train = t_c_train,\n",
        "    t_c_val = t_c_val\n",
        ")\n",
        "\n",
        "print('output', seq_model(t_un_val))\n",
        "print('answer', t_c_val)\n",
        "print('hidden', seq_model.hidden_linear.weight.grad)"
      ],
      "metadata": {
        "colab": {
          "base_uri": "https://localhost:8080/"
        },
        "id": "1Jd0ycQPVVut",
        "outputId": "b1a9bffe-70e6-4422-8221-a8830cbe85f2"
      },
      "execution_count": 22,
      "outputs": [
        {
          "output_type": "stream",
          "name": "stdout",
          "text": [
            "Epoch 1, Training Loss 202.7606, Validation Loss 89.6794\n",
            "Epoch 1000, Training Loss 11.5623, Validation Loss 0.1661\n",
            "Epoch 2000, Training Loss 3.5077, Validation Loss 2.8277\n",
            "Epoch 3000, Training Loss 1.8590, Validation Loss 6.4987\n",
            "Epoch 4000, Training Loss 1.4462, Validation Loss 8.9832\n",
            "Epoch 5000, Training Loss 1.4088, Validation Loss 9.8235\n",
            "output tensor([[15.8817],\n",
            "        [-0.6318]], grad_fn=<AddmmBackward0>)\n",
            "answer tensor([[13.],\n",
            "        [-4.]])\n",
            "hidden tensor([[ 0.0014],\n",
            "        [-0.0247],\n",
            "        [ 0.0037],\n",
            "        [ 0.0428],\n",
            "        [-0.0014],\n",
            "        [ 0.0072],\n",
            "        [-0.0111],\n",
            "        [ 0.0038]])\n"
          ]
        }
      ]
    },
    {
      "cell_type": "markdown",
      "source": [
        "### 선형 모델과 비교하기"
      ],
      "metadata": {
        "id": "4IhYvIruaaGj"
      }
    },
    {
      "cell_type": "code",
      "source": [
        "import matplotlib.pyplot as plt\n",
        "\n",
        "t_range = torch.arange(20. , 90. ).unsqueeze(1)\n",
        "\n",
        "fig = plt.figure(dpi=600)\n",
        "plt.xlabel(\"Fahrenheit\")\n",
        "plt.ylabel(\"Celsius\")\n",
        "plt.plot(t_u.numpy(), t_c.numpy(), 'o')  # 입력 데이터\n",
        "plt.plot(t_range.numpy(), seq_model(0.1 * t_range).detach().numpy(),'c-')\n",
        "plt.plot(t_u.numpy(), seq_model(0.1 * t_u).detach().numpy(), 'kx')  # 신경망 모델 그래프\n",
        "\n",
        "plt.show()"
      ],
      "metadata": {
        "colab": {
          "base_uri": "https://localhost:8080/",
          "height": 1000
        },
        "id": "DRJ4DU7CadaD",
        "outputId": "d7f229bd-3e8f-43da-ff1f-746e6b7d6c85"
      },
      "execution_count": 23,
      "outputs": [
        {
          "output_type": "display_data",
          "data": {
            "text/plain": [
              "<Figure size 3600x2400 with 1 Axes>"
            ],
            "image/png": "[encoded data removed]"
          },
          "metadata": {
            "needs_background": "light"
          }
        }
      ]
    },
    {
      "cell_type": "markdown",
      "source": [
        "# [PTM] 7장. 새와 비행기 구별하기: 이미지 학습\n",
        "\n",
        "CIFAR-10 다운로드\n",
        "* 32 x 32 크기의 컬러(RGB) 이미지 6만 개로 구성되어 있고 1에서 10까지의 정수로 레이블이 매겨져 있다. 0은 비행기, 1은 자동차, 2는 새, 3은 고양이, 4는 사슴, 5는 강아지, 6은 개구리. 7은 말, 8은 배, 9는 트럭이다."
      ],
      "metadata": {
        "id": "RJJkcyqelIHt"
      }
    },
    {
      "cell_type": "code",
      "source": [
        "from torchvision import datasets\n",
        "data_path = '/content/dlwpt-code/p1ch7'\n",
        "cifar10 = datasets.CIFAR10(data_path, train=True, download=True)\n",
        "cifar10_val = datasets.CIFAR10(data_path, train=False, download=True)"
      ],
      "metadata": {
        "colab": {
          "base_uri": "https://localhost:8080/",
          "height": 104,
          "referenced_widgets": [
            "b27e244fe383458d8fc0cc1f82e24b83",
            "76ce6965338a4cbb807289f44811842e",
            "b4d2ce39053247a8a23aa17e572be3f3",
            "cefbb225d68f466098a8b8bfe123106b",
            "627dc54aed5b4bd5b0a7ec4ac4ccbc2d",
            "d4965e93dd4f4f86aff1e3778ac4b506",
            "af890bb703bb4b029f15e733b5dbaebe",
            "94d0e9595fa044ed9a07ac56129e6744",
            "ac53664def884cf1bcd8a8930207dffe",
            "399df5d07d1749949f2672e3526b2544",
            "76ff1b301785408d84306b0b0c8d8cf8"
          ]
        },
        "id": "iVpxfrEvfbVS",
        "outputId": "9134a9f0-9828-4a75-e20e-2a8d51df569d"
      },
      "execution_count": 24,
      "outputs": [
        {
          "output_type": "stream",
          "name": "stdout",
          "text": [
            "Downloading https://www.cs.toronto.edu/~kriz/cifar-10-python.tar.gz to /content/dlwpt-code/p1ch7/cifar-10-python.tar.gz\n"
          ]
        },
        {
          "output_type": "display_data",
          "data": {
            "text/plain": [
              "  0%|          | 0/170498071 [00:00<?, ?it/s]"
            ],
            "application/vnd.jupyter.widget-view+json": {
              "version_major": 2,
              "version_minor": 0,
              "model_id": "b27e244fe383458d8fc0cc1f82e24b83"
            }
          },
          "metadata": {}
        },
        {
          "output_type": "stream",
          "name": "stdout",
          "text": [
            "Extracting /content/dlwpt-code/p1ch7/cifar-10-python.tar.gz to /content/dlwpt-code/p1ch7\n",
            "Files already downloaded and verified\n"
          ]
        }
      ]
    },
    {
      "cell_type": "code",
      "source": [
        "class_names = ['airplane','automobile','bird','cat','deer',\n",
        "               'dog','frog','horse','ship','truck']\n",
        "\n",
        "fig = plt.figure(figsize=(8,3))\n",
        "num_classes = 10\n",
        "for i in range(num_classes):\n",
        "    ax = fig.add_subplot(2, 5, 1 + i, xticks=[], yticks=[])\n",
        "    ax.set_title(class_names[i])\n",
        "    img = next(img for img, label in cifar10 if label == i)\n",
        "    plt.imshow(img)\n",
        "plt.show()"
      ],
      "metadata": {
        "colab": {
          "base_uri": "https://localhost:8080/",
          "height": 213
        },
        "id": "yRAQ6jxF6DT2",
        "outputId": "ff758837-def1-4a7c-990e-02b3968281f1"
      },
      "execution_count": 25,
      "outputs": [
        {
          "output_type": "display_data",
          "data": {
            "text/plain": [
              "<Figure size 576x216 with 10 Axes>"
            ],
            "image/png": "[encoded data removed]"
          },
          "metadata": {}
        }
      ]
    },
    {
      "cell_type": "markdown",
      "source": [
        "데이터셋은 `torch.utils.data.dataset.Dataset`의 서브클래스로 반환된다. cifar10 인스턴스의 메소드를 분석해보면 기본 클래스로 포함된 것을 알 수 있다."
      ],
      "metadata": {
        "id": "R0Jw0TA43Pi_"
      }
    },
    {
      "cell_type": "code",
      "source": [
        "type(cifar10).__mro__"
      ],
      "metadata": {
        "colab": {
          "base_uri": "https://localhost:8080/"
        },
        "id": "o_wFltg82ej_",
        "outputId": "c0e9fc72-f100-4585-a5a6-3c0c0e1fcaf7"
      },
      "execution_count": 26,
      "outputs": [
        {
          "output_type": "execute_result",
          "data": {
            "text/plain": [
              "(torchvision.datasets.cifar.CIFAR10,\n",
              " torchvision.datasets.vision.VisionDataset,\n",
              " torch.utils.data.dataset.Dataset,\n",
              " typing.Generic,\n",
              " object)"
            ]
          },
          "metadata": {},
          "execution_count": 26
        }
      ]
    },
    {
      "cell_type": "markdown",
      "source": [
        "파이토치 Dataset 객체 개념: 데이터를 직접 들고 있지는 않지만 `__len__`과 `__getitem__`을 통해 일관적으로 접근할 수 있게 해준다."
      ],
      "metadata": {
        "id": "Pu-m91M338m2"
      }
    },
    {
      "cell_type": "code",
      "source": [
        "display(cifar10.__len__)\n",
        "len(cifar10)"
      ],
      "metadata": {
        "colab": {
          "base_uri": "https://localhost:8080/",
          "height": 109
        },
        "id": "_NYFChKY3psX",
        "outputId": "22a5efb6-660b-47b7-aa23-a4f669446916"
      },
      "execution_count": 27,
      "outputs": [
        {
          "output_type": "display_data",
          "data": {
            "text/plain": [
              "<bound method CIFAR10.__len__ of Dataset CIFAR10\n",
              "    Number of datapoints: 50000\n",
              "    Root location: /content/dlwpt-code/p1ch7\n",
              "    Split: Train>"
            ]
          },
          "metadata": {}
        },
        {
          "output_type": "execute_result",
          "data": {
            "text/plain": [
              "50000"
            ]
          },
          "metadata": {},
          "execution_count": 27
        }
      ]
    },
    {
      "cell_type": "code",
      "source": [
        "display(cifar10.__getitem__)\n",
        "cifar10[4]"
      ],
      "metadata": {
        "colab": {
          "base_uri": "https://localhost:8080/",
          "height": 109
        },
        "id": "QB0hZTzI34A-",
        "outputId": "e660a1fd-3bc1-43d9-8a93-9d328653d0a1"
      },
      "execution_count": 28,
      "outputs": [
        {
          "output_type": "display_data",
          "data": {
            "text/plain": [
              "<bound method CIFAR10.__getitem__ of Dataset CIFAR10\n",
              "    Number of datapoints: 50000\n",
              "    Root location: /content/dlwpt-code/p1ch7\n",
              "    Split: Train>"
            ]
          },
          "metadata": {}
        },
        {
          "output_type": "execute_result",
          "data": {
            "text/plain": [
              "(<PIL.Image.Image image mode=RGB size=32x32 at 0x7F09E7D7D190>, 1)"
            ]
          },
          "metadata": {},
          "execution_count": 28
        }
      ]
    },
    {
      "cell_type": "markdown",
      "source": [
        "### 데이터셋 클래스"
      ],
      "metadata": {
        "id": "DDdbL_E95Hs2"
      }
    },
    {
      "cell_type": "code",
      "source": [
        "img, label = cifar10[99]\n",
        "img, label, class_names[label]"
      ],
      "metadata": {
        "colab": {
          "base_uri": "https://localhost:8080/"
        },
        "id": "7yDBcFUm5KMm",
        "outputId": "6db4c94f-9dfe-4e41-c4e1-a52a10d857eb"
      },
      "execution_count": 29,
      "outputs": [
        {
          "output_type": "execute_result",
          "data": {
            "text/plain": [
              "(<PIL.Image.Image image mode=RGB size=32x32 at 0x7F09E7D7D340>,\n",
              " 1,\n",
              " 'automobile')"
            ]
          },
          "metadata": {},
          "execution_count": 29
        }
      ]
    },
    {
      "cell_type": "code",
      "source": [
        "plt.imshow(img)\n",
        "plt.show()"
      ],
      "metadata": {
        "colab": {
          "base_uri": "https://localhost:8080/",
          "height": 266
        },
        "id": "Wj9QbiRf6Kml",
        "outputId": "859cc21d-f42a-4f4c-9b08-6a1e32688150"
      },
      "execution_count": 30,
      "outputs": [
        {
          "output_type": "display_data",
          "data": {
            "text/plain": [
              "<Figure size 432x288 with 1 Axes>"
            ],
            "image/png": "[encoded data removed]"
          },
          "metadata": {
            "needs_background": "light"
          }
        }
      ]
    },
    {
      "cell_type": "markdown",
      "source": [
        "### 데이터 변환"
      ],
      "metadata": {
        "id": "ucfy-ZYl6Xb1"
      }
    },
    {
      "cell_type": "code",
      "source": [
        "from torchvision import transforms\n",
        "dir(transforms)"
      ],
      "metadata": {
        "colab": {
          "base_uri": "https://localhost:8080/"
        },
        "id": "D00kpSIR6ZBd",
        "outputId": "e4d1a3a1-c77e-4589-fa25-f86f80f29195"
      },
      "execution_count": 31,
      "outputs": [
        {
          "output_type": "execute_result",
          "data": {
            "text/plain": [
              "['AugMix',\n",
              " 'AutoAugment',\n",
              " 'AutoAugmentPolicy',\n",
              " 'CenterCrop',\n",
              " 'ColorJitter',\n",
              " 'Compose',\n",
              " 'ConvertImageDtype',\n",
              " 'ElasticTransform',\n",
              " 'FiveCrop',\n",
              " 'GaussianBlur',\n",
              " 'Grayscale',\n",
              " 'InterpolationMode',\n",
              " 'Lambda',\n",
              " 'LinearTransformation',\n",
              " 'Normalize',\n",
              " 'PILToTensor',\n",
              " 'Pad',\n",
              " 'RandAugment',\n",
              " 'RandomAdjustSharpness',\n",
              " 'RandomAffine',\n",
              " 'RandomApply',\n",
              " 'RandomAutocontrast',\n",
              " 'RandomChoice',\n",
              " 'RandomCrop',\n",
              " 'RandomEqualize',\n",
              " 'RandomErasing',\n",
              " 'RandomGrayscale',\n",
              " 'RandomHorizontalFlip',\n",
              " 'RandomInvert',\n",
              " 'RandomOrder',\n",
              " 'RandomPerspective',\n",
              " 'RandomPosterize',\n",
              " 'RandomResizedCrop',\n",
              " 'RandomRotation',\n",
              " 'RandomSolarize',\n",
              " 'RandomVerticalFlip',\n",
              " 'Resize',\n",
              " 'TenCrop',\n",
              " 'ToPILImage',\n",
              " 'ToTensor',\n",
              " 'TrivialAugmentWide',\n",
              " '__builtins__',\n",
              " '__cached__',\n",
              " '__doc__',\n",
              " '__file__',\n",
              " '__loader__',\n",
              " '__name__',\n",
              " '__package__',\n",
              " '__path__',\n",
              " '__spec__',\n",
              " '_pil_constants',\n",
              " '_presets',\n",
              " 'autoaugment',\n",
              " 'functional',\n",
              " 'functional_pil',\n",
              " 'functional_tensor',\n",
              " 'transforms']"
            ]
          },
          "metadata": {},
          "execution_count": 31
        }
      ]
    },
    {
      "cell_type": "markdown",
      "source": [
        "torchvision의 transforms에서 ToTensor 메서드로 넘파이 배열, 이미지를 텐서로 만들기"
      ],
      "metadata": {
        "id": "RyFs7XoL684j"
      }
    },
    {
      "cell_type": "code",
      "source": [
        "from torchvision import transforms\n",
        "\n",
        "to_tensor = transforms.ToTensor()\n",
        "img_t = to_tensor(img)\n",
        "img_t.shape"
      ],
      "metadata": {
        "colab": {
          "base_uri": "https://localhost:8080/"
        },
        "id": "1QAyXhD76wR2",
        "outputId": "4d6641ec-3fd4-4875-850b-4184b7c8fe47"
      },
      "execution_count": 32,
      "outputs": [
        {
          "output_type": "execute_result",
          "data": {
            "text/plain": [
              "torch.Size([3, 32, 32])"
            ]
          },
          "metadata": {},
          "execution_count": 32
        }
      ]
    },
    {
      "cell_type": "markdown",
      "source": [
        "transforms에서 ToTensor 메서드로 변환 자체를 dataset.CIFAR10의 인자로 전달하기 "
      ],
      "metadata": {
        "id": "x9wTBJi67dqd"
      }
    },
    {
      "cell_type": "code",
      "source": [
        "tensor_cifar10 = datasets.CIFAR10(data_path, train=True, download=True, transform=transforms.ToTensor())\n",
        "tensor_cifar10"
      ],
      "metadata": {
        "colab": {
          "base_uri": "https://localhost:8080/"
        },
        "id": "RR26BwXt7r9U",
        "outputId": "f1aa167a-338e-48e3-af91-bff6c211e39d"
      },
      "execution_count": 33,
      "outputs": [
        {
          "output_type": "stream",
          "name": "stdout",
          "text": [
            "Files already downloaded and verified\n"
          ]
        },
        {
          "output_type": "execute_result",
          "data": {
            "text/plain": [
              "Dataset CIFAR10\n",
              "    Number of datapoints: 50000\n",
              "    Root location: /content/dlwpt-code/p1ch7\n",
              "    Split: Train\n",
              "    StandardTransform\n",
              "Transform: ToTensor()"
            ]
          },
          "metadata": {},
          "execution_count": 33
        }
      ]
    },
    {
      "cell_type": "code",
      "source": [
        "img_t, _ = tensor_cifar10[99]\n",
        "type(img_t)"
      ],
      "metadata": {
        "colab": {
          "base_uri": "https://localhost:8080/"
        },
        "id": "7FWrBjfn8Oy8",
        "outputId": "a81f882c-772a-4b65-b9d9-f35f84b8341e"
      },
      "execution_count": 34,
      "outputs": [
        {
          "output_type": "execute_result",
          "data": {
            "text/plain": [
              "torch.Tensor"
            ]
          },
          "metadata": {},
          "execution_count": 34
        }
      ]
    },
    {
      "cell_type": "code",
      "source": [
        "img_t.shape, img_t.dtype"
      ],
      "metadata": {
        "colab": {
          "base_uri": "https://localhost:8080/"
        },
        "id": "mUvOCOUF8dAE",
        "outputId": "06dba44f-14f0-49d0-f42f-140a1ceacd78"
      },
      "execution_count": 35,
      "outputs": [
        {
          "output_type": "execute_result",
          "data": {
            "text/plain": [
              "(torch.Size([3, 32, 32]), torch.float32)"
            ]
          },
          "metadata": {},
          "execution_count": 35
        }
      ]
    },
    {
      "cell_type": "markdown",
      "source": [
        "원본 `PIL 이미지` 값은 `0에서 255(채널당 8비트)` 범위인 반면 `ToTensor 변환`으로 데이터가 `채널당 32비트 부동소수점 형태`가 되면서 값이 `0.0`에서 `1.0` 사이로 범위가 줄어든다."
      ],
      "metadata": {
        "id": "X_tQmFnr9QOk"
      }
    },
    {
      "cell_type": "code",
      "source": [
        "img_t.min(), img_t.max()"
      ],
      "metadata": {
        "colab": {
          "base_uri": "https://localhost:8080/"
        },
        "id": "B1uG7KTw9eWD",
        "outputId": "82e60260-0f28-43dd-b400-0f66eb0562ea"
      },
      "execution_count": 36,
      "outputs": [
        {
          "output_type": "execute_result",
          "data": {
            "text/plain": [
              "(tensor(0.), tensor(1.))"
            ]
          },
          "metadata": {},
          "execution_count": 36
        }
      ]
    },
    {
      "cell_type": "code",
      "source": [
        "# matplotlib에서는 permute로 H X W X C 형태로 바꿈\n",
        "plt.imshow(img_t.permute(1, 2, 0))  # C X H X W를 H X W X C로 바꿔준다.\n",
        "plt.show()"
      ],
      "metadata": {
        "colab": {
          "base_uri": "https://localhost:8080/",
          "height": 266
        },
        "id": "Tx5OzciZ9uzU",
        "outputId": "b948e968-81b2-4190-facb-779fe1c5ce47"
      },
      "execution_count": 37,
      "outputs": [
        {
          "output_type": "display_data",
          "data": {
            "text/plain": [
              "<Figure size 432x288 with 1 Axes>"
            ],
            "image/png": "[encoded data removed]"
          },
          "metadata": {
            "needs_background": "light"
          }
        }
      ]
    },
    {
      "cell_type": "markdown",
      "source": [
        "### 데이터 정규화"
      ],
      "metadata": {
        "id": "tPBiRPMk-Uuj"
      }
    },
    {
      "cell_type": "markdown",
      "source": [
        "데이터셋 정규화로 각 채널이 평균값 0과 단위 표준 편차를 만드는 연습을 해보자.  \n",
        "평균값 0과 단위 표준 편차가 필요한 이유\n",
        "* -1, 1 혹은 -2, 2 사이에서 선형인 활성 함수를 택하고 데이터를 같은 범위에서 평균을 가지게 된다면 뉴런은 0이 아닌 기울기를 가지게 되므로 빨리 학습할 수 있다.\n",
        "* 각 채널을 정규화해 동일한 분산을 가지게 된다면 채널 정보가 동일한 학습률로 경사 하강을 통해 섞이고 업데이트되는 것을 보장할 수 있다.\n"
      ],
      "metadata": {
        "id": "q1JcQJgXINP6"
      }
    },
    {
      "cell_type": "code",
      "source": [
        "imgs = torch.stack([img_t for img_t, _ in tensor_cifar10], dim=3)\n",
        "imgs.shape"
      ],
      "metadata": {
        "colab": {
          "base_uri": "https://localhost:8080/"
        },
        "id": "-tNFixHc-CAF",
        "outputId": "6a5d35c5-54dd-4d0c-fde9-543a28ad1185"
      },
      "execution_count": 38,
      "outputs": [
        {
          "output_type": "execute_result",
          "data": {
            "text/plain": [
              "torch.Size([3, 32, 32, 50000])"
            ]
          },
          "metadata": {},
          "execution_count": 38
        }
      ]
    },
    {
      "cell_type": "code",
      "source": [
        "imgs[0]"
      ],
      "metadata": {
        "colab": {
          "base_uri": "https://localhost:8080/"
        },
        "id": "8AMkRzJDENPL",
        "outputId": "9c256c7a-bc9c-4e2e-943a-f17cee630c45"
      },
      "execution_count": 39,
      "outputs": [
        {
          "output_type": "execute_result",
          "data": {
            "text/plain": [
              "tensor([[[0.2314, 0.6039, 1.0000,  ..., 0.1373, 0.7412, 0.8980],\n",
              "         [0.1686, 0.4941, 0.9922,  ..., 0.1569, 0.7294, 0.9255],\n",
              "         [0.1961, 0.4118, 0.9922,  ..., 0.1647, 0.7255, 0.9176],\n",
              "         ...,\n",
              "         [0.6196, 0.3569, 0.9922,  ..., 0.3882, 0.6863, 0.8510],\n",
              "         [0.5961, 0.3412, 0.9922,  ..., 0.3098, 0.6745, 0.8667],\n",
              "         [0.5804, 0.3098, 0.9922,  ..., 0.3490, 0.6627, 0.8706]],\n",
              "\n",
              "        [[0.0627, 0.5490, 1.0000,  ..., 0.2235, 0.7608, 0.8706],\n",
              "         [0.0000, 0.5686, 1.0000,  ..., 0.1725, 0.7490, 0.9373],\n",
              "         [0.0706, 0.4902, 1.0000,  ..., 0.1961, 0.7451, 0.9137],\n",
              "         ...,\n",
              "         [0.4824, 0.3765, 1.0000,  ..., 0.6118, 0.6784, 0.8745],\n",
              "         [0.4667, 0.3020, 1.0000,  ..., 0.5529, 0.6706, 0.8902],\n",
              "         [0.4784, 0.2784, 1.0000,  ..., 0.4549, 0.6549, 0.8235]],\n",
              "\n",
              "        [[0.0980, 0.5490, 1.0000,  ..., 0.3843, 0.8157, 0.8353],\n",
              "         [0.0627, 0.5451, 0.9961,  ..., 0.2510, 0.8039, 0.9176],\n",
              "         [0.1922, 0.4510, 0.9961,  ..., 0.2706, 0.8000, 0.9059],\n",
              "         ...,\n",
              "         [0.4627, 0.3098, 0.9961,  ..., 0.7373, 0.6863, 0.8627],\n",
              "         [0.4706, 0.2667, 0.9961,  ..., 0.4667, 0.6745, 0.8627],\n",
              "         [0.4275, 0.2627, 0.9961,  ..., 0.2392, 0.6627, 0.7922]],\n",
              "\n",
              "        ...,\n",
              "\n",
              "        [[0.8157, 0.6863, 0.4431,  ..., 0.2863, 0.8118, 0.5882],\n",
              "         [0.7882, 0.6118, 0.4353,  ..., 0.2078, 0.7961, 0.5490],\n",
              "         [0.7765, 0.6039, 0.4118,  ..., 0.2118, 0.7961, 0.5176],\n",
              "         ...,\n",
              "         [0.6275, 0.1647, 0.2824,  ..., 0.0667, 0.5294, 0.8784],\n",
              "         [0.2196, 0.2392, 0.2824,  ..., 0.0824, 0.6353, 0.9020],\n",
              "         [0.2078, 0.3647, 0.2824,  ..., 0.1294, 0.6588, 0.9451]],\n",
              "\n",
              "        [[0.7059, 0.6471, 0.4353,  ..., 0.2392, 0.7765, 0.5373],\n",
              "         [0.6784, 0.6118, 0.4078,  ..., 0.2157, 0.7412, 0.5098],\n",
              "         [0.7294, 0.6235, 0.3882,  ..., 0.2235, 0.7059, 0.4902],\n",
              "         ...,\n",
              "         [0.7216, 0.4039, 0.2667,  ..., 0.0941, 0.6980, 0.7098],\n",
              "         [0.3804, 0.4824, 0.2745,  ..., 0.0667, 0.6863, 0.7922],\n",
              "         [0.3255, 0.5137, 0.3059,  ..., 0.0275, 0.6863, 0.8314]],\n",
              "\n",
              "        [[0.6941, 0.6392, 0.4157,  ..., 0.1725, 0.7765, 0.4784],\n",
              "         [0.6588, 0.6196, 0.3882,  ..., 0.1804, 0.7412, 0.4627],\n",
              "         [0.7020, 0.6392, 0.3725,  ..., 0.1922, 0.6980, 0.4706],\n",
              "         ...,\n",
              "         [0.8471, 0.5608, 0.3059,  ..., 0.1059, 0.7647, 0.7020],\n",
              "         [0.5922, 0.5608, 0.3098,  ..., 0.0824, 0.7686, 0.6431],\n",
              "         [0.4824, 0.5608, 0.3137,  ..., 0.0471, 0.7647, 0.6392]]])"
            ]
          },
          "metadata": {},
          "execution_count": 39
        }
      ]
    },
    {
      "cell_type": "markdown",
      "source": [
        "view(3, -1)\n",
        "* view(3, -1)은 세 채널은 유지하고 나머지 차원을 적절한 크기 하나로 합친다. 그래서 `3 X 32 X 32 이미지`는 `3 X 1,024 벡터`로 바뀌고 평균은 각 채널의 1,024개 요소에 대해 계산하는 것이다."
      ],
      "metadata": {
        "id": "CLnWDr-kIxaw"
      }
    },
    {
      "cell_type": "code",
      "source": [
        "imgs.view(3, -1).mean(dim=1)"
      ],
      "metadata": {
        "colab": {
          "base_uri": "https://localhost:8080/"
        },
        "id": "Zkd5LuwvEfYy",
        "outputId": "44ed336c-f8a4-440c-a8ae-2cf8dd0c2b73"
      },
      "execution_count": 40,
      "outputs": [
        {
          "output_type": "execute_result",
          "data": {
            "text/plain": [
              "tensor([0.4914, 0.4822, 0.4465])"
            ]
          },
          "metadata": {},
          "execution_count": 40
        }
      ]
    },
    {
      "cell_type": "code",
      "source": [
        "imgs.view(3, -1).std(dim=1)"
      ],
      "metadata": {
        "colab": {
          "base_uri": "https://localhost:8080/"
        },
        "id": "Xb1qUXBrE036",
        "outputId": "1a6f0729-046b-4fcb-a1b1-eb63b62362cd"
      },
      "execution_count": 41,
      "outputs": [
        {
          "output_type": "execute_result",
          "data": {
            "text/plain": [
              "tensor([0.2470, 0.2435, 0.2616])"
            ]
          },
          "metadata": {},
          "execution_count": 41
        }
      ]
    },
    {
      "cell_type": "code",
      "source": [
        "transforms.Normalize((0.4914, 0.4822, 0.4465), (0.2470, 0.2435, 0.2616))"
      ],
      "metadata": {
        "colab": {
          "base_uri": "https://localhost:8080/"
        },
        "id": "b5KncbCzE7eb",
        "outputId": "26c329db-a666-44b7-b366-d8341f8cf026"
      },
      "execution_count": 42,
      "outputs": [
        {
          "output_type": "execute_result",
          "data": {
            "text/plain": [
              "Normalize(mean=(0.4914, 0.4822, 0.4465), std=(0.247, 0.2435, 0.2616))"
            ]
          },
          "metadata": {},
          "execution_count": 42
        }
      ]
    },
    {
      "cell_type": "code",
      "source": [
        "transforms_cifar10 = datasets.CIFAR10(\n",
        "                     data_path, train = True, download = True,\n",
        "                     transform = transforms.Compose([\n",
        "                         transforms.ToTensor(),\n",
        "                         transforms.Normalize((0.4914, 0.4822, 0.4465), \n",
        "                                              (0.2470, 0.2435, 0.2616))\n",
        "                     ]))"
      ],
      "metadata": {
        "colab": {
          "base_uri": "https://localhost:8080/"
        },
        "id": "dKn_v8kfFNRL",
        "outputId": "f03d440d-298b-4421-b28b-cc67fddb2bb0"
      },
      "execution_count": 43,
      "outputs": [
        {
          "output_type": "stream",
          "name": "stdout",
          "text": [
            "Files already downloaded and verified\n"
          ]
        }
      ]
    },
    {
      "cell_type": "code",
      "source": [
        "img_t, _ = transforms_cifar10[99]\n",
        "\n",
        "plt.imshow(img_t.permute(1, 2, 0))\n",
        "plt.show()\n",
        "\n",
        "img_t"
      ],
      "metadata": {
        "colab": {
          "base_uri": "https://localhost:8080/",
          "height": 707
        },
        "id": "UdTEp3HhGG6i",
        "outputId": "5bfb0234-16ed-4f70-f062-d04e6402be6e"
      },
      "execution_count": 44,
      "outputs": [
        {
          "output_type": "stream",
          "name": "stderr",
          "text": [
            "WARNING:matplotlib.image:Clipping input data to the valid range for imshow with RGB data ([0..1] for floats or [0..255] for integers).\n"
          ]
        },
        {
          "output_type": "display_data",
          "data": {
            "text/plain": [
              "<Figure size 432x288 with 1 Axes>"
            ],
            "image/png": "[encoded data removed]"
          },
          "metadata": {
            "needs_background": "light"
          }
        },
        {
          "output_type": "execute_result",
          "data": {
            "text/plain": [
              "tensor([[[-1.0051, -1.1956, -1.2591,  ...,  0.6620,  0.9160,  0.1856],\n",
              "         [-0.9892, -1.1163, -1.1639,  ...,  0.5984,  0.7255,  0.3127],\n",
              "         [-1.0686, -0.9734, -1.1004,  ...,  0.4397,  0.3920, -0.0366],\n",
              "         ...,\n",
              "         [ 0.7413,  0.2809,  0.0745,  ..., -0.4971,  0.2492,  0.2174],\n",
              "         [ 0.9160,  0.3920, -0.7193,  ..., -0.7035,  0.1539,  0.2809],\n",
              "         [ 1.3288,  0.9001,  0.2174,  ..., -1.0527,  0.0745,  0.6937]],\n",
              "\n",
              "        [[-0.9496, -1.1750, -1.2717,  ...,  0.7898,  0.9830,  0.2100],\n",
              "         [-0.9335, -1.1267, -1.1750,  ...,  0.7415,  0.8220,  0.3710],\n",
              "         [-0.9818, -0.9174, -1.0140,  ...,  0.5160,  0.4999,  0.0812],\n",
              "         ...,\n",
              "         [ 0.1939, -0.2087, -1.0784,  ..., -0.7724, -0.2409, -0.2893],\n",
              "         [ 0.3710, -0.0799, -0.9496,  ..., -0.8207, -0.0799,  0.0328],\n",
              "         [ 0.8220,  0.4516, -0.2248,  ..., -1.1106, -0.0638,  0.5321]],\n",
              "\n",
              "        [[-1.0472, -1.3170, -1.4220,  ..., -0.6724, -0.5675, -0.6275],\n",
              "         [-1.1521, -1.3170, -1.3021,  ..., -0.7924, -0.5825, -0.5525],\n",
              "         [-1.1671, -1.1521, -1.1521,  ..., -0.7774, -0.7474, -0.8523],\n",
              "         ...,\n",
              "         [-0.2227, -0.4476, -1.0772,  ..., -0.8673, -0.4176, -0.4926],\n",
              "         [ 0.0471, -0.2827, -1.0472,  ..., -0.8074, -0.2377, -0.0578],\n",
              "         [ 0.4519,  0.1371, -0.4626,  ..., -1.0022, -0.0428,  0.6917]]])"
            ]
          },
          "metadata": {},
          "execution_count": 44
        }
      ]
    },
    {
      "cell_type": "markdown",
      "source": [
        "### 새와 비행기 구별하기"
      ],
      "metadata": {
        "id": "rsPQAUNsGdJ5"
      }
    }
  ]
}