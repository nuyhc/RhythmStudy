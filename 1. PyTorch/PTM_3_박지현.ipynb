{
  "nbformat": 4,
  "nbformat_minor": 0,
  "metadata": {
    "colab": {
      "provenance": [],
      "toc_visible": true,
      "authorship_tag": "ABX9TyO3zHlzlMMIhw0REPKu55sU",
      "include_colab_link": true
    },
    "kernelspec": {
      "name": "python3",
      "display_name": "Python 3"
    },
    "language_info": {
      "name": "python"
    },
    "accelerator": "GPU",
    "gpuClass": "standard"
  },
  "cells": [
    {
      "cell_type": "markdown",
      "metadata": {
        "id": "view-in-github",
        "colab_type": "text"
      },
      "source": [
        "<a href=\"https://colab.research.google.com/github/nuyhc/RhythmStudy/blob/main/1.%20PyTorch/PTM_3_%EB%B0%95%EC%A7%80%ED%98%84.ipynb\" target=\"_parent\"><img src=\"https://colab.research.google.com/assets/colab-badge.svg\" alt=\"Open In Colab\"/></a>"
      ]
    },
    {
      "cell_type": "markdown",
      "source": [
        "# [PTM] 6장. 신경망을 활용한 데이터 적합"
      ],
      "metadata": {
        "id": "h3P9takIk6Xd"
      }
    },
    {
      "cell_type": "code",
      "execution_count": 1,
      "metadata": {
        "colab": {
          "base_uri": "https://localhost:8080/"
        },
        "id": "GJO5iBNgk2Hf",
        "outputId": "3d2423a1-5290-4514-e43d-046b7146e890"
      },
      "outputs": [
        {
          "output_type": "stream",
          "name": "stdout",
          "text": [
            "fatal: destination path 'dlwpt-code' already exists and is not an empty directory.\n"
          ]
        }
      ],
      "source": [
        "!git clone https://github.com/deep-learning-with-pytorch/dlwpt-code"
      ]
    },
    {
      "cell_type": "code",
      "source": [
        "# 데이터 수집\n",
        "import torch\n",
        "\n",
        "t_c = [0.5,  14.0, 15.0, 28.0, 11.0,  8.0,  3.0, -4.0,  6.0, 13.0, 21.0]\n",
        "t_u = [35.7, 55.9, 58.2, 81.9, 56.3, 48.9, 33.9, 21.8, 48.4, 60.4, 68.4]\n",
        "t_c = torch.tensor(t_c).unsqueeze(1)\n",
        "t_u = torch.tensor(t_u).unsqueeze(1)\n",
        "\n",
        "print(t_u.shape)\n",
        "t_c, t_u"
      ],
      "metadata": {
        "colab": {
          "base_uri": "https://localhost:8080/"
        },
        "id": "mdgKhodrmEvd",
        "outputId": "89934c4a-1f9e-466b-89c6-129a86a5e910"
      },
      "execution_count": 2,
      "outputs": [
        {
          "output_type": "stream",
          "name": "stdout",
          "text": [
            "torch.Size([11, 1])\n"
          ]
        },
        {
          "output_type": "execute_result",
          "data": {
            "text/plain": [
              "(tensor([[ 0.5000],\n",
              "         [14.0000],\n",
              "         [15.0000],\n",
              "         [28.0000],\n",
              "         [11.0000],\n",
              "         [ 8.0000],\n",
              "         [ 3.0000],\n",
              "         [-4.0000],\n",
              "         [ 6.0000],\n",
              "         [13.0000],\n",
              "         [21.0000]]), tensor([[35.7000],\n",
              "         [55.9000],\n",
              "         [58.2000],\n",
              "         [81.9000],\n",
              "         [56.3000],\n",
              "         [48.9000],\n",
              "         [33.9000],\n",
              "         [21.8000],\n",
              "         [48.4000],\n",
              "         [60.4000],\n",
              "         [68.4000]]))"
            ]
          },
          "metadata": {},
          "execution_count": 2
        }
      ]
    },
    {
      "cell_type": "code",
      "source": [
        "n_samples = t_u.shape[0]\n",
        "n_val = int(0.2 * n_samples)\n",
        "\n",
        "shuffled_indices = torch.randperm(n_samples)\n",
        "\n",
        "train_indices = shuffled_indices[:-n_val]\n",
        "val_indices = shuffled_indices[-n_val:]\n",
        "\n",
        "train_indices, val_indices"
      ],
      "metadata": {
        "colab": {
          "base_uri": "https://localhost:8080/"
        },
        "id": "wTatw__LL6Dm",
        "outputId": "bd0a410d-9d3f-455e-ba77-12be7125e6bd"
      },
      "execution_count": 3,
      "outputs": [
        {
          "output_type": "execute_result",
          "data": {
            "text/plain": [
              "(tensor([ 2,  4,  3,  9,  8,  7,  0,  5, 10]), tensor([6, 1]))"
            ]
          },
          "metadata": {},
          "execution_count": 3
        }
      ]
    },
    {
      "cell_type": "code",
      "source": [
        "t_u_train = t_u[train_indices]\n",
        "t_c_train = t_c[train_indices]\n",
        "\n",
        "t_u_val = t_u[val_indices]\n",
        "t_c_val = t_c[val_indices]\n",
        "\n",
        "t_un_train = 0.1 * t_u_train\n",
        "t_un_val = 0.1 * t_u_val"
      ],
      "metadata": {
        "id": "WBxtpNwYMmGG"
      },
      "execution_count": 4,
      "outputs": []
    },
    {
      "cell_type": "markdown",
      "source": [
        "### 파이토치 nn 모듈\n",
        "forward 대신 __call__ 사용하기\n",
        "* 파이토치가 제공하는 nn.Module의 모든 서브클래스에는 __call__ 메소드가 정의되어 있다. 이를 통해 nn.Linear를 인스턴스화하여 마치 함수인 것처럼 실행할 수 있다.\n",
        "\n",
        "nn.Linear\n",
        "* `nn.Linear`은 세 개의 인자를 갖는다. 입력 피처의 수, 출력 피처의 수, 선형 모델이 편향값을 포함하는지 여부이다."
      ],
      "metadata": {
        "id": "s4OXjMEMK7SG"
      }
    },
    {
      "cell_type": "code",
      "source": [
        "import torch.nn as nn\n",
        "\n",
        "linear_model = nn.Linear(1, 1)  # 피처 수는 모듈에 대한 입출력 텐서 크기와 같아서, 값이 각각 1, 1이다.\n",
        "linear_model(t_un_val)"
      ],
      "metadata": {
        "colab": {
          "base_uri": "https://localhost:8080/"
        },
        "id": "LUajerfMK0zX",
        "outputId": "e73d311e-a6c9-4905-ca22-c62bbd1abc6f"
      },
      "execution_count": 5,
      "outputs": [
        {
          "output_type": "execute_result",
          "data": {
            "text/plain": [
              "tensor([[1.8071],\n",
              "        [3.2039]], grad_fn=<AddmmBackward0>)"
            ]
          },
          "metadata": {},
          "execution_count": 5
        }
      ]
    },
    {
      "cell_type": "markdown",
      "source": [
        "하나의 입력 피처와 출력 피처를 가진 nn.Linear 인스턴스\n",
        "* 이 인스턴스는 weight와 bias값을 요구한다."
      ],
      "metadata": {
        "id": "kkG-NkeTO9_l"
      }
    },
    {
      "cell_type": "code",
      "source": [
        "display(linear_model.weight)\n",
        "linear_model.bias"
      ],
      "metadata": {
        "colab": {
          "base_uri": "https://localhost:8080/",
          "height": 91
        },
        "id": "rRym1mPPK1R8",
        "outputId": "2e9868a2-e851-4474-9c91-88015cb6961f"
      },
      "execution_count": 6,
      "outputs": [
        {
          "output_type": "display_data",
          "data": {
            "text/plain": [
              "Parameter containing:\n",
              "tensor([[0.6349]], requires_grad=True)"
            ]
          },
          "metadata": {}
        },
        {
          "output_type": "execute_result",
          "data": {
            "text/plain": [
              "Parameter containing:\n",
              "tensor([-0.3451], requires_grad=True)"
            ]
          },
          "metadata": {},
          "execution_count": 6
        }
      ]
    },
    {
      "cell_type": "code",
      "source": [
        "# 입력값으로 모듈 호출\n",
        "x = torch.ones(1)\n",
        "linear_model(x)"
      ],
      "metadata": {
        "colab": {
          "base_uri": "https://localhost:8080/"
        },
        "id": "_VHtPG7MK183",
        "outputId": "c7e59b83-b029-4dff-c2a4-9dfe595f7fea"
      },
      "execution_count": 7,
      "outputs": [
        {
          "output_type": "execute_result",
          "data": {
            "text/plain": [
              "tensor([0.2898], grad_fn=<AddBackward0>)"
            ]
          },
          "metadata": {},
          "execution_count": 7
        }
      ]
    },
    {
      "cell_type": "markdown",
      "source": [
        "### 배치 입력 만들기\n",
        "nn에 있는 모든 모듈은 한 번에 여러 입력을 가진 batch에 대한 출력을 만들도록 작성되었다. \n",
        "  \n",
        "[아래 코드]\n",
        "* 10개의 샘플에 대해 nn.Linear을 실행해야 한다고 가정해보자. B가 배치의 크기이고, Nin이 입력 피처의 크기라면 크기가 B X Nin인 입력 텐서를 만들고 모델로 실행하는 이다."
      ],
      "metadata": {
        "id": "x_5cCn1KR_nk"
      }
    },
    {
      "cell_type": "code",
      "source": [
        "x = torch.ones(10, 1)\n",
        "linear_model(x)"
      ],
      "metadata": {
        "colab": {
          "base_uri": "https://localhost:8080/"
        },
        "id": "FBWIk3oTK2Gn",
        "outputId": "8c84f981-7e5c-4b40-ad38-6e204af61e2d"
      },
      "execution_count": 8,
      "outputs": [
        {
          "output_type": "execute_result",
          "data": {
            "text/plain": [
              "tensor([[0.2898],\n",
              "        [0.2898],\n",
              "        [0.2898],\n",
              "        [0.2898],\n",
              "        [0.2898],\n",
              "        [0.2898],\n",
              "        [0.2898],\n",
              "        [0.2898],\n",
              "        [0.2898],\n",
              "        [0.2898]], grad_fn=<AddmmBackward0>)"
            ]
          },
          "metadata": {},
          "execution_count": 8
        }
      ]
    },
    {
      "cell_type": "markdown",
      "source": [
        "### 배치 최적화\n",
        "배치를 수행하는 이유\n",
        "* 주요 이유 중 하나는 연산량을 충분히 크게 만들어 준비한 자원을 최대한 활용하기 위함이다."
      ],
      "metadata": {
        "id": "Dqe0mXg3T9AZ"
      }
    },
    {
      "cell_type": "code",
      "source": [
        "t_c = [0.5,  14.0, 15.0, 28.0, 11.0,  8.0,  3.0, -4.0,  6.0, 13.0, 21.0]\n",
        "t_u = [35.7, 55.9, 58.2, 81.9, 56.3, 48.9, 33.9, 21.8, 48.4, 60.4, 68.4]\n",
        "t_c = torch.tensor(t_c).unsqueeze(1)\n",
        "t_u = torch.tensor(t_u).unsqueeze(1)\n",
        "\n",
        "t_u.shape"
      ],
      "metadata": {
        "colab": {
          "base_uri": "https://localhost:8080/"
        },
        "id": "Eq33LjD4K2PH",
        "outputId": "c646b26c-dfb0-4841-c785-4f0617b69d0c"
      },
      "execution_count": 9,
      "outputs": [
        {
          "output_type": "execute_result",
          "data": {
            "text/plain": [
              "torch.Size([11, 1])"
            ]
          },
          "metadata": {},
          "execution_count": 9
        }
      ]
    },
    {
      "cell_type": "markdown",
      "source": [
        "학습 코드 업데이트\n",
        "* 작성한 모델을 nn.Linear(1, 1)로 바꾼 후 옵티마이저에 선형 모델 파라미터 전달"
      ],
      "metadata": {
        "id": "9fnYyMgoV6Ii"
      }
    },
    {
      "cell_type": "code",
      "source": [
        "import torch.optim as optim\n",
        "\n",
        "linear_model = nn.Linear(1, 1)\n",
        "optimizer = optim.SGD(\n",
        "    linear_model.parameters(),  # [params] 대신 넣은 것  \n",
        "    lr = 1e-2\n",
        ")"
      ],
      "metadata": {
        "id": "fK8gyIIDK2XK"
      },
      "execution_count": 10,
      "outputs": []
    },
    {
      "cell_type": "code",
      "source": [
        "linear_model.parameters()"
      ],
      "metadata": {
        "colab": {
          "base_uri": "https://localhost:8080/"
        },
        "id": "Ml1cVtj8K2e3",
        "outputId": "ac5056ad-6bf5-4f22-e8c7-f8cd0e556258"
      },
      "execution_count": 11,
      "outputs": [
        {
          "output_type": "execute_result",
          "data": {
            "text/plain": [
              "<generator object Module.parameters at 0x7fb801639c80>"
            ]
          },
          "metadata": {},
          "execution_count": 11
        }
      ]
    },
    {
      "cell_type": "code",
      "source": [
        "list(linear_model.parameters())"
      ],
      "metadata": {
        "colab": {
          "base_uri": "https://localhost:8080/"
        },
        "id": "7s2LnqntK2xJ",
        "outputId": "a3ec0e17-99bc-4f8f-9806-bb2ecfb904f8"
      },
      "execution_count": 12,
      "outputs": [
        {
          "output_type": "execute_result",
          "data": {
            "text/plain": [
              "[Parameter containing:\n",
              " tensor([[-0.5870]], requires_grad=True), Parameter containing:\n",
              " tensor([-0.3890], requires_grad=True)]"
            ]
          },
          "metadata": {},
          "execution_count": 12
        }
      ]
    },
    {
      "cell_type": "code",
      "source": [
        "def training_loop(n_epochs, optimizer, model, loss_fn, t_u_train, t_u_val,\n",
        "                  t_c_train, t_c_val):\n",
        "    for epoch in range(1, n_epochs + 1):\n",
        "        t_p_train = model(t_u_train)\n",
        "        loss_train = loss_fn(t_p_train, t_c_train)\n",
        "\n",
        "        t_p_val = model(t_u_val)\n",
        "        loss_val = loss_fn(t_p_val, t_c_val)\n",
        "\n",
        "        optimizer.zero_grad()\n",
        "        loss_train.backward()\n",
        "        optimizer.step()\n",
        "\n",
        "        if epoch == 1 or epoch % 1000 == 0:\n",
        "            print(f'Epoch {epoch}, Training Loss {loss_train.item():.4f},',\n",
        "                  f'Validation Loss {loss_val.item():.4f}')"
      ],
      "metadata": {
        "id": "LE4dLDEGK27p"
      },
      "execution_count": 13,
      "outputs": []
    },
    {
      "cell_type": "code",
      "source": [
        "linear_model = nn.Linear(1, 1)\n",
        "optimizer = optim.SGD(linear_model.parameters(), lr=1e-2)\n",
        "\n",
        "training_loop(\n",
        "    n_epochs = 3000,\n",
        "    optimizer = optimizer,\n",
        "    model = linear_model,\n",
        "    loss_fn = nn.MSELoss(),  # 이제 직접 만든 손실 함수는 사용하지 않는다.\n",
        "    t_u_train = t_un_train,\n",
        "    t_u_val = t_un_val,\n",
        "    t_c_train = t_c_train,\n",
        "    t_c_val = t_c_val\n",
        ")\n",
        "\n",
        "print()\n",
        "print(linear_model.weight)\n",
        "print(linear_model.bias)"
      ],
      "metadata": {
        "colab": {
          "base_uri": "https://localhost:8080/"
        },
        "id": "k1I1wILQK3D5",
        "outputId": "9acaa3e4-18ee-4447-9d30-96e2048c332c"
      },
      "execution_count": 14,
      "outputs": [
        {
          "output_type": "stream",
          "name": "stdout",
          "text": [
            "Epoch 1, Training Loss 180.3538, Validation Loss 86.9997\n",
            "Epoch 1000, Training Loss 3.7106, Validation Loss 2.0418\n",
            "Epoch 2000, Training Loss 2.7230, Validation Loss 4.4909\n",
            "Epoch 3000, Training Loss 2.6910, Validation Loss 5.0785\n",
            "\n",
            "Parameter containing:\n",
            "tensor([[5.5009]], requires_grad=True)\n",
            "Parameter containing:\n",
            "tensor([-18.3843], requires_grad=True)\n"
          ]
        }
      ]
    },
    {
      "cell_type": "markdown",
      "source": [
        "### 신경망\n",
        "선형 모델 대신 신경망을 근사 함수로 사용하도록 바꿔보자\n",
        "\n",
        "* nn은 nn.Sequential 컨테이너를 통해 모듈을 간단하게 결합시켜준다.  \n",
        "\n",
        "아래 모델은 한 개의 입력 피처로부터 13개의 은닉된 피처로 펼쳐지며, 결과값을 tanh 활성 함수로 넘겨서 결과로 나운 13개의 숫자를 하나의 출력 피처로 만들기 위해 선형적으로 결합한다. "
      ],
      "metadata": {
        "id": "wltESrkblyQF"
      }
    },
    {
      "cell_type": "code",
      "source": [
        "seq_model = nn.Sequential(\n",
        "            nn.Linear(1, 13),\n",
        "            nn.Tanh(),\n",
        "            nn.Linear(13, 1)\n",
        ")\n",
        "\n",
        "seq_model"
      ],
      "metadata": {
        "id": "NdEtzM5wK3Mo",
        "colab": {
          "base_uri": "https://localhost:8080/"
        },
        "outputId": "abd9c0c6-1296-49e5-9325-0a27d6221321"
      },
      "execution_count": 15,
      "outputs": [
        {
          "output_type": "execute_result",
          "data": {
            "text/plain": [
              "Sequential(\n",
              "  (0): Linear(in_features=1, out_features=13, bias=True)\n",
              "  (1): Tanh()\n",
              "  (2): Linear(in_features=13, out_features=1, bias=True)\n",
              ")"
            ]
          },
          "metadata": {},
          "execution_count": 15
        }
      ]
    },
    {
      "cell_type": "markdown",
      "source": [
        "파라미터 살펴보기"
      ],
      "metadata": {
        "id": "96fa9RdNNEhA"
      }
    },
    {
      "cell_type": "code",
      "source": [
        "[param.shape for param in seq_model.parameters()]"
      ],
      "metadata": {
        "id": "GctBlkU9K3V6",
        "colab": {
          "base_uri": "https://localhost:8080/"
        },
        "outputId": "0ef4af14-c131-4c84-af75-5799d106c79f"
      },
      "execution_count": 16,
      "outputs": [
        {
          "output_type": "execute_result",
          "data": {
            "text/plain": [
              "[torch.Size([13, 1]), torch.Size([13]), torch.Size([1, 13]), torch.Size([1])]"
            ]
          },
          "metadata": {},
          "execution_count": 16
        }
      ]
    },
    {
      "cell_type": "markdown",
      "source": [
        "여러 개의 서브 모듈로 만들어진 모델의 파라미터를 추적할 경우, 파라미터를 이름으로 식별가능하게 하면 매우 편리하다."
      ],
      "metadata": {
        "id": "RPstqY5oQBjG"
      }
    },
    {
      "cell_type": "code",
      "source": [
        "# named_parameters\n",
        "for name, param in seq_model.named_parameters():\n",
        "    print(name, param.shape)"
      ],
      "metadata": {
        "id": "NuM9byhRK3gm",
        "colab": {
          "base_uri": "https://localhost:8080/"
        },
        "outputId": "2b6443c2-f21f-4fe8-c9da-8a234bc6054a"
      },
      "execution_count": 17,
      "outputs": [
        {
          "output_type": "stream",
          "name": "stdout",
          "text": [
            "0.weight torch.Size([13, 1])\n",
            "0.bias torch.Size([13])\n",
            "2.weight torch.Size([1, 13])\n",
            "2.bias torch.Size([1])\n"
          ]
        }
      ]
    },
    {
      "cell_type": "markdown",
      "source": [
        "Sequential은 OrderedDict라는 인자를 받는데, 여기에 각 모듈의 이름을 정해서 전달할 수 있다."
      ],
      "metadata": {
        "id": "nCpgpkknQvPn"
      }
    },
    {
      "cell_type": "code",
      "source": [
        "from collections import OrderedDict\n",
        "\n",
        "seq_model = nn.Sequential(OrderedDict([  # 연속적인 경로를 만들어낸다는 점에서 Sequential이라는 이름이 매우 적절함\n",
        "            ('hidden_linear', nn.Linear(1, 8)),\n",
        "            ('hidden_activation', nn.Tanh()),\n",
        "            ('output_linear', nn.Linear(8, 1))\n",
        "]))\n",
        "\n",
        "seq_model"
      ],
      "metadata": {
        "colab": {
          "base_uri": "https://localhost:8080/"
        },
        "id": "6tVdv3T9Qvj_",
        "outputId": "b25ac8d5-9eb3-4fa8-d673-60e82d919b15"
      },
      "execution_count": 18,
      "outputs": [
        {
          "output_type": "execute_result",
          "data": {
            "text/plain": [
              "Sequential(\n",
              "  (hidden_linear): Linear(in_features=1, out_features=8, bias=True)\n",
              "  (hidden_activation): Tanh()\n",
              "  (output_linear): Linear(in_features=8, out_features=1, bias=True)\n",
              ")"
            ]
          },
          "metadata": {},
          "execution_count": 18
        }
      ]
    },
    {
      "cell_type": "code",
      "source": [
        "for name, param in seq_model.named_parameters():\n",
        "    print(name, param)"
      ],
      "metadata": {
        "colab": {
          "base_uri": "https://localhost:8080/"
        },
        "id": "IUMsGmigR30W",
        "outputId": "641c9013-027b-4f99-c77a-0ebe261ede50"
      },
      "execution_count": 19,
      "outputs": [
        {
          "output_type": "stream",
          "name": "stdout",
          "text": [
            "hidden_linear.weight Parameter containing:\n",
            "tensor([[-0.0029],\n",
            "        [ 0.8202],\n",
            "        [ 0.3619],\n",
            "        [ 0.0901],\n",
            "        [-0.6690],\n",
            "        [ 0.1355],\n",
            "        [-0.3344],\n",
            "        [-0.9977]], requires_grad=True)\n",
            "hidden_linear.bias Parameter containing:\n",
            "tensor([-0.2240,  0.3410,  0.2266,  0.7364,  0.4984, -0.7426,  0.3408,  0.4178],\n",
            "       requires_grad=True)\n",
            "output_linear.weight Parameter containing:\n",
            "tensor([[-0.0196,  0.2961,  0.3079, -0.0930,  0.0606, -0.1258, -0.1089, -0.1359]],\n",
            "       requires_grad=True)\n",
            "output_linear.bias Parameter containing:\n",
            "tensor([0.0692], requires_grad=True)\n"
          ]
        }
      ]
    },
    {
      "cell_type": "code",
      "source": [
        "for name, param in seq_model.named_parameters():\n",
        "    print(name, param.shape)"
      ],
      "metadata": {
        "colab": {
          "base_uri": "https://localhost:8080/"
        },
        "id": "v9S0niq_T25e",
        "outputId": "9ff72bb4-df83-4611-fc0c-1a779026b8c0"
      },
      "execution_count": 20,
      "outputs": [
        {
          "output_type": "stream",
          "name": "stdout",
          "text": [
            "hidden_linear.weight torch.Size([8, 1])\n",
            "hidden_linear.bias torch.Size([8])\n",
            "output_linear.weight torch.Size([1, 8])\n",
            "output_linear.bias torch.Size([1])\n"
          ]
        }
      ]
    },
    {
      "cell_type": "markdown",
      "source": [
        "서브 모듈을 속성처럼 사용해 특정 Parameter에 접근할 수 있다."
      ],
      "metadata": {
        "id": "sbCj6BfWUkac"
      }
    },
    {
      "cell_type": "code",
      "source": [
        "seq_model.output_linear.bias"
      ],
      "metadata": {
        "colab": {
          "base_uri": "https://localhost:8080/"
        },
        "id": "s4cT2IvDUdWN",
        "outputId": "0885bc0b-a3a9-4812-c043-28a55573ffa4"
      },
      "execution_count": 21,
      "outputs": [
        {
          "output_type": "execute_result",
          "data": {
            "text/plain": [
              "Parameter containing:\n",
              "tensor([0.0692], requires_grad=True)"
            ]
          },
          "metadata": {},
          "execution_count": 21
        }
      ]
    },
    {
      "cell_type": "code",
      "source": [
        "optimizer = optim.SGD(seq_model.parameters(), lr=1e-3)\n",
        "\n",
        "training_loop(\n",
        "    n_epochs = 5000,\n",
        "    optimizer = optimizer,\n",
        "    model = seq_model,\n",
        "    loss_fn = nn.MSELoss(),\n",
        "    t_u_train = t_un_train,\n",
        "    t_u_val = t_un_val,\n",
        "    t_c_train = t_c_train,\n",
        "    t_c_val = t_c_val\n",
        ")\n",
        "\n",
        "print('output', seq_model(t_un_val))\n",
        "print('answer', t_c_val)\n",
        "print('hidden', seq_model.hidden_linear.weight.grad)"
      ],
      "metadata": {
        "colab": {
          "base_uri": "https://localhost:8080/"
        },
        "id": "1Jd0ycQPVVut",
        "outputId": "4f0fc0c2-c925-4c59-fb79-8417a1bfb965"
      },
      "execution_count": 22,
      "outputs": [
        {
          "output_type": "stream",
          "name": "stdout",
          "text": [
            "Epoch 1, Training Loss 190.3055, Validation Loss 90.0991\n",
            "Epoch 1000, Training Loss 11.7071, Validation Loss 3.2648\n",
            "Epoch 2000, Training Loss 3.6821, Validation Loss 3.8625\n",
            "Epoch 3000, Training Loss 1.6521, Validation Loss 5.2906\n",
            "Epoch 4000, Training Loss 1.0967, Validation Loss 6.6690\n",
            "Epoch 5000, Training Loss 0.9829, Validation Loss 7.6898\n",
            "output tensor([[-0.0254],\n",
            "        [11.4397]], grad_fn=<AddmmBackward0>)\n",
            "answer tensor([[ 3.],\n",
            "        [14.]])\n",
            "hidden tensor([[-0.1924],\n",
            "        [ 0.0053],\n",
            "        [ 0.7105],\n",
            "        [ 0.0108],\n",
            "        [-0.7047],\n",
            "        [-0.0098],\n",
            "        [-0.7197],\n",
            "        [-0.4822]])\n"
          ]
        }
      ]
    },
    {
      "cell_type": "markdown",
      "source": [
        "### 선형 모델과 비교하기"
      ],
      "metadata": {
        "id": "4IhYvIruaaGj"
      }
    },
    {
      "cell_type": "code",
      "source": [
        "import matplotlib.pyplot as plt\n",
        "\n",
        "t_range = torch.arange(20. , 90. ).unsqueeze(1)\n",
        "\n",
        "fig = plt.figure(dpi=600)\n",
        "plt.xlabel(\"Fahrenheit\")\n",
        "plt.ylabel(\"Celsius\")\n",
        "plt.plot(t_u.numpy(), t_c.numpy(), 'o')  # 입력 데이터\n",
        "plt.plot(t_range.numpy(), seq_model(0.1 * t_range).detach().numpy(),'c-')\n",
        "plt.plot(t_u.numpy(), seq_model(0.1 * t_u).detach().numpy(), 'kx')  # 신경망 모델 그래프\n",
        "\n",
        "plt.show()"
      ],
      "metadata": {
        "colab": {
          "base_uri": "https://localhost:8080/",
          "height": 1000
        },
        "id": "DRJ4DU7CadaD",
        "outputId": "98820919-3799-4b9e-b28f-1656b0131475"
      },
      "execution_count": 23,
      "outputs": [
        {
          "output_type": "display_data",
          "data": {
            "text/plain": [
              "<Figure size 3600x2400 with 1 Axes>"
            ],
            "image/png": "[encoded data removed]"
          },
          "metadata": {
            "needs_background": "light"
          }
        }
      ]
    },
    {
      "cell_type": "markdown",
      "source": [
        "# [PTM] 7장. 새와 비행기 구별하기: 이미지 학습\n",
        "\n",
        "CIFAR-10 다운로드\n",
        "* 32 x 32 크기의 컬러(RGB) 이미지 6만 개로 구성되어 있고 1에서 10까지의 정수로 레이블이 매겨져 있다. 0은 비행기, 1은 자동차, 2는 새, 3은 고양이, 4는 사슴, 5는 강아지, 6은 개구리. 7은 말, 8은 배, 9는 트럭이다."
      ],
      "metadata": {
        "id": "RJJkcyqelIHt"
      }
    },
    {
      "cell_type": "code",
      "source": [
        "from torchvision import datasets\n",
        "data_path = '/content/dlwpt-code/p1ch7'\n",
        "cifar10 = datasets.CIFAR10(data_path, train=True, download=True)\n",
        "cifar10_val = datasets.CIFAR10(data_path, train=False, download=True)"
      ],
      "metadata": {
        "colab": {
          "base_uri": "https://localhost:8080/"
        },
        "id": "iVpxfrEvfbVS",
        "outputId": "78b1c9af-67a8-4512-bfcf-63969a17c306"
      },
      "execution_count": 24,
      "outputs": [
        {
          "output_type": "stream",
          "name": "stdout",
          "text": [
            "Files already downloaded and verified\n",
            "Files already downloaded and verified\n"
          ]
        }
      ]
    },
    {
      "cell_type": "code",
      "source": [
        "class_names = ['airplane','automobile','bird','cat','deer',\n",
        "               'dog','frog','horse','ship','truck']\n",
        "\n",
        "fig = plt.figure(figsize=(8,3))\n",
        "num_classes = 10\n",
        "for i in range(num_classes):\n",
        "    ax = fig.add_subplot(2, 5, 1 + i, xticks=[], yticks=[])\n",
        "    ax.set_title(class_names[i])\n",
        "    img = next(img for img, label in cifar10 if label == i)\n",
        "    plt.imshow(img)\n",
        "plt.show()"
      ],
      "metadata": {
        "colab": {
          "base_uri": "https://localhost:8080/",
          "height": 213
        },
        "id": "yRAQ6jxF6DT2",
        "outputId": "8be2ca4b-9ff6-4404-815d-652dd228e306"
      },
      "execution_count": 25,
      "outputs": [
        {
          "output_type": "display_data",
          "data": {
            "text/plain": [
              "<Figure size 576x216 with 10 Axes>"
            ],
            "image/png": "[encoded data removed]"
          },
          "metadata": {}
        }
      ]
    },
    {
      "cell_type": "markdown",
      "source": [
        "데이터셋은 `torch.utils.data.dataset.Dataset`의 서브클래스로 반환된다. cifar10 인스턴스의 메소드를 분석해보면 기본 클래스로 포함된 것을 알 수 있다."
      ],
      "metadata": {
        "id": "R0Jw0TA43Pi_"
      }
    },
    {
      "cell_type": "code",
      "source": [
        "type(cifar10).__mro__"
      ],
      "metadata": {
        "colab": {
          "base_uri": "https://localhost:8080/"
        },
        "id": "o_wFltg82ej_",
        "outputId": "e6d91d71-ca9f-4503-e2ef-9216e2c1e2fc"
      },
      "execution_count": 26,
      "outputs": [
        {
          "output_type": "execute_result",
          "data": {
            "text/plain": [
              "(torchvision.datasets.cifar.CIFAR10,\n",
              " torchvision.datasets.vision.VisionDataset,\n",
              " torch.utils.data.dataset.Dataset,\n",
              " typing.Generic,\n",
              " object)"
            ]
          },
          "metadata": {},
          "execution_count": 26
        }
      ]
    },
    {
      "cell_type": "markdown",
      "source": [
        "파이토치 Dataset 객체 개념: 데이터를 직접 들고 있지는 않지만 `__len__`과 `__getitem__`을 통해 일관적으로 접근할 수 있게 해준다."
      ],
      "metadata": {
        "id": "Pu-m91M338m2"
      }
    },
    {
      "cell_type": "code",
      "source": [
        "display(cifar10.__len__)\n",
        "len(cifar10)"
      ],
      "metadata": {
        "colab": {
          "base_uri": "https://localhost:8080/",
          "height": 109
        },
        "id": "_NYFChKY3psX",
        "outputId": "debb5acb-b1ba-4bc9-c34d-c13c6cad8d61"
      },
      "execution_count": 27,
      "outputs": [
        {
          "output_type": "display_data",
          "data": {
            "text/plain": [
              "<bound method CIFAR10.__len__ of Dataset CIFAR10\n",
              "    Number of datapoints: 50000\n",
              "    Root location: /content/dlwpt-code/p1ch7\n",
              "    Split: Train>"
            ]
          },
          "metadata": {}
        },
        {
          "output_type": "execute_result",
          "data": {
            "text/plain": [
              "50000"
            ]
          },
          "metadata": {},
          "execution_count": 27
        }
      ]
    },
    {
      "cell_type": "code",
      "source": [
        "display(cifar10.__getitem__)\n",
        "cifar10[4]"
      ],
      "metadata": {
        "colab": {
          "base_uri": "https://localhost:8080/",
          "height": 109
        },
        "id": "QB0hZTzI34A-",
        "outputId": "6f0e2e1d-ef7e-44c3-9809-0971fcfd4032"
      },
      "execution_count": 28,
      "outputs": [
        {
          "output_type": "display_data",
          "data": {
            "text/plain": [
              "<bound method CIFAR10.__getitem__ of Dataset CIFAR10\n",
              "    Number of datapoints: 50000\n",
              "    Root location: /content/dlwpt-code/p1ch7\n",
              "    Split: Train>"
            ]
          },
          "metadata": {}
        },
        {
          "output_type": "execute_result",
          "data": {
            "text/plain": [
              "(<PIL.Image.Image image mode=RGB size=32x32 at 0x7FB8015D4340>, 1)"
            ]
          },
          "metadata": {},
          "execution_count": 28
        }
      ]
    },
    {
      "cell_type": "markdown",
      "source": [
        "### 데이터셋 클래스"
      ],
      "metadata": {
        "id": "DDdbL_E95Hs2"
      }
    },
    {
      "cell_type": "code",
      "source": [
        "img, label = cifar10[99]\n",
        "img, label, class_names[label]"
      ],
      "metadata": {
        "colab": {
          "base_uri": "https://localhost:8080/"
        },
        "id": "7yDBcFUm5KMm",
        "outputId": "e10b0c0f-c78b-4c9f-a9cd-142b96e30244"
      },
      "execution_count": 29,
      "outputs": [
        {
          "output_type": "execute_result",
          "data": {
            "text/plain": [
              "(<PIL.Image.Image image mode=RGB size=32x32 at 0x7FB7F6E03550>,\n",
              " 1,\n",
              " 'automobile')"
            ]
          },
          "metadata": {},
          "execution_count": 29
        }
      ]
    },
    {
      "cell_type": "code",
      "source": [
        "plt.imshow(img)\n",
        "plt.show()"
      ],
      "metadata": {
        "colab": {
          "base_uri": "https://localhost:8080/",
          "height": 266
        },
        "id": "Wj9QbiRf6Kml",
        "outputId": "17829d3a-4f5d-4c4d-8c1d-a99402de9ea2"
      },
      "execution_count": 30,
      "outputs": [
        {
          "output_type": "display_data",
          "data": {
            "text/plain": [
              "<Figure size 432x288 with 1 Axes>"
            ],
            "image/png": "[encoded data removed]"
          },
          "metadata": {
            "needs_background": "light"
          }
        }
      ]
    },
    {
      "cell_type": "markdown",
      "source": [
        "### 데이터 변환"
      ],
      "metadata": {
        "id": "ucfy-ZYl6Xb1"
      }
    },
    {
      "cell_type": "code",
      "source": [
        "from torchvision import transforms\n",
        "dir(transforms)"
      ],
      "metadata": {
        "colab": {
          "base_uri": "https://localhost:8080/"
        },
        "id": "D00kpSIR6ZBd",
        "outputId": "e3c30294-2073-4492-f60b-c3f9b96b65e9"
      },
      "execution_count": 31,
      "outputs": [
        {
          "output_type": "execute_result",
          "data": {
            "text/plain": [
              "['AugMix',\n",
              " 'AutoAugment',\n",
              " 'AutoAugmentPolicy',\n",
              " 'CenterCrop',\n",
              " 'ColorJitter',\n",
              " 'Compose',\n",
              " 'ConvertImageDtype',\n",
              " 'ElasticTransform',\n",
              " 'FiveCrop',\n",
              " 'GaussianBlur',\n",
              " 'Grayscale',\n",
              " 'InterpolationMode',\n",
              " 'Lambda',\n",
              " 'LinearTransformation',\n",
              " 'Normalize',\n",
              " 'PILToTensor',\n",
              " 'Pad',\n",
              " 'RandAugment',\n",
              " 'RandomAdjustSharpness',\n",
              " 'RandomAffine',\n",
              " 'RandomApply',\n",
              " 'RandomAutocontrast',\n",
              " 'RandomChoice',\n",
              " 'RandomCrop',\n",
              " 'RandomEqualize',\n",
              " 'RandomErasing',\n",
              " 'RandomGrayscale',\n",
              " 'RandomHorizontalFlip',\n",
              " 'RandomInvert',\n",
              " 'RandomOrder',\n",
              " 'RandomPerspective',\n",
              " 'RandomPosterize',\n",
              " 'RandomResizedCrop',\n",
              " 'RandomRotation',\n",
              " 'RandomSolarize',\n",
              " 'RandomVerticalFlip',\n",
              " 'Resize',\n",
              " 'TenCrop',\n",
              " 'ToPILImage',\n",
              " 'ToTensor',\n",
              " 'TrivialAugmentWide',\n",
              " '__builtins__',\n",
              " '__cached__',\n",
              " '__doc__',\n",
              " '__file__',\n",
              " '__loader__',\n",
              " '__name__',\n",
              " '__package__',\n",
              " '__path__',\n",
              " '__spec__',\n",
              " '_pil_constants',\n",
              " '_presets',\n",
              " 'autoaugment',\n",
              " 'functional',\n",
              " 'functional_pil',\n",
              " 'functional_tensor',\n",
              " 'transforms']"
            ]
          },
          "metadata": {},
          "execution_count": 31
        }
      ]
    },
    {
      "cell_type": "markdown",
      "source": [
        "torchvision의 transforms에서 ToTensor 메서드로 넘파이 배열, 이미지를 텐서로 만들기"
      ],
      "metadata": {
        "id": "RyFs7XoL684j"
      }
    },
    {
      "cell_type": "code",
      "source": [
        "from torchvision import transforms\n",
        "\n",
        "to_tensor = transforms.ToTensor()\n",
        "img_t = to_tensor(img)\n",
        "img_t.shape"
      ],
      "metadata": {
        "colab": {
          "base_uri": "https://localhost:8080/"
        },
        "id": "1QAyXhD76wR2",
        "outputId": "d46ac019-1708-4a8c-e37e-eda680210f9f"
      },
      "execution_count": 32,
      "outputs": [
        {
          "output_type": "execute_result",
          "data": {
            "text/plain": [
              "torch.Size([3, 32, 32])"
            ]
          },
          "metadata": {},
          "execution_count": 32
        }
      ]
    },
    {
      "cell_type": "markdown",
      "source": [
        "transforms에서 ToTensor 메서드로 변환 자체를 dataset.CIFAR10의 인자로 전달하기 "
      ],
      "metadata": {
        "id": "x9wTBJi67dqd"
      }
    },
    {
      "cell_type": "code",
      "source": [
        "tensor_cifar10 = datasets.CIFAR10(data_path, train=True, download=True, transform=transforms.ToTensor())\n",
        "tensor_cifar10"
      ],
      "metadata": {
        "colab": {
          "base_uri": "https://localhost:8080/"
        },
        "id": "RR26BwXt7r9U",
        "outputId": "5728c9e4-6501-4cc8-b7c5-f86705e3487b"
      },
      "execution_count": 33,
      "outputs": [
        {
          "output_type": "stream",
          "name": "stdout",
          "text": [
            "Files already downloaded and verified\n"
          ]
        },
        {
          "output_type": "execute_result",
          "data": {
            "text/plain": [
              "Dataset CIFAR10\n",
              "    Number of datapoints: 50000\n",
              "    Root location: /content/dlwpt-code/p1ch7\n",
              "    Split: Train\n",
              "    StandardTransform\n",
              "Transform: ToTensor()"
            ]
          },
          "metadata": {},
          "execution_count": 33
        }
      ]
    },
    {
      "cell_type": "code",
      "source": [
        "img_t, _ = tensor_cifar10[99]\n",
        "type(img_t)"
      ],
      "metadata": {
        "colab": {
          "base_uri": "https://localhost:8080/"
        },
        "id": "7FWrBjfn8Oy8",
        "outputId": "ee4251f4-f334-4a99-e089-84711777be11"
      },
      "execution_count": 34,
      "outputs": [
        {
          "output_type": "execute_result",
          "data": {
            "text/plain": [
              "torch.Tensor"
            ]
          },
          "metadata": {},
          "execution_count": 34
        }
      ]
    },
    {
      "cell_type": "code",
      "source": [
        "img_t.shape, img_t.dtype"
      ],
      "metadata": {
        "colab": {
          "base_uri": "https://localhost:8080/"
        },
        "id": "mUvOCOUF8dAE",
        "outputId": "aab78082-00c2-442d-eb1b-aa2a051ec771"
      },
      "execution_count": 35,
      "outputs": [
        {
          "output_type": "execute_result",
          "data": {
            "text/plain": [
              "(torch.Size([3, 32, 32]), torch.float32)"
            ]
          },
          "metadata": {},
          "execution_count": 35
        }
      ]
    },
    {
      "cell_type": "markdown",
      "source": [
        "원본 `PIL 이미지` 값은 `0에서 255(채널당 8비트)` 범위인 반면 `ToTensor 변환`으로 데이터가 `채널당 32비트 부동소수점 형태`가 되면서 값이 `0.0`에서 `1.0` 사이로 범위가 줄어든다."
      ],
      "metadata": {
        "id": "X_tQmFnr9QOk"
      }
    },
    {
      "cell_type": "code",
      "source": [
        "img_t.min(), img_t.max()"
      ],
      "metadata": {
        "colab": {
          "base_uri": "https://localhost:8080/"
        },
        "id": "B1uG7KTw9eWD",
        "outputId": "4fe9cf7d-5551-4cc2-bcca-9b7139ddd467"
      },
      "execution_count": 36,
      "outputs": [
        {
          "output_type": "execute_result",
          "data": {
            "text/plain": [
              "(tensor(0.), tensor(1.))"
            ]
          },
          "metadata": {},
          "execution_count": 36
        }
      ]
    },
    {
      "cell_type": "code",
      "source": [
        "# matplotlib에서는 permute로 H X W X C 형태로 바꿈\n",
        "plt.imshow(img_t.permute(1, 2, 0))  # C X H X W를 H X W X C로 바꿔준다.\n",
        "plt.show()"
      ],
      "metadata": {
        "colab": {
          "base_uri": "https://localhost:8080/",
          "height": 266
        },
        "id": "Tx5OzciZ9uzU",
        "outputId": "9ee2879b-7710-4444-c0e0-f80b4ba287f2"
      },
      "execution_count": 37,
      "outputs": [
        {
          "output_type": "display_data",
          "data": {
            "text/plain": [
              "<Figure size 432x288 with 1 Axes>"
            ],
            "image/png": "[encoded data removed]"
          },
          "metadata": {
            "needs_background": "light"
          }
        }
      ]
    },
    {
      "cell_type": "markdown",
      "source": [
        "### 데이터 정규화"
      ],
      "metadata": {
        "id": "tPBiRPMk-Uuj"
      }
    },
    {
      "cell_type": "markdown",
      "source": [
        "데이터셋 정규화로 각 채널이 평균값 0과 단위 표준 편차를 만드는 연습을 해보자.  \n",
        "평균값 0과 단위 표준 편차가 필요한 이유\n",
        "* -1, 1 혹은 -2, 2 사이에서 선형인 활성 함수를 택하고 데이터를 같은 범위에서 평균을 가지게 된다면 뉴런은 0이 아닌 기울기를 가지게 되므로 빨리 학습할 수 있다.\n",
        "* 각 채널을 정규화해 동일한 분산을 가지게 된다면 채널 정보가 동일한 학습률로 경사 하강을 통해 섞이고 업데이트되는 것을 보장할 수 있다.\n"
      ],
      "metadata": {
        "id": "q1JcQJgXINP6"
      }
    },
    {
      "cell_type": "code",
      "source": [
        "imgs = torch.stack([img_t for img_t, _ in tensor_cifar10], dim=3)\n",
        "imgs.shape"
      ],
      "metadata": {
        "colab": {
          "base_uri": "https://localhost:8080/"
        },
        "id": "-tNFixHc-CAF",
        "outputId": "8afa0f2d-addd-4462-a176-a83c59359f09"
      },
      "execution_count": 38,
      "outputs": [
        {
          "output_type": "execute_result",
          "data": {
            "text/plain": [
              "torch.Size([3, 32, 32, 50000])"
            ]
          },
          "metadata": {},
          "execution_count": 38
        }
      ]
    },
    {
      "cell_type": "code",
      "source": [
        "imgs[0]"
      ],
      "metadata": {
        "colab": {
          "base_uri": "https://localhost:8080/"
        },
        "id": "8AMkRzJDENPL",
        "outputId": "4da92c2d-bc7e-486b-e0d1-1f5de2b05368"
      },
      "execution_count": 39,
      "outputs": [
        {
          "output_type": "execute_result",
          "data": {
            "text/plain": [
              "tensor([[[0.2314, 0.6039, 1.0000,  ..., 0.1373, 0.7412, 0.8980],\n",
              "         [0.1686, 0.4941, 0.9922,  ..., 0.1569, 0.7294, 0.9255],\n",
              "         [0.1961, 0.4118, 0.9922,  ..., 0.1647, 0.7255, 0.9176],\n",
              "         ...,\n",
              "         [0.6196, 0.3569, 0.9922,  ..., 0.3882, 0.6863, 0.8510],\n",
              "         [0.5961, 0.3412, 0.9922,  ..., 0.3098, 0.6745, 0.8667],\n",
              "         [0.5804, 0.3098, 0.9922,  ..., 0.3490, 0.6627, 0.8706]],\n",
              "\n",
              "        [[0.0627, 0.5490, 1.0000,  ..., 0.2235, 0.7608, 0.8706],\n",
              "         [0.0000, 0.5686, 1.0000,  ..., 0.1725, 0.7490, 0.9373],\n",
              "         [0.0706, 0.4902, 1.0000,  ..., 0.1961, 0.7451, 0.9137],\n",
              "         ...,\n",
              "         [0.4824, 0.3765, 1.0000,  ..., 0.6118, 0.6784, 0.8745],\n",
              "         [0.4667, 0.3020, 1.0000,  ..., 0.5529, 0.6706, 0.8902],\n",
              "         [0.4784, 0.2784, 1.0000,  ..., 0.4549, 0.6549, 0.8235]],\n",
              "\n",
              "        [[0.0980, 0.5490, 1.0000,  ..., 0.3843, 0.8157, 0.8353],\n",
              "         [0.0627, 0.5451, 0.9961,  ..., 0.2510, 0.8039, 0.9176],\n",
              "         [0.1922, 0.4510, 0.9961,  ..., 0.2706, 0.8000, 0.9059],\n",
              "         ...,\n",
              "         [0.4627, 0.3098, 0.9961,  ..., 0.7373, 0.6863, 0.8627],\n",
              "         [0.4706, 0.2667, 0.9961,  ..., 0.4667, 0.6745, 0.8627],\n",
              "         [0.4275, 0.2627, 0.9961,  ..., 0.2392, 0.6627, 0.7922]],\n",
              "\n",
              "        ...,\n",
              "\n",
              "        [[0.8157, 0.6863, 0.4431,  ..., 0.2863, 0.8118, 0.5882],\n",
              "         [0.7882, 0.6118, 0.4353,  ..., 0.2078, 0.7961, 0.5490],\n",
              "         [0.7765, 0.6039, 0.4118,  ..., 0.2118, 0.7961, 0.5176],\n",
              "         ...,\n",
              "         [0.6275, 0.1647, 0.2824,  ..., 0.0667, 0.5294, 0.8784],\n",
              "         [0.2196, 0.2392, 0.2824,  ..., 0.0824, 0.6353, 0.9020],\n",
              "         [0.2078, 0.3647, 0.2824,  ..., 0.1294, 0.6588, 0.9451]],\n",
              "\n",
              "        [[0.7059, 0.6471, 0.4353,  ..., 0.2392, 0.7765, 0.5373],\n",
              "         [0.6784, 0.6118, 0.4078,  ..., 0.2157, 0.7412, 0.5098],\n",
              "         [0.7294, 0.6235, 0.3882,  ..., 0.2235, 0.7059, 0.4902],\n",
              "         ...,\n",
              "         [0.7216, 0.4039, 0.2667,  ..., 0.0941, 0.6980, 0.7098],\n",
              "         [0.3804, 0.4824, 0.2745,  ..., 0.0667, 0.6863, 0.7922],\n",
              "         [0.3255, 0.5137, 0.3059,  ..., 0.0275, 0.6863, 0.8314]],\n",
              "\n",
              "        [[0.6941, 0.6392, 0.4157,  ..., 0.1725, 0.7765, 0.4784],\n",
              "         [0.6588, 0.6196, 0.3882,  ..., 0.1804, 0.7412, 0.4627],\n",
              "         [0.7020, 0.6392, 0.3725,  ..., 0.1922, 0.6980, 0.4706],\n",
              "         ...,\n",
              "         [0.8471, 0.5608, 0.3059,  ..., 0.1059, 0.7647, 0.7020],\n",
              "         [0.5922, 0.5608, 0.3098,  ..., 0.0824, 0.7686, 0.6431],\n",
              "         [0.4824, 0.5608, 0.3137,  ..., 0.0471, 0.7647, 0.6392]]])"
            ]
          },
          "metadata": {},
          "execution_count": 39
        }
      ]
    },
    {
      "cell_type": "markdown",
      "source": [
        "view(3, -1)\n",
        "* view(3, -1)은 세 채널은 유지하고 나머지 차원을 적절한 크기 하나로 합친다. 그래서 `3 X 32 X 32 이미지`는 `3 X 1,024 벡터`로 바뀌고 평균은 각 채널의 1,024개 요소에 대해 계산하는 것이다."
      ],
      "metadata": {
        "id": "CLnWDr-kIxaw"
      }
    },
    {
      "cell_type": "code",
      "source": [
        "imgs.view(3, -1).mean(dim=1)"
      ],
      "metadata": {
        "colab": {
          "base_uri": "https://localhost:8080/"
        },
        "id": "Zkd5LuwvEfYy",
        "outputId": "cafb9f5f-a180-4747-e4ef-a187d4e8efa4"
      },
      "execution_count": 40,
      "outputs": [
        {
          "output_type": "execute_result",
          "data": {
            "text/plain": [
              "tensor([0.4914, 0.4822, 0.4465])"
            ]
          },
          "metadata": {},
          "execution_count": 40
        }
      ]
    },
    {
      "cell_type": "code",
      "source": [
        "imgs.view(3, -1).std(dim=1)"
      ],
      "metadata": {
        "colab": {
          "base_uri": "https://localhost:8080/"
        },
        "id": "Xb1qUXBrE036",
        "outputId": "96d21e60-7cef-42cb-86b7-08c0e1634a6e"
      },
      "execution_count": 41,
      "outputs": [
        {
          "output_type": "execute_result",
          "data": {
            "text/plain": [
              "tensor([0.2470, 0.2435, 0.2616])"
            ]
          },
          "metadata": {},
          "execution_count": 41
        }
      ]
    },
    {
      "cell_type": "code",
      "source": [
        "transforms.Normalize((0.4914, 0.4822, 0.4465), (0.2470, 0.2435, 0.2616))"
      ],
      "metadata": {
        "colab": {
          "base_uri": "https://localhost:8080/"
        },
        "id": "b5KncbCzE7eb",
        "outputId": "fb59b5b8-ac1e-4dad-87fa-488e05f129ea"
      },
      "execution_count": 42,
      "outputs": [
        {
          "output_type": "execute_result",
          "data": {
            "text/plain": [
              "Normalize(mean=(0.4914, 0.4822, 0.4465), std=(0.247, 0.2435, 0.2616))"
            ]
          },
          "metadata": {},
          "execution_count": 42
        }
      ]
    },
    {
      "cell_type": "code",
      "source": [
        "transforms_cifar10 = datasets.CIFAR10(\n",
        "                     data_path, train = True, download = True,\n",
        "                     transform = transforms.Compose([\n",
        "                         transforms.ToTensor(),\n",
        "                         transforms.Normalize((0.4914, 0.4822, 0.4465), \n",
        "                                              (0.2470, 0.2435, 0.2616))\n",
        "                     ]))"
      ],
      "metadata": {
        "colab": {
          "base_uri": "https://localhost:8080/"
        },
        "id": "dKn_v8kfFNRL",
        "outputId": "89f84f6e-27a1-427c-c1b0-2b7dee6ec3c3"
      },
      "execution_count": 43,
      "outputs": [
        {
          "output_type": "stream",
          "name": "stdout",
          "text": [
            "Files already downloaded and verified\n"
          ]
        }
      ]
    },
    {
      "cell_type": "code",
      "source": [
        "img_t, _ = transforms_cifar10[99]\n",
        "\n",
        "plt.imshow(img_t.permute(1, 2, 0))\n",
        "plt.show()\n",
        "\n",
        "img_t"
      ],
      "metadata": {
        "colab": {
          "base_uri": "https://localhost:8080/",
          "height": 709
        },
        "id": "UdTEp3HhGG6i",
        "outputId": "12cee929-040c-4054-b972-3360e781e3cc"
      },
      "execution_count": 44,
      "outputs": [
        {
          "output_type": "stream",
          "name": "stderr",
          "text": [
            "WARNING:matplotlib.image:Clipping input data to the valid range for imshow with RGB data ([0..1] for floats or [0..255] for integers).\n"
          ]
        },
        {
          "output_type": "display_data",
          "data": {
            "text/plain": [
              "<Figure size 432x288 with 1 Axes>"
            ],
            "image/png": "[encoded data removed]"
          },
          "metadata": {
            "needs_background": "light"
          }
        },
        {
          "output_type": "execute_result",
          "data": {
            "text/plain": [
              "tensor([[[-1.0051, -1.1956, -1.2591,  ...,  0.6620,  0.9160,  0.1856],\n",
              "         [-0.9892, -1.1163, -1.1639,  ...,  0.5984,  0.7255,  0.3127],\n",
              "         [-1.0686, -0.9734, -1.1004,  ...,  0.4397,  0.3920, -0.0366],\n",
              "         ...,\n",
              "         [ 0.7413,  0.2809,  0.0745,  ..., -0.4971,  0.2492,  0.2174],\n",
              "         [ 0.9160,  0.3920, -0.7193,  ..., -0.7035,  0.1539,  0.2809],\n",
              "         [ 1.3288,  0.9001,  0.2174,  ..., -1.0527,  0.0745,  0.6937]],\n",
              "\n",
              "        [[-0.9496, -1.1750, -1.2717,  ...,  0.7898,  0.9830,  0.2100],\n",
              "         [-0.9335, -1.1267, -1.1750,  ...,  0.7415,  0.8220,  0.3710],\n",
              "         [-0.9818, -0.9174, -1.0140,  ...,  0.5160,  0.4999,  0.0812],\n",
              "         ...,\n",
              "         [ 0.1939, -0.2087, -1.0784,  ..., -0.7724, -0.2409, -0.2893],\n",
              "         [ 0.3710, -0.0799, -0.9496,  ..., -0.8207, -0.0799,  0.0328],\n",
              "         [ 0.8220,  0.4516, -0.2248,  ..., -1.1106, -0.0638,  0.5321]],\n",
              "\n",
              "        [[-1.0472, -1.3170, -1.4220,  ..., -0.6724, -0.5675, -0.6275],\n",
              "         [-1.1521, -1.3170, -1.3021,  ..., -0.7924, -0.5825, -0.5525],\n",
              "         [-1.1671, -1.1521, -1.1521,  ..., -0.7774, -0.7474, -0.8523],\n",
              "         ...,\n",
              "         [-0.2227, -0.4476, -1.0772,  ..., -0.8673, -0.4176, -0.4926],\n",
              "         [ 0.0471, -0.2827, -1.0472,  ..., -0.8074, -0.2377, -0.0578],\n",
              "         [ 0.4519,  0.1371, -0.4626,  ..., -1.0022, -0.0428,  0.6917]]])"
            ]
          },
          "metadata": {},
          "execution_count": 44
        }
      ]
    },
    {
      "cell_type": "markdown",
      "source": [
        "### 새와 비행기 구별하기"
      ],
      "metadata": {
        "id": "rsPQAUNsGdJ5"
      }
    },
    {
      "cell_type": "markdown",
      "source": [
        "### 데이터셋 구축\n",
        "가장 먼저 할 일은 데이터의 차원 정보를 맞추는 일이다. 새와 비행기만 들어간 Dataset 서브 클래스를 만든다. 하지만 데이터셋은 작으며, 인덱싱과 len만 있으면 되기 때문에 굳이 torch.utils.data.dataset.Dataset의 서브클래스일 필요는 없다."
      ],
      "metadata": {
        "id": "LTiEhGmqLXi5"
      }
    },
    {
      "cell_type": "code",
      "source": [
        "label_map = {0: 0, 2: 1}\n",
        "class_names = ['airplane', 'bird']\n",
        "cifar2 = [(img, label_map[label])\n",
        "           for img, label in cifar10\n",
        "           if label in (0, 2)]\n",
        "cifar2_val = [(img, label_map[label])\n",
        "               for img, label in cifar10_val\n",
        "               if label in (0, 2)]"
      ],
      "metadata": {
        "id": "_RdlpQYBJ-ti"
      },
      "execution_count": 45,
      "outputs": []
    },
    {
      "cell_type": "markdown",
      "source": [
        "### 완전 연결 모델\n",
        "샘플마다 피처는 얼마나 존재할까? 32 X 32 X 3이니까 샘플마다 3,072개의 입력 피처가 있는 셈이다. nn.Linear이면서 입력 피처가 3,072이고 몇 개의 히든 피처를 거처 활성 함수로 이어지도록 만들자, 이후 다른 nn,Linear로 신경망을 줄여나가면서 원하는 출력 피처 수로 맞추자"
      ],
      "metadata": {
        "id": "8xjzpiNLMwsQ"
      }
    },
    {
      "cell_type": "code",
      "source": [
        "import torch.nn as nn\n",
        "\n",
        "n_out = 2\n",
        "\n",
        "model = nn.Sequential(\n",
        "    nn.Linear(\n",
        "        3072,  # 입력 피처\n",
        "        512  # 은닉층 크기\n",
        "    ),\n",
        "    nn.Tanh(),\n",
        "    nn.Linear(\n",
        "        512,  # 은닉층 크기\n",
        "        n_out  # 출력 클래스\n",
        "    )\n",
        ")"
      ],
      "metadata": {
        "id": "vTcUD8ALMwIZ"
      },
      "execution_count": 46,
      "outputs": []
    },
    {
      "cell_type": "markdown",
      "source": [
        "신경망은 최소 하나 이상의 비선형성을 가진 은닉층(활성 함수를 포함하므로 두 개의 모듈)이 필요하다. 임의의 함수를 학습할 수 있어야 하기 때문이다. 그렇지 않다면 단순 선형 모델에 불과할 뿐이다."
      ],
      "metadata": {
        "id": "5VFkABXOPSU4"
      }
    },
    {
      "cell_type": "markdown",
      "source": [
        "### 분류기의 출력\n",
        "1. 출력값은 카테고리이다.\n",
        "2. 이상적인 경우 신경만은 비행기에 대해 torch.tensor([1.0, 0.0])을 출력하고 새에 대해 torch.tensor([0.0, 1.0])을 출력한다.\n",
        "3. 출력을 확률로 해석할 수 없다.\n",
        "\n",
        "문제를 확률로 보게 될 경우 신경망의 출력에 추가적인 제약을 수반하는 것\n",
        "* 출력값의 요소가 가질 수 있는 값은 [0.0, 1.0] 범위로 제한한다. (확률은 0보다 작거나 1보다 클 수 없으므로)\n",
        "* 모든 출력 요소의 값의 합은 1.0이다. (결과는 항상 새 아니면 비행기라고 확신한다.)\n",
        "\n",
        "이런 제약을 극복하면서 미분 가능하게 만드는 방법이 `소프트맥스softmax` 이다."
      ],
      "metadata": {
        "id": "Ud1WvggjPeIY"
      }
    },
    {
      "cell_type": "markdown",
      "source": [
        "### 출력을 확률로 표현하기\n",
        "소프트맥스는 벡터값을 받아 동일한 차원의 다른 벡터를 만드는데, 값이 확률로 표현되어야 하는 제약을 만족한다.  \n",
        "소프트맥스는 벡터의 각 요소 단위로 지수 연산 후 각 요소를 지수 값의 총합으로 나눈다."
      ],
      "metadata": {
        "id": "7Ok0tzPiRYJW"
      }
    },
    {
      "cell_type": "code",
      "source": [
        "def softmax(x):\n",
        "    return torch.exp(x) / torch.exp(x).sum()"
      ],
      "metadata": {
        "id": "Um3IODNQPSAg"
      },
      "execution_count": 47,
      "outputs": []
    },
    {
      "cell_type": "code",
      "source": [
        "x = torch.tensor([1.0, 2.0, 3.0])\n",
        "\n",
        "softmax(x)"
      ],
      "metadata": {
        "colab": {
          "base_uri": "https://localhost:8080/"
        },
        "id": "0UHmWDPiM0sZ",
        "outputId": "655b12ca-a4e2-4fdb-8933-01bb363ecc17"
      },
      "execution_count": 48,
      "outputs": [
        {
          "output_type": "execute_result",
          "data": {
            "text/plain": [
              "tensor([0.0900, 0.2447, 0.6652])"
            ]
          },
          "metadata": {},
          "execution_count": 48
        }
      ]
    },
    {
      "cell_type": "code",
      "source": [
        "softmax(x).sum()"
      ],
      "metadata": {
        "colab": {
          "base_uri": "https://localhost:8080/"
        },
        "id": "ICgIbPYXSDd2",
        "outputId": "3404275d-8352-4183-d4f0-2420b9b6dffd"
      },
      "execution_count": 49,
      "outputs": [
        {
          "output_type": "execute_result",
          "data": {
            "text/plain": [
              "tensor(1.)"
            ]
          },
          "metadata": {},
          "execution_count": 49
        }
      ]
    },
    {
      "cell_type": "markdown",
      "source": [
        "nn 모듈은 소프트맥스를 모듈처럼 사용할 수 있게 해준다. 통상적으로 입력 텐서는 0번 차원이 배치에 해당하거나 확률 값을 특정 차원에서만 인코딩해서 차원 수를 지정한다.\n",
        "\n",
        "두 행에 두 개의 입력 벡터가 있고 차원 1을 따라 nn.Softmax가 동작하도록 초기화한다."
      ],
      "metadata": {
        "id": "JY42UYYXSbiG"
      }
    },
    {
      "cell_type": "code",
      "source": [
        "softmax = nn.Softmax(dim=1)\n",
        "\n",
        "x = torch.tensor([[1.0, 2.0, 3.0],\n",
        "                  [1.0, 2.0, 3.0]])\n",
        "\n",
        "softmax(x)"
      ],
      "metadata": {
        "colab": {
          "base_uri": "https://localhost:8080/"
        },
        "id": "EZ0_7nlJSkrZ",
        "outputId": "832595d6-3257-4481-86f3-95b2c62e2abf"
      },
      "execution_count": 50,
      "outputs": [
        {
          "output_type": "execute_result",
          "data": {
            "text/plain": [
              "tensor([[0.0900, 0.2447, 0.6652],\n",
              "        [0.0900, 0.2447, 0.6652]])"
            ]
          },
          "metadata": {},
          "execution_count": 50
        }
      ]
    },
    {
      "cell_type": "markdown",
      "source": [
        "모델의 끝에 소프트맥스를 추가하여 신경망이 확률을 출력!"
      ],
      "metadata": {
        "id": "E3f0XI5yTxT-"
      }
    },
    {
      "cell_type": "code",
      "source": [
        "model = nn.Sequential(\n",
        "        nn.Linear(3072, 512),\n",
        "        nn.Tanh(),\n",
        "        nn.Linear(512, 2),\n",
        "        nn.Softmax(dim=1)\n",
        ")"
      ],
      "metadata": {
        "id": "3KO6qLzHS8To"
      },
      "execution_count": 51,
      "outputs": []
    },
    {
      "cell_type": "markdown",
      "source": [
        "### 데이터 정규화\n",
        "PIL 이미지 -> ToTensor() -> list로 출력 -> torch.stack()"
      ],
      "metadata": {
        "id": "irxjMAiqNWSX"
      }
    },
    {
      "cell_type": "code",
      "source": [
        "from torchvision import transforms\n",
        "\n",
        "to_tensor = transforms.ToTensor()\n",
        "list_cifar2 = [to_tensor(img) for img, _ in cifar2]\n",
        "type(list_cifar2)"
      ],
      "metadata": {
        "colab": {
          "base_uri": "https://localhost:8080/"
        },
        "id": "sWSOthIKp6NA",
        "outputId": "10705c15-efe9-47fa-9b7f-434e680b82c8"
      },
      "execution_count": 52,
      "outputs": [
        {
          "output_type": "execute_result",
          "data": {
            "text/plain": [
              "list"
            ]
          },
          "metadata": {},
          "execution_count": 52
        }
      ]
    },
    {
      "cell_type": "code",
      "source": [
        "# list를 Tensor로 변경하기\n",
        "# torch.stack()\n",
        "tensor_cifar2 = torch.stack(list_cifar2, dim=0)\n",
        "# imgs = torch.stack([img_t for img_t, _ in tensor_cifar2], dim=3)"
      ],
      "metadata": {
        "id": "APT9W_J3IQSJ"
      },
      "execution_count": 53,
      "outputs": []
    },
    {
      "cell_type": "code",
      "source": [
        "type(tensor_cifar2)"
      ],
      "metadata": {
        "colab": {
          "base_uri": "https://localhost:8080/"
        },
        "id": "h1XrYhn-M0U5",
        "outputId": "73e72c12-e5c5-43e3-e021-eadb53dd7261"
      },
      "execution_count": 54,
      "outputs": [
        {
          "output_type": "execute_result",
          "data": {
            "text/plain": [
              "torch.Tensor"
            ]
          },
          "metadata": {},
          "execution_count": 54
        }
      ]
    },
    {
      "cell_type": "code",
      "source": [
        "tensor_cifar2.view(3, -1).mean(dim=1)"
      ],
      "metadata": {
        "colab": {
          "base_uri": "https://localhost:8080/"
        },
        "id": "XhYN7G-bNN-R",
        "outputId": "d0aa7a96-5c76-43aa-c77f-5dbdb3512e5a"
      },
      "execution_count": 55,
      "outputs": [
        {
          "output_type": "execute_result",
          "data": {
            "text/plain": [
              "tensor([0.5142, 0.5112, 0.5144])"
            ]
          },
          "metadata": {},
          "execution_count": 55
        }
      ]
    },
    {
      "cell_type": "code",
      "source": [
        "tensor_cifar2.view(3, -1).std(dim=1)"
      ],
      "metadata": {
        "colab": {
          "base_uri": "https://localhost:8080/"
        },
        "id": "FS14AEthN2_A",
        "outputId": "4aa3dca7-4d6a-495b-c803-0f5ecddde4f5"
      },
      "execution_count": 56,
      "outputs": [
        {
          "output_type": "execute_result",
          "data": {
            "text/plain": [
              "tensor([0.2505, 0.2469, 0.2456])"
            ]
          },
          "metadata": {},
          "execution_count": 56
        }
      ]
    },
    {
      "cell_type": "code",
      "source": [
        "from torchvision import transforms\n",
        "transforms = transforms.Normalize((0.5142, 0.5112, 0.5144), (0.2505, 0.2469, 0.2456))\n",
        "transform_cifar2 = transforms(tensor_cifar2)\n",
        "transform_cifar2"
      ],
      "metadata": {
        "colab": {
          "base_uri": "https://localhost:8080/"
        },
        "id": "-i26PG0FN7-X",
        "outputId": "0a83ab3f-273d-427d-a454-99bd0aacc182"
      },
      "execution_count": 57,
      "outputs": [
        {
          "output_type": "execute_result",
          "data": {
            "text/plain": [
              "tensor([[[[ 5.1472e-01, -4.0892e-01, -2.0541e-01,  ..., -3.4630e-01,\n",
              "           -3.6196e-01, -6.2809e-01],\n",
              "          [ 5.6168e-01, -2.3672e-01, -9.2554e-01,  ..., -4.0892e-01,\n",
              "           -4.0892e-01, -6.5940e-01],\n",
              "          [ 1.3900e-01,  1.7031e-01, -1.8975e-01,  ..., -4.2458e-01,\n",
              "           -7.3768e-01, -8.3161e-01],\n",
              "          ...,\n",
              "          [ 1.2335e-01,  1.7031e-01,  6.0726e-02,  ..., -6.5940e-01,\n",
              "           -5.3416e-01, -8.0169e-02],\n",
              "          [ 4.9906e-01,  3.4252e-01,  2.3293e-01,  ..., -7.2202e-01,\n",
              "           -5.1851e-01, -6.4514e-02],\n",
              "          [ 8.1216e-01,  7.0258e-01,  3.5817e-01,  ..., -5.8113e-01,\n",
              "           -6.2809e-01, -1.4279e-01]],\n",
              "\n",
              "         [[ 1.2015e+00,  1.5318e-01,  2.8024e-01,  ...,  2.6436e-01,\n",
              "            2.6436e-01, -2.1538e-02],\n",
              "          [ 1.3127e+00,  4.7084e-01, -3.3920e-01,  ...,  1.8494e-01,\n",
              "            1.8494e-01, -5.3304e-02],\n",
              "          [ 9.6322e-01,  9.9499e-01,  5.1849e-01,  ...,  1.3729e-01,\n",
              "           -1.6449e-01, -2.4390e-01],\n",
              "          ...,\n",
              "          [ 2.8024e-01,  3.9143e-01,  4.0731e-01,  ...,  5.7879e-02,\n",
              "            2.8024e-01,  7.2497e-01],\n",
              "          [ 4.2319e-01,  5.3438e-01,  5.3438e-01,  ..., -5.6544e-03,\n",
              "            2.8024e-01,  7.5674e-01],\n",
              "          [ 3.5966e-01,  8.2027e-01,  3.7554e-01,  ...,  5.7879e-02,\n",
              "            4.1995e-02,  6.2967e-01]],\n",
              "\n",
              "         [[-7.5321e-01, -1.1205e+00, -4.8177e-01,  ..., -9.2885e-01,\n",
              "           -9.9272e-01, -1.1843e+00],\n",
              "          [-7.5321e-01, -1.3121e+00, -1.4079e+00,  ..., -8.3305e-01,\n",
              "           -9.4482e-01, -1.1843e+00],\n",
              "          [-1.0566e+00, -1.0406e+00, -8.3305e-01,  ..., -7.5321e-01,\n",
              "           -1.1684e+00, -1.3121e+00],\n",
              "          ...,\n",
              "          [-8.0111e-01, -9.1288e-01, -9.4482e-01,  ..., -1.6474e+00,\n",
              "           -1.7112e+00, -1.3121e+00],\n",
              "          [-7.3724e-01, -7.8514e-01, -6.5741e-01,  ..., -1.7911e+00,\n",
              "           -1.6633e+00, -1.3280e+00],\n",
              "          [-4.6580e-01, -2.4226e-01, -4.9773e-01,  ..., -1.6314e+00,\n",
              "           -1.6793e+00, -1.3919e+00]]],\n",
              "\n",
              "\n",
              "        [[[-1.7866e+00, -1.7866e+00, -1.7866e+00,  ..., -1.6926e+00,\n",
              "           -1.7083e+00, -1.7553e+00],\n",
              "          [-1.7709e+00, -1.7709e+00, -1.7709e+00,  ..., -1.6770e+00,\n",
              "           -1.6926e+00, -1.7083e+00],\n",
              "          [-1.7709e+00, -1.7709e+00, -1.7553e+00,  ..., -1.6770e+00,\n",
              "           -1.6926e+00, -1.6926e+00],\n",
              "          ...,\n",
              "          [ 1.3444e+00,  1.4853e+00,  1.2348e+00,  ..., -1.5361e+00,\n",
              "           -1.5517e+00, -1.5361e+00],\n",
              "          [ 1.3757e+00,  1.4227e+00,  1.2975e+00,  ..., -1.5048e+00,\n",
              "           -1.5204e+00, -1.5361e+00],\n",
              "          [ 1.2348e+00,  1.4071e+00,  1.3131e+00,  ..., -1.4891e+00,\n",
              "           -1.5204e+00, -1.5517e+00]],\n",
              "\n",
              "         [[-2.0228e+00, -2.0228e+00, -2.0387e+00,  ..., -1.8640e+00,\n",
              "           -1.8799e+00, -1.9275e+00],\n",
              "          [-2.0069e+00, -2.0069e+00, -2.0069e+00,  ..., -1.8481e+00,\n",
              "           -1.8640e+00, -1.8799e+00],\n",
              "          [-2.0069e+00, -2.0069e+00, -1.9911e+00,  ..., -1.8481e+00,\n",
              "           -1.8640e+00, -1.8640e+00],\n",
              "          ...,\n",
              "          [ 1.3285e+00,  1.4080e+00,  1.1221e+00,  ..., -1.6893e+00,\n",
              "           -1.7052e+00, -1.6893e+00],\n",
              "          [ 1.3444e+00,  1.3444e+00,  1.2332e+00,  ..., -1.6575e+00,\n",
              "           -1.6734e+00, -1.6893e+00],\n",
              "          [ 1.2332e+00,  1.3603e+00,  1.2968e+00,  ..., -1.6416e+00,\n",
              "           -1.6734e+00, -1.7052e+00]],\n",
              "\n",
              "         [[-2.0625e+00, -2.0625e+00, -2.0785e+00,  ..., -1.9188e+00,\n",
              "           -1.9348e+00, -1.9827e+00],\n",
              "          [-2.0466e+00, -2.0466e+00, -2.0466e+00,  ..., -1.9029e+00,\n",
              "           -1.9188e+00, -1.9348e+00],\n",
              "          [-2.0466e+00, -2.0466e+00, -2.0306e+00,  ..., -1.9029e+00,\n",
              "           -1.9188e+00, -1.9188e+00],\n",
              "          ...,\n",
              "          [ 1.4662e+00,  1.5301e+00,  1.3066e+00,  ..., -1.8230e+00,\n",
              "           -1.8390e+00, -1.8230e+00],\n",
              "          [ 1.5780e+00,  1.5620e+00,  1.4982e+00,  ..., -1.7911e+00,\n",
              "           -1.8071e+00, -1.8230e+00],\n",
              "          [ 1.4662e+00,  1.5620e+00,  1.5301e+00,  ..., -1.7751e+00,\n",
              "           -1.8071e+00, -1.8390e+00]]],\n",
              "\n",
              "\n",
              "        [[[ 1.0313e+00,  1.0470e+00,  1.0940e+00,  ...,  1.3444e+00,\n",
              "            1.3444e+00,  1.3444e+00],\n",
              "          [ 9.6871e-01,  1.0000e+00,  1.0470e+00,  ...,  1.3288e+00,\n",
              "            1.3131e+00,  1.2975e+00],\n",
              "          [ 9.5306e-01,  9.8437e-01,  1.0313e+00,  ...,  1.3444e+00,\n",
              "            1.3288e+00,  1.3131e+00],\n",
              "          ...,\n",
              "          [ 3.8948e-01,  3.8948e-01,  3.8948e-01,  ..., -5.1851e-01,\n",
              "           -2.2106e-01, -4.8859e-02],\n",
              "          [ 4.2079e-01,  4.3644e-01,  3.5817e-01,  ..., -1.8940e-03,\n",
              "           -2.2106e-01, -6.2809e-01],\n",
              "          [ 3.2686e-01,  3.1121e-01,  2.1728e-01,  ..., -6.2809e-01,\n",
              "           -6.4375e-01, -8.1595e-01]],\n",
              "\n",
              "         [[ 8.9969e-01,  9.1557e-01,  9.6322e-01,  ...,  1.1221e+00,\n",
              "            1.1221e+00,  1.1221e+00],\n",
              "          [ 8.3616e-01,  8.6792e-01,  9.1557e-01,  ...,  1.1062e+00,\n",
              "            1.1062e+00,  1.0744e+00],\n",
              "          [ 8.2027e-01,  8.5204e-01,  8.9969e-01,  ...,  1.1221e+00,\n",
              "            1.1062e+00,  1.0903e+00],\n",
              "          ...,\n",
              "          [ 2.4848e-01,  2.4848e-01,  2.4848e-01,  ..., -8.1570e-01,\n",
              "           -5.4568e-01, -4.0274e-01],\n",
              "          [ 2.8024e-01,  2.9613e-01,  2.1671e-01,  ..., -3.2332e-01,\n",
              "           -4.9803e-01, -8.7923e-01],\n",
              "          [ 1.8494e-01,  1.6906e-01,  7.3762e-02,  ..., -9.2688e-01,\n",
              "           -9.1100e-01, -1.0381e+00]],\n",
              "\n",
              "         [[ 9.0739e-01,  9.2336e-01,  9.7126e-01,  ...,  1.1629e+00,\n",
              "            1.1629e+00,  1.1629e+00],\n",
              "          [ 8.4352e-01,  8.7546e-01,  9.2336e-01,  ...,  1.1469e+00,\n",
              "            1.1309e+00,  1.1150e+00],\n",
              "          [ 8.2755e-01,  8.5949e-01,  9.0739e-01,  ...,  1.1629e+00,\n",
              "            1.1469e+00,  1.1309e+00],\n",
              "          ...,\n",
              "          [ 2.5273e-01,  2.5273e-01,  2.5273e-01,  ..., -1.0566e+00,\n",
              "           -7.8514e-01, -6.7337e-01],\n",
              "          [ 2.8467e-01,  3.0063e-01,  2.2080e-01,  ..., -5.6160e-01,\n",
              "           -7.2127e-01, -1.0726e+00],\n",
              "          [ 1.8886e-01,  1.7289e-01,  7.7090e-02,  ..., -1.1205e+00,\n",
              "           -1.0885e+00, -1.1843e+00]]],\n",
              "\n",
              "\n",
              "        ...,\n",
              "\n",
              "\n",
              "        [[[ 3.7383e-01,  3.5817e-01,  3.5817e-01,  ...,  3.5817e-01,\n",
              "            3.5817e-01,  3.5817e-01],\n",
              "          [ 3.5817e-01,  3.4252e-01,  3.4252e-01,  ...,  3.2686e-01,\n",
              "            3.2686e-01,  3.4252e-01],\n",
              "          [ 3.5817e-01,  3.2686e-01,  3.2686e-01,  ...,  3.2686e-01,\n",
              "            3.2686e-01,  3.1121e-01],\n",
              "          ...,\n",
              "          [-4.0892e-01, -3.9327e-01, -4.2458e-01,  ..., -2.5237e-01,\n",
              "           -2.5237e-01, -8.0169e-02],\n",
              "          [-3.3065e-01, -3.3065e-01, -2.8368e-01,  ...,  2.9416e-02,\n",
              "           -1.8940e-03,  2.9416e-02],\n",
              "          [-1.8940e-03, -1.7549e-02, -1.7549e-02,  ...,  4.5071e-02,\n",
              "            6.0726e-02,  6.0726e-02]],\n",
              "\n",
              "         [[ 3.9143e-01,  3.7554e-01,  3.7554e-01,  ...,  4.0731e-01,\n",
              "            4.0731e-01,  4.0731e-01],\n",
              "          [ 3.7554e-01,  3.5966e-01,  3.5966e-01,  ...,  3.7554e-01,\n",
              "            3.7554e-01,  3.9143e-01],\n",
              "          [ 3.7554e-01,  3.4378e-01,  3.4378e-01,  ...,  3.7554e-01,\n",
              "            3.7554e-01,  3.5966e-01],\n",
              "          ...,\n",
              "          [-5.6157e-01, -5.2980e-01, -5.6157e-01,  ..., -4.1862e-01,\n",
              "           -4.1862e-01, -2.7567e-01],\n",
              "          [-5.4568e-01, -5.4568e-01, -4.9803e-01,  ..., -1.6449e-01,\n",
              "           -1.9625e-01, -1.8037e-01],\n",
              "          [-2.9155e-01, -2.9155e-01, -2.9155e-01,  ..., -1.9625e-01,\n",
              "           -1.9625e-01, -1.9625e-01]],\n",
              "\n",
              "         [[ 3.8047e-01,  3.6450e-01,  3.6450e-01,  ...,  3.8047e-01,\n",
              "            3.8047e-01,  3.8047e-01],\n",
              "          [ 3.6450e-01,  3.4853e-01,  3.4853e-01,  ...,  3.4853e-01,\n",
              "            3.4853e-01,  3.6450e-01],\n",
              "          [ 3.6450e-01,  3.3257e-01,  3.3257e-01,  ...,  3.4853e-01,\n",
              "            3.4853e-01,  3.3257e-01],\n",
              "          ...,\n",
              "          [-9.6078e-01, -9.1288e-01, -9.1288e-01,  ..., -1.1045e+00,\n",
              "           -1.1045e+00, -9.4482e-01],\n",
              "          [-1.1045e+00, -1.0885e+00, -1.0566e+00,  ..., -9.1288e-01,\n",
              "           -9.4482e-01, -9.2885e-01],\n",
              "          [-1.0406e+00, -1.0406e+00, -1.0406e+00,  ..., -9.6078e-01,\n",
              "           -9.4482e-01, -9.4482e-01]]],\n",
              "\n",
              "\n",
              "        [[[ 3.8948e-01,  3.7383e-01,  3.8948e-01,  ...,  4.0514e-01,\n",
              "            3.8948e-01,  3.7383e-01],\n",
              "          [ 4.2079e-01,  4.0514e-01,  4.2079e-01,  ...,  4.2079e-01,\n",
              "            4.0514e-01,  4.0514e-01],\n",
              "          [ 4.0514e-01,  3.8948e-01,  3.8948e-01,  ...,  4.0514e-01,\n",
              "            3.8948e-01,  3.7383e-01],\n",
              "          ...,\n",
              "          [ 4.3644e-01,  4.2079e-01,  4.3644e-01,  ...,  3.8948e-01,\n",
              "            3.8948e-01,  3.7383e-01],\n",
              "          [ 4.5210e-01,  4.3644e-01,  4.5210e-01,  ...,  4.0514e-01,\n",
              "            3.8948e-01,  3.7383e-01],\n",
              "          [ 4.2079e-01,  4.0514e-01,  4.0514e-01,  ...,  3.4252e-01,\n",
              "            3.2686e-01,  3.2686e-01]],\n",
              "\n",
              "         [[ 4.5496e-01,  4.3908e-01,  4.5496e-01,  ...,  5.0261e-01,\n",
              "            4.8673e-01,  4.7084e-01],\n",
              "          [ 4.8673e-01,  4.7084e-01,  4.8673e-01,  ...,  5.1849e-01,\n",
              "            5.0261e-01,  5.0261e-01],\n",
              "          [ 4.7084e-01,  4.5496e-01,  4.5496e-01,  ...,  5.0261e-01,\n",
              "            4.8673e-01,  4.7084e-01],\n",
              "          ...,\n",
              "          [ 5.3438e-01,  5.1849e-01,  5.3438e-01,  ...,  5.3438e-01,\n",
              "            5.3438e-01,  5.1849e-01],\n",
              "          [ 5.5026e-01,  5.3438e-01,  5.5026e-01,  ...,  5.5026e-01,\n",
              "            5.3438e-01,  5.1849e-01],\n",
              "          [ 5.1849e-01,  5.0261e-01,  5.0261e-01,  ...,  4.8673e-01,\n",
              "            4.7084e-01,  4.7084e-01]],\n",
              "\n",
              "         [[ 5.2417e-01,  5.0821e-01,  5.0821e-01,  ...,  5.4014e-01,\n",
              "            5.2417e-01,  5.0821e-01],\n",
              "          [ 5.5611e-01,  5.4014e-01,  5.5611e-01,  ...,  5.5611e-01,\n",
              "            5.4014e-01,  5.4014e-01],\n",
              "          [ 5.4014e-01,  5.2417e-01,  5.2417e-01,  ...,  5.4014e-01,\n",
              "            5.2417e-01,  5.0821e-01],\n",
              "          ...,\n",
              "          [ 5.7208e-01,  5.5611e-01,  5.7208e-01,  ...,  5.5611e-01,\n",
              "            5.5611e-01,  5.4014e-01],\n",
              "          [ 5.8804e-01,  5.7208e-01,  5.8804e-01,  ...,  5.7208e-01,\n",
              "            5.5611e-01,  5.4014e-01],\n",
              "          [ 5.5611e-01,  5.4014e-01,  5.4014e-01,  ...,  5.0821e-01,\n",
              "            4.9224e-01,  4.9224e-01]]],\n",
              "\n",
              "\n",
              "        [[[ 2.1728e-01,  3.1121e-01,  3.8948e-01,  ...,  2.6424e-01,\n",
              "            2.3293e-01,  1.7031e-01],\n",
              "          [ 3.4252e-01,  3.8948e-01,  3.7383e-01,  ...,  1.8597e-01,\n",
              "            7.6381e-02, -3.3204e-02],\n",
              "          [ 4.3644e-01,  4.2079e-01,  4.5210e-01,  ...,  1.3900e-01,\n",
              "            7.6381e-02,  2.9416e-02],\n",
              "          ...,\n",
              "          [-1.1917e+00, -1.1447e+00, -1.2073e+00,  ..., -1.3952e+00,\n",
              "           -1.3482e+00, -1.3952e+00],\n",
              "          [-1.3169e+00, -1.3326e+00, -1.3795e+00,  ..., -1.4578e+00,\n",
              "           -1.4108e+00, -1.4108e+00],\n",
              "          [-1.2856e+00, -1.3326e+00, -1.3795e+00,  ..., -1.4422e+00,\n",
              "           -1.4891e+00, -1.4735e+00]],\n",
              "\n",
              "         [[ 4.8673e-01,  5.6614e-01,  6.4556e-01,  ...,  5.3438e-01,\n",
              "            5.1849e-01,  4.3908e-01],\n",
              "          [ 6.1379e-01,  6.6144e-01,  6.4556e-01,  ...,  4.3908e-01,\n",
              "            3.4378e-01,  2.3259e-01],\n",
              "          [ 7.0909e-01,  6.9321e-01,  7.2497e-01,  ...,  3.9143e-01,\n",
              "            3.4378e-01,  2.9613e-01],\n",
              "          ...,\n",
              "          [-1.1810e+00, -1.1334e+00, -1.1969e+00,  ..., -1.3716e+00,\n",
              "           -1.3240e+00, -1.3716e+00],\n",
              "          [-1.3081e+00, -1.3240e+00, -1.3716e+00,  ..., -1.4351e+00,\n",
              "           -1.3875e+00, -1.3875e+00],\n",
              "          [-1.2763e+00, -1.3240e+00, -1.3716e+00,  ..., -1.4193e+00,\n",
              "           -1.4669e+00, -1.4510e+00]],\n",
              "\n",
              "         [[ 1.0032e+00,  1.0830e+00,  1.1788e+00,  ...,  1.0671e+00,\n",
              "            1.0192e+00,  9.0739e-01],\n",
              "          [ 1.1309e+00,  1.1788e+00,  1.1629e+00,  ...,  1.0511e+00,\n",
              "            9.2336e-01,  7.6368e-01],\n",
              "          [ 1.2427e+00,  1.2108e+00,  1.2427e+00,  ...,  1.0032e+00,\n",
              "            9.2336e-01,  8.2755e-01],\n",
              "          ...,\n",
              "          [-8.9692e-01, -8.6498e-01, -9.2885e-01,  ..., -1.1524e+00,\n",
              "           -1.1045e+00, -1.1524e+00],\n",
              "          [-1.0406e+00, -1.0566e+00, -1.1045e+00,  ..., -1.2322e+00,\n",
              "           -1.1684e+00, -1.1684e+00],\n",
              "          [-9.9272e-01, -1.0566e+00, -1.1045e+00,  ..., -1.2003e+00,\n",
              "           -1.2482e+00, -1.2322e+00]]]])"
            ]
          },
          "metadata": {},
          "execution_count": 57
        }
      ]
    },
    {
      "cell_type": "code",
      "source": [
        "transform_cifar2.__getitem__(10)[0].shape"
      ],
      "metadata": {
        "colab": {
          "base_uri": "https://localhost:8080/"
        },
        "id": "rrFFT0Tcu10-",
        "outputId": "efde947e-63e4-48c1-ba2f-394a0037df5b"
      },
      "execution_count": 58,
      "outputs": [
        {
          "output_type": "execute_result",
          "data": {
            "text/plain": [
              "torch.Size([32, 32])"
            ]
          },
          "metadata": {},
          "execution_count": 58
        }
      ]
    },
    {
      "cell_type": "code",
      "source": [
        "transform_cifar2[0]"
      ],
      "metadata": {
        "colab": {
          "base_uri": "https://localhost:8080/"
        },
        "id": "LvOgzYzjQwFW",
        "outputId": "d1e401fb-c16c-4ad3-9b0a-5ec5c977ea42"
      },
      "execution_count": 59,
      "outputs": [
        {
          "output_type": "execute_result",
          "data": {
            "text/plain": [
              "tensor([[[ 0.5147, -0.4089, -0.2054,  ..., -0.3463, -0.3620, -0.6281],\n",
              "         [ 0.5617, -0.2367, -0.9255,  ..., -0.4089, -0.4089, -0.6594],\n",
              "         [ 0.1390,  0.1703, -0.1898,  ..., -0.4246, -0.7377, -0.8316],\n",
              "         ...,\n",
              "         [ 0.1233,  0.1703,  0.0607,  ..., -0.6594, -0.5342, -0.0802],\n",
              "         [ 0.4991,  0.3425,  0.2329,  ..., -0.7220, -0.5185, -0.0645],\n",
              "         [ 0.8122,  0.7026,  0.3582,  ..., -0.5811, -0.6281, -0.1428]],\n",
              "\n",
              "        [[ 1.2015,  0.1532,  0.2802,  ...,  0.2644,  0.2644, -0.0215],\n",
              "         [ 1.3127,  0.4708, -0.3392,  ...,  0.1849,  0.1849, -0.0533],\n",
              "         [ 0.9632,  0.9950,  0.5185,  ...,  0.1373, -0.1645, -0.2439],\n",
              "         ...,\n",
              "         [ 0.2802,  0.3914,  0.4073,  ...,  0.0579,  0.2802,  0.7250],\n",
              "         [ 0.4232,  0.5344,  0.5344,  ..., -0.0057,  0.2802,  0.7567],\n",
              "         [ 0.3597,  0.8203,  0.3755,  ...,  0.0579,  0.0420,  0.6297]],\n",
              "\n",
              "        [[-0.7532, -1.1205, -0.4818,  ..., -0.9288, -0.9927, -1.1843],\n",
              "         [-0.7532, -1.3121, -1.4079,  ..., -0.8330, -0.9448, -1.1843],\n",
              "         [-1.0566, -1.0406, -0.8330,  ..., -0.7532, -1.1684, -1.3121],\n",
              "         ...,\n",
              "         [-0.8011, -0.9129, -0.9448,  ..., -1.6474, -1.7112, -1.3121],\n",
              "         [-0.7372, -0.7851, -0.6574,  ..., -1.7911, -1.6633, -1.3280],\n",
              "         [-0.4658, -0.2423, -0.4977,  ..., -1.6314, -1.6793, -1.3919]]])"
            ]
          },
          "metadata": {},
          "execution_count": 59
        }
      ]
    },
    {
      "cell_type": "code",
      "source": [
        "img, _ = cifar2[0]\n",
        "\n",
        "plt.imshow(img)\n",
        "plt.show()"
      ],
      "metadata": {
        "colab": {
          "base_uri": "https://localhost:8080/",
          "height": 266
        },
        "id": "K5wLtLDATcxt",
        "outputId": "10535cca-871f-486b-a28d-0c73185ff04b"
      },
      "execution_count": 60,
      "outputs": [
        {
          "output_type": "display_data",
          "data": {
            "text/plain": [
              "<Figure size 432x288 with 1 Axes>"
            ],
            "image/png": "[encoded data removed]"
          },
          "metadata": {
            "needs_background": "light"
          }
        }
      ]
    },
    {
      "cell_type": "code",
      "source": [
        "img = transform_cifar2[0]\n",
        "\n",
        "plt.imshow(img.permute(1, 2, 0))\n",
        "plt.show()"
      ],
      "metadata": {
        "colab": {
          "base_uri": "https://localhost:8080/",
          "height": 284
        },
        "id": "FXa2xTgSUEze",
        "outputId": "e02fe600-d731-44fe-a5f7-94b0995346ef"
      },
      "execution_count": 61,
      "outputs": [
        {
          "output_type": "stream",
          "name": "stderr",
          "text": [
            "WARNING:matplotlib.image:Clipping input data to the valid range for imshow with RGB data ([0..1] for floats or [0..255] for integers).\n"
          ]
        },
        {
          "output_type": "display_data",
          "data": {
            "text/plain": [
              "<Figure size 432x288 with 1 Axes>"
            ],
            "image/png": "[encoded data removed]"
          },
          "metadata": {
            "needs_background": "light"
          }
        }
      ]
    },
    {
      "cell_type": "code",
      "source": [
        "len(img)"
      ],
      "metadata": {
        "colab": {
          "base_uri": "https://localhost:8080/"
        },
        "id": "Klzdsu2Bb2O0",
        "outputId": "b3a9b5c7-5acd-4f54-9ddc-98ea77c7a6d9"
      },
      "execution_count": 62,
      "outputs": [
        {
          "output_type": "execute_result",
          "data": {
            "text/plain": [
              "3"
            ]
          },
          "metadata": {},
          "execution_count": 62
        }
      ]
    },
    {
      "cell_type": "code",
      "source": [
        "img_batch = img.view(-1).unsqueeze(0)\n",
        "out = model(img_batch)\n",
        "out"
      ],
      "metadata": {
        "colab": {
          "base_uri": "https://localhost:8080/"
        },
        "id": "TfFjatRnZJzM",
        "outputId": "dbb4ae65-cba8-4c2d-cdd9-99e01e9c8da0"
      },
      "execution_count": 63,
      "outputs": [
        {
          "output_type": "execute_result",
          "data": {
            "text/plain": [
              "tensor([[0.6233, 0.3767]], grad_fn=<SoftmaxBackward0>)"
            ]
          },
          "metadata": {},
          "execution_count": 63
        }
      ]
    },
    {
      "cell_type": "code",
      "source": [
        "_, index = torch.max(out, dim=1)\n",
        "\n",
        "index"
      ],
      "metadata": {
        "colab": {
          "base_uri": "https://localhost:8080/"
        },
        "id": "cXTbOqZ-cfaM",
        "outputId": "ac78e211-dc5d-49e9-8da3-27c795e295e2"
      },
      "execution_count": 64,
      "outputs": [
        {
          "output_type": "execute_result",
          "data": {
            "text/plain": [
              "tensor([0])"
            ]
          },
          "metadata": {},
          "execution_count": 64
        }
      ]
    },
    {
      "cell_type": "markdown",
      "source": [
        "### 분류를 위한 손실값\n",
        "\n",
        "1. 순방향 전달 후 마지막(선형) 계층에서 출력값을 얻는다.\n",
        "2. 이들의 소프트맥스 값을 계산하여 확률을 얻는다.\n",
        "3. (파라미터의 기능도에 해당하는) 정답 클래스와 일치하는 예측 확률값을 얻는다. 지도supervised 문제이기 때문에 실측값이 존재하므로, 정답 클래스를 안다고 가정할 수 있다.\n",
        "4. 로그값을 계산해서 앞에 마이너스를 붙인 다음 손실값에 더한다."
      ],
      "metadata": {
        "id": "fe1g6ZnzdtDG"
      }
    },
    {
      "cell_type": "code",
      "source": [
        "from torch import nn"
      ],
      "metadata": {
        "id": "-Lm04CicfS_C"
      },
      "execution_count": 65,
      "outputs": []
    },
    {
      "cell_type": "code",
      "source": [
        "model = nn.Sequential(\n",
        "        nn.Linear(3072, 512),\n",
        "        nn.Tanh(),\n",
        "        nn.Linear(512, 2),\n",
        "        nn.LogSoftmax(dim=1))\n",
        "\n",
        "loss = nn.NLLLoss()"
      ],
      "metadata": {
        "id": "7jr589jEdLkc"
      },
      "execution_count": 66,
      "outputs": []
    },
    {
      "cell_type": "markdown",
      "source": [
        "손실값은 배치에 대한 nn.LogSoftmax 출력을 첫 번째 인자로 받고 클래스 인덱스 텐서를 두 번째 인자로 받는다. 이제 새를 가지고 테스트해보자."
      ],
      "metadata": {
        "id": "Yk_YIamLfOZt"
      }
    },
    {
      "cell_type": "code",
      "source": [
        "img_t = transform_cifar2[0]\n",
        "img, label = cifar2[0]\n",
        "\n",
        "out = model(img_t.view(-1).unsqueeze(0))\n",
        "\n",
        "loss(out, torch.tensor([label]))"
      ],
      "metadata": {
        "colab": {
          "base_uri": "https://localhost:8080/"
        },
        "id": "J0hizm0wfNrB",
        "outputId": "cd5674ed-642d-46de-c587-b62ee9eab72f"
      },
      "execution_count": 67,
      "outputs": [
        {
          "output_type": "execute_result",
          "data": {
            "text/plain": [
              "tensor(0.6647, grad_fn=<NllLossBackward0>)"
            ]
          },
          "metadata": {},
          "execution_count": 67
        }
      ]
    },
    {
      "cell_type": "markdown",
      "source": [
        "### 분류기 훈련"
      ],
      "metadata": {
        "id": "UM7VewFNi7iZ"
      }
    },
    {
      "cell_type": "code",
      "source": [
        "import torch\n",
        "import torch.nn as nn\n",
        "\n",
        "model = nn.Sequential(\n",
        "        nn.Linear(3072, 512),\n",
        "        nn.Tanh(),\n",
        "        nn.Linear(512, 2),\n",
        "        nn.LogSoftmax(dim=1))\n",
        "\n",
        "learning_rate = 1e-2\n",
        "\n",
        "optimizer = torch.optim.SGD(model.parameters(), lr=learning_rate)\n",
        "loss_fn = nn.NLLLoss()\n",
        "\n",
        "n_epochs = 100\n",
        "\n",
        "for epoch in range(n_epochs):\n",
        "    for img, label in cifar2:\n",
        "        out = model(img_t.view(-1).unsqueeze(0))\n",
        "        loss = loss_fn(out, torch.tensor([label]))\n",
        "\n",
        "        optimizer.zero_grad()\n",
        "        loss.backward()\n",
        "        optimizer.step()\n",
        "\n",
        "    print(\"Epoch: %d, Loss: %f\" % (epoch, float(loss)))  # 마지막 이미지의 손실값을 출력한다."
      ],
      "metadata": {
        "id": "gawTeXE2gKL7"
      },
      "execution_count": null,
      "outputs": []
    },
    {
      "cell_type": "markdown",
      "source": [
        "미니 배치에서 얻은 기울기를 사용하면 전체 데이터셋에 대한 값만큼 근사하지는 않지만 훈련 중에 만날지도 모르는 지역 최솟값에 최적화 프로세스가 빠져버리는 것을 예방하고 수렴을 돕는 것으로 알려져 있다. 미니 배치에서의 기울기는 이상적인 궤적에서 랜덤하게 떨어져 있따. 그래서 이 경우 작은 학습률을 사용한다. \n",
        "* 통상 미니 배치 크기는 학습률을 지정했던 것과 같이 훈련 전에 상수로 고정한다. 이와 같은 고정 값들은 모델의 파라미터와 구분하여 `하이퍼파라미터`라 부른다.\n",
        "* torch.utils.data 모듈에는 미니 배치의 데이터를 섞거나 구조화하는 작업을 돕는 DataLoader 클래스가 있다.데이터 로더를 활용해 데이터셋에서 미니 배치에 포함될 샘플을 가져올 때 여러 가지 샘플링 전략 중에서 하나를 고를 수 있다. 가장 흔한 전략은 각 에포크마다 데이터를 섞은 후 고르게 샘플링하는 것이다."
      ],
      "metadata": {
        "id": "W7dwDwW0mDfa"
      }
    },
    {
      "cell_type": "code",
      "source": [
        "# 데이터 로더\n",
        "# batch_size = 4\n",
        "# shuffle = True\n",
        "# __next__\n",
        "train_loader = torch.utils.data.DataLoader(cifar2, batch_size=64, shuffle=True)"
      ],
      "metadata": {
        "id": "BA6m99L2lZdY"
      },
      "execution_count": 69,
      "outputs": []
    },
    {
      "cell_type": "markdown",
      "source": [
        "DataLoader는 순회 가능하기 때문에 새로운 훈련 코드의 루프 안에 바로 넣어 사용할 수 있다."
      ],
      "metadata": {
        "id": "-OqHaQFgnojH"
      }
    },
    {
      "cell_type": "code",
      "source": [
        "train_loader"
      ],
      "metadata": {
        "colab": {
          "base_uri": "https://localhost:8080/"
        },
        "id": "-1p4riQvpLNu",
        "outputId": "04435a89-c01c-4163-de8b-4d41b310e846"
      },
      "execution_count": 70,
      "outputs": [
        {
          "output_type": "execute_result",
          "data": {
            "text/plain": [
              "<torch.utils.data.dataloader.DataLoader at 0x7fb7f6406bb0>"
            ]
          },
          "metadata": {},
          "execution_count": 70
        }
      ]
    },
    {
      "cell_type": "code",
      "source": [
        "import torch\n",
        "import torch.nn as nn\n",
        "\n",
        "train_loader = torch.utils.data.DataLoader(cifar2, batch_size=64, shuffle=True)\n",
        "\n",
        "model = nn.Sequential(\n",
        "        nn.Linear(3072, 512),\n",
        "        nn.Tanh(),\n",
        "        nn.Linear(512, 2),\n",
        "        nn.LogSoftmax(dim=1))\n",
        "\n",
        "learning_rate = 1e-2\n",
        "\n",
        "optimizer = torch.optim.SGD(model.parameters(), lr=learning_rate)\n",
        "\n",
        "loss_fn = nn.NLLLoss()\n",
        "\n",
        "n_epochs = 100\n",
        "\n",
        "for epoch in range(n_epochs):\n",
        "    for imgs, label in train_loader:\n",
        "        batch_size = imgs.shape[0]\n",
        "        outputs = model(imgs.view(batch_size, -1))\n",
        "        loss = loss_fn(outputs, label)\n",
        "\n",
        "        optimizer.zero_grad()\n",
        "        loss.backward()\n",
        "        optimizer.step()\n",
        "\n",
        "    print(\"Epoch: %d, Loss: %f\" % (epoch, float(loss)))"
      ],
      "metadata": {
        "id": "iJ98W7DvngNo"
      },
      "execution_count": null,
      "outputs": []
    },
    {
      "cell_type": "markdown",
      "source": [
        "????"
      ],
      "metadata": {
        "id": "WJQQmmVLvmLW"
      }
    },
    {
      "cell_type": "code",
      "source": [
        "import torch\n",
        "import torch.nn as nn\n",
        "import torch.optim as optim\n",
        "\n",
        "train_loader = torch.utils.data.DataLoader(cifar2, batch_size=64,\n",
        "                                           shuffle=True)\n",
        "\n",
        "model = nn.Sequential(\n",
        "            nn.Linear(3072, 512),\n",
        "            nn.Tanh(),\n",
        "            nn.Linear(512, 2),\n",
        "            nn.LogSoftmax(dim=1))\n",
        "\n",
        "learning_rate = 1e-2\n",
        "\n",
        "optimizer = optim.SGD(model.parameters(), lr=learning_rate)\n",
        "\n",
        "loss_fn = nn.NLLLoss()\n",
        "\n",
        "n_epochs = 100\n",
        "\n",
        "for epoch in range(n_epochs):\n",
        "    for imgs, labels in train_loader:\n",
        "        outputs = model(imgs.view(imgs.shape[0], -1))\n",
        "        loss = loss_fn(outputs, labels)\n",
        "\n",
        "        optimizer.zero_grad()\n",
        "        loss.backward()\n",
        "        optimizer.step()\n",
        "\n",
        "    print(\"Epoch: %d, Loss: %f\" % (epoch, float(loss)))"
      ],
      "metadata": {
        "id": "4s7VnQASurj2"
      },
      "execution_count": null,
      "outputs": []
    },
    {
      "cell_type": "code",
      "source": [
        "train_loader = torch.utils.data.DataLoader(cifar2, batch_size=64,\n",
        "                                           shuffle=False)\n",
        "\n",
        "correct = 0\n",
        "total = 0\n",
        "\n",
        "with torch.no_grad():\n",
        "    for imgs, labels in train_loader:\n",
        "        outputs = model(imgs.view(imgs.shape[0], -1))\n",
        "        _, predicted = torch.max(outputs, dim=1)\n",
        "        total += labels.shape[0]\n",
        "        correct += int((predicted == labels).sum())\n",
        "        \n",
        "print(\"Accuracy: %f\" % (correct / total))"
      ],
      "metadata": {
        "id": "45WfO1rLwISE"
      },
      "execution_count": null,
      "outputs": []
    },
    {
      "cell_type": "code",
      "source": [
        "model = nn.Sequential(\n",
        "        nn.Linear(3072, 1024),\n",
        "        nn.Tanh(),\n",
        "        nn.Linear(1024, 512),\n",
        "        nn.Tanh(),\n",
        "        nn.Linear(512, 128),\n",
        "        nn.Tanh(),\n",
        "        nn.Linear(128, 2),\n",
        "        nn.LogSoftmax(dim=1))"
      ],
      "metadata": {
        "id": "jnTqUUCXwVrW"
      },
      "execution_count": 71,
      "outputs": []
    },
    {
      "cell_type": "markdown",
      "source": [
        "nn.LogSoftmax와 nn.CrossEntropyLoss와 동일하다. nn.CrossEntropyLoss는 파이토치의 특징을 잘 나타내는 요소다. nn.NLLLoss는 크로스엔트로피를 계산하지만 입력으로 로그 확률 예측을 받는 반면, nn.CrossEntropyLoss는 점수를 입력으로 받는다.\n",
        "* `nn.NLLLoss`는 타깃에 모든 것을 담아 넣는 디랙 분포와 로그 확률 입력으로 주어지는 예측 분포 사이의 `크로스엔트로피`라고 볼 수 있다."
      ],
      "metadata": {
        "id": "QYe_ASCsxOw2"
      }
    },
    {
      "cell_type": "code",
      "source": [
        "model = nn.Sequential(\n",
        "        nn.Linear(3072, 1024),\n",
        "        nn.Tanh(),\n",
        "        nn.Linear(1024, 512),\n",
        "        nn.Tanh(),\n",
        "        nn.Linear(512, 128),\n",
        "        nn.Tanh(),\n",
        "        nn.Linear(128, 2))\n",
        "\n",
        "loss_fn = nn.CrossEntropyLoss()"
      ],
      "metadata": {
        "id": "Rq9uEXdhx0eD"
      },
      "execution_count": 72,
      "outputs": []
    },
    {
      "cell_type": "markdown",
      "source": [
        "파이토치는 nn.Model의 parameters() 메소드를 통해 모델이 얼마나 많은 파라미터를 가지고 있는지를 빠르게 확인할 수 있다. 각 텐서 객체에 얼마나 많은 요소가 있는지 확인하려면 numel 메소드를 사용한다. 그리고 얻은 값을 합산하면 전체 수를 파악할 수 있다."
      ],
      "metadata": {
        "id": "9YEfxlpozrVD"
      }
    },
    {
      "cell_type": "code",
      "source": [
        "numel_list = [p.numel() for p in model.parameters() if p.requires_grad == True]\n",
        "sum(numel_list), numel_list"
      ],
      "metadata": {
        "colab": {
          "base_uri": "https://localhost:8080/"
        },
        "id": "Phb4WMiWx0bj",
        "outputId": "8e410b2d-a0bd-4fb9-bf4a-f1e492ef1afc"
      },
      "execution_count": 73,
      "outputs": [
        {
          "output_type": "execute_result",
          "data": {
            "text/plain": [
              "(3737474, [3145728, 1024, 524288, 512, 65536, 128, 256, 2])"
            ]
          },
          "metadata": {},
          "execution_count": 73
        }
      ]
    },
    {
      "cell_type": "code",
      "source": [
        "first_model = nn.Sequential(\n",
        "                nn.Linear(3072, 512),\n",
        "                nn.Tanh(),\n",
        "                nn.Linear(512, 2),\n",
        "                nn.LogSoftmax(dim=1))\n",
        "\n",
        "numel_list = [p.numel() for p in first_model.parameters()]\n",
        "sum(numel_list), numel_list"
      ],
      "metadata": {
        "colab": {
          "base_uri": "https://localhost:8080/"
        },
        "id": "eEOXsZbqxz6_",
        "outputId": "a5572ebb-a289-4342-f0bd-87ac21ad7bea"
      },
      "execution_count": 74,
      "outputs": [
        {
          "output_type": "execute_result",
          "data": {
            "text/plain": [
              "(1574402, [1572864, 512, 1024, 2])"
            ]
          },
          "metadata": {},
          "execution_count": 74
        }
      ]
    },
    {
      "cell_type": "code",
      "source": [
        "linear = nn.Linear(3072, 1024)\n",
        "\n",
        "linear.weight.shape, linear.bias.shape"
      ],
      "metadata": {
        "colab": {
          "base_uri": "https://localhost:8080/"
        },
        "id": "2UKnGKOy1MPl",
        "outputId": "58c532d0-fdcc-4360-94bc-a4c0b6474972"
      },
      "execution_count": 75,
      "outputs": [
        {
          "output_type": "execute_result",
          "data": {
            "text/plain": [
              "(torch.Size([1024, 3072]), torch.Size([1024]))"
            ]
          },
          "metadata": {},
          "execution_count": 75
        }
      ]
    },
    {
      "cell_type": "markdown",
      "source": [
        "### 완전 연결의 한계"
      ],
      "metadata": {
        "id": "ozKu_M-l1Wa8"
      }
    }
  ]
}